{
 "cells": [
  {
   "cell_type": "code",
   "execution_count": 27,
   "metadata": {},
   "outputs": [],
   "source": [
    "# ExerciseTwo\n",
    "# Student Name: Peisong Yang\n",
    "# Student ID: 19031379\n",
    "\n",
    "#import packages\n",
    "import numpy as np\n",
    "import pandas as pd\n",
    "from pymongo import MongoClient\n",
    "import json\n",
    "from sklearn.cluster import KMeans\n",
    "\n",
    "# suppress all warnings\n",
    "import warnings\n",
    "warnings.filterwarnings(\"ignore\")"
   ]
  },
  {
   "cell_type": "code",
   "execution_count": 2,
   "metadata": {},
   "outputs": [],
   "source": [
    "# setting the db path\n",
    "path = \"D:/UCL MSc/Big Data\"\n",
    "rawdb = \"/iftbigdatacoursework2019/000.DataBases/DBs/SP500Static/SP500Data.json\""
   ]
  },
  {
   "cell_type": "code",
   "execution_count": 3,
   "metadata": {},
   "outputs": [],
   "source": [
    "# get data from raw db\n",
    "with open(path+rawdb, 'r') as f:\n",
    "    jsonData = json.loads(f.read())\n",
    "\n",
    "# create mongodb client and database\n",
    "myclient = MongoClient('mongodb://localhost:27017/')\n",
    "mydb = myclient['SP500Data']\n",
    "mycol = mydb['Static']"
   ]
  },
  {
   "cell_type": "code",
   "execution_count": 22,
   "metadata": {},
   "outputs": [
    {
     "name": "stdout",
     "output_type": "stream",
     "text": [
      "{'_id': ObjectId('5e1c795241a2f618670392cc'), 'Symbol': 'MMM', 'Security': '3M Company', 'SECfilings': 'reports', 'GICSSector': 'Industrials', 'GICSSubIndustry': 'Industrial Conglomerates', 'Price': 168.76, 'DividendYield': 3.3, 'MarketCap': 97084, 'PERatio': 20, 'PayoutRatio': 66.3, 'Beta': 1.04}\n"
     ]
    }
   ],
   "source": [
    "# insert data into my collections\n",
    "mycol.insert_many(jsonData)\n",
    "\n",
    "# and print one record\n",
    "print(mycol.find_one())"
   ]
  },
  {
   "cell_type": "code",
   "execution_count": 24,
   "metadata": {},
   "outputs": [
    {
     "data": {
      "text/plain": [
       "['SP500', 'SP500Data', 'admin', 'config', 'local']"
      ]
     },
     "execution_count": 24,
     "metadata": {},
     "output_type": "execute_result"
    }
   ],
   "source": [
    "# check that SP500Data is in the databases\n",
    "myclient.list_database_names()"
   ]
  },
  {
   "cell_type": "code",
   "execution_count": 38,
   "metadata": {},
   "outputs": [
    {
     "name": "stdout",
     "output_type": "stream",
     "text": [
      "find stock name in financials sectors:\n",
      "['Affiliated Managers Group Inc', 'AFLAC Inc', 'Allstate Corp', 'American Express Co', 'American International Group', 'Ameriprise Financial', 'Aon plc', 'Arthur J. Gallagher & Co.', 'Assurant', 'Bank of America Corp', 'The Bank of New York Mellon Corp.', 'BB&T Corporation', 'Berkshire Hathaway', 'BlackRock', 'Capital One Financial', 'Cboe Global Markets', 'Charles Schwab Corporation', 'Chubb Limited', 'Cincinnati Financial', 'Citigroup Inc.', 'Citizens Financial Group', 'CME Group Inc.', 'Comerica Inc.', 'Discover Financial Services', 'E*Trade', 'Everest Re Group Ltd.', 'Fifth Third Bancorp', 'First Republic Bank', 'Franklin Resources', 'Goldman Sachs Group', 'Hartford Financial Svc.Gp.', 'Huntington Bancshares', 'Intercontinental Exchange', 'Invesco Ltd.', 'Jefferies Financial Group', 'JPMorgan Chase & Co.', 'KeyCorp', 'Lincoln National', 'Loews Corp.', 'M&T Bank Corp.', 'Marsh & McLennan', 'MetLife Inc.', \"Moody's Corp\", 'Morgan Stanley', 'MSCI Inc', 'Nasdaq, Inc.', 'Northern Trust Corp.', \"People's United Financial\", 'PNC Financial Services', 'Principal Financial Group', 'Progressive Corp.', 'Prudential Financial', 'Raymond James Financial Inc.', 'Regions Financial Corp.', 'S&P Global, Inc.', 'State Street Corp.', 'SunTrust Banks', 'SVB Financial', 'Synchrony Financial', 'T. Rowe Price Group', 'Torchmark Corp.', 'The Travelers Companies Inc.', 'U.S. Bancorp', 'Unum Group', 'Wells Fargo', 'Willis Towers Watson', 'Zions Bancorp']\n",
      "\n",
      "limit the number or records in 10:\n",
      "['Affiliated Managers Group Inc', 'AFLAC Inc', 'Allstate Corp', 'American Express Co', 'American International Group', 'Ameriprise Financial', 'Aon plc', 'Arthur J. Gallagher & Co.', 'Assurant', 'Bank of America Corp']\n",
      "\n",
      "find stock number with beta equal to 1:\n",
      "['CenturyLink Inc', 'Fiserv Inc', 'FleetCor Technologies Inc', 'Incyte', 'PACCAR Inc.', 'QUALCOMM Inc.', 'S&P Global, Inc.']\n"
     ]
    }
   ],
   "source": [
    "# query and play a little bit\n",
    "\n",
    "print(\"find stock name in financials sectors:\")\n",
    "print([i['Security'] for i in mycol.find({'GICSSector': \"Financials\"})])\n",
    "\n",
    "print(\"\\nlimit the number or queries in 10:\")\n",
    "print([i['Security'] for i in mycol.find({'GICSSector': \"Financials\"}).limit(10)])\n",
    "\n",
    "print(\"\\nfind stock number with beta equal to 1:\")\n",
    "print([i['Security'] for i in mycol.find({'Beta': {\"$eq\": 1}})])"
   ]
  },
  {
   "cell_type": "code",
   "execution_count": 4,
   "metadata": {},
   "outputs": [],
   "source": [
    "# now take all data from database and convert data into dataframe\n",
    "\n",
    "# fullData = pd.DataFrame(jsonData)\n",
    "fullData = mycol.find({})\n",
    "fullData = pd.DataFrame(fullData)\n",
    "\n",
    "# and close connaction to mongodB\n",
    "myclient.close()"
   ]
  },
  {
   "cell_type": "code",
   "execution_count": 5,
   "metadata": {},
   "outputs": [
    {
     "name": "stdout",
     "output_type": "stream",
     "text": [
      "<class 'pandas.core.frame.DataFrame'>\n",
      "RangeIndex: 505 entries, 0 to 504\n",
      "Data columns (total 12 columns):\n",
      "_id                505 non-null object\n",
      "Symbol             505 non-null object\n",
      "Security           505 non-null object\n",
      "SECfilings         505 non-null object\n",
      "GICSSector         505 non-null object\n",
      "GICSSubIndustry    505 non-null object\n",
      "Price              501 non-null object\n",
      "DividendYield      501 non-null object\n",
      "MarketCap          501 non-null object\n",
      "PERatio            501 non-null object\n",
      "PayoutRatio        501 non-null object\n",
      "Beta               501 non-null object\n",
      "dtypes: object(12)\n",
      "memory usage: 47.5+ KB\n",
      "None\n"
     ]
    },
    {
     "data": {
      "text/html": [
       "<div>\n",
       "<style scoped>\n",
       "    .dataframe tbody tr th:only-of-type {\n",
       "        vertical-align: middle;\n",
       "    }\n",
       "\n",
       "    .dataframe tbody tr th {\n",
       "        vertical-align: top;\n",
       "    }\n",
       "\n",
       "    .dataframe thead th {\n",
       "        text-align: right;\n",
       "    }\n",
       "</style>\n",
       "<table border=\"1\" class=\"dataframe\">\n",
       "  <thead>\n",
       "    <tr style=\"text-align: right;\">\n",
       "      <th></th>\n",
       "      <th>_id</th>\n",
       "      <th>Symbol</th>\n",
       "      <th>Security</th>\n",
       "      <th>SECfilings</th>\n",
       "      <th>GICSSector</th>\n",
       "      <th>GICSSubIndustry</th>\n",
       "      <th>Price</th>\n",
       "      <th>DividendYield</th>\n",
       "      <th>MarketCap</th>\n",
       "      <th>PERatio</th>\n",
       "      <th>PayoutRatio</th>\n",
       "      <th>Beta</th>\n",
       "    </tr>\n",
       "  </thead>\n",
       "  <tbody>\n",
       "    <tr>\n",
       "      <td>0</td>\n",
       "      <td>5e1c795241a2f618670392cc</td>\n",
       "      <td>MMM</td>\n",
       "      <td>3M Company</td>\n",
       "      <td>reports</td>\n",
       "      <td>Industrials</td>\n",
       "      <td>Industrial Conglomerates</td>\n",
       "      <td>168.76</td>\n",
       "      <td>3.3</td>\n",
       "      <td>97084</td>\n",
       "      <td>20</td>\n",
       "      <td>66.3</td>\n",
       "      <td>1.04</td>\n",
       "    </tr>\n",
       "    <tr>\n",
       "      <td>1</td>\n",
       "      <td>5e1c795241a2f618670392cd</td>\n",
       "      <td>ABT</td>\n",
       "      <td>Abbott Laboratories</td>\n",
       "      <td>reports</td>\n",
       "      <td>Health Care</td>\n",
       "      <td>Health Care Equipment</td>\n",
       "      <td>81.27</td>\n",
       "      <td>1.6</td>\n",
       "      <td>143636</td>\n",
       "      <td>0</td>\n",
       "      <td>0</td>\n",
       "      <td>1.06</td>\n",
       "    </tr>\n",
       "    <tr>\n",
       "      <td>2</td>\n",
       "      <td>5e1c795241a2f618670392ce</td>\n",
       "      <td>ABBV</td>\n",
       "      <td>AbbVie Inc.</td>\n",
       "      <td>reports</td>\n",
       "      <td>Health Care</td>\n",
       "      <td>Pharmaceuticals</td>\n",
       "      <td>77.75</td>\n",
       "      <td>5.4</td>\n",
       "      <td>114951</td>\n",
       "      <td>28.5</td>\n",
       "      <td>153</td>\n",
       "      <td>0.84</td>\n",
       "    </tr>\n",
       "    <tr>\n",
       "      <td>3</td>\n",
       "      <td>5e1c795241a2f618670392cf</td>\n",
       "      <td>ABMD</td>\n",
       "      <td>ABIOMED Inc</td>\n",
       "      <td>reports</td>\n",
       "      <td>Health Care</td>\n",
       "      <td>Health Care Equipment</td>\n",
       "      <td>178.73</td>\n",
       "      <td>0</td>\n",
       "      <td>8110</td>\n",
       "      <td>31.3</td>\n",
       "      <td>0</td>\n",
       "      <td>1.5</td>\n",
       "    </tr>\n",
       "    <tr>\n",
       "      <td>4</td>\n",
       "      <td>5e1c795241a2f618670392d0</td>\n",
       "      <td>ACN</td>\n",
       "      <td>Accenture plc</td>\n",
       "      <td>reports</td>\n",
       "      <td>Information Technology</td>\n",
       "      <td>IT Consulting &amp; Other Services</td>\n",
       "      <td>184.07</td>\n",
       "      <td>1.6</td>\n",
       "      <td>117278</td>\n",
       "      <td>24.6</td>\n",
       "      <td>39</td>\n",
       "      <td>0.99</td>\n",
       "    </tr>\n",
       "  </tbody>\n",
       "</table>\n",
       "</div>"
      ],
      "text/plain": [
       "                        _id Symbol             Security SECfilings  \\\n",
       "0  5e1c795241a2f618670392cc    MMM           3M Company    reports   \n",
       "1  5e1c795241a2f618670392cd    ABT  Abbott Laboratories    reports   \n",
       "2  5e1c795241a2f618670392ce   ABBV          AbbVie Inc.    reports   \n",
       "3  5e1c795241a2f618670392cf   ABMD          ABIOMED Inc    reports   \n",
       "4  5e1c795241a2f618670392d0    ACN        Accenture plc    reports   \n",
       "\n",
       "               GICSSector                 GICSSubIndustry   Price  \\\n",
       "0             Industrials        Industrial Conglomerates  168.76   \n",
       "1             Health Care           Health Care Equipment   81.27   \n",
       "2             Health Care                 Pharmaceuticals   77.75   \n",
       "3             Health Care           Health Care Equipment  178.73   \n",
       "4  Information Technology  IT Consulting & Other Services  184.07   \n",
       "\n",
       "  DividendYield MarketCap PERatio PayoutRatio  Beta  \n",
       "0           3.3     97084      20        66.3  1.04  \n",
       "1           1.6    143636       0           0  1.06  \n",
       "2           5.4    114951    28.5         153  0.84  \n",
       "3             0      8110    31.3           0   1.5  \n",
       "4           1.6    117278    24.6          39  0.99  "
      ]
     },
     "execution_count": 5,
     "metadata": {},
     "output_type": "execute_result"
    }
   ],
   "source": [
    "# first look at the data\n",
    "print(fullData.info())\n",
    "fullData.head()"
   ]
  },
  {
   "cell_type": "code",
   "execution_count": 6,
   "metadata": {},
   "outputs": [
    {
     "name": "stdout",
     "output_type": "stream",
     "text": [
      "SECfilings: {'reports'}\n",
      "\n",
      "Sectors: {'Information Technology', 'Health Care', 'Consumer Discretionary', 'Energy', 'Utilities', 'Real Estate', 'Consumer Staples', 'Industrials', 'Financials', 'Communication Services', 'Materials'};\n",
      "The num of sectors is: 11\n"
     ]
    }
   ],
   "source": [
    "# what are the SECfilings?\n",
    "print(f\"SECfilings: {set(fullData['SECfilings'])}\")\n",
    "\n",
    "# what about the sectors?\n",
    "print(f\"\\nSectors: {set(fullData['GICSSector'])};\\nThe num of sectors is: {len(set(fullData['GICSSector']))}\")\n"
   ]
  },
  {
   "cell_type": "code",
   "execution_count": 7,
   "metadata": {},
   "outputs": [
    {
     "name": "stdout",
     "output_type": "stream",
     "text": [
      "<class 'pandas.core.frame.DataFrame'>\n",
      "RangeIndex: 505 entries, 0 to 504\n",
      "Data columns (total 12 columns):\n",
      "_id                505 non-null object\n",
      "Symbol             505 non-null object\n",
      "Security           505 non-null object\n",
      "SECfilings         505 non-null object\n",
      "GICSSector         505 non-null object\n",
      "GICSSubIndustry    505 non-null object\n",
      "Price              496 non-null float64\n",
      "DividendYield      496 non-null float64\n",
      "MarketCap          496 non-null float64\n",
      "PERatio            496 non-null float64\n",
      "PayoutRatio        496 non-null float64\n",
      "Beta               496 non-null float64\n",
      "dtypes: float64(6), object(6)\n",
      "memory usage: 47.5+ KB\n"
     ]
    }
   ],
   "source": [
    "# it seems the types are all object, convert the numerical ones to float64\n",
    "\n",
    "# before transformation, substitute 'NA' with np.nan\n",
    "numericalVar = ['Price','DividendYield','MarketCap','PERatio','PayoutRatio','Beta']\n",
    "fullData[fullData[numericalVar] == 'NA'] = np.nan\n",
    "\n",
    "# type converting\n",
    "fullData[numericalVar] = fullData[numericalVar].astype('float64')\n",
    "\n",
    "# check the data type again\n",
    "fullData.info()"
   ]
  },
  {
   "cell_type": "code",
   "execution_count": 8,
   "metadata": {},
   "outputs": [
    {
     "data": {
      "text/html": [
       "<div>\n",
       "<style scoped>\n",
       "    .dataframe tbody tr th:only-of-type {\n",
       "        vertical-align: middle;\n",
       "    }\n",
       "\n",
       "    .dataframe tbody tr th {\n",
       "        vertical-align: top;\n",
       "    }\n",
       "\n",
       "    .dataframe thead th {\n",
       "        text-align: right;\n",
       "    }\n",
       "</style>\n",
       "<table border=\"1\" class=\"dataframe\">\n",
       "  <thead>\n",
       "    <tr style=\"text-align: right;\">\n",
       "      <th></th>\n",
       "      <th>Price</th>\n",
       "      <th>DividendYield</th>\n",
       "      <th>MarketCap</th>\n",
       "      <th>PERatio</th>\n",
       "      <th>PayoutRatio</th>\n",
       "      <th>Beta</th>\n",
       "    </tr>\n",
       "  </thead>\n",
       "  <tbody>\n",
       "    <tr>\n",
       "      <td>count</td>\n",
       "      <td>496.000000</td>\n",
       "      <td>496.000000</td>\n",
       "      <td>4.960000e+02</td>\n",
       "      <td>496.000000</td>\n",
       "      <td>496.000000</td>\n",
       "      <td>496.000000</td>\n",
       "    </tr>\n",
       "    <tr>\n",
       "      <td>mean</td>\n",
       "      <td>123.752500</td>\n",
       "      <td>2.011492</td>\n",
       "      <td>5.479029e+04</td>\n",
       "      <td>35.916734</td>\n",
       "      <td>95.770968</td>\n",
       "      <td>0.947177</td>\n",
       "    </tr>\n",
       "    <tr>\n",
       "      <td>std</td>\n",
       "      <td>170.422879</td>\n",
       "      <td>1.710765</td>\n",
       "      <td>1.119090e+05</td>\n",
       "      <td>292.509322</td>\n",
       "      <td>1331.748517</td>\n",
       "      <td>0.376390</td>\n",
       "    </tr>\n",
       "    <tr>\n",
       "      <td>min</td>\n",
       "      <td>9.140000</td>\n",
       "      <td>0.000000</td>\n",
       "      <td>2.939000e+03</td>\n",
       "      <td>-531.500000</td>\n",
       "      <td>-1280.000000</td>\n",
       "      <td>-0.110000</td>\n",
       "    </tr>\n",
       "    <tr>\n",
       "      <td>25%</td>\n",
       "      <td>47.977500</td>\n",
       "      <td>0.700000</td>\n",
       "      <td>1.282475e+04</td>\n",
       "      <td>12.100000</td>\n",
       "      <td>1.150000</td>\n",
       "      <td>0.720000</td>\n",
       "    </tr>\n",
       "    <tr>\n",
       "      <td>50%</td>\n",
       "      <td>86.960000</td>\n",
       "      <td>1.800000</td>\n",
       "      <td>2.319200e+04</td>\n",
       "      <td>20.150000</td>\n",
       "      <td>29.900000</td>\n",
       "      <td>0.970000</td>\n",
       "    </tr>\n",
       "    <tr>\n",
       "      <td>75%</td>\n",
       "      <td>141.157500</td>\n",
       "      <td>2.900000</td>\n",
       "      <td>4.824525e+04</td>\n",
       "      <td>31.450000</td>\n",
       "      <td>54.250000</td>\n",
       "      <td>1.200000</td>\n",
       "    </tr>\n",
       "    <tr>\n",
       "      <td>max</td>\n",
       "      <td>2032.230000</td>\n",
       "      <td>12.100000</td>\n",
       "      <td>1.098974e+06</td>\n",
       "      <td>6415.200000</td>\n",
       "      <td>29565.200000</td>\n",
       "      <td>2.340000</td>\n",
       "    </tr>\n",
       "  </tbody>\n",
       "</table>\n",
       "</div>"
      ],
      "text/plain": [
       "             Price  DividendYield     MarketCap      PERatio   PayoutRatio  \\\n",
       "count   496.000000     496.000000  4.960000e+02   496.000000    496.000000   \n",
       "mean    123.752500       2.011492  5.479029e+04    35.916734     95.770968   \n",
       "std     170.422879       1.710765  1.119090e+05   292.509322   1331.748517   \n",
       "min       9.140000       0.000000  2.939000e+03  -531.500000  -1280.000000   \n",
       "25%      47.977500       0.700000  1.282475e+04    12.100000      1.150000   \n",
       "50%      86.960000       1.800000  2.319200e+04    20.150000     29.900000   \n",
       "75%     141.157500       2.900000  4.824525e+04    31.450000     54.250000   \n",
       "max    2032.230000      12.100000  1.098974e+06  6415.200000  29565.200000   \n",
       "\n",
       "             Beta  \n",
       "count  496.000000  \n",
       "mean     0.947177  \n",
       "std      0.376390  \n",
       "min     -0.110000  \n",
       "25%      0.720000  \n",
       "50%      0.970000  \n",
       "75%      1.200000  \n",
       "max      2.340000  "
      ]
     },
     "execution_count": 8,
     "metadata": {},
     "output_type": "execute_result"
    }
   ],
   "source": [
    "# now we are happy with the data type, now let's clean the data\n",
    "\n",
    "# drop the _id first\n",
    "fullData = fullData.drop(labels='_id', axis=1)\n",
    "\n",
    "# drop nan\n",
    "fullData = fullData.dropna(subset=numericalVar)\n",
    "\n",
    "# describe numerical variables\n",
    "fullData[numericalVar].describe()"
   ]
  },
  {
   "cell_type": "code",
   "execution_count": 9,
   "metadata": {},
   "outputs": [
    {
     "name": "stdout",
     "output_type": "stream",
     "text": [
      "<class 'pandas.core.frame.DataFrame'>\n",
      "Int64Index: 373 entries, 0 to 504\n",
      "Data columns (total 11 columns):\n",
      "Symbol             373 non-null object\n",
      "Security           373 non-null object\n",
      "SECfilings         373 non-null object\n",
      "GICSSector         373 non-null object\n",
      "GICSSubIndustry    373 non-null object\n",
      "Price              373 non-null float64\n",
      "DividendYield      373 non-null float64\n",
      "MarketCap          373 non-null float64\n",
      "PERatio            373 non-null float64\n",
      "PayoutRatio        373 non-null float64\n",
      "Beta               373 non-null float64\n",
      "dtypes: float64(6), object(5)\n",
      "memory usage: 35.0+ KB\n"
     ]
    }
   ],
   "source": [
    "# drop queries with negtive PERaito and PayoutRatio\n",
    "fullData = fullData[(fullData['PERatio'] > 0) & (fullData['PayoutRatio'] > 0)]\n",
    "\n",
    "fullData.info()"
   ]
  },
  {
   "cell_type": "code",
   "execution_count": 10,
   "metadata": {},
   "outputs": [
    {
     "data": {
      "text/html": [
       "        <script type=\"text/javascript\">\n",
       "        window.PlotlyConfig = {MathJaxConfig: 'local'};\n",
       "        if (window.MathJax) {MathJax.Hub.Config({SVG: {font: \"STIX-Web\"}});}\n",
       "        if (typeof require !== 'undefined') {\n",
       "        require.undef(\"plotly\");\n",
       "        requirejs.config({\n",
       "            paths: {\n",
       "                'plotly': ['https://cdn.plot.ly/plotly-latest.min']\n",
       "            }\n",
       "        });\n",
       "        require(['plotly'], function(Plotly) {\n",
       "            window._Plotly = Plotly;\n",
       "        });\n",
       "        }\n",
       "        </script>\n",
       "        "
      ]
     },
     "metadata": {},
     "output_type": "display_data"
    }
   ],
   "source": [
    "# now let's plot some figure and observe\n",
    "# use plotly to do this\n",
    "# pip install plotly\n",
    "# if the figure doesn't come out, please trust this note and use jupyter notebook instead of jupyterlab\n",
    "# $ jupyter labextension install @jupyterlab/plotly-extension\n",
    "# $ jupyter trust ExerciseTwo.ipynb\n",
    "\n",
    "import plotly\n",
    "import plotly.graph_objs as go\n",
    "import plotly.express as px\n",
    "\n",
    "plotly.offline.init_notebook_mode(connected=True)"
   ]
  },
  {
   "cell_type": "code",
   "execution_count": 11,
   "metadata": {},
   "outputs": [
    {
     "data": {
      "application/vnd.plotly.v1+json": {
       "config": {
        "linkText": "Export to plot.ly",
        "plotlyServerURL": "https://plot.ly",
        "showLink": false
       },
       "data": [
        {
         "mode": "markers",
         "type": "scatter",
         "x": [
          20,
          28.5,
          24.6,
          24.9,
          27.4,
          28.7,
          12.7,
          22.2,
          27.1,
          16.8,
          13.1,
          45,
          22.5,
          7.6,
          24.8,
          13.9,
          13.9,
          23.7,
          8.5,
          23.6,
          14.1,
          67.9,
          37.9,
          10.4,
          19,
          24.8,
          16,
          25.8,
          25.8,
          34.2,
          20.3,
          23.9,
          20.6,
          16.7,
          23.7,
          17.4,
          30.2,
          24.1,
          21.5,
          26.7,
          15.8,
          30.3,
          33.5,
          62.2,
          45.6,
          11.5,
          12.1,
          29,
          13.3,
          86.5,
          12.8,
          17.5,
          11.7,
          51.2,
          10.8,
          38.3,
          14.4,
          37.8,
          29.6,
          37.7,
          17.7,
          9.4,
          53.9,
          8,
          11.1,
          9.9,
          12.7,
          31.4,
          4.4,
          16.9,
          25.9,
          37.1,
          22.6,
          15.2,
          15.2,
          18.3,
          30.7,
          7.2,
          15.2,
          17.9,
          9.6,
          9.6,
          26.1,
          23.3,
          39.3,
          30.7,
          30.2,
          16.7,
          25.7,
          17.2,
          8.2,
          19.3,
          25.8,
          9,
          22.1,
          47.9,
          31.2,
          16.9,
          35.7,
          70.6,
          17.2,
          10.7,
          18.4,
          12.6,
          40,
          19,
          16.8,
          7.5,
          112.8,
          2.6,
          13.9,
          124.4,
          9.1,
          26.1,
          55.5,
          23.1,
          21.3,
          53.1,
          21.2,
          6.6,
          9.9,
          11.4,
          16.4,
          15.1,
          36.3,
          19.8,
          23.3,
          11.6,
          93.3,
          40.4,
          52.8,
          37.9,
          26.9,
          31.7,
          19.6,
          19.5,
          33.3,
          20.3,
          34.1,
          16.8,
          27.6,
          42.4,
          91.4,
          54.6,
          9.1,
          23.3,
          20.7,
          26.1,
          30.6,
          21.2,
          16.7,
          9.3,
          20.2,
          10.3,
          22.8,
          7.1,
          22.1,
          14.9,
          16.4,
          5.8,
          19,
          14.3,
          50.7,
          9.4,
          21.2,
          14.9,
          10.4,
          15.3,
          12.8,
          48,
          11.8,
          18.4,
          25.1,
          29.9,
          10.3,
          23.3,
          19.6,
          22.1,
          11.4,
          6.2,
          15.8,
          11.3,
          13.4,
          21.6,
          20.3,
          11.9,
          26.1,
          15.5,
          10.9,
          12.6,
          42.7,
          14.8,
          33.7,
          39.3,
          50.1,
          22.9,
          67.1,
          12.3,
          17.5,
          25.5,
          24.7,
          11.2,
          22.9,
          26.4,
          22.5,
          21,
          11.7,
          12.2,
          8.4,
          16.2,
          23,
          20.7,
          10.2,
          8.6,
          19.3,
          17.6,
          20.9,
          34.8,
          9.2,
          11.3,
          37.7,
          4.7,
          10.2,
          14.1,
          28,
          33.8,
          32.7,
          18,
          40,
          30.2,
          18.7,
          48.4,
          31.9,
          23,
          7.6,
          79.9,
          59.2,
          26.9,
          65.6,
          14.4,
          20.6,
          32.5,
          9.7,
          30.2,
          26.9,
          32.4,
          31.8,
          14.1,
          52.2,
          53.7,
          33.6,
          92.3,
          12,
          15.1,
          17.2,
          22.3,
          9,
          43.3,
          8.5,
          12.8,
          23.3,
          17.2,
          10.7,
          13.2,
          16.1,
          28.6,
          20.1,
          12.8,
          15.6,
          37.2,
          84.4,
          16.5,
          17,
          9.4,
          21,
          24.5,
          17.7,
          24.4,
          13.5,
          10.7,
          76.4,
          32.5,
          9.2,
          21.6,
          28.7,
          12.1,
          10.2,
          18.6,
          27.1,
          19,
          11.6,
          18.7,
          61.3,
          40.5,
          10.8,
          26.7,
          44.9,
          14.6,
          19.9,
          62,
          30.9,
          24.8,
          12.4,
          7.8,
          17.8,
          21,
          37.2,
          22.1,
          16.9,
          39.4,
          13.1,
          14.5,
          12.3,
          30.7,
          32.2,
          28.9,
          12.9,
          22.2,
          12.6,
          124.6,
          6.4,
          24.3,
          13.4,
          11.7,
          18.3,
          10,
          54.6,
          21.7,
          33.6,
          20,
          23.7,
          38.9,
          21,
          14.7,
          12.6,
          86.3,
          13,
          19.9,
          19.9,
          23.4,
          16.4,
          11.8,
          31.6,
          15.4,
          52.4,
          40.8,
          15.9,
          5.4,
          32.9,
          4.3,
          33.9,
          38.9,
          26.8,
          10.7,
          16.5,
          27.4,
          26.8,
          10.9,
          101.5,
          8.8,
          11.7,
          6415.2,
          9.7,
          309.1,
          28.4,
          15,
          26.3,
          13.5,
          25.2,
          25.6,
          25.5,
          10.6,
          42.5
         ],
         "y": [
          66.3,
          153,
          39,
          15.4,
          4,
          90.3,
          25.7,
          19,
          58.2,
          32.7,
          27.3,
          110.4,
          20.7,
          14.8,
          63.8,
          24.7,
          95,
          58,
          12,
          65.7,
          19.3,
          103.6,
          59.4,
          26.7,
          35,
          15.6,
          43.6,
          23.8,
          49.9,
          29.3,
          33.5,
          69,
          25,
          27,
          23.3,
          58.5,
          22.1,
          44.9,
          40.1,
          48.6,
          85.1,
          58,
          90.5,
          205.7,
          28.8,
          23,
          29.7,
          26.1,
          41.4,
          105.2,
          33.8,
          49.8,
          47.9,
          118.4,
          18.4,
          111.1,
          42.8,
          130.8,
          46.6,
          38.2,
          38.9,
          14.7,
          157.8,
          13.8,
          42.2,
          45.1,
          34,
          34.2,
          8.8,
          32.2,
          98.9,
          9.9,
          59.3,
          23.5,
          59.4,
          35.8,
          36.3,
          12.3,
          29.1,
          51.7,
          24.6,
          31.5,
          26.5,
          61.3,
          56.4,
          71.8,
          87.9,
          22.1,
          64.2,
          30.1,
          32.7,
          59.5,
          9.9,
          19.2,
          68.8,
          72.2,
          0.7,
          42.6,
          29.3,
          225.6,
          22.3,
          27.7,
          56,
          13.6,
          19.1,
          53.7,
          28.5,
          20.4,
          72.6,
          4.2,
          9,
          383,
          18.5,
          19.5,
          235.2,
          43.1,
          61.2,
          131.2,
          81.9,
          18.4,
          13.5,
          37,
          53,
          10.8,
          34.5,
          55,
          70,
          15.3,
          156.2,
          103.2,
          122.5,
          34,
          79.9,
          76.7,
          43.2,
          60.3,
          30.8,
          25.8,
          102.5,
          80.2,
          62.3,
          123.6,
          152.3,
          57.7,
          29.5,
          71.2,
          14.3,
          32.3,
          48.1,
          35.1,
          108.8,
          3.6,
          29,
          37.3,
          45,
          39.4,
          55.2,
          34.2,
          62.9,
          23.9,
          55,
          51.6,
          1.3,
          16.4,
          37.4,
          53,
          38.6,
          57.7,
          26.5,
          128.9,
          14.1,
          71.8,
          48.4,
          18.7,
          24.4,
          47.4,
          37.8,
          44.3,
          54,
          22.6,
          11.4,
          43.8,
          20.4,
          53.4,
          36.3,
          28.2,
          28.9,
          73.7,
          49.7,
          53.9,
          31.4,
          104.6,
          237.5,
          43.7,
          111.4,
          72.8,
          164.6,
          32.5,
          51.9,
          25.2,
          88.9,
          42.7,
          69.7,
          139.2,
          99.1,
          39.7,
          56.1,
          28.3,
          86.1,
          30.6,
          24.3,
          71.2,
          2.6,
          20,
          33.9,
          41.5,
          10.2,
          62.1,
          42.4,
          28.7,
          389.7,
          45.5,
          16.9,
          42.3,
          38.8,
          58,
          23.8,
          19.6,
          19,
          41.9,
          61,
          51.7,
          61.9,
          59.2,
          27.7,
          142.6,
          92.9,
          36,
          183.5,
          39.6,
          40.8,
          28.8,
          26.3,
          18.7,
          35.5,
          34.4,
          57.1,
          42.2,
          75.4,
          75.4,
          32.1,
          259,
          48.5,
          34.6,
          23.9,
          6.6,
          27.3,
          14,
          61.6,
          42.7,
          111.9,
          27.3,
          18.3,
          37.8,
          27.1,
          80.4,
          34.7,
          53.4,
          42.7,
          12.3,
          121.1,
          63.7,
          95.6,
          28.4,
          64.8,
          9,
          46.7,
          38.3,
          66.7,
          40.1,
          181.8,
          73.3,
          38.1,
          63.4,
          95.4,
          13.4,
          1.7,
          5.4,
          87,
          39.2,
          18.3,
          33.3,
          204.4,
          133.1,
          38.1,
          46.2,
          52.4,
          30.7,
          44.4,
          65.7,
          16.6,
          21.6,
          31.7,
          35.1,
          27.4,
          52.9,
          28,
          115.6,
          28.8,
          159.2,
          30.2,
          56.5,
          15.3,
          27,
          55.3,
          50.3,
          37.7,
          21.4,
          37.5,
          162.4,
          15.4,
          47.1,
          36.2,
          60.7,
          42.3,
          18.9,
          23.1,
          56.2,
          8.2,
          48.3,
          33.8,
          15.2,
          28.2,
          35.5,
          24.4,
          231.7,
          35.1,
          41.4,
          65.6,
          49.2,
          4.5,
          41.8,
          68.6,
          55.9,
          227,
          13.7,
          62.9,
          19.7,
          18.4,
          17.1,
          27.7,
          26.5,
          47.1,
          34.4,
          21.6,
          48.4,
          65.9,
          39.4,
          387.5,
          28.1,
          55.1,
          29565.2,
          28.2,
          1897.2,
          38.4,
          42,
          64.1,
          44.1,
          39,
          28.3,
          36.4,
          27.5,
          21.6
         ]
        }
       ],
       "layout": {
        "height": 300,
        "template": {
         "data": {
          "bar": [
           {
            "error_x": {
             "color": "#2a3f5f"
            },
            "error_y": {
             "color": "#2a3f5f"
            },
            "marker": {
             "line": {
              "color": "#E5ECF6",
              "width": 0.5
             }
            },
            "type": "bar"
           }
          ],
          "barpolar": [
           {
            "marker": {
             "line": {
              "color": "#E5ECF6",
              "width": 0.5
             }
            },
            "type": "barpolar"
           }
          ],
          "carpet": [
           {
            "aaxis": {
             "endlinecolor": "#2a3f5f",
             "gridcolor": "white",
             "linecolor": "white",
             "minorgridcolor": "white",
             "startlinecolor": "#2a3f5f"
            },
            "baxis": {
             "endlinecolor": "#2a3f5f",
             "gridcolor": "white",
             "linecolor": "white",
             "minorgridcolor": "white",
             "startlinecolor": "#2a3f5f"
            },
            "type": "carpet"
           }
          ],
          "choropleth": [
           {
            "colorbar": {
             "outlinewidth": 0,
             "ticks": ""
            },
            "type": "choropleth"
           }
          ],
          "contour": [
           {
            "colorbar": {
             "outlinewidth": 0,
             "ticks": ""
            },
            "colorscale": [
             [
              0,
              "#0d0887"
             ],
             [
              0.1111111111111111,
              "#46039f"
             ],
             [
              0.2222222222222222,
              "#7201a8"
             ],
             [
              0.3333333333333333,
              "#9c179e"
             ],
             [
              0.4444444444444444,
              "#bd3786"
             ],
             [
              0.5555555555555556,
              "#d8576b"
             ],
             [
              0.6666666666666666,
              "#ed7953"
             ],
             [
              0.7777777777777778,
              "#fb9f3a"
             ],
             [
              0.8888888888888888,
              "#fdca26"
             ],
             [
              1,
              "#f0f921"
             ]
            ],
            "type": "contour"
           }
          ],
          "contourcarpet": [
           {
            "colorbar": {
             "outlinewidth": 0,
             "ticks": ""
            },
            "type": "contourcarpet"
           }
          ],
          "heatmap": [
           {
            "colorbar": {
             "outlinewidth": 0,
             "ticks": ""
            },
            "colorscale": [
             [
              0,
              "#0d0887"
             ],
             [
              0.1111111111111111,
              "#46039f"
             ],
             [
              0.2222222222222222,
              "#7201a8"
             ],
             [
              0.3333333333333333,
              "#9c179e"
             ],
             [
              0.4444444444444444,
              "#bd3786"
             ],
             [
              0.5555555555555556,
              "#d8576b"
             ],
             [
              0.6666666666666666,
              "#ed7953"
             ],
             [
              0.7777777777777778,
              "#fb9f3a"
             ],
             [
              0.8888888888888888,
              "#fdca26"
             ],
             [
              1,
              "#f0f921"
             ]
            ],
            "type": "heatmap"
           }
          ],
          "heatmapgl": [
           {
            "colorbar": {
             "outlinewidth": 0,
             "ticks": ""
            },
            "colorscale": [
             [
              0,
              "#0d0887"
             ],
             [
              0.1111111111111111,
              "#46039f"
             ],
             [
              0.2222222222222222,
              "#7201a8"
             ],
             [
              0.3333333333333333,
              "#9c179e"
             ],
             [
              0.4444444444444444,
              "#bd3786"
             ],
             [
              0.5555555555555556,
              "#d8576b"
             ],
             [
              0.6666666666666666,
              "#ed7953"
             ],
             [
              0.7777777777777778,
              "#fb9f3a"
             ],
             [
              0.8888888888888888,
              "#fdca26"
             ],
             [
              1,
              "#f0f921"
             ]
            ],
            "type": "heatmapgl"
           }
          ],
          "histogram": [
           {
            "marker": {
             "colorbar": {
              "outlinewidth": 0,
              "ticks": ""
             }
            },
            "type": "histogram"
           }
          ],
          "histogram2d": [
           {
            "colorbar": {
             "outlinewidth": 0,
             "ticks": ""
            },
            "colorscale": [
             [
              0,
              "#0d0887"
             ],
             [
              0.1111111111111111,
              "#46039f"
             ],
             [
              0.2222222222222222,
              "#7201a8"
             ],
             [
              0.3333333333333333,
              "#9c179e"
             ],
             [
              0.4444444444444444,
              "#bd3786"
             ],
             [
              0.5555555555555556,
              "#d8576b"
             ],
             [
              0.6666666666666666,
              "#ed7953"
             ],
             [
              0.7777777777777778,
              "#fb9f3a"
             ],
             [
              0.8888888888888888,
              "#fdca26"
             ],
             [
              1,
              "#f0f921"
             ]
            ],
            "type": "histogram2d"
           }
          ],
          "histogram2dcontour": [
           {
            "colorbar": {
             "outlinewidth": 0,
             "ticks": ""
            },
            "colorscale": [
             [
              0,
              "#0d0887"
             ],
             [
              0.1111111111111111,
              "#46039f"
             ],
             [
              0.2222222222222222,
              "#7201a8"
             ],
             [
              0.3333333333333333,
              "#9c179e"
             ],
             [
              0.4444444444444444,
              "#bd3786"
             ],
             [
              0.5555555555555556,
              "#d8576b"
             ],
             [
              0.6666666666666666,
              "#ed7953"
             ],
             [
              0.7777777777777778,
              "#fb9f3a"
             ],
             [
              0.8888888888888888,
              "#fdca26"
             ],
             [
              1,
              "#f0f921"
             ]
            ],
            "type": "histogram2dcontour"
           }
          ],
          "mesh3d": [
           {
            "colorbar": {
             "outlinewidth": 0,
             "ticks": ""
            },
            "type": "mesh3d"
           }
          ],
          "parcoords": [
           {
            "line": {
             "colorbar": {
              "outlinewidth": 0,
              "ticks": ""
             }
            },
            "type": "parcoords"
           }
          ],
          "pie": [
           {
            "automargin": true,
            "type": "pie"
           }
          ],
          "scatter": [
           {
            "marker": {
             "colorbar": {
              "outlinewidth": 0,
              "ticks": ""
             }
            },
            "type": "scatter"
           }
          ],
          "scatter3d": [
           {
            "line": {
             "colorbar": {
              "outlinewidth": 0,
              "ticks": ""
             }
            },
            "marker": {
             "colorbar": {
              "outlinewidth": 0,
              "ticks": ""
             }
            },
            "type": "scatter3d"
           }
          ],
          "scattercarpet": [
           {
            "marker": {
             "colorbar": {
              "outlinewidth": 0,
              "ticks": ""
             }
            },
            "type": "scattercarpet"
           }
          ],
          "scattergeo": [
           {
            "marker": {
             "colorbar": {
              "outlinewidth": 0,
              "ticks": ""
             }
            },
            "type": "scattergeo"
           }
          ],
          "scattergl": [
           {
            "marker": {
             "colorbar": {
              "outlinewidth": 0,
              "ticks": ""
             }
            },
            "type": "scattergl"
           }
          ],
          "scattermapbox": [
           {
            "marker": {
             "colorbar": {
              "outlinewidth": 0,
              "ticks": ""
             }
            },
            "type": "scattermapbox"
           }
          ],
          "scatterpolar": [
           {
            "marker": {
             "colorbar": {
              "outlinewidth": 0,
              "ticks": ""
             }
            },
            "type": "scatterpolar"
           }
          ],
          "scatterpolargl": [
           {
            "marker": {
             "colorbar": {
              "outlinewidth": 0,
              "ticks": ""
             }
            },
            "type": "scatterpolargl"
           }
          ],
          "scatterternary": [
           {
            "marker": {
             "colorbar": {
              "outlinewidth": 0,
              "ticks": ""
             }
            },
            "type": "scatterternary"
           }
          ],
          "surface": [
           {
            "colorbar": {
             "outlinewidth": 0,
             "ticks": ""
            },
            "colorscale": [
             [
              0,
              "#0d0887"
             ],
             [
              0.1111111111111111,
              "#46039f"
             ],
             [
              0.2222222222222222,
              "#7201a8"
             ],
             [
              0.3333333333333333,
              "#9c179e"
             ],
             [
              0.4444444444444444,
              "#bd3786"
             ],
             [
              0.5555555555555556,
              "#d8576b"
             ],
             [
              0.6666666666666666,
              "#ed7953"
             ],
             [
              0.7777777777777778,
              "#fb9f3a"
             ],
             [
              0.8888888888888888,
              "#fdca26"
             ],
             [
              1,
              "#f0f921"
             ]
            ],
            "type": "surface"
           }
          ],
          "table": [
           {
            "cells": {
             "fill": {
              "color": "#EBF0F8"
             },
             "line": {
              "color": "white"
             }
            },
            "header": {
             "fill": {
              "color": "#C8D4E3"
             },
             "line": {
              "color": "white"
             }
            },
            "type": "table"
           }
          ]
         },
         "layout": {
          "annotationdefaults": {
           "arrowcolor": "#2a3f5f",
           "arrowhead": 0,
           "arrowwidth": 1
          },
          "coloraxis": {
           "colorbar": {
            "outlinewidth": 0,
            "ticks": ""
           }
          },
          "colorscale": {
           "diverging": [
            [
             0,
             "#8e0152"
            ],
            [
             0.1,
             "#c51b7d"
            ],
            [
             0.2,
             "#de77ae"
            ],
            [
             0.3,
             "#f1b6da"
            ],
            [
             0.4,
             "#fde0ef"
            ],
            [
             0.5,
             "#f7f7f7"
            ],
            [
             0.6,
             "#e6f5d0"
            ],
            [
             0.7,
             "#b8e186"
            ],
            [
             0.8,
             "#7fbc41"
            ],
            [
             0.9,
             "#4d9221"
            ],
            [
             1,
             "#276419"
            ]
           ],
           "sequential": [
            [
             0,
             "#0d0887"
            ],
            [
             0.1111111111111111,
             "#46039f"
            ],
            [
             0.2222222222222222,
             "#7201a8"
            ],
            [
             0.3333333333333333,
             "#9c179e"
            ],
            [
             0.4444444444444444,
             "#bd3786"
            ],
            [
             0.5555555555555556,
             "#d8576b"
            ],
            [
             0.6666666666666666,
             "#ed7953"
            ],
            [
             0.7777777777777778,
             "#fb9f3a"
            ],
            [
             0.8888888888888888,
             "#fdca26"
            ],
            [
             1,
             "#f0f921"
            ]
           ],
           "sequentialminus": [
            [
             0,
             "#0d0887"
            ],
            [
             0.1111111111111111,
             "#46039f"
            ],
            [
             0.2222222222222222,
             "#7201a8"
            ],
            [
             0.3333333333333333,
             "#9c179e"
            ],
            [
             0.4444444444444444,
             "#bd3786"
            ],
            [
             0.5555555555555556,
             "#d8576b"
            ],
            [
             0.6666666666666666,
             "#ed7953"
            ],
            [
             0.7777777777777778,
             "#fb9f3a"
            ],
            [
             0.8888888888888888,
             "#fdca26"
            ],
            [
             1,
             "#f0f921"
            ]
           ]
          },
          "colorway": [
           "#636efa",
           "#EF553B",
           "#00cc96",
           "#ab63fa",
           "#FFA15A",
           "#19d3f3",
           "#FF6692",
           "#B6E880",
           "#FF97FF",
           "#FECB52"
          ],
          "font": {
           "color": "#2a3f5f"
          },
          "geo": {
           "bgcolor": "white",
           "lakecolor": "white",
           "landcolor": "#E5ECF6",
           "showlakes": true,
           "showland": true,
           "subunitcolor": "white"
          },
          "hoverlabel": {
           "align": "left"
          },
          "hovermode": "closest",
          "mapbox": {
           "style": "light"
          },
          "paper_bgcolor": "white",
          "plot_bgcolor": "#E5ECF6",
          "polar": {
           "angularaxis": {
            "gridcolor": "white",
            "linecolor": "white",
            "ticks": ""
           },
           "bgcolor": "#E5ECF6",
           "radialaxis": {
            "gridcolor": "white",
            "linecolor": "white",
            "ticks": ""
           }
          },
          "scene": {
           "xaxis": {
            "backgroundcolor": "#E5ECF6",
            "gridcolor": "white",
            "gridwidth": 2,
            "linecolor": "white",
            "showbackground": true,
            "ticks": "",
            "zerolinecolor": "white"
           },
           "yaxis": {
            "backgroundcolor": "#E5ECF6",
            "gridcolor": "white",
            "gridwidth": 2,
            "linecolor": "white",
            "showbackground": true,
            "ticks": "",
            "zerolinecolor": "white"
           },
           "zaxis": {
            "backgroundcolor": "#E5ECF6",
            "gridcolor": "white",
            "gridwidth": 2,
            "linecolor": "white",
            "showbackground": true,
            "ticks": "",
            "zerolinecolor": "white"
           }
          },
          "shapedefaults": {
           "line": {
            "color": "#2a3f5f"
           }
          },
          "ternary": {
           "aaxis": {
            "gridcolor": "white",
            "linecolor": "white",
            "ticks": ""
           },
           "baxis": {
            "gridcolor": "white",
            "linecolor": "white",
            "ticks": ""
           },
           "bgcolor": "#E5ECF6",
           "caxis": {
            "gridcolor": "white",
            "linecolor": "white",
            "ticks": ""
           }
          },
          "title": {
           "x": 0.05
          },
          "xaxis": {
           "automargin": true,
           "gridcolor": "white",
           "linecolor": "white",
           "ticks": "",
           "title": {
            "standoff": 15
           },
           "zerolinecolor": "white",
           "zerolinewidth": 2
          },
          "yaxis": {
           "automargin": true,
           "gridcolor": "white",
           "linecolor": "white",
           "ticks": "",
           "title": {
            "standoff": 15
           },
           "zerolinecolor": "white",
           "zerolinewidth": 2
          }
         }
        },
        "title": {
         "text": "PayoutRatio vs. PERatio"
        },
        "yaxis": {
         "title": {
          "text": "PayoutRatio"
         }
        }
       }
      },
      "text/html": [
       "<div>\n",
       "        \n",
       "        \n",
       "            <div id=\"a02c1c07-e974-4ac7-814b-164759c688d3\" class=\"plotly-graph-div\" style=\"height:300px; width:100%;\"></div>\n",
       "            <script type=\"text/javascript\">\n",
       "                require([\"plotly\"], function(Plotly) {\n",
       "                    window.PLOTLYENV=window.PLOTLYENV || {};\n",
       "                    \n",
       "                if (document.getElementById(\"a02c1c07-e974-4ac7-814b-164759c688d3\")) {\n",
       "                    Plotly.newPlot(\n",
       "                        'a02c1c07-e974-4ac7-814b-164759c688d3',\n",
       "                        [{\"mode\": \"markers\", \"type\": \"scatter\", \"x\": [20.0, 28.5, 24.6, 24.9, 27.4, 28.7, 12.7, 22.2, 27.1, 16.8, 13.1, 45.0, 22.5, 7.6, 24.8, 13.9, 13.9, 23.7, 8.5, 23.6, 14.1, 67.9, 37.9, 10.4, 19.0, 24.8, 16.0, 25.8, 25.8, 34.2, 20.3, 23.9, 20.6, 16.7, 23.7, 17.4, 30.2, 24.1, 21.5, 26.7, 15.8, 30.3, 33.5, 62.2, 45.6, 11.5, 12.1, 29.0, 13.3, 86.5, 12.8, 17.5, 11.7, 51.2, 10.8, 38.3, 14.4, 37.8, 29.6, 37.7, 17.7, 9.4, 53.9, 8.0, 11.1, 9.9, 12.7, 31.4, 4.4, 16.9, 25.9, 37.1, 22.6, 15.2, 15.2, 18.3, 30.7, 7.2, 15.2, 17.9, 9.6, 9.6, 26.1, 23.3, 39.3, 30.7, 30.2, 16.7, 25.7, 17.2, 8.2, 19.3, 25.8, 9.0, 22.1, 47.9, 31.2, 16.9, 35.7, 70.6, 17.2, 10.7, 18.4, 12.6, 40.0, 19.0, 16.8, 7.5, 112.8, 2.6, 13.9, 124.4, 9.1, 26.1, 55.5, 23.1, 21.3, 53.1, 21.2, 6.6, 9.9, 11.4, 16.4, 15.1, 36.3, 19.8, 23.3, 11.6, 93.3, 40.4, 52.8, 37.9, 26.9, 31.7, 19.6, 19.5, 33.3, 20.3, 34.1, 16.8, 27.6, 42.4, 91.4, 54.6, 9.1, 23.3, 20.7, 26.1, 30.6, 21.2, 16.7, 9.3, 20.2, 10.3, 22.8, 7.1, 22.1, 14.9, 16.4, 5.8, 19.0, 14.3, 50.7, 9.4, 21.2, 14.9, 10.4, 15.3, 12.8, 48.0, 11.8, 18.4, 25.1, 29.9, 10.3, 23.3, 19.6, 22.1, 11.4, 6.2, 15.8, 11.3, 13.4, 21.6, 20.3, 11.9, 26.1, 15.5, 10.9, 12.6, 42.7, 14.8, 33.7, 39.3, 50.1, 22.9, 67.1, 12.3, 17.5, 25.5, 24.7, 11.2, 22.9, 26.4, 22.5, 21.0, 11.7, 12.2, 8.4, 16.2, 23.0, 20.7, 10.2, 8.6, 19.3, 17.6, 20.9, 34.8, 9.2, 11.3, 37.7, 4.7, 10.2, 14.1, 28.0, 33.8, 32.7, 18.0, 40.0, 30.2, 18.7, 48.4, 31.9, 23.0, 7.6, 79.9, 59.2, 26.9, 65.6, 14.4, 20.6, 32.5, 9.7, 30.2, 26.9, 32.4, 31.8, 14.1, 52.2, 53.7, 33.6, 92.3, 12.0, 15.1, 17.2, 22.3, 9.0, 43.3, 8.5, 12.8, 23.3, 17.2, 10.7, 13.2, 16.1, 28.6, 20.1, 12.8, 15.6, 37.2, 84.4, 16.5, 17.0, 9.4, 21.0, 24.5, 17.7, 24.4, 13.5, 10.7, 76.4, 32.5, 9.2, 21.6, 28.7, 12.1, 10.2, 18.6, 27.1, 19.0, 11.6, 18.7, 61.3, 40.5, 10.8, 26.7, 44.9, 14.6, 19.9, 62.0, 30.9, 24.8, 12.4, 7.8, 17.8, 21.0, 37.2, 22.1, 16.9, 39.4, 13.1, 14.5, 12.3, 30.7, 32.2, 28.9, 12.9, 22.2, 12.6, 124.6, 6.4, 24.3, 13.4, 11.7, 18.3, 10.0, 54.6, 21.7, 33.6, 20.0, 23.7, 38.9, 21.0, 14.7, 12.6, 86.3, 13.0, 19.9, 19.9, 23.4, 16.4, 11.8, 31.6, 15.4, 52.4, 40.8, 15.9, 5.4, 32.9, 4.3, 33.9, 38.9, 26.8, 10.7, 16.5, 27.4, 26.8, 10.9, 101.5, 8.8, 11.7, 6415.2, 9.7, 309.1, 28.4, 15.0, 26.3, 13.5, 25.2, 25.6, 25.5, 10.6, 42.5], \"y\": [66.3, 153.0, 39.0, 15.4, 4.0, 90.3, 25.7, 19.0, 58.2, 32.7, 27.3, 110.4, 20.7, 14.8, 63.8, 24.7, 95.0, 58.0, 12.0, 65.7, 19.3, 103.6, 59.4, 26.7, 35.0, 15.6, 43.6, 23.8, 49.9, 29.3, 33.5, 69.0, 25.0, 27.0, 23.3, 58.5, 22.1, 44.9, 40.1, 48.6, 85.1, 58.0, 90.5, 205.7, 28.8, 23.0, 29.7, 26.1, 41.4, 105.2, 33.8, 49.8, 47.9, 118.4, 18.4, 111.1, 42.8, 130.8, 46.6, 38.2, 38.9, 14.7, 157.8, 13.8, 42.2, 45.1, 34.0, 34.2, 8.8, 32.2, 98.9, 9.9, 59.3, 23.5, 59.4, 35.8, 36.3, 12.3, 29.1, 51.7, 24.6, 31.5, 26.5, 61.3, 56.4, 71.8, 87.9, 22.1, 64.2, 30.1, 32.7, 59.5, 9.9, 19.2, 68.8, 72.2, 0.7, 42.6, 29.3, 225.6, 22.3, 27.7, 56.0, 13.6, 19.1, 53.7, 28.5, 20.4, 72.6, 4.2, 9.0, 383.0, 18.5, 19.5, 235.2, 43.1, 61.2, 131.2, 81.9, 18.4, 13.5, 37.0, 53.0, 10.8, 34.5, 55.0, 70.0, 15.3, 156.2, 103.2, 122.5, 34.0, 79.9, 76.7, 43.2, 60.3, 30.8, 25.8, 102.5, 80.2, 62.3, 123.6, 152.3, 57.7, 29.5, 71.2, 14.3, 32.3, 48.1, 35.1, 108.8, 3.6, 29.0, 37.3, 45.0, 39.4, 55.2, 34.2, 62.9, 23.9, 55.0, 51.6, 1.3, 16.4, 37.4, 53.0, 38.6, 57.7, 26.5, 128.9, 14.1, 71.8, 48.4, 18.7, 24.4, 47.4, 37.8, 44.3, 54.0, 22.6, 11.4, 43.8, 20.4, 53.4, 36.3, 28.2, 28.9, 73.7, 49.7, 53.9, 31.4, 104.6, 237.5, 43.7, 111.4, 72.8, 164.6, 32.5, 51.9, 25.2, 88.9, 42.7, 69.7, 139.2, 99.1, 39.7, 56.1, 28.3, 86.1, 30.6, 24.3, 71.2, 2.6, 20.0, 33.9, 41.5, 10.2, 62.1, 42.4, 28.7, 389.7, 45.5, 16.9, 42.3, 38.8, 58.0, 23.8, 19.6, 19.0, 41.9, 61.0, 51.7, 61.9, 59.2, 27.7, 142.6, 92.9, 36.0, 183.5, 39.6, 40.8, 28.8, 26.3, 18.7, 35.5, 34.4, 57.1, 42.2, 75.4, 75.4, 32.1, 259.0, 48.5, 34.6, 23.9, 6.6, 27.3, 14.0, 61.6, 42.7, 111.9, 27.3, 18.3, 37.8, 27.1, 80.4, 34.7, 53.4, 42.7, 12.3, 121.1, 63.7, 95.6, 28.4, 64.8, 9.0, 46.7, 38.3, 66.7, 40.1, 181.8, 73.3, 38.1, 63.4, 95.4, 13.4, 1.7, 5.4, 87.0, 39.2, 18.3, 33.3, 204.4, 133.1, 38.1, 46.2, 52.4, 30.7, 44.4, 65.7, 16.6, 21.6, 31.7, 35.1, 27.4, 52.9, 28.0, 115.6, 28.8, 159.2, 30.2, 56.5, 15.3, 27.0, 55.3, 50.3, 37.7, 21.4, 37.5, 162.4, 15.4, 47.1, 36.2, 60.7, 42.3, 18.9, 23.1, 56.2, 8.2, 48.3, 33.8, 15.2, 28.2, 35.5, 24.4, 231.7, 35.1, 41.4, 65.6, 49.2, 4.5, 41.8, 68.6, 55.9, 227.0, 13.7, 62.9, 19.7, 18.4, 17.1, 27.7, 26.5, 47.1, 34.4, 21.6, 48.4, 65.9, 39.4, 387.5, 28.1, 55.1, 29565.2, 28.2, 1897.2, 38.4, 42.0, 64.1, 44.1, 39.0, 28.3, 36.4, 27.5, 21.6]}],\n",
       "                        {\"height\": 300, \"template\": {\"data\": {\"bar\": [{\"error_x\": {\"color\": \"#2a3f5f\"}, \"error_y\": {\"color\": \"#2a3f5f\"}, \"marker\": {\"line\": {\"color\": \"#E5ECF6\", \"width\": 0.5}}, \"type\": \"bar\"}], \"barpolar\": [{\"marker\": {\"line\": {\"color\": \"#E5ECF6\", \"width\": 0.5}}, \"type\": \"barpolar\"}], \"carpet\": [{\"aaxis\": {\"endlinecolor\": \"#2a3f5f\", \"gridcolor\": \"white\", \"linecolor\": \"white\", \"minorgridcolor\": \"white\", \"startlinecolor\": \"#2a3f5f\"}, \"baxis\": {\"endlinecolor\": \"#2a3f5f\", \"gridcolor\": \"white\", \"linecolor\": \"white\", \"minorgridcolor\": \"white\", \"startlinecolor\": \"#2a3f5f\"}, \"type\": \"carpet\"}], \"choropleth\": [{\"colorbar\": {\"outlinewidth\": 0, \"ticks\": \"\"}, \"type\": \"choropleth\"}], \"contour\": [{\"colorbar\": {\"outlinewidth\": 0, \"ticks\": \"\"}, \"colorscale\": [[0.0, \"#0d0887\"], [0.1111111111111111, \"#46039f\"], [0.2222222222222222, \"#7201a8\"], [0.3333333333333333, \"#9c179e\"], [0.4444444444444444, \"#bd3786\"], [0.5555555555555556, \"#d8576b\"], [0.6666666666666666, \"#ed7953\"], [0.7777777777777778, \"#fb9f3a\"], [0.8888888888888888, \"#fdca26\"], [1.0, \"#f0f921\"]], \"type\": \"contour\"}], \"contourcarpet\": [{\"colorbar\": {\"outlinewidth\": 0, \"ticks\": \"\"}, \"type\": \"contourcarpet\"}], \"heatmap\": [{\"colorbar\": {\"outlinewidth\": 0, \"ticks\": \"\"}, \"colorscale\": [[0.0, \"#0d0887\"], [0.1111111111111111, \"#46039f\"], [0.2222222222222222, \"#7201a8\"], [0.3333333333333333, \"#9c179e\"], [0.4444444444444444, \"#bd3786\"], [0.5555555555555556, \"#d8576b\"], [0.6666666666666666, \"#ed7953\"], [0.7777777777777778, \"#fb9f3a\"], [0.8888888888888888, \"#fdca26\"], [1.0, \"#f0f921\"]], \"type\": \"heatmap\"}], \"heatmapgl\": [{\"colorbar\": {\"outlinewidth\": 0, \"ticks\": \"\"}, \"colorscale\": [[0.0, \"#0d0887\"], [0.1111111111111111, \"#46039f\"], [0.2222222222222222, \"#7201a8\"], [0.3333333333333333, \"#9c179e\"], [0.4444444444444444, \"#bd3786\"], [0.5555555555555556, \"#d8576b\"], [0.6666666666666666, \"#ed7953\"], [0.7777777777777778, \"#fb9f3a\"], [0.8888888888888888, \"#fdca26\"], [1.0, \"#f0f921\"]], \"type\": \"heatmapgl\"}], \"histogram\": [{\"marker\": {\"colorbar\": {\"outlinewidth\": 0, \"ticks\": \"\"}}, \"type\": \"histogram\"}], \"histogram2d\": [{\"colorbar\": {\"outlinewidth\": 0, \"ticks\": \"\"}, \"colorscale\": [[0.0, \"#0d0887\"], [0.1111111111111111, \"#46039f\"], [0.2222222222222222, \"#7201a8\"], [0.3333333333333333, \"#9c179e\"], [0.4444444444444444, \"#bd3786\"], [0.5555555555555556, \"#d8576b\"], [0.6666666666666666, \"#ed7953\"], [0.7777777777777778, \"#fb9f3a\"], [0.8888888888888888, \"#fdca26\"], [1.0, \"#f0f921\"]], \"type\": \"histogram2d\"}], \"histogram2dcontour\": [{\"colorbar\": {\"outlinewidth\": 0, \"ticks\": \"\"}, \"colorscale\": [[0.0, \"#0d0887\"], [0.1111111111111111, \"#46039f\"], [0.2222222222222222, \"#7201a8\"], [0.3333333333333333, \"#9c179e\"], [0.4444444444444444, \"#bd3786\"], [0.5555555555555556, \"#d8576b\"], [0.6666666666666666, \"#ed7953\"], [0.7777777777777778, \"#fb9f3a\"], [0.8888888888888888, \"#fdca26\"], [1.0, \"#f0f921\"]], \"type\": \"histogram2dcontour\"}], \"mesh3d\": [{\"colorbar\": {\"outlinewidth\": 0, \"ticks\": \"\"}, \"type\": \"mesh3d\"}], \"parcoords\": [{\"line\": {\"colorbar\": {\"outlinewidth\": 0, \"ticks\": \"\"}}, \"type\": \"parcoords\"}], \"pie\": [{\"automargin\": true, \"type\": \"pie\"}], \"scatter\": [{\"marker\": {\"colorbar\": {\"outlinewidth\": 0, \"ticks\": \"\"}}, \"type\": \"scatter\"}], \"scatter3d\": [{\"line\": {\"colorbar\": {\"outlinewidth\": 0, \"ticks\": \"\"}}, \"marker\": {\"colorbar\": {\"outlinewidth\": 0, \"ticks\": \"\"}}, \"type\": \"scatter3d\"}], \"scattercarpet\": [{\"marker\": {\"colorbar\": {\"outlinewidth\": 0, \"ticks\": \"\"}}, \"type\": \"scattercarpet\"}], \"scattergeo\": [{\"marker\": {\"colorbar\": {\"outlinewidth\": 0, \"ticks\": \"\"}}, \"type\": \"scattergeo\"}], \"scattergl\": [{\"marker\": {\"colorbar\": {\"outlinewidth\": 0, \"ticks\": \"\"}}, \"type\": \"scattergl\"}], \"scattermapbox\": [{\"marker\": {\"colorbar\": {\"outlinewidth\": 0, \"ticks\": \"\"}}, \"type\": \"scattermapbox\"}], \"scatterpolar\": [{\"marker\": {\"colorbar\": {\"outlinewidth\": 0, \"ticks\": \"\"}}, \"type\": \"scatterpolar\"}], \"scatterpolargl\": [{\"marker\": {\"colorbar\": {\"outlinewidth\": 0, \"ticks\": \"\"}}, \"type\": \"scatterpolargl\"}], \"scatterternary\": [{\"marker\": {\"colorbar\": {\"outlinewidth\": 0, \"ticks\": \"\"}}, \"type\": \"scatterternary\"}], \"surface\": [{\"colorbar\": {\"outlinewidth\": 0, \"ticks\": \"\"}, \"colorscale\": [[0.0, \"#0d0887\"], [0.1111111111111111, \"#46039f\"], [0.2222222222222222, \"#7201a8\"], [0.3333333333333333, \"#9c179e\"], [0.4444444444444444, \"#bd3786\"], [0.5555555555555556, \"#d8576b\"], [0.6666666666666666, \"#ed7953\"], [0.7777777777777778, \"#fb9f3a\"], [0.8888888888888888, \"#fdca26\"], [1.0, \"#f0f921\"]], \"type\": \"surface\"}], \"table\": [{\"cells\": {\"fill\": {\"color\": \"#EBF0F8\"}, \"line\": {\"color\": \"white\"}}, \"header\": {\"fill\": {\"color\": \"#C8D4E3\"}, \"line\": {\"color\": \"white\"}}, \"type\": \"table\"}]}, \"layout\": {\"annotationdefaults\": {\"arrowcolor\": \"#2a3f5f\", \"arrowhead\": 0, \"arrowwidth\": 1}, \"coloraxis\": {\"colorbar\": {\"outlinewidth\": 0, \"ticks\": \"\"}}, \"colorscale\": {\"diverging\": [[0, \"#8e0152\"], [0.1, \"#c51b7d\"], [0.2, \"#de77ae\"], [0.3, \"#f1b6da\"], [0.4, \"#fde0ef\"], [0.5, \"#f7f7f7\"], [0.6, \"#e6f5d0\"], [0.7, \"#b8e186\"], [0.8, \"#7fbc41\"], [0.9, \"#4d9221\"], [1, \"#276419\"]], \"sequential\": [[0.0, \"#0d0887\"], [0.1111111111111111, \"#46039f\"], [0.2222222222222222, \"#7201a8\"], [0.3333333333333333, \"#9c179e\"], [0.4444444444444444, \"#bd3786\"], [0.5555555555555556, \"#d8576b\"], [0.6666666666666666, \"#ed7953\"], [0.7777777777777778, \"#fb9f3a\"], [0.8888888888888888, \"#fdca26\"], [1.0, \"#f0f921\"]], \"sequentialminus\": [[0.0, \"#0d0887\"], [0.1111111111111111, \"#46039f\"], [0.2222222222222222, \"#7201a8\"], [0.3333333333333333, \"#9c179e\"], [0.4444444444444444, \"#bd3786\"], [0.5555555555555556, \"#d8576b\"], [0.6666666666666666, \"#ed7953\"], [0.7777777777777778, \"#fb9f3a\"], [0.8888888888888888, \"#fdca26\"], [1.0, \"#f0f921\"]]}, \"colorway\": [\"#636efa\", \"#EF553B\", \"#00cc96\", \"#ab63fa\", \"#FFA15A\", \"#19d3f3\", \"#FF6692\", \"#B6E880\", \"#FF97FF\", \"#FECB52\"], \"font\": {\"color\": \"#2a3f5f\"}, \"geo\": {\"bgcolor\": \"white\", \"lakecolor\": \"white\", \"landcolor\": \"#E5ECF6\", \"showlakes\": true, \"showland\": true, \"subunitcolor\": \"white\"}, \"hoverlabel\": {\"align\": \"left\"}, \"hovermode\": \"closest\", \"mapbox\": {\"style\": \"light\"}, \"paper_bgcolor\": \"white\", \"plot_bgcolor\": \"#E5ECF6\", \"polar\": {\"angularaxis\": {\"gridcolor\": \"white\", \"linecolor\": \"white\", \"ticks\": \"\"}, \"bgcolor\": \"#E5ECF6\", \"radialaxis\": {\"gridcolor\": \"white\", \"linecolor\": \"white\", \"ticks\": \"\"}}, \"scene\": {\"xaxis\": {\"backgroundcolor\": \"#E5ECF6\", \"gridcolor\": \"white\", \"gridwidth\": 2, \"linecolor\": \"white\", \"showbackground\": true, \"ticks\": \"\", \"zerolinecolor\": \"white\"}, \"yaxis\": {\"backgroundcolor\": \"#E5ECF6\", \"gridcolor\": \"white\", \"gridwidth\": 2, \"linecolor\": \"white\", \"showbackground\": true, \"ticks\": \"\", \"zerolinecolor\": \"white\"}, \"zaxis\": {\"backgroundcolor\": \"#E5ECF6\", \"gridcolor\": \"white\", \"gridwidth\": 2, \"linecolor\": \"white\", \"showbackground\": true, \"ticks\": \"\", \"zerolinecolor\": \"white\"}}, \"shapedefaults\": {\"line\": {\"color\": \"#2a3f5f\"}}, \"ternary\": {\"aaxis\": {\"gridcolor\": \"white\", \"linecolor\": \"white\", \"ticks\": \"\"}, \"baxis\": {\"gridcolor\": \"white\", \"linecolor\": \"white\", \"ticks\": \"\"}, \"bgcolor\": \"#E5ECF6\", \"caxis\": {\"gridcolor\": \"white\", \"linecolor\": \"white\", \"ticks\": \"\"}}, \"title\": {\"x\": 0.05}, \"xaxis\": {\"automargin\": true, \"gridcolor\": \"white\", \"linecolor\": \"white\", \"ticks\": \"\", \"title\": {\"standoff\": 15}, \"zerolinecolor\": \"white\", \"zerolinewidth\": 2}, \"yaxis\": {\"automargin\": true, \"gridcolor\": \"white\", \"linecolor\": \"white\", \"ticks\": \"\", \"title\": {\"standoff\": 15}, \"zerolinecolor\": \"white\", \"zerolinewidth\": 2}}}, \"title\": {\"text\": \"PayoutRatio vs. PERatio\"}, \"yaxis\": {\"title\": {\"text\": \"PayoutRatio\"}}},\n",
       "                        {\"responsive\": true}\n",
       "                    ).then(function(){\n",
       "                            \n",
       "var gd = document.getElementById('a02c1c07-e974-4ac7-814b-164759c688d3');\n",
       "var x = new MutationObserver(function (mutations, observer) {{\n",
       "        var display = window.getComputedStyle(gd).display;\n",
       "        if (!display || display === 'none') {{\n",
       "            console.log([gd, 'removed!']);\n",
       "            Plotly.purge(gd);\n",
       "            observer.disconnect();\n",
       "        }}\n",
       "}});\n",
       "\n",
       "// Listen for the removal of the full notebook cells\n",
       "var notebookContainer = gd.closest('#notebook-container');\n",
       "if (notebookContainer) {{\n",
       "    x.observe(notebookContainer, {childList: true});\n",
       "}}\n",
       "\n",
       "// Listen for the clearing of the current output cell\n",
       "var outputEl = gd.closest('.output');\n",
       "if (outputEl) {{\n",
       "    x.observe(outputEl, {childList: true});\n",
       "}}\n",
       "\n",
       "                        })\n",
       "                };\n",
       "                });\n",
       "            </script>\n",
       "        </div>"
      ]
     },
     "metadata": {},
     "output_type": "display_data"
    },
    {
     "data": {
      "application/vnd.plotly.v1+json": {
       "config": {
        "plotlyServerURL": "https://plot.ly"
       },
       "data": [
        {
         "hoverlabel": {
          "namelength": 0
         },
         "hovertemplate": "PERatio=%{x}<br>MarketCap=%{y}",
         "legendgroup": "",
         "marker": {
          "color": "#636efa",
          "symbol": "circle"
         },
         "mode": "markers",
         "name": "",
         "showlegend": false,
         "type": "scatter",
         "x": [
          20,
          28.5,
          24.6,
          24.9,
          27.4,
          28.7,
          12.7,
          22.2,
          27.1,
          16.8,
          13.1,
          45,
          22.5,
          7.6,
          24.8,
          13.9,
          13.9,
          23.7,
          8.5,
          23.6,
          14.1,
          67.9,
          37.9,
          10.4,
          19,
          24.8,
          16,
          25.8,
          25.8,
          34.2,
          20.3,
          23.9,
          20.6,
          16.7,
          23.7,
          17.4,
          30.2,
          24.1,
          21.5,
          26.7,
          15.8,
          30.3,
          33.5,
          62.2,
          45.6,
          11.5,
          12.1,
          29,
          13.3,
          86.5,
          12.8,
          17.5,
          11.7,
          51.2,
          10.8,
          38.3,
          14.4,
          37.8,
          29.6,
          37.7,
          17.7,
          9.4,
          53.9,
          8,
          11.1,
          9.9,
          12.7,
          31.4,
          4.4,
          16.9,
          25.9,
          37.1,
          22.6,
          15.2,
          15.2,
          18.3,
          30.7,
          7.2,
          15.2,
          17.9,
          9.6,
          9.6,
          26.1,
          23.3,
          39.3,
          30.7,
          30.2,
          16.7,
          25.7,
          17.2,
          8.2,
          19.3,
          25.8,
          9,
          22.1,
          47.9,
          31.2,
          16.9,
          35.7,
          70.6,
          17.2,
          10.7,
          18.4,
          12.6,
          40,
          19,
          16.8,
          7.5,
          112.8,
          2.6,
          13.9,
          124.4,
          9.1,
          26.1,
          55.5,
          23.1,
          21.3,
          53.1,
          21.2,
          6.6,
          9.9,
          11.4,
          16.4,
          15.1,
          36.3,
          19.8,
          23.3,
          11.6,
          93.3,
          40.4,
          52.8,
          37.9,
          26.9,
          31.7,
          19.6,
          19.5,
          33.3,
          20.3,
          34.1,
          16.8,
          27.6,
          42.4,
          91.4,
          54.6,
          9.1,
          23.3,
          20.7,
          26.1,
          30.6,
          21.2,
          16.7,
          9.3,
          20.2,
          10.3,
          22.8,
          7.1,
          22.1,
          14.9,
          16.4,
          5.8,
          19,
          14.3,
          50.7,
          9.4,
          21.2,
          14.9,
          10.4,
          15.3,
          12.8,
          48,
          11.8,
          18.4,
          25.1,
          29.9,
          10.3,
          23.3,
          19.6,
          22.1,
          11.4,
          6.2,
          15.8,
          11.3,
          13.4,
          21.6,
          20.3,
          11.9,
          26.1,
          15.5,
          10.9,
          12.6,
          42.7,
          14.8,
          33.7,
          39.3,
          50.1,
          22.9,
          67.1,
          12.3,
          17.5,
          25.5,
          24.7,
          11.2,
          22.9,
          26.4,
          22.5,
          21,
          11.7,
          12.2,
          8.4,
          16.2,
          23,
          20.7,
          10.2,
          8.6,
          19.3,
          17.6,
          20.9,
          34.8,
          9.2,
          11.3,
          37.7,
          4.7,
          10.2,
          14.1,
          28,
          33.8,
          32.7,
          18,
          40,
          30.2,
          18.7,
          48.4,
          31.9,
          23,
          7.6,
          79.9,
          59.2,
          26.9,
          65.6,
          14.4,
          20.6,
          32.5,
          9.7,
          30.2,
          26.9,
          32.4,
          31.8,
          14.1,
          52.2,
          53.7,
          33.6,
          92.3,
          12,
          15.1,
          17.2,
          22.3,
          9,
          43.3,
          8.5,
          12.8,
          23.3,
          17.2,
          10.7,
          13.2,
          16.1,
          28.6,
          20.1,
          12.8,
          15.6,
          37.2,
          84.4,
          16.5,
          17,
          9.4,
          21,
          24.5,
          17.7,
          24.4,
          13.5,
          10.7,
          76.4,
          32.5,
          9.2,
          21.6,
          28.7,
          12.1,
          10.2,
          18.6,
          27.1,
          19,
          11.6,
          18.7,
          61.3,
          40.5,
          10.8,
          26.7,
          44.9,
          14.6,
          19.9,
          62,
          30.9,
          24.8,
          12.4,
          7.8,
          17.8,
          21,
          37.2,
          22.1,
          16.9,
          39.4,
          13.1,
          14.5,
          12.3,
          30.7,
          32.2,
          28.9,
          12.9,
          22.2,
          12.6,
          124.6,
          6.4,
          24.3,
          13.4,
          11.7,
          18.3,
          10,
          54.6,
          21.7,
          33.6,
          20,
          23.7,
          38.9,
          21,
          14.7,
          12.6,
          86.3,
          13,
          19.9,
          19.9,
          23.4,
          16.4,
          11.8,
          31.6,
          15.4,
          52.4,
          40.8,
          15.9,
          5.4,
          32.9,
          4.3,
          33.9,
          38.9,
          26.8,
          10.7,
          16.5,
          27.4,
          26.8,
          10.9,
          101.5,
          8.8,
          11.7,
          6415.2,
          9.7,
          309.1,
          28.4,
          15,
          26.3,
          13.5,
          25.2,
          25.6,
          25.5,
          10.6,
          42.5
         ],
         "xaxis": "x",
         "y": [
          97084,
          114951,
          117278,
          42033,
          11787,
          11371,
          38847,
          23203,
          46287,
          8494,
          7149,
          17980,
          9745,
          6323,
          12740,
          35611,
          87333,
          18941,
          12596,
          46633,
          96648,
          100055,
          22028,
          18775,
          17843,
          20322,
          121931,
          30217,
          38998,
          45149,
          7035,
          8143,
          1098974,
          46677,
          22895,
          22685,
          11990,
          16774,
          7734,
          13357,
          275766,
          69409,
          30938,
          22348,
          23598,
          292466,
          44050,
          44903,
          40982,
          67920,
          18995,
          70649,
          4939,
          191602,
          8256,
          20243,
          89591,
          111194,
          14089,
          30896,
          12054,
          7748,
          14396,
          43642,
          14626,
          23181,
          76140,
          12735,
          13671,
          15066,
          14865,
          21513,
          10003,
          54078,
          223975,
          68435,
          18601,
          4521,
          18613,
          199740,
          163668,
          16086,
          13570,
          18800,
          72417,
          17960,
          233642,
          33330,
          57949,
          207796,
          9823,
          13436,
          13158,
          62445,
          31121,
          37855,
          13989,
          23488,
          130718,
          58579,
          57676,
          27642,
          85312,
          20077,
          99319,
          13535,
          55102,
          34801,
          12195,
          8609,
          14210,
          28280,
          25624,
          41896,
          67988,
          15022,
          23704,
          12465,
          70069,
          7329,
          9805,
          10249,
          35557,
          32879,
          54198,
          43401,
          23988,
          41750,
          48060,
          32575,
          21581,
          67132,
          14947,
          27849,
          10156,
          44352,
          20263,
          12798,
          15666,
          295119,
          21595,
          10585,
          40696,
          77888,
          20542,
          26140,
          17950,
          7227,
          6348,
          10764,
          36747,
          24272,
          8166,
          14042,
          14697,
          6598,
          16457,
          50131,
          30932,
          52269,
          15227,
          84320,
          46888,
          75982,
          17050,
          17702,
          5846,
          6200,
          20924,
          12544,
          42708,
          18627,
          31376,
          27472,
          9155,
          256998,
          122208,
          21775,
          12298,
          25370,
          39204,
          15017,
          8976,
          52283,
          28682,
          229119,
          52079,
          119043,
          17045,
          8286,
          66571,
          16236,
          9847,
          10656,
          5727,
          12295,
          33714,
          400069,
          8631,
          14572,
          21190,
          18289,
          46222,
          8976,
          46181,
          25151,
          8475,
          20024,
          4872,
          33772,
          10926,
          5899,
          19587,
          12373,
          104712,
          105359,
          15451,
          86063,
          29572,
          21096,
          4389,
          4840,
          9656,
          43363,
          40672,
          50119,
          16487,
          12738,
          264647,
          21327,
          15316,
          27007,
          141170,
          212178,
          43591,
          14615,
          22135,
          1047883,
          15504,
          12862,
          75929,
          40104,
          75878,
          7782,
          28162,
          18492,
          16684,
          13325,
          8145,
          8374,
          144114,
          10509,
          5677,
          21523,
          59760,
          10276,
          16058,
          118809,
          38391,
          16688,
          29283,
          177682,
          26015,
          10418,
          24092,
          30092,
          6968,
          6754,
          191664,
          9425,
          7394,
          203376,
          127236,
          48941,
          10573,
          21829,
          7502,
          29411,
          23964,
          15983,
          307823,
          57981,
          36811,
          31723,
          41976,
          10922,
          6802,
          5866,
          93897,
          13860,
          11650,
          56687,
          25553,
          11634,
          16243,
          27828,
          18221,
          6570,
          20153,
          12618,
          34832,
          39750,
          22984,
          14818,
          6442,
          40633,
          52020,
          102532,
          15331,
          7290,
          9105,
          64751,
          28617,
          60075,
          23312,
          99039,
          24560,
          78523,
          30645,
          14220,
          23280,
          40366,
          25530,
          7469,
          56897,
          31423,
          14871,
          111054,
          118913,
          11165,
          72372,
          23587,
          11344,
          34412,
          22837,
          23606,
          89160,
          119791,
          98952,
          120730,
          12792,
          6106,
          36429,
          38891,
          27265,
          24301,
          251799,
          8854,
          297822,
          12347,
          19114,
          13518,
          339464,
          49275,
          236214,
          48095,
          29382,
          224403,
          36926,
          10393,
          9843,
          21982,
          10301,
          28433,
          23834,
          12468,
          33187,
          6788,
          23701,
          14690,
          33249,
          8483,
          58166
         ],
         "yaxis": "y"
        }
       ],
       "layout": {
        "height": 300,
        "legend": {
         "tracegroupgap": 0
        },
        "template": {
         "data": {
          "bar": [
           {
            "error_x": {
             "color": "#2a3f5f"
            },
            "error_y": {
             "color": "#2a3f5f"
            },
            "marker": {
             "line": {
              "color": "#E5ECF6",
              "width": 0.5
             }
            },
            "type": "bar"
           }
          ],
          "barpolar": [
           {
            "marker": {
             "line": {
              "color": "#E5ECF6",
              "width": 0.5
             }
            },
            "type": "barpolar"
           }
          ],
          "carpet": [
           {
            "aaxis": {
             "endlinecolor": "#2a3f5f",
             "gridcolor": "white",
             "linecolor": "white",
             "minorgridcolor": "white",
             "startlinecolor": "#2a3f5f"
            },
            "baxis": {
             "endlinecolor": "#2a3f5f",
             "gridcolor": "white",
             "linecolor": "white",
             "minorgridcolor": "white",
             "startlinecolor": "#2a3f5f"
            },
            "type": "carpet"
           }
          ],
          "choropleth": [
           {
            "colorbar": {
             "outlinewidth": 0,
             "ticks": ""
            },
            "type": "choropleth"
           }
          ],
          "contour": [
           {
            "colorbar": {
             "outlinewidth": 0,
             "ticks": ""
            },
            "colorscale": [
             [
              0,
              "#0d0887"
             ],
             [
              0.1111111111111111,
              "#46039f"
             ],
             [
              0.2222222222222222,
              "#7201a8"
             ],
             [
              0.3333333333333333,
              "#9c179e"
             ],
             [
              0.4444444444444444,
              "#bd3786"
             ],
             [
              0.5555555555555556,
              "#d8576b"
             ],
             [
              0.6666666666666666,
              "#ed7953"
             ],
             [
              0.7777777777777778,
              "#fb9f3a"
             ],
             [
              0.8888888888888888,
              "#fdca26"
             ],
             [
              1,
              "#f0f921"
             ]
            ],
            "type": "contour"
           }
          ],
          "contourcarpet": [
           {
            "colorbar": {
             "outlinewidth": 0,
             "ticks": ""
            },
            "type": "contourcarpet"
           }
          ],
          "heatmap": [
           {
            "colorbar": {
             "outlinewidth": 0,
             "ticks": ""
            },
            "colorscale": [
             [
              0,
              "#0d0887"
             ],
             [
              0.1111111111111111,
              "#46039f"
             ],
             [
              0.2222222222222222,
              "#7201a8"
             ],
             [
              0.3333333333333333,
              "#9c179e"
             ],
             [
              0.4444444444444444,
              "#bd3786"
             ],
             [
              0.5555555555555556,
              "#d8576b"
             ],
             [
              0.6666666666666666,
              "#ed7953"
             ],
             [
              0.7777777777777778,
              "#fb9f3a"
             ],
             [
              0.8888888888888888,
              "#fdca26"
             ],
             [
              1,
              "#f0f921"
             ]
            ],
            "type": "heatmap"
           }
          ],
          "heatmapgl": [
           {
            "colorbar": {
             "outlinewidth": 0,
             "ticks": ""
            },
            "colorscale": [
             [
              0,
              "#0d0887"
             ],
             [
              0.1111111111111111,
              "#46039f"
             ],
             [
              0.2222222222222222,
              "#7201a8"
             ],
             [
              0.3333333333333333,
              "#9c179e"
             ],
             [
              0.4444444444444444,
              "#bd3786"
             ],
             [
              0.5555555555555556,
              "#d8576b"
             ],
             [
              0.6666666666666666,
              "#ed7953"
             ],
             [
              0.7777777777777778,
              "#fb9f3a"
             ],
             [
              0.8888888888888888,
              "#fdca26"
             ],
             [
              1,
              "#f0f921"
             ]
            ],
            "type": "heatmapgl"
           }
          ],
          "histogram": [
           {
            "marker": {
             "colorbar": {
              "outlinewidth": 0,
              "ticks": ""
             }
            },
            "type": "histogram"
           }
          ],
          "histogram2d": [
           {
            "colorbar": {
             "outlinewidth": 0,
             "ticks": ""
            },
            "colorscale": [
             [
              0,
              "#0d0887"
             ],
             [
              0.1111111111111111,
              "#46039f"
             ],
             [
              0.2222222222222222,
              "#7201a8"
             ],
             [
              0.3333333333333333,
              "#9c179e"
             ],
             [
              0.4444444444444444,
              "#bd3786"
             ],
             [
              0.5555555555555556,
              "#d8576b"
             ],
             [
              0.6666666666666666,
              "#ed7953"
             ],
             [
              0.7777777777777778,
              "#fb9f3a"
             ],
             [
              0.8888888888888888,
              "#fdca26"
             ],
             [
              1,
              "#f0f921"
             ]
            ],
            "type": "histogram2d"
           }
          ],
          "histogram2dcontour": [
           {
            "colorbar": {
             "outlinewidth": 0,
             "ticks": ""
            },
            "colorscale": [
             [
              0,
              "#0d0887"
             ],
             [
              0.1111111111111111,
              "#46039f"
             ],
             [
              0.2222222222222222,
              "#7201a8"
             ],
             [
              0.3333333333333333,
              "#9c179e"
             ],
             [
              0.4444444444444444,
              "#bd3786"
             ],
             [
              0.5555555555555556,
              "#d8576b"
             ],
             [
              0.6666666666666666,
              "#ed7953"
             ],
             [
              0.7777777777777778,
              "#fb9f3a"
             ],
             [
              0.8888888888888888,
              "#fdca26"
             ],
             [
              1,
              "#f0f921"
             ]
            ],
            "type": "histogram2dcontour"
           }
          ],
          "mesh3d": [
           {
            "colorbar": {
             "outlinewidth": 0,
             "ticks": ""
            },
            "type": "mesh3d"
           }
          ],
          "parcoords": [
           {
            "line": {
             "colorbar": {
              "outlinewidth": 0,
              "ticks": ""
             }
            },
            "type": "parcoords"
           }
          ],
          "pie": [
           {
            "automargin": true,
            "type": "pie"
           }
          ],
          "scatter": [
           {
            "marker": {
             "colorbar": {
              "outlinewidth": 0,
              "ticks": ""
             }
            },
            "type": "scatter"
           }
          ],
          "scatter3d": [
           {
            "line": {
             "colorbar": {
              "outlinewidth": 0,
              "ticks": ""
             }
            },
            "marker": {
             "colorbar": {
              "outlinewidth": 0,
              "ticks": ""
             }
            },
            "type": "scatter3d"
           }
          ],
          "scattercarpet": [
           {
            "marker": {
             "colorbar": {
              "outlinewidth": 0,
              "ticks": ""
             }
            },
            "type": "scattercarpet"
           }
          ],
          "scattergeo": [
           {
            "marker": {
             "colorbar": {
              "outlinewidth": 0,
              "ticks": ""
             }
            },
            "type": "scattergeo"
           }
          ],
          "scattergl": [
           {
            "marker": {
             "colorbar": {
              "outlinewidth": 0,
              "ticks": ""
             }
            },
            "type": "scattergl"
           }
          ],
          "scattermapbox": [
           {
            "marker": {
             "colorbar": {
              "outlinewidth": 0,
              "ticks": ""
             }
            },
            "type": "scattermapbox"
           }
          ],
          "scatterpolar": [
           {
            "marker": {
             "colorbar": {
              "outlinewidth": 0,
              "ticks": ""
             }
            },
            "type": "scatterpolar"
           }
          ],
          "scatterpolargl": [
           {
            "marker": {
             "colorbar": {
              "outlinewidth": 0,
              "ticks": ""
             }
            },
            "type": "scatterpolargl"
           }
          ],
          "scatterternary": [
           {
            "marker": {
             "colorbar": {
              "outlinewidth": 0,
              "ticks": ""
             }
            },
            "type": "scatterternary"
           }
          ],
          "surface": [
           {
            "colorbar": {
             "outlinewidth": 0,
             "ticks": ""
            },
            "colorscale": [
             [
              0,
              "#0d0887"
             ],
             [
              0.1111111111111111,
              "#46039f"
             ],
             [
              0.2222222222222222,
              "#7201a8"
             ],
             [
              0.3333333333333333,
              "#9c179e"
             ],
             [
              0.4444444444444444,
              "#bd3786"
             ],
             [
              0.5555555555555556,
              "#d8576b"
             ],
             [
              0.6666666666666666,
              "#ed7953"
             ],
             [
              0.7777777777777778,
              "#fb9f3a"
             ],
             [
              0.8888888888888888,
              "#fdca26"
             ],
             [
              1,
              "#f0f921"
             ]
            ],
            "type": "surface"
           }
          ],
          "table": [
           {
            "cells": {
             "fill": {
              "color": "#EBF0F8"
             },
             "line": {
              "color": "white"
             }
            },
            "header": {
             "fill": {
              "color": "#C8D4E3"
             },
             "line": {
              "color": "white"
             }
            },
            "type": "table"
           }
          ]
         },
         "layout": {
          "annotationdefaults": {
           "arrowcolor": "#2a3f5f",
           "arrowhead": 0,
           "arrowwidth": 1
          },
          "coloraxis": {
           "colorbar": {
            "outlinewidth": 0,
            "ticks": ""
           }
          },
          "colorscale": {
           "diverging": [
            [
             0,
             "#8e0152"
            ],
            [
             0.1,
             "#c51b7d"
            ],
            [
             0.2,
             "#de77ae"
            ],
            [
             0.3,
             "#f1b6da"
            ],
            [
             0.4,
             "#fde0ef"
            ],
            [
             0.5,
             "#f7f7f7"
            ],
            [
             0.6,
             "#e6f5d0"
            ],
            [
             0.7,
             "#b8e186"
            ],
            [
             0.8,
             "#7fbc41"
            ],
            [
             0.9,
             "#4d9221"
            ],
            [
             1,
             "#276419"
            ]
           ],
           "sequential": [
            [
             0,
             "#0d0887"
            ],
            [
             0.1111111111111111,
             "#46039f"
            ],
            [
             0.2222222222222222,
             "#7201a8"
            ],
            [
             0.3333333333333333,
             "#9c179e"
            ],
            [
             0.4444444444444444,
             "#bd3786"
            ],
            [
             0.5555555555555556,
             "#d8576b"
            ],
            [
             0.6666666666666666,
             "#ed7953"
            ],
            [
             0.7777777777777778,
             "#fb9f3a"
            ],
            [
             0.8888888888888888,
             "#fdca26"
            ],
            [
             1,
             "#f0f921"
            ]
           ],
           "sequentialminus": [
            [
             0,
             "#0d0887"
            ],
            [
             0.1111111111111111,
             "#46039f"
            ],
            [
             0.2222222222222222,
             "#7201a8"
            ],
            [
             0.3333333333333333,
             "#9c179e"
            ],
            [
             0.4444444444444444,
             "#bd3786"
            ],
            [
             0.5555555555555556,
             "#d8576b"
            ],
            [
             0.6666666666666666,
             "#ed7953"
            ],
            [
             0.7777777777777778,
             "#fb9f3a"
            ],
            [
             0.8888888888888888,
             "#fdca26"
            ],
            [
             1,
             "#f0f921"
            ]
           ]
          },
          "colorway": [
           "#636efa",
           "#EF553B",
           "#00cc96",
           "#ab63fa",
           "#FFA15A",
           "#19d3f3",
           "#FF6692",
           "#B6E880",
           "#FF97FF",
           "#FECB52"
          ],
          "font": {
           "color": "#2a3f5f"
          },
          "geo": {
           "bgcolor": "white",
           "lakecolor": "white",
           "landcolor": "#E5ECF6",
           "showlakes": true,
           "showland": true,
           "subunitcolor": "white"
          },
          "hoverlabel": {
           "align": "left"
          },
          "hovermode": "closest",
          "mapbox": {
           "style": "light"
          },
          "paper_bgcolor": "white",
          "plot_bgcolor": "#E5ECF6",
          "polar": {
           "angularaxis": {
            "gridcolor": "white",
            "linecolor": "white",
            "ticks": ""
           },
           "bgcolor": "#E5ECF6",
           "radialaxis": {
            "gridcolor": "white",
            "linecolor": "white",
            "ticks": ""
           }
          },
          "scene": {
           "xaxis": {
            "backgroundcolor": "#E5ECF6",
            "gridcolor": "white",
            "gridwidth": 2,
            "linecolor": "white",
            "showbackground": true,
            "ticks": "",
            "zerolinecolor": "white"
           },
           "yaxis": {
            "backgroundcolor": "#E5ECF6",
            "gridcolor": "white",
            "gridwidth": 2,
            "linecolor": "white",
            "showbackground": true,
            "ticks": "",
            "zerolinecolor": "white"
           },
           "zaxis": {
            "backgroundcolor": "#E5ECF6",
            "gridcolor": "white",
            "gridwidth": 2,
            "linecolor": "white",
            "showbackground": true,
            "ticks": "",
            "zerolinecolor": "white"
           }
          },
          "shapedefaults": {
           "line": {
            "color": "#2a3f5f"
           }
          },
          "ternary": {
           "aaxis": {
            "gridcolor": "white",
            "linecolor": "white",
            "ticks": ""
           },
           "baxis": {
            "gridcolor": "white",
            "linecolor": "white",
            "ticks": ""
           },
           "bgcolor": "#E5ECF6",
           "caxis": {
            "gridcolor": "white",
            "linecolor": "white",
            "ticks": ""
           }
          },
          "title": {
           "x": 0.05
          },
          "xaxis": {
           "automargin": true,
           "gridcolor": "white",
           "linecolor": "white",
           "ticks": "",
           "title": {
            "standoff": 15
           },
           "zerolinecolor": "white",
           "zerolinewidth": 2
          },
          "yaxis": {
           "automargin": true,
           "gridcolor": "white",
           "linecolor": "white",
           "ticks": "",
           "title": {
            "standoff": 15
           },
           "zerolinecolor": "white",
           "zerolinewidth": 2
          }
         }
        },
        "title": {
         "text": "MarketCap vs. PERatio"
        },
        "xaxis": {
         "anchor": "y",
         "domain": [
          0,
          1
         ],
         "title": {
          "text": "PERatio"
         }
        },
        "yaxis": {
         "anchor": "x",
         "domain": [
          0,
          1
         ],
         "title": {
          "text": "MarketCap"
         }
        }
       }
      },
      "text/html": [
       "<div>\n",
       "        \n",
       "        \n",
       "            <div id=\"6e3cc917-7e01-4649-a61a-c6bf2476f2a1\" class=\"plotly-graph-div\" style=\"height:300px; width:100%;\"></div>\n",
       "            <script type=\"text/javascript\">\n",
       "                require([\"plotly\"], function(Plotly) {\n",
       "                    window.PLOTLYENV=window.PLOTLYENV || {};\n",
       "                    \n",
       "                if (document.getElementById(\"6e3cc917-7e01-4649-a61a-c6bf2476f2a1\")) {\n",
       "                    Plotly.newPlot(\n",
       "                        '6e3cc917-7e01-4649-a61a-c6bf2476f2a1',\n",
       "                        [{\"hoverlabel\": {\"namelength\": 0}, \"hovertemplate\": \"PERatio=%{x}<br>MarketCap=%{y}\", \"legendgroup\": \"\", \"marker\": {\"color\": \"#636efa\", \"symbol\": \"circle\"}, \"mode\": \"markers\", \"name\": \"\", \"showlegend\": false, \"type\": \"scatter\", \"x\": [20.0, 28.5, 24.6, 24.9, 27.4, 28.7, 12.7, 22.2, 27.1, 16.8, 13.1, 45.0, 22.5, 7.6, 24.8, 13.9, 13.9, 23.7, 8.5, 23.6, 14.1, 67.9, 37.9, 10.4, 19.0, 24.8, 16.0, 25.8, 25.8, 34.2, 20.3, 23.9, 20.6, 16.7, 23.7, 17.4, 30.2, 24.1, 21.5, 26.7, 15.8, 30.3, 33.5, 62.2, 45.6, 11.5, 12.1, 29.0, 13.3, 86.5, 12.8, 17.5, 11.7, 51.2, 10.8, 38.3, 14.4, 37.8, 29.6, 37.7, 17.7, 9.4, 53.9, 8.0, 11.1, 9.9, 12.7, 31.4, 4.4, 16.9, 25.9, 37.1, 22.6, 15.2, 15.2, 18.3, 30.7, 7.2, 15.2, 17.9, 9.6, 9.6, 26.1, 23.3, 39.3, 30.7, 30.2, 16.7, 25.7, 17.2, 8.2, 19.3, 25.8, 9.0, 22.1, 47.9, 31.2, 16.9, 35.7, 70.6, 17.2, 10.7, 18.4, 12.6, 40.0, 19.0, 16.8, 7.5, 112.8, 2.6, 13.9, 124.4, 9.1, 26.1, 55.5, 23.1, 21.3, 53.1, 21.2, 6.6, 9.9, 11.4, 16.4, 15.1, 36.3, 19.8, 23.3, 11.6, 93.3, 40.4, 52.8, 37.9, 26.9, 31.7, 19.6, 19.5, 33.3, 20.3, 34.1, 16.8, 27.6, 42.4, 91.4, 54.6, 9.1, 23.3, 20.7, 26.1, 30.6, 21.2, 16.7, 9.3, 20.2, 10.3, 22.8, 7.1, 22.1, 14.9, 16.4, 5.8, 19.0, 14.3, 50.7, 9.4, 21.2, 14.9, 10.4, 15.3, 12.8, 48.0, 11.8, 18.4, 25.1, 29.9, 10.3, 23.3, 19.6, 22.1, 11.4, 6.2, 15.8, 11.3, 13.4, 21.6, 20.3, 11.9, 26.1, 15.5, 10.9, 12.6, 42.7, 14.8, 33.7, 39.3, 50.1, 22.9, 67.1, 12.3, 17.5, 25.5, 24.7, 11.2, 22.9, 26.4, 22.5, 21.0, 11.7, 12.2, 8.4, 16.2, 23.0, 20.7, 10.2, 8.6, 19.3, 17.6, 20.9, 34.8, 9.2, 11.3, 37.7, 4.7, 10.2, 14.1, 28.0, 33.8, 32.7, 18.0, 40.0, 30.2, 18.7, 48.4, 31.9, 23.0, 7.6, 79.9, 59.2, 26.9, 65.6, 14.4, 20.6, 32.5, 9.7, 30.2, 26.9, 32.4, 31.8, 14.1, 52.2, 53.7, 33.6, 92.3, 12.0, 15.1, 17.2, 22.3, 9.0, 43.3, 8.5, 12.8, 23.3, 17.2, 10.7, 13.2, 16.1, 28.6, 20.1, 12.8, 15.6, 37.2, 84.4, 16.5, 17.0, 9.4, 21.0, 24.5, 17.7, 24.4, 13.5, 10.7, 76.4, 32.5, 9.2, 21.6, 28.7, 12.1, 10.2, 18.6, 27.1, 19.0, 11.6, 18.7, 61.3, 40.5, 10.8, 26.7, 44.9, 14.6, 19.9, 62.0, 30.9, 24.8, 12.4, 7.8, 17.8, 21.0, 37.2, 22.1, 16.9, 39.4, 13.1, 14.5, 12.3, 30.7, 32.2, 28.9, 12.9, 22.2, 12.6, 124.6, 6.4, 24.3, 13.4, 11.7, 18.3, 10.0, 54.6, 21.7, 33.6, 20.0, 23.7, 38.9, 21.0, 14.7, 12.6, 86.3, 13.0, 19.9, 19.9, 23.4, 16.4, 11.8, 31.6, 15.4, 52.4, 40.8, 15.9, 5.4, 32.9, 4.3, 33.9, 38.9, 26.8, 10.7, 16.5, 27.4, 26.8, 10.9, 101.5, 8.8, 11.7, 6415.2, 9.7, 309.1, 28.4, 15.0, 26.3, 13.5, 25.2, 25.6, 25.5, 10.6, 42.5], \"xaxis\": \"x\", \"y\": [97084.0, 114951.0, 117278.0, 42033.0, 11787.0, 11371.0, 38847.0, 23203.0, 46287.0, 8494.0, 7149.0, 17980.0, 9745.0, 6323.0, 12740.0, 35611.0, 87333.0, 18941.0, 12596.0, 46633.0, 96648.0, 100055.0, 22028.0, 18775.0, 17843.0, 20322.0, 121931.0, 30217.0, 38998.0, 45149.0, 7035.0, 8143.0, 1098974.0, 46677.0, 22895.0, 22685.0, 11990.0, 16774.0, 7734.0, 13357.0, 275766.0, 69409.0, 30938.0, 22348.0, 23598.0, 292466.0, 44050.0, 44903.0, 40982.0, 67920.0, 18995.0, 70649.0, 4939.0, 191602.0, 8256.0, 20243.0, 89591.0, 111194.0, 14089.0, 30896.0, 12054.0, 7748.0, 14396.0, 43642.0, 14626.0, 23181.0, 76140.0, 12735.0, 13671.0, 15066.0, 14865.0, 21513.0, 10003.0, 54078.0, 223975.0, 68435.0, 18601.0, 4521.0, 18613.0, 199740.0, 163668.0, 16086.0, 13570.0, 18800.0, 72417.0, 17960.0, 233642.0, 33330.0, 57949.0, 207796.0, 9823.0, 13436.0, 13158.0, 62445.0, 31121.0, 37855.0, 13989.0, 23488.0, 130718.0, 58579.0, 57676.0, 27642.0, 85312.0, 20077.0, 99319.0, 13535.0, 55102.0, 34801.0, 12195.0, 8609.0, 14210.0, 28280.0, 25624.0, 41896.0, 67988.0, 15022.0, 23704.0, 12465.0, 70069.0, 7329.0, 9805.0, 10249.0, 35557.0, 32879.0, 54198.0, 43401.0, 23988.0, 41750.0, 48060.0, 32575.0, 21581.0, 67132.0, 14947.0, 27849.0, 10156.0, 44352.0, 20263.0, 12798.0, 15666.0, 295119.0, 21595.0, 10585.0, 40696.0, 77888.0, 20542.0, 26140.0, 17950.0, 7227.0, 6348.0, 10764.0, 36747.0, 24272.0, 8166.0, 14042.0, 14697.0, 6598.0, 16457.0, 50131.0, 30932.0, 52269.0, 15227.0, 84320.0, 46888.0, 75982.0, 17050.0, 17702.0, 5846.0, 6200.0, 20924.0, 12544.0, 42708.0, 18627.0, 31376.0, 27472.0, 9155.0, 256998.0, 122208.0, 21775.0, 12298.0, 25370.0, 39204.0, 15017.0, 8976.0, 52283.0, 28682.0, 229119.0, 52079.0, 119043.0, 17045.0, 8286.0, 66571.0, 16236.0, 9847.0, 10656.0, 5727.0, 12295.0, 33714.0, 400069.0, 8631.0, 14572.0, 21190.0, 18289.0, 46222.0, 8976.0, 46181.0, 25151.0, 8475.0, 20024.0, 4872.0, 33772.0, 10926.0, 5899.0, 19587.0, 12373.0, 104712.0, 105359.0, 15451.0, 86063.0, 29572.0, 21096.0, 4389.0, 4840.0, 9656.0, 43363.0, 40672.0, 50119.0, 16487.0, 12738.0, 264647.0, 21327.0, 15316.0, 27007.0, 141170.0, 212178.0, 43591.0, 14615.0, 22135.0, 1047883.0, 15504.0, 12862.0, 75929.0, 40104.0, 75878.0, 7782.0, 28162.0, 18492.0, 16684.0, 13325.0, 8145.0, 8374.0, 144114.0, 10509.0, 5677.0, 21523.0, 59760.0, 10276.0, 16058.0, 118809.0, 38391.0, 16688.0, 29283.0, 177682.0, 26015.0, 10418.0, 24092.0, 30092.0, 6968.0, 6754.0, 191664.0, 9425.0, 7394.0, 203376.0, 127236.0, 48941.0, 10573.0, 21829.0, 7502.0, 29411.0, 23964.0, 15983.0, 307823.0, 57981.0, 36811.0, 31723.0, 41976.0, 10922.0, 6802.0, 5866.0, 93897.0, 13860.0, 11650.0, 56687.0, 25553.0, 11634.0, 16243.0, 27828.0, 18221.0, 6570.0, 20153.0, 12618.0, 34832.0, 39750.0, 22984.0, 14818.0, 6442.0, 40633.0, 52020.0, 102532.0, 15331.0, 7290.0, 9105.0, 64751.0, 28617.0, 60075.0, 23312.0, 99039.0, 24560.0, 78523.0, 30645.0, 14220.0, 23280.0, 40366.0, 25530.0, 7469.0, 56897.0, 31423.0, 14871.0, 111054.0, 118913.0, 11165.0, 72372.0, 23587.0, 11344.0, 34412.0, 22837.0, 23606.0, 89160.0, 119791.0, 98952.0, 120730.0, 12792.0, 6106.0, 36429.0, 38891.0, 27265.0, 24301.0, 251799.0, 8854.0, 297822.0, 12347.0, 19114.0, 13518.0, 339464.0, 49275.0, 236214.0, 48095.0, 29382.0, 224403.0, 36926.0, 10393.0, 9843.0, 21982.0, 10301.0, 28433.0, 23834.0, 12468.0, 33187.0, 6788.0, 23701.0, 14690.0, 33249.0, 8483.0, 58166.0], \"yaxis\": \"y\"}],\n",
       "                        {\"height\": 300, \"legend\": {\"tracegroupgap\": 0}, \"template\": {\"data\": {\"bar\": [{\"error_x\": {\"color\": \"#2a3f5f\"}, \"error_y\": {\"color\": \"#2a3f5f\"}, \"marker\": {\"line\": {\"color\": \"#E5ECF6\", \"width\": 0.5}}, \"type\": \"bar\"}], \"barpolar\": [{\"marker\": {\"line\": {\"color\": \"#E5ECF6\", \"width\": 0.5}}, \"type\": \"barpolar\"}], \"carpet\": [{\"aaxis\": {\"endlinecolor\": \"#2a3f5f\", \"gridcolor\": \"white\", \"linecolor\": \"white\", \"minorgridcolor\": \"white\", \"startlinecolor\": \"#2a3f5f\"}, \"baxis\": {\"endlinecolor\": \"#2a3f5f\", \"gridcolor\": \"white\", \"linecolor\": \"white\", \"minorgridcolor\": \"white\", \"startlinecolor\": \"#2a3f5f\"}, \"type\": \"carpet\"}], \"choropleth\": [{\"colorbar\": {\"outlinewidth\": 0, \"ticks\": \"\"}, \"type\": \"choropleth\"}], \"contour\": [{\"colorbar\": {\"outlinewidth\": 0, \"ticks\": \"\"}, \"colorscale\": [[0.0, \"#0d0887\"], [0.1111111111111111, \"#46039f\"], [0.2222222222222222, \"#7201a8\"], [0.3333333333333333, \"#9c179e\"], [0.4444444444444444, \"#bd3786\"], [0.5555555555555556, \"#d8576b\"], [0.6666666666666666, \"#ed7953\"], [0.7777777777777778, \"#fb9f3a\"], [0.8888888888888888, \"#fdca26\"], [1.0, \"#f0f921\"]], \"type\": \"contour\"}], \"contourcarpet\": [{\"colorbar\": {\"outlinewidth\": 0, \"ticks\": \"\"}, \"type\": \"contourcarpet\"}], \"heatmap\": [{\"colorbar\": {\"outlinewidth\": 0, \"ticks\": \"\"}, \"colorscale\": [[0.0, \"#0d0887\"], [0.1111111111111111, \"#46039f\"], [0.2222222222222222, \"#7201a8\"], [0.3333333333333333, \"#9c179e\"], [0.4444444444444444, \"#bd3786\"], [0.5555555555555556, \"#d8576b\"], [0.6666666666666666, \"#ed7953\"], [0.7777777777777778, \"#fb9f3a\"], [0.8888888888888888, \"#fdca26\"], [1.0, \"#f0f921\"]], \"type\": \"heatmap\"}], \"heatmapgl\": [{\"colorbar\": {\"outlinewidth\": 0, \"ticks\": \"\"}, \"colorscale\": [[0.0, \"#0d0887\"], [0.1111111111111111, \"#46039f\"], [0.2222222222222222, \"#7201a8\"], [0.3333333333333333, \"#9c179e\"], [0.4444444444444444, \"#bd3786\"], [0.5555555555555556, \"#d8576b\"], [0.6666666666666666, \"#ed7953\"], [0.7777777777777778, \"#fb9f3a\"], [0.8888888888888888, \"#fdca26\"], [1.0, \"#f0f921\"]], \"type\": \"heatmapgl\"}], \"histogram\": [{\"marker\": {\"colorbar\": {\"outlinewidth\": 0, \"ticks\": \"\"}}, \"type\": \"histogram\"}], \"histogram2d\": [{\"colorbar\": {\"outlinewidth\": 0, \"ticks\": \"\"}, \"colorscale\": [[0.0, \"#0d0887\"], [0.1111111111111111, \"#46039f\"], [0.2222222222222222, \"#7201a8\"], [0.3333333333333333, \"#9c179e\"], [0.4444444444444444, \"#bd3786\"], [0.5555555555555556, \"#d8576b\"], [0.6666666666666666, \"#ed7953\"], [0.7777777777777778, \"#fb9f3a\"], [0.8888888888888888, \"#fdca26\"], [1.0, \"#f0f921\"]], \"type\": \"histogram2d\"}], \"histogram2dcontour\": [{\"colorbar\": {\"outlinewidth\": 0, \"ticks\": \"\"}, \"colorscale\": [[0.0, \"#0d0887\"], [0.1111111111111111, \"#46039f\"], [0.2222222222222222, \"#7201a8\"], [0.3333333333333333, \"#9c179e\"], [0.4444444444444444, \"#bd3786\"], [0.5555555555555556, \"#d8576b\"], [0.6666666666666666, \"#ed7953\"], [0.7777777777777778, \"#fb9f3a\"], [0.8888888888888888, \"#fdca26\"], [1.0, \"#f0f921\"]], \"type\": \"histogram2dcontour\"}], \"mesh3d\": [{\"colorbar\": {\"outlinewidth\": 0, \"ticks\": \"\"}, \"type\": \"mesh3d\"}], \"parcoords\": [{\"line\": {\"colorbar\": {\"outlinewidth\": 0, \"ticks\": \"\"}}, \"type\": \"parcoords\"}], \"pie\": [{\"automargin\": true, \"type\": \"pie\"}], \"scatter\": [{\"marker\": {\"colorbar\": {\"outlinewidth\": 0, \"ticks\": \"\"}}, \"type\": \"scatter\"}], \"scatter3d\": [{\"line\": {\"colorbar\": {\"outlinewidth\": 0, \"ticks\": \"\"}}, \"marker\": {\"colorbar\": {\"outlinewidth\": 0, \"ticks\": \"\"}}, \"type\": \"scatter3d\"}], \"scattercarpet\": [{\"marker\": {\"colorbar\": {\"outlinewidth\": 0, \"ticks\": \"\"}}, \"type\": \"scattercarpet\"}], \"scattergeo\": [{\"marker\": {\"colorbar\": {\"outlinewidth\": 0, \"ticks\": \"\"}}, \"type\": \"scattergeo\"}], \"scattergl\": [{\"marker\": {\"colorbar\": {\"outlinewidth\": 0, \"ticks\": \"\"}}, \"type\": \"scattergl\"}], \"scattermapbox\": [{\"marker\": {\"colorbar\": {\"outlinewidth\": 0, \"ticks\": \"\"}}, \"type\": \"scattermapbox\"}], \"scatterpolar\": [{\"marker\": {\"colorbar\": {\"outlinewidth\": 0, \"ticks\": \"\"}}, \"type\": \"scatterpolar\"}], \"scatterpolargl\": [{\"marker\": {\"colorbar\": {\"outlinewidth\": 0, \"ticks\": \"\"}}, \"type\": \"scatterpolargl\"}], \"scatterternary\": [{\"marker\": {\"colorbar\": {\"outlinewidth\": 0, \"ticks\": \"\"}}, \"type\": \"scatterternary\"}], \"surface\": [{\"colorbar\": {\"outlinewidth\": 0, \"ticks\": \"\"}, \"colorscale\": [[0.0, \"#0d0887\"], [0.1111111111111111, \"#46039f\"], [0.2222222222222222, \"#7201a8\"], [0.3333333333333333, \"#9c179e\"], [0.4444444444444444, \"#bd3786\"], [0.5555555555555556, \"#d8576b\"], [0.6666666666666666, \"#ed7953\"], [0.7777777777777778, \"#fb9f3a\"], [0.8888888888888888, \"#fdca26\"], [1.0, \"#f0f921\"]], \"type\": \"surface\"}], \"table\": [{\"cells\": {\"fill\": {\"color\": \"#EBF0F8\"}, \"line\": {\"color\": \"white\"}}, \"header\": {\"fill\": {\"color\": \"#C8D4E3\"}, \"line\": {\"color\": \"white\"}}, \"type\": \"table\"}]}, \"layout\": {\"annotationdefaults\": {\"arrowcolor\": \"#2a3f5f\", \"arrowhead\": 0, \"arrowwidth\": 1}, \"coloraxis\": {\"colorbar\": {\"outlinewidth\": 0, \"ticks\": \"\"}}, \"colorscale\": {\"diverging\": [[0, \"#8e0152\"], [0.1, \"#c51b7d\"], [0.2, \"#de77ae\"], [0.3, \"#f1b6da\"], [0.4, \"#fde0ef\"], [0.5, \"#f7f7f7\"], [0.6, \"#e6f5d0\"], [0.7, \"#b8e186\"], [0.8, \"#7fbc41\"], [0.9, \"#4d9221\"], [1, \"#276419\"]], \"sequential\": [[0.0, \"#0d0887\"], [0.1111111111111111, \"#46039f\"], [0.2222222222222222, \"#7201a8\"], [0.3333333333333333, \"#9c179e\"], [0.4444444444444444, \"#bd3786\"], [0.5555555555555556, \"#d8576b\"], [0.6666666666666666, \"#ed7953\"], [0.7777777777777778, \"#fb9f3a\"], [0.8888888888888888, \"#fdca26\"], [1.0, \"#f0f921\"]], \"sequentialminus\": [[0.0, \"#0d0887\"], [0.1111111111111111, \"#46039f\"], [0.2222222222222222, \"#7201a8\"], [0.3333333333333333, \"#9c179e\"], [0.4444444444444444, \"#bd3786\"], [0.5555555555555556, \"#d8576b\"], [0.6666666666666666, \"#ed7953\"], [0.7777777777777778, \"#fb9f3a\"], [0.8888888888888888, \"#fdca26\"], [1.0, \"#f0f921\"]]}, \"colorway\": [\"#636efa\", \"#EF553B\", \"#00cc96\", \"#ab63fa\", \"#FFA15A\", \"#19d3f3\", \"#FF6692\", \"#B6E880\", \"#FF97FF\", \"#FECB52\"], \"font\": {\"color\": \"#2a3f5f\"}, \"geo\": {\"bgcolor\": \"white\", \"lakecolor\": \"white\", \"landcolor\": \"#E5ECF6\", \"showlakes\": true, \"showland\": true, \"subunitcolor\": \"white\"}, \"hoverlabel\": {\"align\": \"left\"}, \"hovermode\": \"closest\", \"mapbox\": {\"style\": \"light\"}, \"paper_bgcolor\": \"white\", \"plot_bgcolor\": \"#E5ECF6\", \"polar\": {\"angularaxis\": {\"gridcolor\": \"white\", \"linecolor\": \"white\", \"ticks\": \"\"}, \"bgcolor\": \"#E5ECF6\", \"radialaxis\": {\"gridcolor\": \"white\", \"linecolor\": \"white\", \"ticks\": \"\"}}, \"scene\": {\"xaxis\": {\"backgroundcolor\": \"#E5ECF6\", \"gridcolor\": \"white\", \"gridwidth\": 2, \"linecolor\": \"white\", \"showbackground\": true, \"ticks\": \"\", \"zerolinecolor\": \"white\"}, \"yaxis\": {\"backgroundcolor\": \"#E5ECF6\", \"gridcolor\": \"white\", \"gridwidth\": 2, \"linecolor\": \"white\", \"showbackground\": true, \"ticks\": \"\", \"zerolinecolor\": \"white\"}, \"zaxis\": {\"backgroundcolor\": \"#E5ECF6\", \"gridcolor\": \"white\", \"gridwidth\": 2, \"linecolor\": \"white\", \"showbackground\": true, \"ticks\": \"\", \"zerolinecolor\": \"white\"}}, \"shapedefaults\": {\"line\": {\"color\": \"#2a3f5f\"}}, \"ternary\": {\"aaxis\": {\"gridcolor\": \"white\", \"linecolor\": \"white\", \"ticks\": \"\"}, \"baxis\": {\"gridcolor\": \"white\", \"linecolor\": \"white\", \"ticks\": \"\"}, \"bgcolor\": \"#E5ECF6\", \"caxis\": {\"gridcolor\": \"white\", \"linecolor\": \"white\", \"ticks\": \"\"}}, \"title\": {\"x\": 0.05}, \"xaxis\": {\"automargin\": true, \"gridcolor\": \"white\", \"linecolor\": \"white\", \"ticks\": \"\", \"title\": {\"standoff\": 15}, \"zerolinecolor\": \"white\", \"zerolinewidth\": 2}, \"yaxis\": {\"automargin\": true, \"gridcolor\": \"white\", \"linecolor\": \"white\", \"ticks\": \"\", \"title\": {\"standoff\": 15}, \"zerolinecolor\": \"white\", \"zerolinewidth\": 2}}}, \"title\": {\"text\": \"MarketCap vs. PERatio\"}, \"xaxis\": {\"anchor\": \"y\", \"domain\": [0.0, 1.0], \"title\": {\"text\": \"PERatio\"}}, \"yaxis\": {\"anchor\": \"x\", \"domain\": [0.0, 1.0], \"title\": {\"text\": \"MarketCap\"}}},\n",
       "                        {\"responsive\": true}\n",
       "                    ).then(function(){\n",
       "                            \n",
       "var gd = document.getElementById('6e3cc917-7e01-4649-a61a-c6bf2476f2a1');\n",
       "var x = new MutationObserver(function (mutations, observer) {{\n",
       "        var display = window.getComputedStyle(gd).display;\n",
       "        if (!display || display === 'none') {{\n",
       "            console.log([gd, 'removed!']);\n",
       "            Plotly.purge(gd);\n",
       "            observer.disconnect();\n",
       "        }}\n",
       "}});\n",
       "\n",
       "// Listen for the removal of the full notebook cells\n",
       "var notebookContainer = gd.closest('#notebook-container');\n",
       "if (notebookContainer) {{\n",
       "    x.observe(notebookContainer, {childList: true});\n",
       "}}\n",
       "\n",
       "// Listen for the clearing of the current output cell\n",
       "var outputEl = gd.closest('.output');\n",
       "if (outputEl) {{\n",
       "    x.observe(outputEl, {childList: true});\n",
       "}}\n",
       "\n",
       "                        })\n",
       "                };\n",
       "                });\n",
       "            </script>\n",
       "        </div>"
      ]
     },
     "metadata": {},
     "output_type": "display_data"
    }
   ],
   "source": [
    "plotly.offline.iplot({\n",
    "    \"data\": [go.Scatter(x=fullData.PERatio, y=fullData.PayoutRatio, mode='markers')],\n",
    "    \"layout\": go.Layout(yaxis_title=\"PayoutRatio\", title=\"PayoutRatio vs. PERatio\", height=300)\n",
    "})\n",
    "px.scatter(fullData,x='PERatio',y='MarketCap',title='MarketCap vs. PERatio',height=300)"
   ]
  },
  {
   "cell_type": "code",
   "execution_count": 12,
   "metadata": {},
   "outputs": [],
   "source": [
    "# it seems we have outliers here, let's get rid of them\n",
    "# applying the Median Absolute Deviation technique\n",
    "# MAD = median|x - median.x|\n",
    "\n",
    "PERatioMAD = np.median(np.abs(fullData['PERatio'] - np.median(fullData['PERatio'])))\n",
    "\n",
    "# We can calculate the Modified Z-score like this:\n",
    "MADZScores = (0.6745 * np.abs(fullData['PERatio'] - np.median(fullData['PERatio'])))/PERatioMAD\n",
    "\n",
    "# Now we can calculate the score for each point of our sample! \n",
    "# As a rule of thumb, we'll use the score of 3.5 as our cut-off value; \n",
    "# This means that every point with a score above 3.5 will be considered an outlier.\n",
    "fullDataNoOutliers = fullData[MADZScores < 3.5]"
   ]
  },
  {
   "cell_type": "code",
   "execution_count": 13,
   "metadata": {},
   "outputs": [
    {
     "data": {
      "application/vnd.plotly.v1+json": {
       "config": {
        "plotlyServerURL": "https://plot.ly"
       },
       "data": [
        {
         "dimensions": [
          {
           "axis": {
            "matches": true
           },
           "label": "Price",
           "values": [
            168.76,
            68.91,
            104.37,
            28.29,
            89,
            50.85,
            27.24,
            340.5,
            89.04,
            135.34,
            72.26,
            175.19,
            175,
            53.81,
            103.29,
            84.66,
            70.56,
            74.97,
            37.66,
            48.4,
            72.34,
            58.38,
            173.56,
            312.44,
            169.85,
            217.16,
            161.63,
            118.73,
            145.85,
            373.09,
            44.01,
            353.2,
            75.11,
            187.49,
            41.47,
            41.25,
            203.55,
            86.76,
            55.89,
            172.24,
            38.53,
            334.92,
            164.93,
            53.24,
            153.63,
            170.03,
            115.15,
            139.91,
            148.63,
            70.52,
            113.37,
            81.6
           ]
          },
          {
           "axis": {
            "matches": true
           },
           "label": "DividendYield",
           "values": [
            3.3,
            1.9,
            0.9,
            1.4,
            0.6,
            1.7,
            0.7,
            2.3,
            2.2,
            2.7,
            1.3,
            2.6,
            1.7,
            2.7,
            1.9,
            3.2,
            2.8,
            1.3,
            2.3,
            1.6,
            0.4,
            1.4,
            2.3,
            1.8,
            1.9,
            1.5,
            2.5,
            1.8,
            1,
            2.4,
            1.1,
            1.4,
            1.7,
            1.7,
            1.7,
            0.3,
            1.8,
            1.7,
            2.1,
            2.2,
            1.1,
            0.5,
            2.3,
            1.2,
            1.7,
            2.1,
            3.3,
            2.1,
            0.3,
            0.7,
            1.8,
            1.1
           ]
          },
          {
           "axis": {
            "matches": true
           },
           "label": "MarketCap",
           "values": [
            97084,
            8494,
            9745,
            12596,
            20322,
            7035,
            11990,
            191602,
            12054,
            76140,
            57676,
            27642,
            55102,
            34801,
            15022,
            35557,
            43401,
            12798,
            21595,
            6348,
            24272,
            8166,
            50131,
            17050,
            122208,
            8976,
            52283,
            28682,
            14572,
            105359,
            12738,
            59760,
            26015,
            24092,
            6968,
            5866,
            56687,
            27828,
            6570,
            20153,
            12618,
            34832,
            9105,
            28617,
            23312,
            119791,
            98952,
            120730,
            24301,
            13518,
            48095,
            14690
           ]
          },
          {
           "axis": {
            "matches": true
           },
           "label": "PERatio",
           "values": [
            20,
            16.8,
            22.5,
            8.5,
            24.8,
            20.3,
            30.2,
            51.2,
            17.7,
            12.7,
            17.2,
            10.7,
            16.8,
            7.5,
            23.1,
            16.4,
            19.8,
            20.3,
            27.6,
            30.6,
            9.3,
            20.2,
            14.9,
            21.2,
            19.6,
            13.4,
            21.6,
            20.3,
            25.5,
            17.6,
            18,
            17.2,
            10.7,
            16.1,
            20.1,
            18.6,
            18.7,
            26.7,
            14.6,
            19.9,
            62,
            30.9,
            13.1,
            12.3,
            32.2,
            19.9,
            19.9,
            23.4,
            40.8,
            38.9,
            27.4,
            25.6
           ]
          },
          {
           "axis": {
            "matches": true
           },
           "label": "PayoutRatio",
           "values": [
            66.3,
            32.7,
            20.7,
            12,
            15.6,
            33.5,
            22.1,
            118.4,
            38.9,
            34,
            22.3,
            27.7,
            28.5,
            20.4,
            43.1,
            53,
            55,
            25.8,
            62.3,
            48.1,
            3.6,
            29,
            34.2,
            37.4,
            37.8,
            20.4,
            53.4,
            36.3,
            25.2,
            41.5,
            19.6,
            23.9,
            18.3,
            27.1,
            34.7,
            5.4,
            33.3,
            46.2,
            30.7,
            44.4,
            65.7,
            16.6,
            30.2,
            15.3,
            55.3,
            41.4,
            65.6,
            49.2,
            13.7,
            26.5,
            48.4,
            28.3
           ]
          },
          {
           "axis": {
            "matches": true
           },
           "label": "Beta",
           "values": [
            1.04,
            0.96,
            0.89,
            1.48,
            1.09,
            0.95,
            1.12,
            1.16,
            0.8,
            1.4,
            1.06,
            1.1,
            1.3,
            1.02,
            1.02,
            1.11,
            1.14,
            1.06,
            1.2,
            1.54,
            1.09,
            1.28,
            0.89,
            1.02,
            0.95,
            0.99,
            1.11,
            0.98,
            1.02,
            0.74,
            1.1,
            0.76,
            1,
            1.32,
            1.14,
            1.16,
            0.75,
            0.43,
            1.29,
            1.21,
            0.8,
            0.98,
            1.01,
            0.88,
            1.54,
            1.14,
            1.08,
            1.06,
            0.82,
            1.09,
            0.5,
            1.1
           ]
          }
         ],
         "hoverlabel": {
          "namelength": 0
         },
         "hovertemplate": "GICSSector=Industrials<br>%{xaxis.title.text}=%{x}<br>%{yaxis.title.text}=%{y}",
         "legendgroup": "GICSSector=Industrials",
         "marker": {
          "color": "#636efa",
          "symbol": "circle"
         },
         "name": "GICSSector=Industrials",
         "showlegend": true,
         "type": "splom"
        },
        {
         "dimensions": [
          {
           "axis": {
            "matches": true
           },
           "label": "Price",
           "values": [
            77.75,
            74.98,
            85.65,
            203.32,
            87.95,
            54.77,
            50.02,
            67.57,
            282.2,
            65.6,
            138.45,
            66.58,
            125.25,
            290.21,
            146.06,
            105.22,
            82.87,
            84.86,
            36.77,
            102.92,
            126.74,
            210.46,
            321.67,
            296.93,
            144.56,
            121.8
           ]
          },
          {
           "axis": {
            "matches": true
           },
           "label": "DividendYield",
           "values": [
            5.4,
            0.9,
            1.8,
            2.7,
            0.9,
            3,
            3.8,
            0.3,
            0,
            3,
            0.5,
            3.6,
            1.2,
            0.7,
            1.1,
            1.9,
            2.6,
            0.3,
            3.9,
            2.1,
            1.2,
            1,
            0.4,
            0.2,
            0.3,
            0.5
           ]
          },
          {
           "axis": {
            "matches": true
           },
           "label": "MarketCap",
           "values": [
            114951,
            23203,
            17843,
            121931,
            44903,
            89591,
            14626,
            21513,
            13989,
            85312,
            99319,
            84320,
            42708,
            39204,
            27007,
            141170,
            212178,
            9425,
            203376,
            13860,
            18221,
            78523,
            14871,
            118913,
            12792,
            58166
           ]
          },
          {
           "axis": {
            "matches": true
           },
           "label": "PERatio",
           "values": [
            28.5,
            22.2,
            19,
            16,
            29,
            14.4,
            11.1,
            37.1,
            31.2,
            18.4,
            40,
            14.3,
            11.8,
            15.8,
            48.4,
            31.9,
            23,
            37.2,
            16.5,
            19,
            44.9,
            22.2,
            54.6,
            33.6,
            16.4,
            42.5
           ]
          },
          {
           "axis": {
            "matches": true
           },
           "label": "PayoutRatio",
           "values": [
            153,
            19,
            35,
            43.6,
            26.1,
            42.8,
            42.2,
            9.9,
            0.7,
            56,
            19.1,
            51.6,
            14.1,
            11.4,
            51.7,
            61.9,
            59.2,
            12.3,
            63.7,
            39.2,
            52.4,
            21.4,
            23.1,
            8.2,
            4.5,
            21.6
           ]
          },
          {
           "axis": {
            "matches": true
           },
           "label": "Beta",
           "values": [
            0.84,
            1.1,
            0.75,
            0.74,
            0.85,
            0.8,
            0.89,
            0.91,
            0.86,
            0.82,
            0.93,
            0.77,
            0.96,
            0.86,
            0.74,
            0.67,
            0.65,
            1.26,
            0.7,
            0.68,
            0.82,
            0.96,
            0.98,
            1.14,
            0.75,
            0.95
           ]
          }
         ],
         "hoverlabel": {
          "namelength": 0
         },
         "hovertemplate": "GICSSector=Health Care<br>%{xaxis.title.text}=%{x}<br>%{yaxis.title.text}=%{y}",
         "legendgroup": "GICSSector=Health Care",
         "marker": {
          "color": "#EF553B",
          "symbol": "circle"
         },
         "name": "GICSSector=Health Care",
         "showlegend": true,
         "type": "splom"
        },
        {
         "dimensions": [
          {
           "axis": {
            "matches": true
           },
           "label": "Price",
           "values": [
            184.07,
            123.76,
            101.59,
            105.57,
            243.18,
            50.53,
            160.04,
            280.32,
            123.1,
            47.05,
            103.67,
            60.35,
            30.08,
            27.98,
            126.97,
            53.3,
            156.27,
            17.12,
            51.72,
            134.38,
            255.97,
            138.49,
            24.96,
            158.72,
            233.18,
            260.85,
            56.5,
            92.99,
            137.24,
            169.09,
            56.01,
            195.09,
            54.13,
            84.07,
            77.24,
            56.1,
            89.29,
            93.54,
            118.95,
            133.27,
            171.32,
            24.52,
            30.68,
            93.83
           ]
          },
          {
           "axis": {
            "matches": true
           },
           "label": "DividendYield",
           "values": [
            1.6,
            1.9,
            0.9,
            1.9,
            1.2,
            1.6,
            1.9,
            3.5,
            1.6,
            2.9,
            1,
            1.3,
            2.5,
            2.8,
            1.1,
            1.2,
            0,
            3.6,
            2.4,
            4.7,
            0.7,
            1.1,
            3,
            1.9,
            1.9,
            0.5,
            3.3,
            1.6,
            1.3,
            1.3,
            3,
            0.3,
            1.6,
            2.8,
            3.2,
            4.5,
            1.7,
            1.9,
            2.6,
            0.4,
            0.6,
            3.2,
            3.3,
            1.5
           ]
          },
          {
           "axis": {
            "matches": true
           },
           "label": "MarketCap",
           "values": [
            117278,
            6323,
            30217,
            38998,
            1098974,
            46677,
            69409,
            111194,
            14089,
            199740,
            13570,
            33330,
            23488,
            7329,
            77888,
            7227,
            46888,
            25370,
            229119,
            119043,
            66571,
            10656,
            8631,
            25151,
            33772,
            264647,
            15316,
            22135,
            1047883,
            28162,
            13325,
            118809,
            177682,
            30092,
            93897,
            14818,
            15331,
            31423,
            111054,
            23587,
            297822,
            10393,
            6788,
            23701
           ]
          },
          {
           "axis": {
            "matches": true
           },
           "label": "PERatio",
           "values": [
            24.6,
            7.6,
            25.8,
            25.8,
            20.6,
            16.7,
            30.3,
            37.8,
            29.6,
            17.9,
            26.1,
            16.7,
            16.9,
            6.6,
            54.6,
            26.1,
            50.7,
            6.2,
            11.9,
            15.5,
            42.7,
            39.3,
            17.5,
            21,
            16.2,
            40,
            18.7,
            59.2,
            26.9,
            26.9,
            14.1,
            43.3,
            17.2,
            28.6,
            27.1,
            7.8,
            16.9,
            10,
            21.7,
            38.9,
            32.9,
            8.8,
            13.5,
            25.2
           ]
          },
          {
           "axis": {
            "matches": true
           },
           "label": "PayoutRatio",
           "values": [
            39,
            14.8,
            23.8,
            49.9,
            25,
            27,
            58,
            130.8,
            46.6,
            51.7,
            26.5,
            22.1,
            42.6,
            18.4,
            57.7,
            32.3,
            1.3,
            22.6,
            28.2,
            73.7,
            31.4,
            43.7,
            51.9,
            39.7,
            30.6,
            19,
            61,
            92.9,
            36,
            35.5,
            42.2,
            14,
            27.3,
            80.4,
            87,
            35.1,
            28.8,
            18.9,
            56.2,
            15.2,
            18.4,
            28.1,
            44.1,
            39
           ]
          },
          {
           "axis": {
            "matches": true
           },
           "label": "Beta",
           "values": [
            0.99,
            1.25,
            1.12,
            1.29,
            1.53,
            1.52,
            1.05,
            1.3,
            0.91,
            1.29,
            0.63,
            0.92,
            1.27,
            1.4,
            0.89,
            0.96,
            1.2,
            1.26,
            1.23,
            0.99,
            1.29,
            0.79,
            1.07,
            1.49,
            1.53,
            1.39,
            1.35,
            1.56,
            1.34,
            0.9,
            1.5,
            2.07,
            1.02,
            0.89,
            1,
            1.42,
            1.52,
            1.07,
            1.28,
            0,
            1.17,
            0.69,
            1.34,
            1.54
           ]
          }
         ],
         "hoverlabel": {
          "namelength": 0
         },
         "hovertemplate": "GICSSector=Information Technology<br>%{xaxis.title.text}=%{x}<br>%{yaxis.title.text}=%{y}",
         "legendgroup": "GICSSector=Information Technology",
         "marker": {
          "color": "#00cc96",
          "symbol": "circle"
         },
         "name": "GICSSector=Information Technology",
         "showlegend": true,
         "type": "splom"
        },
        {
         "dimensions": [
          {
           "axis": {
            "matches": true
           },
           "label": "Price",
           "values": [
            54.8,
            37.74,
            36.49,
            45.72,
            21.4,
            13.85,
            14.24,
            76.72,
            60.88,
            21.95,
            131.13
           ]
          },
          {
           "axis": {
            "matches": true
           },
           "label": "DividendYield",
           "values": [
            0.6,
            5.4,
            2,
            1.7,
            4.3,
            1.4,
            1.4,
            3.3,
            4,
            3.6,
            1.3
           ]
          },
          {
           "axis": {
            "matches": true
           },
           "label": "MarketCap",
           "values": [
            42033,
            275766,
            13671,
            207796,
            8286,
            8145,
            8374,
            16688,
            251799,
            8854,
            236214
           ]
          },
          {
           "axis": {
            "matches": true
           },
           "label": "PERatio",
           "values": [
            24.9,
            15.8,
            4.4,
            17.2,
            12.6,
            52.2,
            53.7,
            12.8,
            15.9,
            5.4,
            16.5
           ]
          },
          {
           "axis": {
            "matches": true
           },
           "label": "PayoutRatio",
           "values": [
            15.4,
            85.1,
            8.8,
            30.1,
            53.9,
            75.4,
            75.4,
            42.7,
            62.9,
            19.7,
            21.6
           ]
          },
          {
           "axis": {
            "matches": true
           },
           "label": "Beta",
           "values": [
            1.22,
            0.59,
            0.99,
            0.84,
            0.8,
            0.96,
            0.95,
            0.67,
            0.32,
            0.97,
            0.81
           ]
          }
         ],
         "hoverlabel": {
          "namelength": 0
         },
         "hovertemplate": "GICSSector=Communication Services<br>%{xaxis.title.text}=%{x}<br>%{yaxis.title.text}=%{y}",
         "legendgroup": "GICSSector=Communication Services",
         "marker": {
          "color": "#ab63fa",
          "symbol": "circle"
         },
         "name": "GICSSector=Communication Services",
         "showlegend": true,
         "type": "splom"
        },
        {
         "dimensions": [
          {
           "axis": {
            "matches": true
           },
           "label": "Price",
           "values": [
            165.12,
            89.37,
            72.07,
            24.61,
            39.98,
            44,
            53.34,
            110.4,
            162.98,
            39.2,
            138.31,
            9.21,
            17.56,
            86.57,
            36.61,
            104.24,
            16.17,
            39.56,
            99.4,
            95.77,
            234.67,
            53.26,
            17.63,
            44.87,
            61.67,
            111.51,
            15.67,
            123.49,
            92.32,
            36.65,
            97.13,
            39.83,
            91.75,
            109.89,
            109.68,
            82.74,
            25.95,
            111.36,
            92.43,
            59.68,
            95.12,
            91.49,
            162.16,
            115.86,
            109.27
           ]
          },
          {
           "axis": {
            "matches": true
           },
           "label": "DividendYield",
           "values": [
            0.1,
            1,
            2.6,
            4.1,
            1.7,
            4.5,
            1.1,
            2.8,
            0.7,
            0.7,
            0.9,
            6.5,
            5.5,
            2.5,
            4.2,
            2.9,
            3.7,
            3.8,
            2.7,
            0.6,
            2,
            4.8,
            10.2,
            3.4,
            0.3,
            1.8,
            9.6,
            1.4,
            1,
            4,
            2.6,
            1.1,
            0.2,
            0.9,
            2.6,
            1.7,
            5.2,
            2.3,
            2.4,
            1.4,
            1.3,
            2.2,
            2.9,
            2.8,
            1.4
           ]
          },
          {
           "axis": {
            "matches": true
           },
           "label": "MarketCap",
           "values": [
            11787,
            22895,
            18995,
            4939,
            8256,
            23181,
            20077,
            13535,
            41896,
            32879,
            20263,
            36747,
            6598,
            16457,
            52269,
            15227,
            5846,
            6200,
            12544,
            27472,
            256998,
            8475,
            4872,
            5899,
            19587,
            86063,
            4840,
            40672,
            144114,
            5677,
            7502,
            10922,
            6802,
            39750,
            22984,
            99039,
            7469,
            56897,
            11165,
            72372,
            11344,
            36429,
            10301,
            12468,
            33249
           ]
          },
          {
           "axis": {
            "matches": true
           },
           "label": "PERatio",
           "values": [
            27.4,
            23.7,
            12.8,
            11.7,
            10.8,
            9.9,
            12.6,
            19,
            26.1,
            15.1,
            33.3,
            16.7,
            7.1,
            22.1,
            5.8,
            19,
            10.4,
            15.3,
            48,
            29.9,
            23.3,
            11.7,
            8.4,
            20.7,
            10.2,
            34.8,
            4.7,
            28,
            33.6,
            12,
            17.7,
            12.1,
            10.2,
            24.8,
            12.4,
            28.9,
            11.7,
            18.3,
            20,
            23.7,
            21,
            31.6,
            9.7,
            15,
            25.5
           ]
          },
          {
           "axis": {
            "matches": true
           },
           "label": "PayoutRatio",
           "values": [
            4,
            23.3,
            33.8,
            47.9,
            18.4,
            45.1,
            13.6,
            53.7,
            19.5,
            10.8,
            30.8,
            108.8,
            39.4,
            55.2,
            23.9,
            55,
            38.6,
            57.7,
            128.9,
            18.7,
            47.4,
            56.1,
            86.1,
            71.2,
            2.6,
            62.1,
            45.5,
            38.8,
            32.1,
            48.5,
            46.7,
            13.4,
            1.7,
            21.6,
            31.7,
            50.3,
            60.7,
            42.3,
            48.3,
            33.8,
            28.2,
            68.6,
            28.2,
            42,
            36.4
           ]
          },
          {
           "axis": {
            "matches": true
           },
           "label": "Beta",
           "values": [
            0.65,
            1.22,
            1.26,
            0.62,
            1.27,
            1.04,
            0.73,
            0.66,
            0.82,
            1.02,
            0.84,
            0.91,
            1.01,
            0.81,
            1.06,
            0.73,
            1.11,
            1.25,
            1.02,
            1.01,
            0.94,
            1.19,
            1.41,
            1.11,
            0.65,
            1.1,
            1.14,
            1.08,
            1.1,
            1.05,
            1.11,
            0.64,
            1.37,
            1.05,
            1.22,
            0.75,
            1.32,
            0.94,
            1.11,
            0.95,
            0.97,
            1.11,
            1.17,
            1.82,
            0.52
           ]
          }
         ],
         "hoverlabel": {
          "namelength": 0
         },
         "hovertemplate": "GICSSector=Consumer Discretionary<br>%{xaxis.title.text}=%{x}<br>%{yaxis.title.text}=%{y}",
         "legendgroup": "GICSSector=Consumer Discretionary",
         "marker": {
          "color": "#FFA15A",
          "symbol": "circle"
         },
         "name": "GICSSector=Consumer Discretionary",
         "showlegend": true,
         "type": "splom"
        },
        {
         "dimensions": [
          {
           "axis": {
            "matches": true
           },
           "label": "Price",
           "values": [
            17.13,
            53.64,
            77.06,
            94.44,
            121.94,
            113.01,
            29.6,
            63.29,
            93.7,
            82.72,
            129.32,
            96.17,
            120.65,
            63.48,
            86.06,
            45.65,
            48.41,
            40.62,
            94.15,
            33.18,
            62.74,
            148,
            61.95,
            93.15,
            64.44
           ]
          },
          {
           "axis": {
            "matches": true
           },
           "label": "DividendYield",
           "values": [
            3.1,
            2.6,
            2.4,
            2.8,
            1.6,
            1.8,
            3.8,
            2.3,
            3.1,
            4.2,
            2.9,
            3.9,
            3,
            3,
            2.4,
            3.1,
            3.1,
            0.3,
            3.1,
            5,
            2.9,
            2.5,
            3.9,
            2.5,
            2.4
           ]
          },
          {
           "axis": {
            "matches": true
           },
           "label": "MarketCap",
           "values": [
            11371,
            12740,
            18941,
            46633,
            22028,
            13357,
            14865,
            17960,
            31121,
            67988,
            23704,
            70069,
            23988,
            14947,
            27849,
            44352,
            26140,
            10276,
            10573,
            23964,
            31723,
            40633,
            64751,
            29382,
            33187
           ]
          },
          {
           "axis": {
            "matches": true
           },
           "label": "PERatio",
           "values": [
            28.7,
            24.8,
            23.7,
            23.6,
            37.9,
            26.7,
            25.9,
            30.7,
            22.1,
            55.5,
            21.3,
            21.2,
            23.3,
            26.9,
            31.7,
            19.5,
            23.3,
            22.3,
            21,
            13.5,
            21.6,
            21,
            14.5,
            26.8,
            26.3
           ]
          },
          {
           "axis": {
            "matches": true
           },
           "label": "PayoutRatio",
           "values": [
            90.3,
            63.8,
            58,
            65.7,
            59.4,
            48.6,
            98.9,
            71.8,
            68.8,
            235.2,
            61.2,
            81.9,
            70,
            79.9,
            76.7,
            60.3,
            71.2,
            6.6,
            64.8,
            66.7,
            63.4,
            52.9,
            56.5,
            65.9,
            64.1
           ]
          },
          {
           "axis": {
            "matches": true
           },
           "label": "Beta",
           "values": [
            0.66,
            0.23,
            0.27,
            0.17,
            0.24,
            0.3,
            0.38,
            0.21,
            0.19,
            0.21,
            0.24,
            0.19,
            0.19,
            0.15,
            0.21,
            0.27,
            0.33,
            0.71,
            0.22,
            0.33,
            0.33,
            0.36,
            0.2,
            0.17,
            0.25
           ]
          }
         ],
         "hoverlabel": {
          "namelength": 0
         },
         "hovertemplate": "GICSSector=Utilities<br>%{xaxis.title.text}=%{x}<br>%{yaxis.title.text}=%{y}",
         "legendgroup": "GICSSector=Utilities",
         "marker": {
          "color": "#19d3f3",
          "symbol": "circle"
         },
         "name": "GICSSector=Utilities",
         "showlegend": true,
         "type": "splom"
        },
        {
         "dimensions": [
          {
           "axis": {
            "matches": true
           },
           "label": "Price",
           "values": [
            52.47,
            108.18,
            116.49,
            143.47,
            191.44,
            90.15,
            126.53,
            31.42,
            46.73,
            53.49,
            457.06,
            92.79,
            114.03,
            41.37,
            150.16,
            113.96,
            72.45,
            35.98,
            202.23,
            65.77,
            80.52,
            40.89,
            249.3,
            28.27,
            106.71,
            27.88,
            211.32,
            57.87,
            14.47,
            92.93,
            17.28,
            19.1,
            125.12,
            18.23,
            61.81,
            51.1,
            157.8,
            98.99,
            46.55,
            211.97,
            45.91,
            218.33,
            101.31,
            100.16,
            16.94,
            57.33,
            91.57,
            83.91,
            16.28,
            243.91,
            65.92,
            69.03,
            35.09,
            108.38,
            132.16,
            56.58,
            29.27,
            50.93,
            184.77,
            47.94
           ]
          },
          {
           "axis": {
            "matches": true
           },
           "label": "DividendYield",
           "values": [
            2,
            1.8,
            1.4,
            2.6,
            0.9,
            1.9,
            1.9,
            2,
            2.5,
            3.1,
            2.9,
            1.7,
            1.1,
            1.5,
            2,
            1.9,
            2.6,
            3.3,
            1.4,
            4,
            2,
            1.4,
            2.2,
            3.3,
            0.7,
            3.6,
            1.8,
            2.1,
            3.9,
            1.1,
            7.1,
            2.2,
            2.6,
            3.8,
            2.3,
            0.5,
            2.5,
            1.7,
            3.7,
            0.9,
            2.7,
            1.1,
            1.8,
            2.3,
            4.2,
            3.8,
            4.1,
            1.6,
            3.5,
            0.9,
            2.9,
            3,
            2.4,
            2.7,
            2.4,
            2.7,
            3.6,
            3.6,
            1.4,
            2.6
           ]
          },
          {
           "axis": {
            "matches": true
           },
           "label": "MarketCap",
           "values": [
            38847,
            35611,
            96648,
            18775,
            45149,
            16774,
            7734,
            292466,
            44050,
            40982,
            70649,
            43642,
            12735,
            54078,
            68435,
            18613,
            163668,
            16086,
            72417,
            9823,
            25624,
            9805,
            10156,
            20542,
            17950,
            14042,
            75982,
            20924,
            15017,
            52079,
            16236,
            5727,
            400069,
            18289,
            12373,
            15451,
            21096,
            50119,
            43591,
            40104,
            75878,
            18492,
            16684,
            21523,
            6754,
            15983,
            36811,
            11650,
            16243,
            60075,
            24560,
            30645,
            23280,
            25530,
            34412,
            89160,
            6106,
            224403,
            23834,
            8483
           ]
          },
          {
           "axis": {
            "matches": true
           },
           "label": "PERatio",
           "values": [
            12.7,
            13.9,
            14.1,
            10.4,
            34.2,
            24.1,
            21.5,
            11.5,
            12.1,
            13.3,
            17.5,
            8,
            31.4,
            15.2,
            18.3,
            15.2,
            9.6,
            9.6,
            39.3,
            8.2,
            9.1,
            9.9,
            19.6,
            9.1,
            20.7,
            10.3,
            9.4,
            12.8,
            11.3,
            26.1,
            14.8,
            50.1,
            12.3,
            11.2,
            8.6,
            20.9,
            11.3,
            33.8,
            7.6,
            32.5,
            9.7,
            32.4,
            31.8,
            15.1,
            12.8,
            10.7,
            9.2,
            11.6,
            10.8,
            30.7,
            12.9,
            12.6,
            6.4,
            13.4,
            14.7,
            13,
            11.8,
            10.9,
            28.4,
            10.6
           ]
          },
          {
           "axis": {
            "matches": true
           },
           "label": "PayoutRatio",
           "values": [
            25.7,
            24.7,
            19.3,
            26.7,
            29.3,
            44.9,
            40.1,
            23,
            29.7,
            41.4,
            49.8,
            13.8,
            34.2,
            23.5,
            35.8,
            29.1,
            24.6,
            31.5,
            56.4,
            32.7,
            18.5,
            13.5,
            43.2,
            29.5,
            14.3,
            37.3,
            16.4,
            26.5,
            43.8,
            28.9,
            104.6,
            111.4,
            32.5,
            42.7,
            20,
            10.2,
            28.7,
            58,
            27.7,
            28.8,
            26.3,
            34.4,
            57.1,
            34.6,
            53.4,
            40.1,
            38.1,
            18.3,
            38.1,
            27,
            37.7,
            37.5,
            15.4,
            36.2,
            35.5,
            35.1,
            41.8,
            39.4,
            38.4,
            27.5
           ]
          },
          {
           "axis": {
            "matches": true
           },
           "label": "Beta",
           "values": [
            0.68,
            0.69,
            1.06,
            1.46,
            0.77,
            0.74,
            0.76,
            1.13,
            0.78,
            0.83,
            1.21,
            1.19,
            0.31,
            1.18,
            0.62,
            0.66,
            1.29,
            1.07,
            0.39,
            0.97,
            1.27,
            1.27,
            0.5,
            0.95,
            0.93,
            1.05,
            1.18,
            0.72,
            0.96,
            0.61,
            1.2,
            1.28,
            0.97,
            1.06,
            1.35,
            0.9,
            0.82,
            0.81,
            1.03,
            1.22,
            1.22,
            1.3,
            0.84,
            1.14,
            0.9,
            1.18,
            1.2,
            1.16,
            1.11,
            1,
            1.03,
            0.91,
            1.01,
            1.22,
            0.69,
            0.79,
            1.24,
            0.84,
            0.73,
            0.99
           ]
          }
         ],
         "hoverlabel": {
          "namelength": 0
         },
         "hovertemplate": "GICSSector=Financials<br>%{xaxis.title.text}=%{x}<br>%{yaxis.title.text}=%{y}",
         "legendgroup": "GICSSector=Financials",
         "marker": {
          "color": "#FF6692",
          "symbol": "circle"
         },
         "name": "GICSSector=Financials",
         "showlegend": true,
         "type": "splom"
        },
        {
         "dimensions": [
          {
           "axis": {
            "matches": true
           },
           "label": "Price",
           "values": [
            210.06,
            67.46,
            71.08,
            121.76,
            45.82,
            74.82,
            188.35,
            82.53,
            10.13,
            43.39,
            193.7,
            88.21,
            264.06,
            20.17,
            52.97,
            110.06,
            124.47,
            41.69,
            563.87,
            144.49,
            38.25
           ]
          },
          {
           "axis": {
            "matches": true
           },
           "label": "DividendYield",
           "values": [
            2.2,
            2.1,
            0.6,
            1.9,
            2.6,
            3.2,
            1,
            1.7,
            2,
            4.6,
            1.8,
            4.6,
            0.7,
            0.6,
            3,
            2.9,
            1.6,
            1.5,
            0.8,
            0.8,
            4.7
           ]
          },
          {
           "axis": {
            "matches": true
           },
           "label": "MarketCap",
           "values": [
            46287,
            7149,
            23598,
            15066,
            10003,
            10249,
            54198,
            10764,
            14697,
            17045,
            104712,
            29572,
            16487,
            7782,
            16058,
            10418,
            29411,
            6442,
            52020,
            19114,
            9843
           ]
          },
          {
           "axis": {
            "matches": true
           },
           "label": "PERatio",
           "values": [
            27.1,
            13.1,
            45.6,
            16.9,
            22.6,
            11.4,
            36.3,
            21.2,
            22.8,
            10.9,
            19.3,
            9.2,
            32.7,
            30.2,
            9,
            13.2,
            24.4,
            17.8,
            37.2,
            33.9,
            11.7
           ]
          },
          {
           "axis": {
            "matches": true
           },
           "label": "PayoutRatio",
           "values": [
            58.2,
            27.3,
            28.8,
            32.2,
            59.3,
            37,
            34.5,
            35.1,
            45,
            49.7,
            33.9,
            42.4,
            23.8,
            18.7,
            27.3,
            37.8,
            38.3,
            27.4,
            28,
            27.7,
            55.1
           ]
          },
          {
           "axis": {
            "matches": true
           },
           "label": "Beta",
           "values": [
            0.82,
            1.41,
            0.7,
            1.15,
            1.19,
            1.26,
            0.81,
            1.12,
            1.61,
            1.16,
            0.75,
            1.11,
            0.68,
            1.29,
            1.16,
            1.08,
            0.92,
            0.58,
            0.82,
            0.9,
            1.3
           ]
          }
         ],
         "hoverlabel": {
          "namelength": 0
         },
         "hovertemplate": "GICSSector=Materials<br>%{xaxis.title.text}=%{x}<br>%{yaxis.title.text}=%{y}",
         "legendgroup": "GICSSector=Materials",
         "marker": {
          "color": "#B6E880",
          "symbol": "circle"
         },
         "name": "GICSSector=Materials",
         "showlegend": true,
         "type": "splom"
        },
        {
         "dimensions": [
          {
           "axis": {
            "matches": true
           },
           "label": "Price",
           "values": [
            157.73,
            54.7,
            221.53,
            130.97,
            34.19,
            87.84,
            328.34,
            115.68,
            140.05,
            37.93,
            16.85,
            34.3,
            21.26,
            28.94,
            91.87,
            240.42,
            80.3,
            69.29,
            154.69,
            84.11,
            73.18,
            64.71
           ]
          },
          {
           "axis": {
            "matches": true
           },
           "label": "DividendYield",
           "values": [
            2.5,
            2.9,
            2.7,
            2.9,
            2.5,
            2.6,
            2.3,
            3,
            2.9,
            3.9,
            4.7,
            7.1,
            5.3,
            10.3,
            2.3,
            3.3,
            3.3,
            3.3,
            5.2,
            4,
            4.3,
            4
           ]
          },
          {
           "axis": {
            "matches": true
           },
           "label": "MarketCap",
           "values": [
            17980,
            8143,
            30938,
            20243,
            12465,
            32575,
            21581,
            15666,
            10585,
            18627,
            12298,
            9847,
            8976,
            4389,
            57981,
            41976,
            25553,
            11634,
            102532,
            7290,
            27265,
            12347
           ]
          },
          {
           "axis": {
            "matches": true
           },
           "label": "PERatio",
           "values": [
            45,
            23.9,
            33.5,
            38.3,
            53.1,
            40.4,
            52.8,
            34.1,
            42.4,
            18.4,
            11.4,
            33.7,
            26.4,
            37.7,
            32.5,
            28.7,
            61.3,
            40.5,
            22.1,
            39.4,
            52.4,
            4.3
           ]
          },
          {
           "axis": {
            "matches": true
           },
           "label": "PayoutRatio",
           "values": [
            110.4,
            69,
            90.5,
            111.1,
            131.2,
            103.2,
            122.5,
            102.5,
            123.6,
            71.8,
            54,
            237.5,
            139.2,
            389.7,
            73.3,
            95.4,
            204.4,
            133.1,
            115.6,
            159.2,
            227,
            17.1
           ]
          },
          {
           "axis": {
            "matches": true
           },
           "label": "Beta",
           "values": [
            0.58,
            0.45,
            0.41,
            0.66,
            0.59,
            0.37,
            0.4,
            0.24,
            0.49,
            0.3,
            0.86,
            0.56,
            0.66,
            0.7,
            0.72,
            0.13,
            0.35,
            0.49,
            0.56,
            0.66,
            0.27,
            0.63
           ]
          }
         ],
         "hoverlabel": {
          "namelength": 0
         },
         "hovertemplate": "GICSSector=Real Estate<br>%{xaxis.title.text}=%{x}<br>%{yaxis.title.text}=%{y}",
         "legendgroup": "GICSSector=Real Estate",
         "marker": {
          "color": "#FF97FF",
          "symbol": "circle"
         },
         "name": "GICSSector=Real Estate",
         "showlegend": true,
         "type": "splom"
        },
        {
         "dimensions": [
          {
           "axis": {
            "matches": true
           },
           "label": "Price",
           "values": [
            46.75,
            40.73,
            64.7,
            47.8,
            75.28,
            149.81,
            54.64,
            67.54,
            27.61,
            197.54,
            297.32,
            185.9,
            51.18,
            149.71,
            40.78,
            107.81,
            62.21,
            134.29,
            24.98,
            74.81,
            160.46,
            59.47,
            52.65,
            137.45,
            81.78,
            78.84,
            77.5,
            119.35,
            54.56
           ]
          },
          {
           "axis": {
            "matches": true
           },
           "label": "DividendYield",
           "values": [
            6.8,
            3.4,
            1,
            2.9,
            1.2,
            2.6,
            2.9,
            2.5,
            3.1,
            1.5,
            0.8,
            0.9,
            3.8,
            1.9,
            2,
            3.2,
            3.6,
            3,
            2.3,
            1.1,
            1.4,
            2.8,
            2,
            2.7,
            5.6,
            1.9,
            1.9,
            1.8,
            3.2
           ]
          },
          {
           "axis": {
            "matches": true
           },
           "label": "MarketCap",
           "values": [
            87333,
            22685,
            30896,
            14396,
            18601,
            18800,
            233642,
            57949,
            13436,
            37855,
            130718,
            67132,
            30932,
            31376,
            21775,
            12295,
            21190,
            46222,
            20024,
            10926,
            21327,
            12862,
            75929,
            191664,
            127236,
            40366,
            22837,
            339464,
            49275
           ]
          },
          {
           "axis": {
            "matches": true
           },
           "label": "PERatio",
           "values": [
            13.9,
            17.4,
            37.7,
            53.9,
            30.7,
            23.3,
            30.2,
            25.7,
            19.3,
            47.9,
            35.7,
            37.9,
            16.4,
            25.1,
            22.1,
            22.9,
            24.7,
            22.9,
            12.2,
            23,
            30.2,
            14.4,
            20.6,
            15.6,
            17,
            24.3,
            12.6,
            26.8,
            10.7
           ]
          },
          {
           "axis": {
            "matches": true
           },
           "label": "PayoutRatio",
           "values": [
            95,
            58.5,
            38.2,
            157.8,
            36.3,
            61.3,
            87.9,
            64.2,
            59.5,
            72.2,
            29.3,
            34,
            62.9,
            48.4,
            44.3,
            72.8,
            88.9,
            69.7,
            28.3,
            24.3,
            41.9,
            39.6,
            40.8,
            42.7,
            95.6,
            47.1,
            24.4,
            47.1,
            34.4
           ]
          },
          {
           "axis": {
            "matches": true
           },
           "label": "Beta",
           "values": [
            0.63,
            0.8,
            0.73,
            0.35,
            0.33,
            0.42,
            0.43,
            0.59,
            0.78,
            0.77,
            0.85,
            1.03,
            0.36,
            0.24,
            0.45,
            0.26,
            0.42,
            0.44,
            0.63,
            0.3,
            0.41,
            0.65,
            0.57,
            0.51,
            0.6,
            0.49,
            0.48,
            0.61,
            0.97
           ]
          }
         ],
         "hoverlabel": {
          "namelength": 0
         },
         "hovertemplate": "GICSSector=Consumer Staples<br>%{xaxis.title.text}=%{x}<br>%{yaxis.title.text}=%{y}",
         "legendgroup": "GICSSector=Consumer Staples",
         "marker": {
          "color": "#FECB52",
          "symbol": "circle"
         },
         "name": "GICSSector=Consumer Staples",
         "showlegend": true,
         "type": "splom"
        },
        {
         "dimensions": [
          {
           "axis": {
            "matches": true
           },
           "label": "Price",
           "values": [
            21.77,
            18.52,
            117.98,
            44.57,
            65.44,
            56.25,
            21.3,
            87.16,
            71.94,
            69.75,
            20.21,
            55.63,
            20.4,
            12.01,
            65.87,
            42.92,
            70.91,
            109,
            130.6,
            93.85
           ]
          },
          {
           "axis": {
            "matches": true
           },
           "label": "DividendYield",
           "values": [
            3.3,
            1.6,
            3.9,
            1.7,
            0.4,
            2.1,
            1.6,
            0.6,
            1.3,
            4.8,
            3.6,
            2.4,
            4.4,
            1.7,
            3,
            7.3,
            4.8,
            3,
            0.4,
            3.6
           ]
          },
          {
           "axis": {
            "matches": true
           },
           "label": "MarketCap",
           "values": [
            22348,
            7748,
            223975,
            4521,
            13158,
            62445,
            8609,
            14210,
            41750,
            295119,
            17702,
            9155,
            46181,
            9656,
            43363,
            38391,
            29283,
            48941,
            21829,
            38891
           ]
          },
          {
           "axis": {
            "matches": true
           },
           "label": "PERatio",
           "values": [
            62.2,
            9.4,
            15.2,
            7.2,
            25.8,
            9,
            2.6,
            13.9,
            11.6,
            16.8,
            14.9,
            10.3,
            22.5,
            10.2,
            14.1,
            8.5,
            23.3,
            9.4,
            24.5,
            15.4
           ]
          },
          {
           "axis": {
            "matches": true
           },
           "label": "PayoutRatio",
           "values": [
            205.7,
            14.7,
            59.4,
            12.3,
            9.9,
            19.2,
            4.2,
            9,
            15.3,
            80.2,
            53,
            24.4,
            99.1,
            16.9,
            42.3,
            61.6,
            111.9,
            28.4,
            9,
            55.9
           ]
          },
          {
           "axis": {
            "matches": true
           },
           "label": "Beta",
           "values": [
            1.03,
            0.55,
            0.84,
            1.61,
            1.43,
            1.08,
            1.55,
            1.27,
            1.26,
            0.91,
            1.27,
            1.39,
            0.79,
            1.53,
            1.32,
            0.91,
            0.94,
            1.05,
            1.35,
            1.21
           ]
          }
         ],
         "hoverlabel": {
          "namelength": 0
         },
         "hovertemplate": "GICSSector=Energy<br>%{xaxis.title.text}=%{x}<br>%{yaxis.title.text}=%{y}",
         "legendgroup": "GICSSector=Energy",
         "marker": {
          "color": "#636efa",
          "symbol": "circle"
         },
         "name": "GICSSector=Energy",
         "showlegend": true,
         "type": "splom"
        }
       ],
       "layout": {
        "dragmode": "select",
        "height": 700,
        "legend": {
         "tracegroupgap": 0
        },
        "margin": {
         "t": 60
        },
        "template": {
         "data": {
          "bar": [
           {
            "error_x": {
             "color": "#2a3f5f"
            },
            "error_y": {
             "color": "#2a3f5f"
            },
            "marker": {
             "line": {
              "color": "#E5ECF6",
              "width": 0.5
             }
            },
            "type": "bar"
           }
          ],
          "barpolar": [
           {
            "marker": {
             "line": {
              "color": "#E5ECF6",
              "width": 0.5
             }
            },
            "type": "barpolar"
           }
          ],
          "carpet": [
           {
            "aaxis": {
             "endlinecolor": "#2a3f5f",
             "gridcolor": "white",
             "linecolor": "white",
             "minorgridcolor": "white",
             "startlinecolor": "#2a3f5f"
            },
            "baxis": {
             "endlinecolor": "#2a3f5f",
             "gridcolor": "white",
             "linecolor": "white",
             "minorgridcolor": "white",
             "startlinecolor": "#2a3f5f"
            },
            "type": "carpet"
           }
          ],
          "choropleth": [
           {
            "colorbar": {
             "outlinewidth": 0,
             "ticks": ""
            },
            "type": "choropleth"
           }
          ],
          "contour": [
           {
            "colorbar": {
             "outlinewidth": 0,
             "ticks": ""
            },
            "colorscale": [
             [
              0,
              "#0d0887"
             ],
             [
              0.1111111111111111,
              "#46039f"
             ],
             [
              0.2222222222222222,
              "#7201a8"
             ],
             [
              0.3333333333333333,
              "#9c179e"
             ],
             [
              0.4444444444444444,
              "#bd3786"
             ],
             [
              0.5555555555555556,
              "#d8576b"
             ],
             [
              0.6666666666666666,
              "#ed7953"
             ],
             [
              0.7777777777777778,
              "#fb9f3a"
             ],
             [
              0.8888888888888888,
              "#fdca26"
             ],
             [
              1,
              "#f0f921"
             ]
            ],
            "type": "contour"
           }
          ],
          "contourcarpet": [
           {
            "colorbar": {
             "outlinewidth": 0,
             "ticks": ""
            },
            "type": "contourcarpet"
           }
          ],
          "heatmap": [
           {
            "colorbar": {
             "outlinewidth": 0,
             "ticks": ""
            },
            "colorscale": [
             [
              0,
              "#0d0887"
             ],
             [
              0.1111111111111111,
              "#46039f"
             ],
             [
              0.2222222222222222,
              "#7201a8"
             ],
             [
              0.3333333333333333,
              "#9c179e"
             ],
             [
              0.4444444444444444,
              "#bd3786"
             ],
             [
              0.5555555555555556,
              "#d8576b"
             ],
             [
              0.6666666666666666,
              "#ed7953"
             ],
             [
              0.7777777777777778,
              "#fb9f3a"
             ],
             [
              0.8888888888888888,
              "#fdca26"
             ],
             [
              1,
              "#f0f921"
             ]
            ],
            "type": "heatmap"
           }
          ],
          "heatmapgl": [
           {
            "colorbar": {
             "outlinewidth": 0,
             "ticks": ""
            },
            "colorscale": [
             [
              0,
              "#0d0887"
             ],
             [
              0.1111111111111111,
              "#46039f"
             ],
             [
              0.2222222222222222,
              "#7201a8"
             ],
             [
              0.3333333333333333,
              "#9c179e"
             ],
             [
              0.4444444444444444,
              "#bd3786"
             ],
             [
              0.5555555555555556,
              "#d8576b"
             ],
             [
              0.6666666666666666,
              "#ed7953"
             ],
             [
              0.7777777777777778,
              "#fb9f3a"
             ],
             [
              0.8888888888888888,
              "#fdca26"
             ],
             [
              1,
              "#f0f921"
             ]
            ],
            "type": "heatmapgl"
           }
          ],
          "histogram": [
           {
            "marker": {
             "colorbar": {
              "outlinewidth": 0,
              "ticks": ""
             }
            },
            "type": "histogram"
           }
          ],
          "histogram2d": [
           {
            "colorbar": {
             "outlinewidth": 0,
             "ticks": ""
            },
            "colorscale": [
             [
              0,
              "#0d0887"
             ],
             [
              0.1111111111111111,
              "#46039f"
             ],
             [
              0.2222222222222222,
              "#7201a8"
             ],
             [
              0.3333333333333333,
              "#9c179e"
             ],
             [
              0.4444444444444444,
              "#bd3786"
             ],
             [
              0.5555555555555556,
              "#d8576b"
             ],
             [
              0.6666666666666666,
              "#ed7953"
             ],
             [
              0.7777777777777778,
              "#fb9f3a"
             ],
             [
              0.8888888888888888,
              "#fdca26"
             ],
             [
              1,
              "#f0f921"
             ]
            ],
            "type": "histogram2d"
           }
          ],
          "histogram2dcontour": [
           {
            "colorbar": {
             "outlinewidth": 0,
             "ticks": ""
            },
            "colorscale": [
             [
              0,
              "#0d0887"
             ],
             [
              0.1111111111111111,
              "#46039f"
             ],
             [
              0.2222222222222222,
              "#7201a8"
             ],
             [
              0.3333333333333333,
              "#9c179e"
             ],
             [
              0.4444444444444444,
              "#bd3786"
             ],
             [
              0.5555555555555556,
              "#d8576b"
             ],
             [
              0.6666666666666666,
              "#ed7953"
             ],
             [
              0.7777777777777778,
              "#fb9f3a"
             ],
             [
              0.8888888888888888,
              "#fdca26"
             ],
             [
              1,
              "#f0f921"
             ]
            ],
            "type": "histogram2dcontour"
           }
          ],
          "mesh3d": [
           {
            "colorbar": {
             "outlinewidth": 0,
             "ticks": ""
            },
            "type": "mesh3d"
           }
          ],
          "parcoords": [
           {
            "line": {
             "colorbar": {
              "outlinewidth": 0,
              "ticks": ""
             }
            },
            "type": "parcoords"
           }
          ],
          "pie": [
           {
            "automargin": true,
            "type": "pie"
           }
          ],
          "scatter": [
           {
            "marker": {
             "colorbar": {
              "outlinewidth": 0,
              "ticks": ""
             }
            },
            "type": "scatter"
           }
          ],
          "scatter3d": [
           {
            "line": {
             "colorbar": {
              "outlinewidth": 0,
              "ticks": ""
             }
            },
            "marker": {
             "colorbar": {
              "outlinewidth": 0,
              "ticks": ""
             }
            },
            "type": "scatter3d"
           }
          ],
          "scattercarpet": [
           {
            "marker": {
             "colorbar": {
              "outlinewidth": 0,
              "ticks": ""
             }
            },
            "type": "scattercarpet"
           }
          ],
          "scattergeo": [
           {
            "marker": {
             "colorbar": {
              "outlinewidth": 0,
              "ticks": ""
             }
            },
            "type": "scattergeo"
           }
          ],
          "scattergl": [
           {
            "marker": {
             "colorbar": {
              "outlinewidth": 0,
              "ticks": ""
             }
            },
            "type": "scattergl"
           }
          ],
          "scattermapbox": [
           {
            "marker": {
             "colorbar": {
              "outlinewidth": 0,
              "ticks": ""
             }
            },
            "type": "scattermapbox"
           }
          ],
          "scatterpolar": [
           {
            "marker": {
             "colorbar": {
              "outlinewidth": 0,
              "ticks": ""
             }
            },
            "type": "scatterpolar"
           }
          ],
          "scatterpolargl": [
           {
            "marker": {
             "colorbar": {
              "outlinewidth": 0,
              "ticks": ""
             }
            },
            "type": "scatterpolargl"
           }
          ],
          "scatterternary": [
           {
            "marker": {
             "colorbar": {
              "outlinewidth": 0,
              "ticks": ""
             }
            },
            "type": "scatterternary"
           }
          ],
          "surface": [
           {
            "colorbar": {
             "outlinewidth": 0,
             "ticks": ""
            },
            "colorscale": [
             [
              0,
              "#0d0887"
             ],
             [
              0.1111111111111111,
              "#46039f"
             ],
             [
              0.2222222222222222,
              "#7201a8"
             ],
             [
              0.3333333333333333,
              "#9c179e"
             ],
             [
              0.4444444444444444,
              "#bd3786"
             ],
             [
              0.5555555555555556,
              "#d8576b"
             ],
             [
              0.6666666666666666,
              "#ed7953"
             ],
             [
              0.7777777777777778,
              "#fb9f3a"
             ],
             [
              0.8888888888888888,
              "#fdca26"
             ],
             [
              1,
              "#f0f921"
             ]
            ],
            "type": "surface"
           }
          ],
          "table": [
           {
            "cells": {
             "fill": {
              "color": "#EBF0F8"
             },
             "line": {
              "color": "white"
             }
            },
            "header": {
             "fill": {
              "color": "#C8D4E3"
             },
             "line": {
              "color": "white"
             }
            },
            "type": "table"
           }
          ]
         },
         "layout": {
          "annotationdefaults": {
           "arrowcolor": "#2a3f5f",
           "arrowhead": 0,
           "arrowwidth": 1
          },
          "coloraxis": {
           "colorbar": {
            "outlinewidth": 0,
            "ticks": ""
           }
          },
          "colorscale": {
           "diverging": [
            [
             0,
             "#8e0152"
            ],
            [
             0.1,
             "#c51b7d"
            ],
            [
             0.2,
             "#de77ae"
            ],
            [
             0.3,
             "#f1b6da"
            ],
            [
             0.4,
             "#fde0ef"
            ],
            [
             0.5,
             "#f7f7f7"
            ],
            [
             0.6,
             "#e6f5d0"
            ],
            [
             0.7,
             "#b8e186"
            ],
            [
             0.8,
             "#7fbc41"
            ],
            [
             0.9,
             "#4d9221"
            ],
            [
             1,
             "#276419"
            ]
           ],
           "sequential": [
            [
             0,
             "#0d0887"
            ],
            [
             0.1111111111111111,
             "#46039f"
            ],
            [
             0.2222222222222222,
             "#7201a8"
            ],
            [
             0.3333333333333333,
             "#9c179e"
            ],
            [
             0.4444444444444444,
             "#bd3786"
            ],
            [
             0.5555555555555556,
             "#d8576b"
            ],
            [
             0.6666666666666666,
             "#ed7953"
            ],
            [
             0.7777777777777778,
             "#fb9f3a"
            ],
            [
             0.8888888888888888,
             "#fdca26"
            ],
            [
             1,
             "#f0f921"
            ]
           ],
           "sequentialminus": [
            [
             0,
             "#0d0887"
            ],
            [
             0.1111111111111111,
             "#46039f"
            ],
            [
             0.2222222222222222,
             "#7201a8"
            ],
            [
             0.3333333333333333,
             "#9c179e"
            ],
            [
             0.4444444444444444,
             "#bd3786"
            ],
            [
             0.5555555555555556,
             "#d8576b"
            ],
            [
             0.6666666666666666,
             "#ed7953"
            ],
            [
             0.7777777777777778,
             "#fb9f3a"
            ],
            [
             0.8888888888888888,
             "#fdca26"
            ],
            [
             1,
             "#f0f921"
            ]
           ]
          },
          "colorway": [
           "#636efa",
           "#EF553B",
           "#00cc96",
           "#ab63fa",
           "#FFA15A",
           "#19d3f3",
           "#FF6692",
           "#B6E880",
           "#FF97FF",
           "#FECB52"
          ],
          "font": {
           "color": "#2a3f5f"
          },
          "geo": {
           "bgcolor": "white",
           "lakecolor": "white",
           "landcolor": "#E5ECF6",
           "showlakes": true,
           "showland": true,
           "subunitcolor": "white"
          },
          "hoverlabel": {
           "align": "left"
          },
          "hovermode": "closest",
          "mapbox": {
           "style": "light"
          },
          "paper_bgcolor": "white",
          "plot_bgcolor": "#E5ECF6",
          "polar": {
           "angularaxis": {
            "gridcolor": "white",
            "linecolor": "white",
            "ticks": ""
           },
           "bgcolor": "#E5ECF6",
           "radialaxis": {
            "gridcolor": "white",
            "linecolor": "white",
            "ticks": ""
           }
          },
          "scene": {
           "xaxis": {
            "backgroundcolor": "#E5ECF6",
            "gridcolor": "white",
            "gridwidth": 2,
            "linecolor": "white",
            "showbackground": true,
            "ticks": "",
            "zerolinecolor": "white"
           },
           "yaxis": {
            "backgroundcolor": "#E5ECF6",
            "gridcolor": "white",
            "gridwidth": 2,
            "linecolor": "white",
            "showbackground": true,
            "ticks": "",
            "zerolinecolor": "white"
           },
           "zaxis": {
            "backgroundcolor": "#E5ECF6",
            "gridcolor": "white",
            "gridwidth": 2,
            "linecolor": "white",
            "showbackground": true,
            "ticks": "",
            "zerolinecolor": "white"
           }
          },
          "shapedefaults": {
           "line": {
            "color": "#2a3f5f"
           }
          },
          "ternary": {
           "aaxis": {
            "gridcolor": "white",
            "linecolor": "white",
            "ticks": ""
           },
           "baxis": {
            "gridcolor": "white",
            "linecolor": "white",
            "ticks": ""
           },
           "bgcolor": "#E5ECF6",
           "caxis": {
            "gridcolor": "white",
            "linecolor": "white",
            "ticks": ""
           }
          },
          "title": {
           "x": 0.05
          },
          "xaxis": {
           "automargin": true,
           "gridcolor": "white",
           "linecolor": "white",
           "ticks": "",
           "title": {
            "standoff": 15
           },
           "zerolinecolor": "white",
           "zerolinewidth": 2
          },
          "yaxis": {
           "automargin": true,
           "gridcolor": "white",
           "linecolor": "white",
           "ticks": "",
           "title": {
            "standoff": 15
           },
           "zerolinecolor": "white",
           "zerolinewidth": 2
          }
         }
        }
       }
      },
      "text/html": [
       "<div>\n",
       "        \n",
       "        \n",
       "            <div id=\"c49a0912-29cd-49bc-a6f9-d0d3fc77bc1f\" class=\"plotly-graph-div\" style=\"height:700px; width:100%;\"></div>\n",
       "            <script type=\"text/javascript\">\n",
       "                require([\"plotly\"], function(Plotly) {\n",
       "                    window.PLOTLYENV=window.PLOTLYENV || {};\n",
       "                    \n",
       "                if (document.getElementById(\"c49a0912-29cd-49bc-a6f9-d0d3fc77bc1f\")) {\n",
       "                    Plotly.newPlot(\n",
       "                        'c49a0912-29cd-49bc-a6f9-d0d3fc77bc1f',\n",
       "                        [{\"dimensions\": [{\"axis\": {\"matches\": true}, \"label\": \"Price\", \"values\": [168.76, 68.91, 104.37, 28.29, 89.0, 50.85, 27.24, 340.5, 89.04, 135.34, 72.26, 175.19, 175.0, 53.81, 103.29, 84.66, 70.56, 74.97, 37.66, 48.4, 72.34, 58.38, 173.56, 312.44, 169.85, 217.16, 161.63, 118.73, 145.85, 373.09, 44.01, 353.2, 75.11, 187.49, 41.47, 41.25, 203.55, 86.76, 55.89, 172.24, 38.53, 334.92, 164.93, 53.24, 153.63, 170.03, 115.15, 139.91, 148.63, 70.52, 113.37, 81.6]}, {\"axis\": {\"matches\": true}, \"label\": \"DividendYield\", \"values\": [3.3, 1.9, 0.9, 1.4, 0.6, 1.7, 0.7, 2.3, 2.2, 2.7, 1.3, 2.6, 1.7, 2.7, 1.9, 3.2, 2.8, 1.3, 2.3, 1.6, 0.4, 1.4, 2.3, 1.8, 1.9, 1.5, 2.5, 1.8, 1.0, 2.4, 1.1, 1.4, 1.7, 1.7, 1.7, 0.3, 1.8, 1.7, 2.1, 2.2, 1.1, 0.5, 2.3, 1.2, 1.7, 2.1, 3.3, 2.1, 0.3, 0.7, 1.8, 1.1]}, {\"axis\": {\"matches\": true}, \"label\": \"MarketCap\", \"values\": [97084.0, 8494.0, 9745.0, 12596.0, 20322.0, 7035.0, 11990.0, 191602.0, 12054.0, 76140.0, 57676.0, 27642.0, 55102.0, 34801.0, 15022.0, 35557.0, 43401.0, 12798.0, 21595.0, 6348.0, 24272.0, 8166.0, 50131.0, 17050.0, 122208.0, 8976.0, 52283.0, 28682.0, 14572.0, 105359.0, 12738.0, 59760.0, 26015.0, 24092.0, 6968.0, 5866.0, 56687.0, 27828.0, 6570.0, 20153.0, 12618.0, 34832.0, 9105.0, 28617.0, 23312.0, 119791.0, 98952.0, 120730.0, 24301.0, 13518.0, 48095.0, 14690.0]}, {\"axis\": {\"matches\": true}, \"label\": \"PERatio\", \"values\": [20.0, 16.8, 22.5, 8.5, 24.8, 20.3, 30.2, 51.2, 17.7, 12.7, 17.2, 10.7, 16.8, 7.5, 23.1, 16.4, 19.8, 20.3, 27.6, 30.6, 9.3, 20.2, 14.9, 21.2, 19.6, 13.4, 21.6, 20.3, 25.5, 17.6, 18.0, 17.2, 10.7, 16.1, 20.1, 18.6, 18.7, 26.7, 14.6, 19.9, 62.0, 30.9, 13.1, 12.3, 32.2, 19.9, 19.9, 23.4, 40.8, 38.9, 27.4, 25.6]}, {\"axis\": {\"matches\": true}, \"label\": \"PayoutRatio\", \"values\": [66.3, 32.7, 20.7, 12.0, 15.6, 33.5, 22.1, 118.4, 38.9, 34.0, 22.3, 27.7, 28.5, 20.4, 43.1, 53.0, 55.0, 25.8, 62.3, 48.1, 3.6, 29.0, 34.2, 37.4, 37.8, 20.4, 53.4, 36.3, 25.2, 41.5, 19.6, 23.9, 18.3, 27.1, 34.7, 5.4, 33.3, 46.2, 30.7, 44.4, 65.7, 16.6, 30.2, 15.3, 55.3, 41.4, 65.6, 49.2, 13.7, 26.5, 48.4, 28.3]}, {\"axis\": {\"matches\": true}, \"label\": \"Beta\", \"values\": [1.04, 0.96, 0.89, 1.48, 1.09, 0.95, 1.12, 1.16, 0.8, 1.4, 1.06, 1.1, 1.3, 1.02, 1.02, 1.11, 1.14, 1.06, 1.2, 1.54, 1.09, 1.28, 0.89, 1.02, 0.95, 0.99, 1.11, 0.98, 1.02, 0.74, 1.1, 0.76, 1.0, 1.32, 1.14, 1.16, 0.75, 0.43, 1.29, 1.21, 0.8, 0.98, 1.01, 0.88, 1.54, 1.14, 1.08, 1.06, 0.82, 1.09, 0.5, 1.1]}], \"hoverlabel\": {\"namelength\": 0}, \"hovertemplate\": \"GICSSector=Industrials<br>%{xaxis.title.text}=%{x}<br>%{yaxis.title.text}=%{y}\", \"legendgroup\": \"GICSSector=Industrials\", \"marker\": {\"color\": \"#636efa\", \"symbol\": \"circle\"}, \"name\": \"GICSSector=Industrials\", \"showlegend\": true, \"type\": \"splom\"}, {\"dimensions\": [{\"axis\": {\"matches\": true}, \"label\": \"Price\", \"values\": [77.75, 74.98, 85.65, 203.32, 87.95, 54.77, 50.02, 67.57, 282.2, 65.6, 138.45, 66.58, 125.25, 290.21, 146.06, 105.22, 82.87, 84.86, 36.77, 102.92, 126.74, 210.46, 321.67, 296.93, 144.56, 121.8]}, {\"axis\": {\"matches\": true}, \"label\": \"DividendYield\", \"values\": [5.4, 0.9, 1.8, 2.7, 0.9, 3.0, 3.8, 0.3, 0.0, 3.0, 0.5, 3.6, 1.2, 0.7, 1.1, 1.9, 2.6, 0.3, 3.9, 2.1, 1.2, 1.0, 0.4, 0.2, 0.3, 0.5]}, {\"axis\": {\"matches\": true}, \"label\": \"MarketCap\", \"values\": [114951.0, 23203.0, 17843.0, 121931.0, 44903.0, 89591.0, 14626.0, 21513.0, 13989.0, 85312.0, 99319.0, 84320.0, 42708.0, 39204.0, 27007.0, 141170.0, 212178.0, 9425.0, 203376.0, 13860.0, 18221.0, 78523.0, 14871.0, 118913.0, 12792.0, 58166.0]}, {\"axis\": {\"matches\": true}, \"label\": \"PERatio\", \"values\": [28.5, 22.2, 19.0, 16.0, 29.0, 14.4, 11.1, 37.1, 31.2, 18.4, 40.0, 14.3, 11.8, 15.8, 48.4, 31.9, 23.0, 37.2, 16.5, 19.0, 44.9, 22.2, 54.6, 33.6, 16.4, 42.5]}, {\"axis\": {\"matches\": true}, \"label\": \"PayoutRatio\", \"values\": [153.0, 19.0, 35.0, 43.6, 26.1, 42.8, 42.2, 9.9, 0.7, 56.0, 19.1, 51.6, 14.1, 11.4, 51.7, 61.9, 59.2, 12.3, 63.7, 39.2, 52.4, 21.4, 23.1, 8.2, 4.5, 21.6]}, {\"axis\": {\"matches\": true}, \"label\": \"Beta\", \"values\": [0.84, 1.1, 0.75, 0.74, 0.85, 0.8, 0.89, 0.91, 0.86, 0.82, 0.93, 0.77, 0.96, 0.86, 0.74, 0.67, 0.65, 1.26, 0.7, 0.68, 0.82, 0.96, 0.98, 1.14, 0.75, 0.95]}], \"hoverlabel\": {\"namelength\": 0}, \"hovertemplate\": \"GICSSector=Health Care<br>%{xaxis.title.text}=%{x}<br>%{yaxis.title.text}=%{y}\", \"legendgroup\": \"GICSSector=Health Care\", \"marker\": {\"color\": \"#EF553B\", \"symbol\": \"circle\"}, \"name\": \"GICSSector=Health Care\", \"showlegend\": true, \"type\": \"splom\"}, {\"dimensions\": [{\"axis\": {\"matches\": true}, \"label\": \"Price\", \"values\": [184.07, 123.76, 101.59, 105.57, 243.18, 50.53, 160.04, 280.32, 123.1, 47.05, 103.67, 60.35, 30.08, 27.98, 126.97, 53.3, 156.27, 17.12, 51.72, 134.38, 255.97, 138.49, 24.96, 158.72, 233.18, 260.85, 56.5, 92.99, 137.24, 169.09, 56.01, 195.09, 54.13, 84.07, 77.24, 56.1, 89.29, 93.54, 118.95, 133.27, 171.32, 24.52, 30.68, 93.83]}, {\"axis\": {\"matches\": true}, \"label\": \"DividendYield\", \"values\": [1.6, 1.9, 0.9, 1.9, 1.2, 1.6, 1.9, 3.5, 1.6, 2.9, 1.0, 1.3, 2.5, 2.8, 1.1, 1.2, 0.0, 3.6, 2.4, 4.7, 0.7, 1.1, 3.0, 1.9, 1.9, 0.5, 3.3, 1.6, 1.3, 1.3, 3.0, 0.3, 1.6, 2.8, 3.2, 4.5, 1.7, 1.9, 2.6, 0.4, 0.6, 3.2, 3.3, 1.5]}, {\"axis\": {\"matches\": true}, \"label\": \"MarketCap\", \"values\": [117278.0, 6323.0, 30217.0, 38998.0, 1098974.0, 46677.0, 69409.0, 111194.0, 14089.0, 199740.0, 13570.0, 33330.0, 23488.0, 7329.0, 77888.0, 7227.0, 46888.0, 25370.0, 229119.0, 119043.0, 66571.0, 10656.0, 8631.0, 25151.0, 33772.0, 264647.0, 15316.0, 22135.0, 1047883.0, 28162.0, 13325.0, 118809.0, 177682.0, 30092.0, 93897.0, 14818.0, 15331.0, 31423.0, 111054.0, 23587.0, 297822.0, 10393.0, 6788.0, 23701.0]}, {\"axis\": {\"matches\": true}, \"label\": \"PERatio\", \"values\": [24.6, 7.6, 25.8, 25.8, 20.6, 16.7, 30.3, 37.8, 29.6, 17.9, 26.1, 16.7, 16.9, 6.6, 54.6, 26.1, 50.7, 6.2, 11.9, 15.5, 42.7, 39.3, 17.5, 21.0, 16.2, 40.0, 18.7, 59.2, 26.9, 26.9, 14.1, 43.3, 17.2, 28.6, 27.1, 7.8, 16.9, 10.0, 21.7, 38.9, 32.9, 8.8, 13.5, 25.2]}, {\"axis\": {\"matches\": true}, \"label\": \"PayoutRatio\", \"values\": [39.0, 14.8, 23.8, 49.9, 25.0, 27.0, 58.0, 130.8, 46.6, 51.7, 26.5, 22.1, 42.6, 18.4, 57.7, 32.3, 1.3, 22.6, 28.2, 73.7, 31.4, 43.7, 51.9, 39.7, 30.6, 19.0, 61.0, 92.9, 36.0, 35.5, 42.2, 14.0, 27.3, 80.4, 87.0, 35.1, 28.8, 18.9, 56.2, 15.2, 18.4, 28.1, 44.1, 39.0]}, {\"axis\": {\"matches\": true}, \"label\": \"Beta\", \"values\": [0.99, 1.25, 1.12, 1.29, 1.53, 1.52, 1.05, 1.3, 0.91, 1.29, 0.63, 0.92, 1.27, 1.4, 0.89, 0.96, 1.2, 1.26, 1.23, 0.99, 1.29, 0.79, 1.07, 1.49, 1.53, 1.39, 1.35, 1.56, 1.34, 0.9, 1.5, 2.07, 1.02, 0.89, 1.0, 1.42, 1.52, 1.07, 1.28, 0.0, 1.17, 0.69, 1.34, 1.54]}], \"hoverlabel\": {\"namelength\": 0}, \"hovertemplate\": \"GICSSector=Information Technology<br>%{xaxis.title.text}=%{x}<br>%{yaxis.title.text}=%{y}\", \"legendgroup\": \"GICSSector=Information Technology\", \"marker\": {\"color\": \"#00cc96\", \"symbol\": \"circle\"}, \"name\": \"GICSSector=Information Technology\", \"showlegend\": true, \"type\": \"splom\"}, {\"dimensions\": [{\"axis\": {\"matches\": true}, \"label\": \"Price\", \"values\": [54.8, 37.74, 36.49, 45.72, 21.4, 13.85, 14.24, 76.72, 60.88, 21.95, 131.13]}, {\"axis\": {\"matches\": true}, \"label\": \"DividendYield\", \"values\": [0.6, 5.4, 2.0, 1.7, 4.3, 1.4, 1.4, 3.3, 4.0, 3.6, 1.3]}, {\"axis\": {\"matches\": true}, \"label\": \"MarketCap\", \"values\": [42033.0, 275766.0, 13671.0, 207796.0, 8286.0, 8145.0, 8374.0, 16688.0, 251799.0, 8854.0, 236214.0]}, {\"axis\": {\"matches\": true}, \"label\": \"PERatio\", \"values\": [24.9, 15.8, 4.4, 17.2, 12.6, 52.2, 53.7, 12.8, 15.9, 5.4, 16.5]}, {\"axis\": {\"matches\": true}, \"label\": \"PayoutRatio\", \"values\": [15.4, 85.1, 8.8, 30.1, 53.9, 75.4, 75.4, 42.7, 62.9, 19.7, 21.6]}, {\"axis\": {\"matches\": true}, \"label\": \"Beta\", \"values\": [1.22, 0.59, 0.99, 0.84, 0.8, 0.96, 0.95, 0.67, 0.32, 0.97, 0.81]}], \"hoverlabel\": {\"namelength\": 0}, \"hovertemplate\": \"GICSSector=Communication Services<br>%{xaxis.title.text}=%{x}<br>%{yaxis.title.text}=%{y}\", \"legendgroup\": \"GICSSector=Communication Services\", \"marker\": {\"color\": \"#ab63fa\", \"symbol\": \"circle\"}, \"name\": \"GICSSector=Communication Services\", \"showlegend\": true, \"type\": \"splom\"}, {\"dimensions\": [{\"axis\": {\"matches\": true}, \"label\": \"Price\", \"values\": [165.12, 89.37, 72.07, 24.61, 39.98, 44.0, 53.34, 110.4, 162.98, 39.2, 138.31, 9.21, 17.56, 86.57, 36.61, 104.24, 16.17, 39.56, 99.4, 95.77, 234.67, 53.26, 17.63, 44.87, 61.67, 111.51, 15.67, 123.49, 92.32, 36.65, 97.13, 39.83, 91.75, 109.89, 109.68, 82.74, 25.95, 111.36, 92.43, 59.68, 95.12, 91.49, 162.16, 115.86, 109.27]}, {\"axis\": {\"matches\": true}, \"label\": \"DividendYield\", \"values\": [0.1, 1.0, 2.6, 4.1, 1.7, 4.5, 1.1, 2.8, 0.7, 0.7, 0.9, 6.5, 5.5, 2.5, 4.2, 2.9, 3.7, 3.8, 2.7, 0.6, 2.0, 4.8, 10.2, 3.4, 0.3, 1.8, 9.6, 1.4, 1.0, 4.0, 2.6, 1.1, 0.2, 0.9, 2.6, 1.7, 5.2, 2.3, 2.4, 1.4, 1.3, 2.2, 2.9, 2.8, 1.4]}, {\"axis\": {\"matches\": true}, \"label\": \"MarketCap\", \"values\": [11787.0, 22895.0, 18995.0, 4939.0, 8256.0, 23181.0, 20077.0, 13535.0, 41896.0, 32879.0, 20263.0, 36747.0, 6598.0, 16457.0, 52269.0, 15227.0, 5846.0, 6200.0, 12544.0, 27472.0, 256998.0, 8475.0, 4872.0, 5899.0, 19587.0, 86063.0, 4840.0, 40672.0, 144114.0, 5677.0, 7502.0, 10922.0, 6802.0, 39750.0, 22984.0, 99039.0, 7469.0, 56897.0, 11165.0, 72372.0, 11344.0, 36429.0, 10301.0, 12468.0, 33249.0]}, {\"axis\": {\"matches\": true}, \"label\": \"PERatio\", \"values\": [27.4, 23.7, 12.8, 11.7, 10.8, 9.9, 12.6, 19.0, 26.1, 15.1, 33.3, 16.7, 7.1, 22.1, 5.8, 19.0, 10.4, 15.3, 48.0, 29.9, 23.3, 11.7, 8.4, 20.7, 10.2, 34.8, 4.7, 28.0, 33.6, 12.0, 17.7, 12.1, 10.2, 24.8, 12.4, 28.9, 11.7, 18.3, 20.0, 23.7, 21.0, 31.6, 9.7, 15.0, 25.5]}, {\"axis\": {\"matches\": true}, \"label\": \"PayoutRatio\", \"values\": [4.0, 23.3, 33.8, 47.9, 18.4, 45.1, 13.6, 53.7, 19.5, 10.8, 30.8, 108.8, 39.4, 55.2, 23.9, 55.0, 38.6, 57.7, 128.9, 18.7, 47.4, 56.1, 86.1, 71.2, 2.6, 62.1, 45.5, 38.8, 32.1, 48.5, 46.7, 13.4, 1.7, 21.6, 31.7, 50.3, 60.7, 42.3, 48.3, 33.8, 28.2, 68.6, 28.2, 42.0, 36.4]}, {\"axis\": {\"matches\": true}, \"label\": \"Beta\", \"values\": [0.65, 1.22, 1.26, 0.62, 1.27, 1.04, 0.73, 0.66, 0.82, 1.02, 0.84, 0.91, 1.01, 0.81, 1.06, 0.73, 1.11, 1.25, 1.02, 1.01, 0.94, 1.19, 1.41, 1.11, 0.65, 1.1, 1.14, 1.08, 1.1, 1.05, 1.11, 0.64, 1.37, 1.05, 1.22, 0.75, 1.32, 0.94, 1.11, 0.95, 0.97, 1.11, 1.17, 1.82, 0.52]}], \"hoverlabel\": {\"namelength\": 0}, \"hovertemplate\": \"GICSSector=Consumer Discretionary<br>%{xaxis.title.text}=%{x}<br>%{yaxis.title.text}=%{y}\", \"legendgroup\": \"GICSSector=Consumer Discretionary\", \"marker\": {\"color\": \"#FFA15A\", \"symbol\": \"circle\"}, \"name\": \"GICSSector=Consumer Discretionary\", \"showlegend\": true, \"type\": \"splom\"}, {\"dimensions\": [{\"axis\": {\"matches\": true}, \"label\": \"Price\", \"values\": [17.13, 53.64, 77.06, 94.44, 121.94, 113.01, 29.6, 63.29, 93.7, 82.72, 129.32, 96.17, 120.65, 63.48, 86.06, 45.65, 48.41, 40.62, 94.15, 33.18, 62.74, 148.0, 61.95, 93.15, 64.44]}, {\"axis\": {\"matches\": true}, \"label\": \"DividendYield\", \"values\": [3.1, 2.6, 2.4, 2.8, 1.6, 1.8, 3.8, 2.3, 3.1, 4.2, 2.9, 3.9, 3.0, 3.0, 2.4, 3.1, 3.1, 0.3, 3.1, 5.0, 2.9, 2.5, 3.9, 2.5, 2.4]}, {\"axis\": {\"matches\": true}, \"label\": \"MarketCap\", \"values\": [11371.0, 12740.0, 18941.0, 46633.0, 22028.0, 13357.0, 14865.0, 17960.0, 31121.0, 67988.0, 23704.0, 70069.0, 23988.0, 14947.0, 27849.0, 44352.0, 26140.0, 10276.0, 10573.0, 23964.0, 31723.0, 40633.0, 64751.0, 29382.0, 33187.0]}, {\"axis\": {\"matches\": true}, \"label\": \"PERatio\", \"values\": [28.7, 24.8, 23.7, 23.6, 37.9, 26.7, 25.9, 30.7, 22.1, 55.5, 21.3, 21.2, 23.3, 26.9, 31.7, 19.5, 23.3, 22.3, 21.0, 13.5, 21.6, 21.0, 14.5, 26.8, 26.3]}, {\"axis\": {\"matches\": true}, \"label\": \"PayoutRatio\", \"values\": [90.3, 63.8, 58.0, 65.7, 59.4, 48.6, 98.9, 71.8, 68.8, 235.2, 61.2, 81.9, 70.0, 79.9, 76.7, 60.3, 71.2, 6.6, 64.8, 66.7, 63.4, 52.9, 56.5, 65.9, 64.1]}, {\"axis\": {\"matches\": true}, \"label\": \"Beta\", \"values\": [0.66, 0.23, 0.27, 0.17, 0.24, 0.3, 0.38, 0.21, 0.19, 0.21, 0.24, 0.19, 0.19, 0.15, 0.21, 0.27, 0.33, 0.71, 0.22, 0.33, 0.33, 0.36, 0.2, 0.17, 0.25]}], \"hoverlabel\": {\"namelength\": 0}, \"hovertemplate\": \"GICSSector=Utilities<br>%{xaxis.title.text}=%{x}<br>%{yaxis.title.text}=%{y}\", \"legendgroup\": \"GICSSector=Utilities\", \"marker\": {\"color\": \"#19d3f3\", \"symbol\": \"circle\"}, \"name\": \"GICSSector=Utilities\", \"showlegend\": true, \"type\": \"splom\"}, {\"dimensions\": [{\"axis\": {\"matches\": true}, \"label\": \"Price\", \"values\": [52.47, 108.18, 116.49, 143.47, 191.44, 90.15, 126.53, 31.42, 46.73, 53.49, 457.06, 92.79, 114.03, 41.37, 150.16, 113.96, 72.45, 35.98, 202.23, 65.77, 80.52, 40.89, 249.3, 28.27, 106.71, 27.88, 211.32, 57.87, 14.47, 92.93, 17.28, 19.1, 125.12, 18.23, 61.81, 51.1, 157.8, 98.99, 46.55, 211.97, 45.91, 218.33, 101.31, 100.16, 16.94, 57.33, 91.57, 83.91, 16.28, 243.91, 65.92, 69.03, 35.09, 108.38, 132.16, 56.58, 29.27, 50.93, 184.77, 47.94]}, {\"axis\": {\"matches\": true}, \"label\": \"DividendYield\", \"values\": [2.0, 1.8, 1.4, 2.6, 0.9, 1.9, 1.9, 2.0, 2.5, 3.1, 2.9, 1.7, 1.1, 1.5, 2.0, 1.9, 2.6, 3.3, 1.4, 4.0, 2.0, 1.4, 2.2, 3.3, 0.7, 3.6, 1.8, 2.1, 3.9, 1.1, 7.1, 2.2, 2.6, 3.8, 2.3, 0.5, 2.5, 1.7, 3.7, 0.9, 2.7, 1.1, 1.8, 2.3, 4.2, 3.8, 4.1, 1.6, 3.5, 0.9, 2.9, 3.0, 2.4, 2.7, 2.4, 2.7, 3.6, 3.6, 1.4, 2.6]}, {\"axis\": {\"matches\": true}, \"label\": \"MarketCap\", \"values\": [38847.0, 35611.0, 96648.0, 18775.0, 45149.0, 16774.0, 7734.0, 292466.0, 44050.0, 40982.0, 70649.0, 43642.0, 12735.0, 54078.0, 68435.0, 18613.0, 163668.0, 16086.0, 72417.0, 9823.0, 25624.0, 9805.0, 10156.0, 20542.0, 17950.0, 14042.0, 75982.0, 20924.0, 15017.0, 52079.0, 16236.0, 5727.0, 400069.0, 18289.0, 12373.0, 15451.0, 21096.0, 50119.0, 43591.0, 40104.0, 75878.0, 18492.0, 16684.0, 21523.0, 6754.0, 15983.0, 36811.0, 11650.0, 16243.0, 60075.0, 24560.0, 30645.0, 23280.0, 25530.0, 34412.0, 89160.0, 6106.0, 224403.0, 23834.0, 8483.0]}, {\"axis\": {\"matches\": true}, \"label\": \"PERatio\", \"values\": [12.7, 13.9, 14.1, 10.4, 34.2, 24.1, 21.5, 11.5, 12.1, 13.3, 17.5, 8.0, 31.4, 15.2, 18.3, 15.2, 9.6, 9.6, 39.3, 8.2, 9.1, 9.9, 19.6, 9.1, 20.7, 10.3, 9.4, 12.8, 11.3, 26.1, 14.8, 50.1, 12.3, 11.2, 8.6, 20.9, 11.3, 33.8, 7.6, 32.5, 9.7, 32.4, 31.8, 15.1, 12.8, 10.7, 9.2, 11.6, 10.8, 30.7, 12.9, 12.6, 6.4, 13.4, 14.7, 13.0, 11.8, 10.9, 28.4, 10.6]}, {\"axis\": {\"matches\": true}, \"label\": \"PayoutRatio\", \"values\": [25.7, 24.7, 19.3, 26.7, 29.3, 44.9, 40.1, 23.0, 29.7, 41.4, 49.8, 13.8, 34.2, 23.5, 35.8, 29.1, 24.6, 31.5, 56.4, 32.7, 18.5, 13.5, 43.2, 29.5, 14.3, 37.3, 16.4, 26.5, 43.8, 28.9, 104.6, 111.4, 32.5, 42.7, 20.0, 10.2, 28.7, 58.0, 27.7, 28.8, 26.3, 34.4, 57.1, 34.6, 53.4, 40.1, 38.1, 18.3, 38.1, 27.0, 37.7, 37.5, 15.4, 36.2, 35.5, 35.1, 41.8, 39.4, 38.4, 27.5]}, {\"axis\": {\"matches\": true}, \"label\": \"Beta\", \"values\": [0.68, 0.69, 1.06, 1.46, 0.77, 0.74, 0.76, 1.13, 0.78, 0.83, 1.21, 1.19, 0.31, 1.18, 0.62, 0.66, 1.29, 1.07, 0.39, 0.97, 1.27, 1.27, 0.5, 0.95, 0.93, 1.05, 1.18, 0.72, 0.96, 0.61, 1.2, 1.28, 0.97, 1.06, 1.35, 0.9, 0.82, 0.81, 1.03, 1.22, 1.22, 1.3, 0.84, 1.14, 0.9, 1.18, 1.2, 1.16, 1.11, 1.0, 1.03, 0.91, 1.01, 1.22, 0.69, 0.79, 1.24, 0.84, 0.73, 0.99]}], \"hoverlabel\": {\"namelength\": 0}, \"hovertemplate\": \"GICSSector=Financials<br>%{xaxis.title.text}=%{x}<br>%{yaxis.title.text}=%{y}\", \"legendgroup\": \"GICSSector=Financials\", \"marker\": {\"color\": \"#FF6692\", \"symbol\": \"circle\"}, \"name\": \"GICSSector=Financials\", \"showlegend\": true, \"type\": \"splom\"}, {\"dimensions\": [{\"axis\": {\"matches\": true}, \"label\": \"Price\", \"values\": [210.06, 67.46, 71.08, 121.76, 45.82, 74.82, 188.35, 82.53, 10.13, 43.39, 193.7, 88.21, 264.06, 20.17, 52.97, 110.06, 124.47, 41.69, 563.87, 144.49, 38.25]}, {\"axis\": {\"matches\": true}, \"label\": \"DividendYield\", \"values\": [2.2, 2.1, 0.6, 1.9, 2.6, 3.2, 1.0, 1.7, 2.0, 4.6, 1.8, 4.6, 0.7, 0.6, 3.0, 2.9, 1.6, 1.5, 0.8, 0.8, 4.7]}, {\"axis\": {\"matches\": true}, \"label\": \"MarketCap\", \"values\": [46287.0, 7149.0, 23598.0, 15066.0, 10003.0, 10249.0, 54198.0, 10764.0, 14697.0, 17045.0, 104712.0, 29572.0, 16487.0, 7782.0, 16058.0, 10418.0, 29411.0, 6442.0, 52020.0, 19114.0, 9843.0]}, {\"axis\": {\"matches\": true}, \"label\": \"PERatio\", \"values\": [27.1, 13.1, 45.6, 16.9, 22.6, 11.4, 36.3, 21.2, 22.8, 10.9, 19.3, 9.2, 32.7, 30.2, 9.0, 13.2, 24.4, 17.8, 37.2, 33.9, 11.7]}, {\"axis\": {\"matches\": true}, \"label\": \"PayoutRatio\", \"values\": [58.2, 27.3, 28.8, 32.2, 59.3, 37.0, 34.5, 35.1, 45.0, 49.7, 33.9, 42.4, 23.8, 18.7, 27.3, 37.8, 38.3, 27.4, 28.0, 27.7, 55.1]}, {\"axis\": {\"matches\": true}, \"label\": \"Beta\", \"values\": [0.82, 1.41, 0.7, 1.15, 1.19, 1.26, 0.81, 1.12, 1.61, 1.16, 0.75, 1.11, 0.68, 1.29, 1.16, 1.08, 0.92, 0.58, 0.82, 0.9, 1.3]}], \"hoverlabel\": {\"namelength\": 0}, \"hovertemplate\": \"GICSSector=Materials<br>%{xaxis.title.text}=%{x}<br>%{yaxis.title.text}=%{y}\", \"legendgroup\": \"GICSSector=Materials\", \"marker\": {\"color\": \"#B6E880\", \"symbol\": \"circle\"}, \"name\": \"GICSSector=Materials\", \"showlegend\": true, \"type\": \"splom\"}, {\"dimensions\": [{\"axis\": {\"matches\": true}, \"label\": \"Price\", \"values\": [157.73, 54.7, 221.53, 130.97, 34.19, 87.84, 328.34, 115.68, 140.05, 37.93, 16.85, 34.3, 21.26, 28.94, 91.87, 240.42, 80.3, 69.29, 154.69, 84.11, 73.18, 64.71]}, {\"axis\": {\"matches\": true}, \"label\": \"DividendYield\", \"values\": [2.5, 2.9, 2.7, 2.9, 2.5, 2.6, 2.3, 3.0, 2.9, 3.9, 4.7, 7.1, 5.3, 10.3, 2.3, 3.3, 3.3, 3.3, 5.2, 4.0, 4.3, 4.0]}, {\"axis\": {\"matches\": true}, \"label\": \"MarketCap\", \"values\": [17980.0, 8143.0, 30938.0, 20243.0, 12465.0, 32575.0, 21581.0, 15666.0, 10585.0, 18627.0, 12298.0, 9847.0, 8976.0, 4389.0, 57981.0, 41976.0, 25553.0, 11634.0, 102532.0, 7290.0, 27265.0, 12347.0]}, {\"axis\": {\"matches\": true}, \"label\": \"PERatio\", \"values\": [45.0, 23.9, 33.5, 38.3, 53.1, 40.4, 52.8, 34.1, 42.4, 18.4, 11.4, 33.7, 26.4, 37.7, 32.5, 28.7, 61.3, 40.5, 22.1, 39.4, 52.4, 4.3]}, {\"axis\": {\"matches\": true}, \"label\": \"PayoutRatio\", \"values\": [110.4, 69.0, 90.5, 111.1, 131.2, 103.2, 122.5, 102.5, 123.6, 71.8, 54.0, 237.5, 139.2, 389.7, 73.3, 95.4, 204.4, 133.1, 115.6, 159.2, 227.0, 17.1]}, {\"axis\": {\"matches\": true}, \"label\": \"Beta\", \"values\": [0.58, 0.45, 0.41, 0.66, 0.59, 0.37, 0.4, 0.24, 0.49, 0.3, 0.86, 0.56, 0.66, 0.7, 0.72, 0.13, 0.35, 0.49, 0.56, 0.66, 0.27, 0.63]}], \"hoverlabel\": {\"namelength\": 0}, \"hovertemplate\": \"GICSSector=Real Estate<br>%{xaxis.title.text}=%{x}<br>%{yaxis.title.text}=%{y}\", \"legendgroup\": \"GICSSector=Real Estate\", \"marker\": {\"color\": \"#FF97FF\", \"symbol\": \"circle\"}, \"name\": \"GICSSector=Real Estate\", \"showlegend\": true, \"type\": \"splom\"}, {\"dimensions\": [{\"axis\": {\"matches\": true}, \"label\": \"Price\", \"values\": [46.75, 40.73, 64.7, 47.8, 75.28, 149.81, 54.64, 67.54, 27.61, 197.54, 297.32, 185.9, 51.18, 149.71, 40.78, 107.81, 62.21, 134.29, 24.98, 74.81, 160.46, 59.47, 52.65, 137.45, 81.78, 78.84, 77.5, 119.35, 54.56]}, {\"axis\": {\"matches\": true}, \"label\": \"DividendYield\", \"values\": [6.8, 3.4, 1.0, 2.9, 1.2, 2.6, 2.9, 2.5, 3.1, 1.5, 0.8, 0.9, 3.8, 1.9, 2.0, 3.2, 3.6, 3.0, 2.3, 1.1, 1.4, 2.8, 2.0, 2.7, 5.6, 1.9, 1.9, 1.8, 3.2]}, {\"axis\": {\"matches\": true}, \"label\": \"MarketCap\", \"values\": [87333.0, 22685.0, 30896.0, 14396.0, 18601.0, 18800.0, 233642.0, 57949.0, 13436.0, 37855.0, 130718.0, 67132.0, 30932.0, 31376.0, 21775.0, 12295.0, 21190.0, 46222.0, 20024.0, 10926.0, 21327.0, 12862.0, 75929.0, 191664.0, 127236.0, 40366.0, 22837.0, 339464.0, 49275.0]}, {\"axis\": {\"matches\": true}, \"label\": \"PERatio\", \"values\": [13.9, 17.4, 37.7, 53.9, 30.7, 23.3, 30.2, 25.7, 19.3, 47.9, 35.7, 37.9, 16.4, 25.1, 22.1, 22.9, 24.7, 22.9, 12.2, 23.0, 30.2, 14.4, 20.6, 15.6, 17.0, 24.3, 12.6, 26.8, 10.7]}, {\"axis\": {\"matches\": true}, \"label\": \"PayoutRatio\", \"values\": [95.0, 58.5, 38.2, 157.8, 36.3, 61.3, 87.9, 64.2, 59.5, 72.2, 29.3, 34.0, 62.9, 48.4, 44.3, 72.8, 88.9, 69.7, 28.3, 24.3, 41.9, 39.6, 40.8, 42.7, 95.6, 47.1, 24.4, 47.1, 34.4]}, {\"axis\": {\"matches\": true}, \"label\": \"Beta\", \"values\": [0.63, 0.8, 0.73, 0.35, 0.33, 0.42, 0.43, 0.59, 0.78, 0.77, 0.85, 1.03, 0.36, 0.24, 0.45, 0.26, 0.42, 0.44, 0.63, 0.3, 0.41, 0.65, 0.57, 0.51, 0.6, 0.49, 0.48, 0.61, 0.97]}], \"hoverlabel\": {\"namelength\": 0}, \"hovertemplate\": \"GICSSector=Consumer Staples<br>%{xaxis.title.text}=%{x}<br>%{yaxis.title.text}=%{y}\", \"legendgroup\": \"GICSSector=Consumer Staples\", \"marker\": {\"color\": \"#FECB52\", \"symbol\": \"circle\"}, \"name\": \"GICSSector=Consumer Staples\", \"showlegend\": true, \"type\": \"splom\"}, {\"dimensions\": [{\"axis\": {\"matches\": true}, \"label\": \"Price\", \"values\": [21.77, 18.52, 117.98, 44.57, 65.44, 56.25, 21.3, 87.16, 71.94, 69.75, 20.21, 55.63, 20.4, 12.01, 65.87, 42.92, 70.91, 109.0, 130.6, 93.85]}, {\"axis\": {\"matches\": true}, \"label\": \"DividendYield\", \"values\": [3.3, 1.6, 3.9, 1.7, 0.4, 2.1, 1.6, 0.6, 1.3, 4.8, 3.6, 2.4, 4.4, 1.7, 3.0, 7.3, 4.8, 3.0, 0.4, 3.6]}, {\"axis\": {\"matches\": true}, \"label\": \"MarketCap\", \"values\": [22348.0, 7748.0, 223975.0, 4521.0, 13158.0, 62445.0, 8609.0, 14210.0, 41750.0, 295119.0, 17702.0, 9155.0, 46181.0, 9656.0, 43363.0, 38391.0, 29283.0, 48941.0, 21829.0, 38891.0]}, {\"axis\": {\"matches\": true}, \"label\": \"PERatio\", \"values\": [62.2, 9.4, 15.2, 7.2, 25.8, 9.0, 2.6, 13.9, 11.6, 16.8, 14.9, 10.3, 22.5, 10.2, 14.1, 8.5, 23.3, 9.4, 24.5, 15.4]}, {\"axis\": {\"matches\": true}, \"label\": \"PayoutRatio\", \"values\": [205.7, 14.7, 59.4, 12.3, 9.9, 19.2, 4.2, 9.0, 15.3, 80.2, 53.0, 24.4, 99.1, 16.9, 42.3, 61.6, 111.9, 28.4, 9.0, 55.9]}, {\"axis\": {\"matches\": true}, \"label\": \"Beta\", \"values\": [1.03, 0.55, 0.84, 1.61, 1.43, 1.08, 1.55, 1.27, 1.26, 0.91, 1.27, 1.39, 0.79, 1.53, 1.32, 0.91, 0.94, 1.05, 1.35, 1.21]}], \"hoverlabel\": {\"namelength\": 0}, \"hovertemplate\": \"GICSSector=Energy<br>%{xaxis.title.text}=%{x}<br>%{yaxis.title.text}=%{y}\", \"legendgroup\": \"GICSSector=Energy\", \"marker\": {\"color\": \"#636efa\", \"symbol\": \"circle\"}, \"name\": \"GICSSector=Energy\", \"showlegend\": true, \"type\": \"splom\"}],\n",
       "                        {\"dragmode\": \"select\", \"height\": 700, \"legend\": {\"tracegroupgap\": 0}, \"margin\": {\"t\": 60}, \"template\": {\"data\": {\"bar\": [{\"error_x\": {\"color\": \"#2a3f5f\"}, \"error_y\": {\"color\": \"#2a3f5f\"}, \"marker\": {\"line\": {\"color\": \"#E5ECF6\", \"width\": 0.5}}, \"type\": \"bar\"}], \"barpolar\": [{\"marker\": {\"line\": {\"color\": \"#E5ECF6\", \"width\": 0.5}}, \"type\": \"barpolar\"}], \"carpet\": [{\"aaxis\": {\"endlinecolor\": \"#2a3f5f\", \"gridcolor\": \"white\", \"linecolor\": \"white\", \"minorgridcolor\": \"white\", \"startlinecolor\": \"#2a3f5f\"}, \"baxis\": {\"endlinecolor\": \"#2a3f5f\", \"gridcolor\": \"white\", \"linecolor\": \"white\", \"minorgridcolor\": \"white\", \"startlinecolor\": \"#2a3f5f\"}, \"type\": \"carpet\"}], \"choropleth\": [{\"colorbar\": {\"outlinewidth\": 0, \"ticks\": \"\"}, \"type\": \"choropleth\"}], \"contour\": [{\"colorbar\": {\"outlinewidth\": 0, \"ticks\": \"\"}, \"colorscale\": [[0.0, \"#0d0887\"], [0.1111111111111111, \"#46039f\"], [0.2222222222222222, \"#7201a8\"], [0.3333333333333333, \"#9c179e\"], [0.4444444444444444, \"#bd3786\"], [0.5555555555555556, \"#d8576b\"], [0.6666666666666666, \"#ed7953\"], [0.7777777777777778, \"#fb9f3a\"], [0.8888888888888888, \"#fdca26\"], [1.0, \"#f0f921\"]], \"type\": \"contour\"}], \"contourcarpet\": [{\"colorbar\": {\"outlinewidth\": 0, \"ticks\": \"\"}, \"type\": \"contourcarpet\"}], \"heatmap\": [{\"colorbar\": {\"outlinewidth\": 0, \"ticks\": \"\"}, \"colorscale\": [[0.0, \"#0d0887\"], [0.1111111111111111, \"#46039f\"], [0.2222222222222222, \"#7201a8\"], [0.3333333333333333, \"#9c179e\"], [0.4444444444444444, \"#bd3786\"], [0.5555555555555556, \"#d8576b\"], [0.6666666666666666, \"#ed7953\"], [0.7777777777777778, \"#fb9f3a\"], [0.8888888888888888, \"#fdca26\"], [1.0, \"#f0f921\"]], \"type\": \"heatmap\"}], \"heatmapgl\": [{\"colorbar\": {\"outlinewidth\": 0, \"ticks\": \"\"}, \"colorscale\": [[0.0, \"#0d0887\"], [0.1111111111111111, \"#46039f\"], [0.2222222222222222, \"#7201a8\"], [0.3333333333333333, \"#9c179e\"], [0.4444444444444444, \"#bd3786\"], [0.5555555555555556, \"#d8576b\"], [0.6666666666666666, \"#ed7953\"], [0.7777777777777778, \"#fb9f3a\"], [0.8888888888888888, \"#fdca26\"], [1.0, \"#f0f921\"]], \"type\": \"heatmapgl\"}], \"histogram\": [{\"marker\": {\"colorbar\": {\"outlinewidth\": 0, \"ticks\": \"\"}}, \"type\": \"histogram\"}], \"histogram2d\": [{\"colorbar\": {\"outlinewidth\": 0, \"ticks\": \"\"}, \"colorscale\": [[0.0, \"#0d0887\"], [0.1111111111111111, \"#46039f\"], [0.2222222222222222, \"#7201a8\"], [0.3333333333333333, \"#9c179e\"], [0.4444444444444444, \"#bd3786\"], [0.5555555555555556, \"#d8576b\"], [0.6666666666666666, \"#ed7953\"], [0.7777777777777778, \"#fb9f3a\"], [0.8888888888888888, \"#fdca26\"], [1.0, \"#f0f921\"]], \"type\": \"histogram2d\"}], \"histogram2dcontour\": [{\"colorbar\": {\"outlinewidth\": 0, \"ticks\": \"\"}, \"colorscale\": [[0.0, \"#0d0887\"], [0.1111111111111111, \"#46039f\"], [0.2222222222222222, \"#7201a8\"], [0.3333333333333333, \"#9c179e\"], [0.4444444444444444, \"#bd3786\"], [0.5555555555555556, \"#d8576b\"], [0.6666666666666666, \"#ed7953\"], [0.7777777777777778, \"#fb9f3a\"], [0.8888888888888888, \"#fdca26\"], [1.0, \"#f0f921\"]], \"type\": \"histogram2dcontour\"}], \"mesh3d\": [{\"colorbar\": {\"outlinewidth\": 0, \"ticks\": \"\"}, \"type\": \"mesh3d\"}], \"parcoords\": [{\"line\": {\"colorbar\": {\"outlinewidth\": 0, \"ticks\": \"\"}}, \"type\": \"parcoords\"}], \"pie\": [{\"automargin\": true, \"type\": \"pie\"}], \"scatter\": [{\"marker\": {\"colorbar\": {\"outlinewidth\": 0, \"ticks\": \"\"}}, \"type\": \"scatter\"}], \"scatter3d\": [{\"line\": {\"colorbar\": {\"outlinewidth\": 0, \"ticks\": \"\"}}, \"marker\": {\"colorbar\": {\"outlinewidth\": 0, \"ticks\": \"\"}}, \"type\": \"scatter3d\"}], \"scattercarpet\": [{\"marker\": {\"colorbar\": {\"outlinewidth\": 0, \"ticks\": \"\"}}, \"type\": \"scattercarpet\"}], \"scattergeo\": [{\"marker\": {\"colorbar\": {\"outlinewidth\": 0, \"ticks\": \"\"}}, \"type\": \"scattergeo\"}], \"scattergl\": [{\"marker\": {\"colorbar\": {\"outlinewidth\": 0, \"ticks\": \"\"}}, \"type\": \"scattergl\"}], \"scattermapbox\": [{\"marker\": {\"colorbar\": {\"outlinewidth\": 0, \"ticks\": \"\"}}, \"type\": \"scattermapbox\"}], \"scatterpolar\": [{\"marker\": {\"colorbar\": {\"outlinewidth\": 0, \"ticks\": \"\"}}, \"type\": \"scatterpolar\"}], \"scatterpolargl\": [{\"marker\": {\"colorbar\": {\"outlinewidth\": 0, \"ticks\": \"\"}}, \"type\": \"scatterpolargl\"}], \"scatterternary\": [{\"marker\": {\"colorbar\": {\"outlinewidth\": 0, \"ticks\": \"\"}}, \"type\": \"scatterternary\"}], \"surface\": [{\"colorbar\": {\"outlinewidth\": 0, \"ticks\": \"\"}, \"colorscale\": [[0.0, \"#0d0887\"], [0.1111111111111111, \"#46039f\"], [0.2222222222222222, \"#7201a8\"], [0.3333333333333333, \"#9c179e\"], [0.4444444444444444, \"#bd3786\"], [0.5555555555555556, \"#d8576b\"], [0.6666666666666666, \"#ed7953\"], [0.7777777777777778, \"#fb9f3a\"], [0.8888888888888888, \"#fdca26\"], [1.0, \"#f0f921\"]], \"type\": \"surface\"}], \"table\": [{\"cells\": {\"fill\": {\"color\": \"#EBF0F8\"}, \"line\": {\"color\": \"white\"}}, \"header\": {\"fill\": {\"color\": \"#C8D4E3\"}, \"line\": {\"color\": \"white\"}}, \"type\": \"table\"}]}, \"layout\": {\"annotationdefaults\": {\"arrowcolor\": \"#2a3f5f\", \"arrowhead\": 0, \"arrowwidth\": 1}, \"coloraxis\": {\"colorbar\": {\"outlinewidth\": 0, \"ticks\": \"\"}}, \"colorscale\": {\"diverging\": [[0, \"#8e0152\"], [0.1, \"#c51b7d\"], [0.2, \"#de77ae\"], [0.3, \"#f1b6da\"], [0.4, \"#fde0ef\"], [0.5, \"#f7f7f7\"], [0.6, \"#e6f5d0\"], [0.7, \"#b8e186\"], [0.8, \"#7fbc41\"], [0.9, \"#4d9221\"], [1, \"#276419\"]], \"sequential\": [[0.0, \"#0d0887\"], [0.1111111111111111, \"#46039f\"], [0.2222222222222222, \"#7201a8\"], [0.3333333333333333, \"#9c179e\"], [0.4444444444444444, \"#bd3786\"], [0.5555555555555556, \"#d8576b\"], [0.6666666666666666, \"#ed7953\"], [0.7777777777777778, \"#fb9f3a\"], [0.8888888888888888, \"#fdca26\"], [1.0, \"#f0f921\"]], \"sequentialminus\": [[0.0, \"#0d0887\"], [0.1111111111111111, \"#46039f\"], [0.2222222222222222, \"#7201a8\"], [0.3333333333333333, \"#9c179e\"], [0.4444444444444444, \"#bd3786\"], [0.5555555555555556, \"#d8576b\"], [0.6666666666666666, \"#ed7953\"], [0.7777777777777778, \"#fb9f3a\"], [0.8888888888888888, \"#fdca26\"], [1.0, \"#f0f921\"]]}, \"colorway\": [\"#636efa\", \"#EF553B\", \"#00cc96\", \"#ab63fa\", \"#FFA15A\", \"#19d3f3\", \"#FF6692\", \"#B6E880\", \"#FF97FF\", \"#FECB52\"], \"font\": {\"color\": \"#2a3f5f\"}, \"geo\": {\"bgcolor\": \"white\", \"lakecolor\": \"white\", \"landcolor\": \"#E5ECF6\", \"showlakes\": true, \"showland\": true, \"subunitcolor\": \"white\"}, \"hoverlabel\": {\"align\": \"left\"}, \"hovermode\": \"closest\", \"mapbox\": {\"style\": \"light\"}, \"paper_bgcolor\": \"white\", \"plot_bgcolor\": \"#E5ECF6\", \"polar\": {\"angularaxis\": {\"gridcolor\": \"white\", \"linecolor\": \"white\", \"ticks\": \"\"}, \"bgcolor\": \"#E5ECF6\", \"radialaxis\": {\"gridcolor\": \"white\", \"linecolor\": \"white\", \"ticks\": \"\"}}, \"scene\": {\"xaxis\": {\"backgroundcolor\": \"#E5ECF6\", \"gridcolor\": \"white\", \"gridwidth\": 2, \"linecolor\": \"white\", \"showbackground\": true, \"ticks\": \"\", \"zerolinecolor\": \"white\"}, \"yaxis\": {\"backgroundcolor\": \"#E5ECF6\", \"gridcolor\": \"white\", \"gridwidth\": 2, \"linecolor\": \"white\", \"showbackground\": true, \"ticks\": \"\", \"zerolinecolor\": \"white\"}, \"zaxis\": {\"backgroundcolor\": \"#E5ECF6\", \"gridcolor\": \"white\", \"gridwidth\": 2, \"linecolor\": \"white\", \"showbackground\": true, \"ticks\": \"\", \"zerolinecolor\": \"white\"}}, \"shapedefaults\": {\"line\": {\"color\": \"#2a3f5f\"}}, \"ternary\": {\"aaxis\": {\"gridcolor\": \"white\", \"linecolor\": \"white\", \"ticks\": \"\"}, \"baxis\": {\"gridcolor\": \"white\", \"linecolor\": \"white\", \"ticks\": \"\"}, \"bgcolor\": \"#E5ECF6\", \"caxis\": {\"gridcolor\": \"white\", \"linecolor\": \"white\", \"ticks\": \"\"}}, \"title\": {\"x\": 0.05}, \"xaxis\": {\"automargin\": true, \"gridcolor\": \"white\", \"linecolor\": \"white\", \"ticks\": \"\", \"title\": {\"standoff\": 15}, \"zerolinecolor\": \"white\", \"zerolinewidth\": 2}, \"yaxis\": {\"automargin\": true, \"gridcolor\": \"white\", \"linecolor\": \"white\", \"ticks\": \"\", \"title\": {\"standoff\": 15}, \"zerolinecolor\": \"white\", \"zerolinewidth\": 2}}}},\n",
       "                        {\"responsive\": true}\n",
       "                    ).then(function(){\n",
       "                            \n",
       "var gd = document.getElementById('c49a0912-29cd-49bc-a6f9-d0d3fc77bc1f');\n",
       "var x = new MutationObserver(function (mutations, observer) {{\n",
       "        var display = window.getComputedStyle(gd).display;\n",
       "        if (!display || display === 'none') {{\n",
       "            console.log([gd, 'removed!']);\n",
       "            Plotly.purge(gd);\n",
       "            observer.disconnect();\n",
       "        }}\n",
       "}});\n",
       "\n",
       "// Listen for the removal of the full notebook cells\n",
       "var notebookContainer = gd.closest('#notebook-container');\n",
       "if (notebookContainer) {{\n",
       "    x.observe(notebookContainer, {childList: true});\n",
       "}}\n",
       "\n",
       "// Listen for the clearing of the current output cell\n",
       "var outputEl = gd.closest('.output');\n",
       "if (outputEl) {{\n",
       "    x.observe(outputEl, {childList: true});\n",
       "}}\n",
       "\n",
       "                        })\n",
       "                };\n",
       "                });\n",
       "            </script>\n",
       "        </div>"
      ]
     },
     "metadata": {},
     "output_type": "display_data"
    }
   ],
   "source": [
    "# have a look on relationships of numeric variables\n",
    "px.scatter_matrix(fullDataNoOutliers,dimensions=numericalVar,color='GICSSector',height = 700)"
   ]
  },
  {
   "cell_type": "code",
   "execution_count": 14,
   "metadata": {},
   "outputs": [
    {
     "data": {
      "text/html": [
       "<div>\n",
       "<style scoped>\n",
       "    .dataframe tbody tr th:only-of-type {\n",
       "        vertical-align: middle;\n",
       "    }\n",
       "\n",
       "    .dataframe tbody tr th {\n",
       "        vertical-align: top;\n",
       "    }\n",
       "\n",
       "    .dataframe thead th {\n",
       "        text-align: right;\n",
       "    }\n",
       "</style>\n",
       "<table border=\"1\" class=\"dataframe\">\n",
       "  <thead>\n",
       "    <tr style=\"text-align: right;\">\n",
       "      <th></th>\n",
       "      <th>Symbol</th>\n",
       "      <th>Security</th>\n",
       "      <th>SECfilings</th>\n",
       "      <th>GICSSector</th>\n",
       "      <th>GICSSubIndustry</th>\n",
       "      <th>Price</th>\n",
       "      <th>DividendYield</th>\n",
       "      <th>MarketCap</th>\n",
       "      <th>PERatio</th>\n",
       "      <th>PayoutRatio</th>\n",
       "      <th>Beta</th>\n",
       "    </tr>\n",
       "  </thead>\n",
       "  <tbody>\n",
       "    <tr>\n",
       "      <td>49</td>\n",
       "      <td>AAPL</td>\n",
       "      <td>Apple Inc.</td>\n",
       "      <td>reports</td>\n",
       "      <td>Information Technology</td>\n",
       "      <td>Technology Hardware, Storage &amp; Peripherals</td>\n",
       "      <td>243.18</td>\n",
       "      <td>1.2</td>\n",
       "      <td>1098974.0</td>\n",
       "      <td>20.6</td>\n",
       "      <td>25.0</td>\n",
       "      <td>1.53</td>\n",
       "    </tr>\n",
       "    <tr>\n",
       "      <td>322</td>\n",
       "      <td>MSFT</td>\n",
       "      <td>Microsoft Corp.</td>\n",
       "      <td>reports</td>\n",
       "      <td>Information Technology</td>\n",
       "      <td>Systems Software</td>\n",
       "      <td>137.24</td>\n",
       "      <td>1.3</td>\n",
       "      <td>1047883.0</td>\n",
       "      <td>26.9</td>\n",
       "      <td>36.0</td>\n",
       "      <td>1.34</td>\n",
       "    </tr>\n",
       "  </tbody>\n",
       "</table>\n",
       "</div>"
      ],
      "text/plain": [
       "    Symbol         Security SECfilings              GICSSector  \\\n",
       "49    AAPL       Apple Inc.    reports  Information Technology   \n",
       "322   MSFT  Microsoft Corp.    reports  Information Technology   \n",
       "\n",
       "                                GICSSubIndustry   Price  DividendYield  \\\n",
       "49   Technology Hardware, Storage & Peripherals  243.18            1.2   \n",
       "322                            Systems Software  137.24            1.3   \n",
       "\n",
       "     MarketCap  PERatio  PayoutRatio  Beta  \n",
       "49   1098974.0     20.6         25.0  1.53  \n",
       "322  1047883.0     26.9         36.0  1.34  "
      ]
     },
     "execution_count": 14,
     "metadata": {},
     "output_type": "execute_result"
    }
   ],
   "source": [
    "# I think now it's good enough. But there are two big companies in IT sector, what are they?\n",
    "fullDataNoOutliers[fullDataNoOutliers.MarketCap>1000000]"
   ]
  },
  {
   "cell_type": "code",
   "execution_count": 15,
   "metadata": {},
   "outputs": [
    {
     "data": {
      "application/vnd.plotly.v1+json": {
       "config": {
        "plotlyServerURL": "https://plot.ly"
       },
       "data": [
        {
         "colorscale": [
          [
           0,
           "rgb(209,229,240)"
          ],
          [
           0.25,
           "rgb(247,247,247)"
          ],
          [
           0.5,
           "rgb(253,219,199)"
          ],
          [
           0.75,
           "rgb(244,165,130)"
          ],
          [
           1,
           "rgb(214,96,77)"
          ]
         ],
         "type": "heatmap",
         "x": [
          "Price",
          "DividendYield",
          "MarketCap",
          "PERatio",
          "PayoutRatio",
          "Beta"
         ],
         "y": [
          "Price",
          "DividendYield",
          "MarketCap",
          "PERatio",
          "PayoutRatio",
          "Beta"
         ],
         "z": [
          [
           1,
           -0.3538864364170704,
           0.1885817540265621,
           0.30350335753870133,
           -0.10080905780741052,
           -0.017224349463311625
          ],
          [
           -0.3538864364170704,
           1,
           -0.03533129463188885,
           -0.29038343651078763,
           0.5908398281448044,
           -0.11389902461891115
          ],
          [
           0.1885817540265621,
           -0.03533129463188885,
           1,
           0.016456994450420738,
           -0.018778805554819044,
           0.07680845313146586
          ],
          [
           0.30350335753870133,
           -0.29038343651078763,
           0.016456994450420738,
           1,
           0.4573599403226215,
           -0.24730216201341773
          ],
          [
           -0.10080905780741052,
           0.5908398281448044,
           -0.018778805554819044,
           0.4573599403226215,
           1,
           -0.345383871209606
          ],
          [
           -0.017224349463311625,
           -0.11389902461891115,
           0.07680845313146586,
           -0.24730216201341773,
           -0.345383871209606,
           1
          ]
         ]
        }
       ],
       "layout": {
        "height": 400,
        "template": {
         "data": {
          "bar": [
           {
            "error_x": {
             "color": "#2a3f5f"
            },
            "error_y": {
             "color": "#2a3f5f"
            },
            "marker": {
             "line": {
              "color": "#E5ECF6",
              "width": 0.5
             }
            },
            "type": "bar"
           }
          ],
          "barpolar": [
           {
            "marker": {
             "line": {
              "color": "#E5ECF6",
              "width": 0.5
             }
            },
            "type": "barpolar"
           }
          ],
          "carpet": [
           {
            "aaxis": {
             "endlinecolor": "#2a3f5f",
             "gridcolor": "white",
             "linecolor": "white",
             "minorgridcolor": "white",
             "startlinecolor": "#2a3f5f"
            },
            "baxis": {
             "endlinecolor": "#2a3f5f",
             "gridcolor": "white",
             "linecolor": "white",
             "minorgridcolor": "white",
             "startlinecolor": "#2a3f5f"
            },
            "type": "carpet"
           }
          ],
          "choropleth": [
           {
            "colorbar": {
             "outlinewidth": 0,
             "ticks": ""
            },
            "type": "choropleth"
           }
          ],
          "contour": [
           {
            "colorbar": {
             "outlinewidth": 0,
             "ticks": ""
            },
            "colorscale": [
             [
              0,
              "#0d0887"
             ],
             [
              0.1111111111111111,
              "#46039f"
             ],
             [
              0.2222222222222222,
              "#7201a8"
             ],
             [
              0.3333333333333333,
              "#9c179e"
             ],
             [
              0.4444444444444444,
              "#bd3786"
             ],
             [
              0.5555555555555556,
              "#d8576b"
             ],
             [
              0.6666666666666666,
              "#ed7953"
             ],
             [
              0.7777777777777778,
              "#fb9f3a"
             ],
             [
              0.8888888888888888,
              "#fdca26"
             ],
             [
              1,
              "#f0f921"
             ]
            ],
            "type": "contour"
           }
          ],
          "contourcarpet": [
           {
            "colorbar": {
             "outlinewidth": 0,
             "ticks": ""
            },
            "type": "contourcarpet"
           }
          ],
          "heatmap": [
           {
            "colorbar": {
             "outlinewidth": 0,
             "ticks": ""
            },
            "colorscale": [
             [
              0,
              "#0d0887"
             ],
             [
              0.1111111111111111,
              "#46039f"
             ],
             [
              0.2222222222222222,
              "#7201a8"
             ],
             [
              0.3333333333333333,
              "#9c179e"
             ],
             [
              0.4444444444444444,
              "#bd3786"
             ],
             [
              0.5555555555555556,
              "#d8576b"
             ],
             [
              0.6666666666666666,
              "#ed7953"
             ],
             [
              0.7777777777777778,
              "#fb9f3a"
             ],
             [
              0.8888888888888888,
              "#fdca26"
             ],
             [
              1,
              "#f0f921"
             ]
            ],
            "type": "heatmap"
           }
          ],
          "heatmapgl": [
           {
            "colorbar": {
             "outlinewidth": 0,
             "ticks": ""
            },
            "colorscale": [
             [
              0,
              "#0d0887"
             ],
             [
              0.1111111111111111,
              "#46039f"
             ],
             [
              0.2222222222222222,
              "#7201a8"
             ],
             [
              0.3333333333333333,
              "#9c179e"
             ],
             [
              0.4444444444444444,
              "#bd3786"
             ],
             [
              0.5555555555555556,
              "#d8576b"
             ],
             [
              0.6666666666666666,
              "#ed7953"
             ],
             [
              0.7777777777777778,
              "#fb9f3a"
             ],
             [
              0.8888888888888888,
              "#fdca26"
             ],
             [
              1,
              "#f0f921"
             ]
            ],
            "type": "heatmapgl"
           }
          ],
          "histogram": [
           {
            "marker": {
             "colorbar": {
              "outlinewidth": 0,
              "ticks": ""
             }
            },
            "type": "histogram"
           }
          ],
          "histogram2d": [
           {
            "colorbar": {
             "outlinewidth": 0,
             "ticks": ""
            },
            "colorscale": [
             [
              0,
              "#0d0887"
             ],
             [
              0.1111111111111111,
              "#46039f"
             ],
             [
              0.2222222222222222,
              "#7201a8"
             ],
             [
              0.3333333333333333,
              "#9c179e"
             ],
             [
              0.4444444444444444,
              "#bd3786"
             ],
             [
              0.5555555555555556,
              "#d8576b"
             ],
             [
              0.6666666666666666,
              "#ed7953"
             ],
             [
              0.7777777777777778,
              "#fb9f3a"
             ],
             [
              0.8888888888888888,
              "#fdca26"
             ],
             [
              1,
              "#f0f921"
             ]
            ],
            "type": "histogram2d"
           }
          ],
          "histogram2dcontour": [
           {
            "colorbar": {
             "outlinewidth": 0,
             "ticks": ""
            },
            "colorscale": [
             [
              0,
              "#0d0887"
             ],
             [
              0.1111111111111111,
              "#46039f"
             ],
             [
              0.2222222222222222,
              "#7201a8"
             ],
             [
              0.3333333333333333,
              "#9c179e"
             ],
             [
              0.4444444444444444,
              "#bd3786"
             ],
             [
              0.5555555555555556,
              "#d8576b"
             ],
             [
              0.6666666666666666,
              "#ed7953"
             ],
             [
              0.7777777777777778,
              "#fb9f3a"
             ],
             [
              0.8888888888888888,
              "#fdca26"
             ],
             [
              1,
              "#f0f921"
             ]
            ],
            "type": "histogram2dcontour"
           }
          ],
          "mesh3d": [
           {
            "colorbar": {
             "outlinewidth": 0,
             "ticks": ""
            },
            "type": "mesh3d"
           }
          ],
          "parcoords": [
           {
            "line": {
             "colorbar": {
              "outlinewidth": 0,
              "ticks": ""
             }
            },
            "type": "parcoords"
           }
          ],
          "pie": [
           {
            "automargin": true,
            "type": "pie"
           }
          ],
          "scatter": [
           {
            "marker": {
             "colorbar": {
              "outlinewidth": 0,
              "ticks": ""
             }
            },
            "type": "scatter"
           }
          ],
          "scatter3d": [
           {
            "line": {
             "colorbar": {
              "outlinewidth": 0,
              "ticks": ""
             }
            },
            "marker": {
             "colorbar": {
              "outlinewidth": 0,
              "ticks": ""
             }
            },
            "type": "scatter3d"
           }
          ],
          "scattercarpet": [
           {
            "marker": {
             "colorbar": {
              "outlinewidth": 0,
              "ticks": ""
             }
            },
            "type": "scattercarpet"
           }
          ],
          "scattergeo": [
           {
            "marker": {
             "colorbar": {
              "outlinewidth": 0,
              "ticks": ""
             }
            },
            "type": "scattergeo"
           }
          ],
          "scattergl": [
           {
            "marker": {
             "colorbar": {
              "outlinewidth": 0,
              "ticks": ""
             }
            },
            "type": "scattergl"
           }
          ],
          "scattermapbox": [
           {
            "marker": {
             "colorbar": {
              "outlinewidth": 0,
              "ticks": ""
             }
            },
            "type": "scattermapbox"
           }
          ],
          "scatterpolar": [
           {
            "marker": {
             "colorbar": {
              "outlinewidth": 0,
              "ticks": ""
             }
            },
            "type": "scatterpolar"
           }
          ],
          "scatterpolargl": [
           {
            "marker": {
             "colorbar": {
              "outlinewidth": 0,
              "ticks": ""
             }
            },
            "type": "scatterpolargl"
           }
          ],
          "scatterternary": [
           {
            "marker": {
             "colorbar": {
              "outlinewidth": 0,
              "ticks": ""
             }
            },
            "type": "scatterternary"
           }
          ],
          "surface": [
           {
            "colorbar": {
             "outlinewidth": 0,
             "ticks": ""
            },
            "colorscale": [
             [
              0,
              "#0d0887"
             ],
             [
              0.1111111111111111,
              "#46039f"
             ],
             [
              0.2222222222222222,
              "#7201a8"
             ],
             [
              0.3333333333333333,
              "#9c179e"
             ],
             [
              0.4444444444444444,
              "#bd3786"
             ],
             [
              0.5555555555555556,
              "#d8576b"
             ],
             [
              0.6666666666666666,
              "#ed7953"
             ],
             [
              0.7777777777777778,
              "#fb9f3a"
             ],
             [
              0.8888888888888888,
              "#fdca26"
             ],
             [
              1,
              "#f0f921"
             ]
            ],
            "type": "surface"
           }
          ],
          "table": [
           {
            "cells": {
             "fill": {
              "color": "#EBF0F8"
             },
             "line": {
              "color": "white"
             }
            },
            "header": {
             "fill": {
              "color": "#C8D4E3"
             },
             "line": {
              "color": "white"
             }
            },
            "type": "table"
           }
          ]
         },
         "layout": {
          "annotationdefaults": {
           "arrowcolor": "#2a3f5f",
           "arrowhead": 0,
           "arrowwidth": 1
          },
          "coloraxis": {
           "colorbar": {
            "outlinewidth": 0,
            "ticks": ""
           }
          },
          "colorscale": {
           "diverging": [
            [
             0,
             "#8e0152"
            ],
            [
             0.1,
             "#c51b7d"
            ],
            [
             0.2,
             "#de77ae"
            ],
            [
             0.3,
             "#f1b6da"
            ],
            [
             0.4,
             "#fde0ef"
            ],
            [
             0.5,
             "#f7f7f7"
            ],
            [
             0.6,
             "#e6f5d0"
            ],
            [
             0.7,
             "#b8e186"
            ],
            [
             0.8,
             "#7fbc41"
            ],
            [
             0.9,
             "#4d9221"
            ],
            [
             1,
             "#276419"
            ]
           ],
           "sequential": [
            [
             0,
             "#0d0887"
            ],
            [
             0.1111111111111111,
             "#46039f"
            ],
            [
             0.2222222222222222,
             "#7201a8"
            ],
            [
             0.3333333333333333,
             "#9c179e"
            ],
            [
             0.4444444444444444,
             "#bd3786"
            ],
            [
             0.5555555555555556,
             "#d8576b"
            ],
            [
             0.6666666666666666,
             "#ed7953"
            ],
            [
             0.7777777777777778,
             "#fb9f3a"
            ],
            [
             0.8888888888888888,
             "#fdca26"
            ],
            [
             1,
             "#f0f921"
            ]
           ],
           "sequentialminus": [
            [
             0,
             "#0d0887"
            ],
            [
             0.1111111111111111,
             "#46039f"
            ],
            [
             0.2222222222222222,
             "#7201a8"
            ],
            [
             0.3333333333333333,
             "#9c179e"
            ],
            [
             0.4444444444444444,
             "#bd3786"
            ],
            [
             0.5555555555555556,
             "#d8576b"
            ],
            [
             0.6666666666666666,
             "#ed7953"
            ],
            [
             0.7777777777777778,
             "#fb9f3a"
            ],
            [
             0.8888888888888888,
             "#fdca26"
            ],
            [
             1,
             "#f0f921"
            ]
           ]
          },
          "colorway": [
           "#636efa",
           "#EF553B",
           "#00cc96",
           "#ab63fa",
           "#FFA15A",
           "#19d3f3",
           "#FF6692",
           "#B6E880",
           "#FF97FF",
           "#FECB52"
          ],
          "font": {
           "color": "#2a3f5f"
          },
          "geo": {
           "bgcolor": "white",
           "lakecolor": "white",
           "landcolor": "#E5ECF6",
           "showlakes": true,
           "showland": true,
           "subunitcolor": "white"
          },
          "hoverlabel": {
           "align": "left"
          },
          "hovermode": "closest",
          "mapbox": {
           "style": "light"
          },
          "paper_bgcolor": "white",
          "plot_bgcolor": "#E5ECF6",
          "polar": {
           "angularaxis": {
            "gridcolor": "white",
            "linecolor": "white",
            "ticks": ""
           },
           "bgcolor": "#E5ECF6",
           "radialaxis": {
            "gridcolor": "white",
            "linecolor": "white",
            "ticks": ""
           }
          },
          "scene": {
           "xaxis": {
            "backgroundcolor": "#E5ECF6",
            "gridcolor": "white",
            "gridwidth": 2,
            "linecolor": "white",
            "showbackground": true,
            "ticks": "",
            "zerolinecolor": "white"
           },
           "yaxis": {
            "backgroundcolor": "#E5ECF6",
            "gridcolor": "white",
            "gridwidth": 2,
            "linecolor": "white",
            "showbackground": true,
            "ticks": "",
            "zerolinecolor": "white"
           },
           "zaxis": {
            "backgroundcolor": "#E5ECF6",
            "gridcolor": "white",
            "gridwidth": 2,
            "linecolor": "white",
            "showbackground": true,
            "ticks": "",
            "zerolinecolor": "white"
           }
          },
          "shapedefaults": {
           "line": {
            "color": "#2a3f5f"
           }
          },
          "ternary": {
           "aaxis": {
            "gridcolor": "white",
            "linecolor": "white",
            "ticks": ""
           },
           "baxis": {
            "gridcolor": "white",
            "linecolor": "white",
            "ticks": ""
           },
           "bgcolor": "#E5ECF6",
           "caxis": {
            "gridcolor": "white",
            "linecolor": "white",
            "ticks": ""
           }
          },
          "title": {
           "x": 0.05
          },
          "xaxis": {
           "automargin": true,
           "gridcolor": "white",
           "linecolor": "white",
           "ticks": "",
           "title": {
            "standoff": 15
           },
           "zerolinecolor": "white",
           "zerolinewidth": 2
          },
          "yaxis": {
           "automargin": true,
           "gridcolor": "white",
           "linecolor": "white",
           "ticks": "",
           "title": {
            "standoff": 15
           },
           "zerolinecolor": "white",
           "zerolinewidth": 2
          }
         }
        },
        "title": {
         "text": "Correlation Matrix",
         "x": 0.5
        },
        "width": 400,
        "xaxis": {
         "autorange": "reversed"
        }
       }
      },
      "text/html": [
       "<div>\n",
       "        \n",
       "        \n",
       "            <div id=\"82f5f0bb-a674-4452-8240-3638f9ab6283\" class=\"plotly-graph-div\" style=\"height:400px; width:400px;\"></div>\n",
       "            <script type=\"text/javascript\">\n",
       "                require([\"plotly\"], function(Plotly) {\n",
       "                    window.PLOTLYENV=window.PLOTLYENV || {};\n",
       "                    \n",
       "                if (document.getElementById(\"82f5f0bb-a674-4452-8240-3638f9ab6283\")) {\n",
       "                    Plotly.newPlot(\n",
       "                        '82f5f0bb-a674-4452-8240-3638f9ab6283',\n",
       "                        [{\"colorscale\": [[0.0, \"rgb(209,229,240)\"], [0.25, \"rgb(247,247,247)\"], [0.5, \"rgb(253,219,199)\"], [0.75, \"rgb(244,165,130)\"], [1.0, \"rgb(214,96,77)\"]], \"type\": \"heatmap\", \"x\": [\"Price\", \"DividendYield\", \"MarketCap\", \"PERatio\", \"PayoutRatio\", \"Beta\"], \"y\": [\"Price\", \"DividendYield\", \"MarketCap\", \"PERatio\", \"PayoutRatio\", \"Beta\"], \"z\": [[1.0, -0.3538864364170704, 0.1885817540265621, 0.30350335753870133, -0.10080905780741052, -0.017224349463311625], [-0.3538864364170704, 1.0, -0.03533129463188885, -0.29038343651078763, 0.5908398281448044, -0.11389902461891115], [0.1885817540265621, -0.03533129463188885, 1.0, 0.016456994450420738, -0.018778805554819044, 0.07680845313146586], [0.30350335753870133, -0.29038343651078763, 0.016456994450420738, 1.0, 0.4573599403226215, -0.24730216201341773], [-0.10080905780741052, 0.5908398281448044, -0.018778805554819044, 0.4573599403226215, 1.0, -0.345383871209606], [-0.017224349463311625, -0.11389902461891115, 0.07680845313146586, -0.24730216201341773, -0.345383871209606, 1.0]]}],\n",
       "                        {\"height\": 400, \"template\": {\"data\": {\"bar\": [{\"error_x\": {\"color\": \"#2a3f5f\"}, \"error_y\": {\"color\": \"#2a3f5f\"}, \"marker\": {\"line\": {\"color\": \"#E5ECF6\", \"width\": 0.5}}, \"type\": \"bar\"}], \"barpolar\": [{\"marker\": {\"line\": {\"color\": \"#E5ECF6\", \"width\": 0.5}}, \"type\": \"barpolar\"}], \"carpet\": [{\"aaxis\": {\"endlinecolor\": \"#2a3f5f\", \"gridcolor\": \"white\", \"linecolor\": \"white\", \"minorgridcolor\": \"white\", \"startlinecolor\": \"#2a3f5f\"}, \"baxis\": {\"endlinecolor\": \"#2a3f5f\", \"gridcolor\": \"white\", \"linecolor\": \"white\", \"minorgridcolor\": \"white\", \"startlinecolor\": \"#2a3f5f\"}, \"type\": \"carpet\"}], \"choropleth\": [{\"colorbar\": {\"outlinewidth\": 0, \"ticks\": \"\"}, \"type\": \"choropleth\"}], \"contour\": [{\"colorbar\": {\"outlinewidth\": 0, \"ticks\": \"\"}, \"colorscale\": [[0.0, \"#0d0887\"], [0.1111111111111111, \"#46039f\"], [0.2222222222222222, \"#7201a8\"], [0.3333333333333333, \"#9c179e\"], [0.4444444444444444, \"#bd3786\"], [0.5555555555555556, \"#d8576b\"], [0.6666666666666666, \"#ed7953\"], [0.7777777777777778, \"#fb9f3a\"], [0.8888888888888888, \"#fdca26\"], [1.0, \"#f0f921\"]], \"type\": \"contour\"}], \"contourcarpet\": [{\"colorbar\": {\"outlinewidth\": 0, \"ticks\": \"\"}, \"type\": \"contourcarpet\"}], \"heatmap\": [{\"colorbar\": {\"outlinewidth\": 0, \"ticks\": \"\"}, \"colorscale\": [[0.0, \"#0d0887\"], [0.1111111111111111, \"#46039f\"], [0.2222222222222222, \"#7201a8\"], [0.3333333333333333, \"#9c179e\"], [0.4444444444444444, \"#bd3786\"], [0.5555555555555556, \"#d8576b\"], [0.6666666666666666, \"#ed7953\"], [0.7777777777777778, \"#fb9f3a\"], [0.8888888888888888, \"#fdca26\"], [1.0, \"#f0f921\"]], \"type\": \"heatmap\"}], \"heatmapgl\": [{\"colorbar\": {\"outlinewidth\": 0, \"ticks\": \"\"}, \"colorscale\": [[0.0, \"#0d0887\"], [0.1111111111111111, \"#46039f\"], [0.2222222222222222, \"#7201a8\"], [0.3333333333333333, \"#9c179e\"], [0.4444444444444444, \"#bd3786\"], [0.5555555555555556, \"#d8576b\"], [0.6666666666666666, \"#ed7953\"], [0.7777777777777778, \"#fb9f3a\"], [0.8888888888888888, \"#fdca26\"], [1.0, \"#f0f921\"]], \"type\": \"heatmapgl\"}], \"histogram\": [{\"marker\": {\"colorbar\": {\"outlinewidth\": 0, \"ticks\": \"\"}}, \"type\": \"histogram\"}], \"histogram2d\": [{\"colorbar\": {\"outlinewidth\": 0, \"ticks\": \"\"}, \"colorscale\": [[0.0, \"#0d0887\"], [0.1111111111111111, \"#46039f\"], [0.2222222222222222, \"#7201a8\"], [0.3333333333333333, \"#9c179e\"], [0.4444444444444444, \"#bd3786\"], [0.5555555555555556, \"#d8576b\"], [0.6666666666666666, \"#ed7953\"], [0.7777777777777778, \"#fb9f3a\"], [0.8888888888888888, \"#fdca26\"], [1.0, \"#f0f921\"]], \"type\": \"histogram2d\"}], \"histogram2dcontour\": [{\"colorbar\": {\"outlinewidth\": 0, \"ticks\": \"\"}, \"colorscale\": [[0.0, \"#0d0887\"], [0.1111111111111111, \"#46039f\"], [0.2222222222222222, \"#7201a8\"], [0.3333333333333333, \"#9c179e\"], [0.4444444444444444, \"#bd3786\"], [0.5555555555555556, \"#d8576b\"], [0.6666666666666666, \"#ed7953\"], [0.7777777777777778, \"#fb9f3a\"], [0.8888888888888888, \"#fdca26\"], [1.0, \"#f0f921\"]], \"type\": \"histogram2dcontour\"}], \"mesh3d\": [{\"colorbar\": {\"outlinewidth\": 0, \"ticks\": \"\"}, \"type\": \"mesh3d\"}], \"parcoords\": [{\"line\": {\"colorbar\": {\"outlinewidth\": 0, \"ticks\": \"\"}}, \"type\": \"parcoords\"}], \"pie\": [{\"automargin\": true, \"type\": \"pie\"}], \"scatter\": [{\"marker\": {\"colorbar\": {\"outlinewidth\": 0, \"ticks\": \"\"}}, \"type\": \"scatter\"}], \"scatter3d\": [{\"line\": {\"colorbar\": {\"outlinewidth\": 0, \"ticks\": \"\"}}, \"marker\": {\"colorbar\": {\"outlinewidth\": 0, \"ticks\": \"\"}}, \"type\": \"scatter3d\"}], \"scattercarpet\": [{\"marker\": {\"colorbar\": {\"outlinewidth\": 0, \"ticks\": \"\"}}, \"type\": \"scattercarpet\"}], \"scattergeo\": [{\"marker\": {\"colorbar\": {\"outlinewidth\": 0, \"ticks\": \"\"}}, \"type\": \"scattergeo\"}], \"scattergl\": [{\"marker\": {\"colorbar\": {\"outlinewidth\": 0, \"ticks\": \"\"}}, \"type\": \"scattergl\"}], \"scattermapbox\": [{\"marker\": {\"colorbar\": {\"outlinewidth\": 0, \"ticks\": \"\"}}, \"type\": \"scattermapbox\"}], \"scatterpolar\": [{\"marker\": {\"colorbar\": {\"outlinewidth\": 0, \"ticks\": \"\"}}, \"type\": \"scatterpolar\"}], \"scatterpolargl\": [{\"marker\": {\"colorbar\": {\"outlinewidth\": 0, \"ticks\": \"\"}}, \"type\": \"scatterpolargl\"}], \"scatterternary\": [{\"marker\": {\"colorbar\": {\"outlinewidth\": 0, \"ticks\": \"\"}}, \"type\": \"scatterternary\"}], \"surface\": [{\"colorbar\": {\"outlinewidth\": 0, \"ticks\": \"\"}, \"colorscale\": [[0.0, \"#0d0887\"], [0.1111111111111111, \"#46039f\"], [0.2222222222222222, \"#7201a8\"], [0.3333333333333333, \"#9c179e\"], [0.4444444444444444, \"#bd3786\"], [0.5555555555555556, \"#d8576b\"], [0.6666666666666666, \"#ed7953\"], [0.7777777777777778, \"#fb9f3a\"], [0.8888888888888888, \"#fdca26\"], [1.0, \"#f0f921\"]], \"type\": \"surface\"}], \"table\": [{\"cells\": {\"fill\": {\"color\": \"#EBF0F8\"}, \"line\": {\"color\": \"white\"}}, \"header\": {\"fill\": {\"color\": \"#C8D4E3\"}, \"line\": {\"color\": \"white\"}}, \"type\": \"table\"}]}, \"layout\": {\"annotationdefaults\": {\"arrowcolor\": \"#2a3f5f\", \"arrowhead\": 0, \"arrowwidth\": 1}, \"coloraxis\": {\"colorbar\": {\"outlinewidth\": 0, \"ticks\": \"\"}}, \"colorscale\": {\"diverging\": [[0, \"#8e0152\"], [0.1, \"#c51b7d\"], [0.2, \"#de77ae\"], [0.3, \"#f1b6da\"], [0.4, \"#fde0ef\"], [0.5, \"#f7f7f7\"], [0.6, \"#e6f5d0\"], [0.7, \"#b8e186\"], [0.8, \"#7fbc41\"], [0.9, \"#4d9221\"], [1, \"#276419\"]], \"sequential\": [[0.0, \"#0d0887\"], [0.1111111111111111, \"#46039f\"], [0.2222222222222222, \"#7201a8\"], [0.3333333333333333, \"#9c179e\"], [0.4444444444444444, \"#bd3786\"], [0.5555555555555556, \"#d8576b\"], [0.6666666666666666, \"#ed7953\"], [0.7777777777777778, \"#fb9f3a\"], [0.8888888888888888, \"#fdca26\"], [1.0, \"#f0f921\"]], \"sequentialminus\": [[0.0, \"#0d0887\"], [0.1111111111111111, \"#46039f\"], [0.2222222222222222, \"#7201a8\"], [0.3333333333333333, \"#9c179e\"], [0.4444444444444444, \"#bd3786\"], [0.5555555555555556, \"#d8576b\"], [0.6666666666666666, \"#ed7953\"], [0.7777777777777778, \"#fb9f3a\"], [0.8888888888888888, \"#fdca26\"], [1.0, \"#f0f921\"]]}, \"colorway\": [\"#636efa\", \"#EF553B\", \"#00cc96\", \"#ab63fa\", \"#FFA15A\", \"#19d3f3\", \"#FF6692\", \"#B6E880\", \"#FF97FF\", \"#FECB52\"], \"font\": {\"color\": \"#2a3f5f\"}, \"geo\": {\"bgcolor\": \"white\", \"lakecolor\": \"white\", \"landcolor\": \"#E5ECF6\", \"showlakes\": true, \"showland\": true, \"subunitcolor\": \"white\"}, \"hoverlabel\": {\"align\": \"left\"}, \"hovermode\": \"closest\", \"mapbox\": {\"style\": \"light\"}, \"paper_bgcolor\": \"white\", \"plot_bgcolor\": \"#E5ECF6\", \"polar\": {\"angularaxis\": {\"gridcolor\": \"white\", \"linecolor\": \"white\", \"ticks\": \"\"}, \"bgcolor\": \"#E5ECF6\", \"radialaxis\": {\"gridcolor\": \"white\", \"linecolor\": \"white\", \"ticks\": \"\"}}, \"scene\": {\"xaxis\": {\"backgroundcolor\": \"#E5ECF6\", \"gridcolor\": \"white\", \"gridwidth\": 2, \"linecolor\": \"white\", \"showbackground\": true, \"ticks\": \"\", \"zerolinecolor\": \"white\"}, \"yaxis\": {\"backgroundcolor\": \"#E5ECF6\", \"gridcolor\": \"white\", \"gridwidth\": 2, \"linecolor\": \"white\", \"showbackground\": true, \"ticks\": \"\", \"zerolinecolor\": \"white\"}, \"zaxis\": {\"backgroundcolor\": \"#E5ECF6\", \"gridcolor\": \"white\", \"gridwidth\": 2, \"linecolor\": \"white\", \"showbackground\": true, \"ticks\": \"\", \"zerolinecolor\": \"white\"}}, \"shapedefaults\": {\"line\": {\"color\": \"#2a3f5f\"}}, \"ternary\": {\"aaxis\": {\"gridcolor\": \"white\", \"linecolor\": \"white\", \"ticks\": \"\"}, \"baxis\": {\"gridcolor\": \"white\", \"linecolor\": \"white\", \"ticks\": \"\"}, \"bgcolor\": \"#E5ECF6\", \"caxis\": {\"gridcolor\": \"white\", \"linecolor\": \"white\", \"ticks\": \"\"}}, \"title\": {\"x\": 0.05}, \"xaxis\": {\"automargin\": true, \"gridcolor\": \"white\", \"linecolor\": \"white\", \"ticks\": \"\", \"title\": {\"standoff\": 15}, \"zerolinecolor\": \"white\", \"zerolinewidth\": 2}, \"yaxis\": {\"automargin\": true, \"gridcolor\": \"white\", \"linecolor\": \"white\", \"ticks\": \"\", \"title\": {\"standoff\": 15}, \"zerolinecolor\": \"white\", \"zerolinewidth\": 2}}}, \"title\": {\"text\": \"Correlation Matrix\", \"x\": 0.5}, \"width\": 400, \"xaxis\": {\"autorange\": \"reversed\"}},\n",
       "                        {\"responsive\": true}\n",
       "                    ).then(function(){\n",
       "                            \n",
       "var gd = document.getElementById('82f5f0bb-a674-4452-8240-3638f9ab6283');\n",
       "var x = new MutationObserver(function (mutations, observer) {{\n",
       "        var display = window.getComputedStyle(gd).display;\n",
       "        if (!display || display === 'none') {{\n",
       "            console.log([gd, 'removed!']);\n",
       "            Plotly.purge(gd);\n",
       "            observer.disconnect();\n",
       "        }}\n",
       "}});\n",
       "\n",
       "// Listen for the removal of the full notebook cells\n",
       "var notebookContainer = gd.closest('#notebook-container');\n",
       "if (notebookContainer) {{\n",
       "    x.observe(notebookContainer, {childList: true});\n",
       "}}\n",
       "\n",
       "// Listen for the clearing of the current output cell\n",
       "var outputEl = gd.closest('.output');\n",
       "if (outputEl) {{\n",
       "    x.observe(outputEl, {childList: true});\n",
       "}}\n",
       "\n",
       "                        })\n",
       "                };\n",
       "                });\n",
       "            </script>\n",
       "        </div>"
      ]
     },
     "metadata": {},
     "output_type": "display_data"
    }
   ],
   "source": [
    "# the names and numbers look legit to me, I think they are not outliers\n",
    "# OK, let's then do more data mining and data visualization work\n",
    "\n",
    "# correlation heatmap between variables\n",
    "corr = pd.DataFrame.corr(fullDataNoOutliers[numericalVar])\n",
    "\n",
    "fig = go.Figure(data=go.Heatmap(z=corr,colorscale=plotly.colors.colorbrewer.RdBu_r[4:9],x=numericalVar,y=numericalVar))\n",
    "fig.layout.update(xaxis_autorange='reversed', width=400, height=400, title = 'Correlation Matrix',title_x=0.5)\n",
    "fig.show()"
   ]
  },
  {
   "cell_type": "code",
   "execution_count": 16,
   "metadata": {},
   "outputs": [
    {
     "data": {
      "application/vnd.plotly.v1+json": {
       "config": {
        "plotlyServerURL": "https://plot.ly"
       },
       "data": [
        {
         "hoverlabel": {
          "namelength": 0
         },
         "hovertemplate": "<b>%{hovertext}</b><br><br>GICSSector=Industrials<br>PayoutRatio=%{x}<br>DividendYield=%{y}<br>MarketCap=%{marker.size}",
         "hovertext": [
          "3M Company",
          "Alaska Air Group Inc",
          "Allegion",
          "American Airlines Group",
          "AMETEK Inc.",
          "A.O. Smith Corp",
          "Arconic Inc.",
          "Boeing Company",
          "C. H. Robinson Worldwide",
          "Caterpillar Inc.",
          "CSX Corp.",
          "Cummins Inc.",
          "Deere & Co.",
          "Delta Air Lines Inc.",
          "Dover Corp.",
          "Eaton Corporation",
          "Emerson Electric Company",
          "Expeditors",
          "Fastenal Co",
          "Flowserve Corporation",
          "Fortive Corp",
          "Fortune Brands Home & Security",
          "General Dynamics",
          "Grainger (W.W.) Inc.",
          "Honeywell Int'l Inc.",
          "Huntington Ingalls Industries",
          "Illinois Tool Works",
          "Ingersoll-Rand PLC",
          "Kansas City Southern",
          "Lockheed Martin Corp.",
          "Masco Corp.",
          "Northrop Grumman Corp.",
          "PACCAR Inc.",
          "Parker-Hannifin",
          "Pentair plc",
          "Quanta Services Inc.",
          "Raytheon Co.",
          "Republic Services Inc",
          "Robert Half International",
          "Rockwell Automation Inc.",
          "Rollins Inc.",
          "Roper Technologies",
          "Snap-on",
          "Southwest Airlines",
          "Stanley Black & Decker",
          "Union Pacific",
          "United Parcel Service",
          "United Technologies",
          "Verisk Analytics",
          "Wabtec Corporation",
          "Waste Management Inc.",
          "Xylem Inc."
         ],
         "legendgroup": "GICSSector=Industrials",
         "marker": {
          "color": "#636efa",
          "size": [
           97084,
           8494,
           9745,
           12596,
           20322,
           7035,
           11990,
           191602,
           12054,
           76140,
           57676,
           27642,
           55102,
           34801,
           15022,
           35557,
           43401,
           12798,
           21595,
           6348,
           24272,
           8166,
           50131,
           17050,
           122208,
           8976,
           52283,
           28682,
           14572,
           105359,
           12738,
           59760,
           26015,
           24092,
           6968,
           5866,
           56687,
           27828,
           6570,
           20153,
           12618,
           34832,
           9105,
           28617,
           23312,
           119791,
           98952,
           120730,
           24301,
           13518,
           48095,
           14690
          ],
          "sizemode": "area",
          "sizeref": 686.85875,
          "symbol": "circle"
         },
         "mode": "markers",
         "name": "GICSSector=Industrials",
         "showlegend": true,
         "type": "scatter",
         "x": [
          66.3,
          32.7,
          20.7,
          12,
          15.6,
          33.5,
          22.1,
          118.4,
          38.9,
          34,
          22.3,
          27.7,
          28.5,
          20.4,
          43.1,
          53,
          55,
          25.8,
          62.3,
          48.1,
          3.6,
          29,
          34.2,
          37.4,
          37.8,
          20.4,
          53.4,
          36.3,
          25.2,
          41.5,
          19.6,
          23.9,
          18.3,
          27.1,
          34.7,
          5.4,
          33.3,
          46.2,
          30.7,
          44.4,
          65.7,
          16.6,
          30.2,
          15.3,
          55.3,
          41.4,
          65.6,
          49.2,
          13.7,
          26.5,
          48.4,
          28.3
         ],
         "xaxis": "x10",
         "y": [
          3.3,
          1.9,
          0.9,
          1.4,
          0.6,
          1.7,
          0.7,
          2.3,
          2.2,
          2.7,
          1.3,
          2.6,
          1.7,
          2.7,
          1.9,
          3.2,
          2.8,
          1.3,
          2.3,
          1.6,
          0.4,
          1.4,
          2.3,
          1.8,
          1.9,
          1.5,
          2.5,
          1.8,
          1,
          2.4,
          1.1,
          1.4,
          1.7,
          1.7,
          1.7,
          0.3,
          1.8,
          1.7,
          2.1,
          2.2,
          1.1,
          0.5,
          2.3,
          1.2,
          1.7,
          2.1,
          3.3,
          2.1,
          0.3,
          0.7,
          1.8,
          1.1
         ],
         "yaxis": "y10"
        },
        {
         "hoverlabel": {
          "namelength": 0
         },
         "hovertemplate": "<b>%{hovertext}</b><br><br>GICSSector=Health Care<br>PayoutRatio=%{x}<br>DividendYield=%{y}<br>MarketCap=%{marker.size}",
         "hovertext": [
          "AbbVie Inc.",
          "Agilent Technologies Inc",
          "AmerisourceBergen Corp",
          "Amgen Inc.",
          "Baxter International Inc.",
          "Bristol-Myers Squibb",
          "Cardinal Health Inc.",
          "Cerner",
          "The Cooper Companies",
          "CVS Health",
          "Danaher Corp.",
          "Gilead Sciences",
          "HCA Holdings",
          "Humana Inc.",
          "McKesson Corp.",
          "Medtronic plc",
          "Merck & Co.",
          "PerkinElmer",
          "Pfizer Inc.",
          "Quest Diagnostics",
          "ResMed",
          "Stryker Corp.",
          "Teleflex Inc",
          "Thermo Fisher Scientific",
          "Universal Health Services, Inc.",
          "Zoetis"
         ],
         "legendgroup": "GICSSector=Health Care",
         "marker": {
          "color": "#EF553B",
          "size": [
           114951,
           23203,
           17843,
           121931,
           44903,
           89591,
           14626,
           21513,
           13989,
           85312,
           99319,
           84320,
           42708,
           39204,
           27007,
           141170,
           212178,
           9425,
           203376,
           13860,
           18221,
           78523,
           14871,
           118913,
           12792,
           58166
          ],
          "sizemode": "area",
          "sizeref": 686.85875,
          "symbol": "circle"
         },
         "mode": "markers",
         "name": "GICSSector=Health Care",
         "showlegend": true,
         "type": "scatter",
         "x": [
          153,
          19,
          35,
          43.6,
          26.1,
          42.8,
          42.2,
          9.9,
          0.7,
          56,
          19.1,
          51.6,
          14.1,
          11.4,
          51.7,
          61.9,
          59.2,
          12.3,
          63.7,
          39.2,
          52.4,
          21.4,
          23.1,
          8.2,
          4.5,
          21.6
         ],
         "xaxis": "x11",
         "y": [
          5.4,
          0.9,
          1.8,
          2.7,
          0.9,
          3,
          3.8,
          0.3,
          0,
          3,
          0.5,
          3.6,
          1.2,
          0.7,
          1.1,
          1.9,
          2.6,
          0.3,
          3.9,
          2.1,
          1.2,
          1,
          0.4,
          0.2,
          0.3,
          0.5
         ],
         "yaxis": "y11"
        },
        {
         "hoverlabel": {
          "namelength": 0
         },
         "hovertemplate": "<b>%{hovertext}</b><br><br>GICSSector=Information Technology<br>PayoutRatio=%{x}<br>DividendYield=%{y}<br>MarketCap=%{marker.size}",
         "hovertext": [
          "Accenture plc",
          "Alliance Data Systems",
          "Amphenol Corp",
          "Analog Devices, Inc.",
          "Apple Inc.",
          "Applied Materials Inc.",
          "Automatic Data Processing",
          "Broadcom",
          "Broadridge Financial Solutions",
          "Cisco Systems",
          "Citrix Systems",
          "Cognizant Technology Solutions",
          "Corning Inc.",
          "DXC Technology",
          "Fidelity National Information Services",
          "FLIR Systems",
          "Global Payments Inc.",
          "HP Inc.",
          "Intel Corp.",
          "International Business Machines",
          "Intuit Inc.",
          "Jack Henry & Associates Inc",
          "Juniper Networks",
          "KLA-Tencor Corp.",
          "Lam Research",
          "Mastercard Inc.",
          "Maxim Integrated Products Inc",
          "Microchip Technology",
          "Microsoft Corp.",
          "Motorola Solutions Inc.",
          "NetApp",
          "Nvidia Corporation",
          "Oracle Corp.",
          "Paychex Inc.",
          "QUALCOMM Inc.",
          "Seagate Technology",
          "Skyworks Solutions",
          "TE Connectivity Ltd.",
          "Texas Instruments",
          "Total System Services",
          "Visa Inc.",
          "Western Union Co",
          "Xerox",
          "Xilinx"
         ],
         "legendgroup": "GICSSector=Information Technology",
         "marker": {
          "color": "#00cc96",
          "size": [
           117278,
           6323,
           30217,
           38998,
           1098974,
           46677,
           69409,
           111194,
           14089,
           199740,
           13570,
           33330,
           23488,
           7329,
           77888,
           7227,
           46888,
           25370,
           229119,
           119043,
           66571,
           10656,
           8631,
           25151,
           33772,
           264647,
           15316,
           22135,
           1047883,
           28162,
           13325,
           118809,
           177682,
           30092,
           93897,
           14818,
           15331,
           31423,
           111054,
           23587,
           297822,
           10393,
           6788,
           23701
          ],
          "sizemode": "area",
          "sizeref": 686.85875,
          "symbol": "circle"
         },
         "mode": "markers",
         "name": "GICSSector=Information Technology",
         "showlegend": true,
         "type": "scatter",
         "x": [
          39,
          14.8,
          23.8,
          49.9,
          25,
          27,
          58,
          130.8,
          46.6,
          51.7,
          26.5,
          22.1,
          42.6,
          18.4,
          57.7,
          32.3,
          1.3,
          22.6,
          28.2,
          73.7,
          31.4,
          43.7,
          51.9,
          39.7,
          30.6,
          19,
          61,
          92.9,
          36,
          35.5,
          42.2,
          14,
          27.3,
          80.4,
          87,
          35.1,
          28.8,
          18.9,
          56.2,
          15.2,
          18.4,
          28.1,
          44.1,
          39
         ],
         "xaxis": "x12",
         "y": [
          1.6,
          1.9,
          0.9,
          1.9,
          1.2,
          1.6,
          1.9,
          3.5,
          1.6,
          2.9,
          1,
          1.3,
          2.5,
          2.8,
          1.1,
          1.2,
          0,
          3.6,
          2.4,
          4.7,
          0.7,
          1.1,
          3,
          1.9,
          1.9,
          0.5,
          3.3,
          1.6,
          1.3,
          1.3,
          3,
          0.3,
          1.6,
          2.8,
          3.2,
          4.5,
          1.7,
          1.9,
          2.6,
          0.4,
          0.6,
          3.2,
          3.3,
          1.5
         ],
         "yaxis": "y12"
        },
        {
         "hoverlabel": {
          "namelength": 0
         },
         "hovertemplate": "<b>%{hovertext}</b><br><br>GICSSector=Communication Services<br>PayoutRatio=%{x}<br>DividendYield=%{y}<br>MarketCap=%{marker.size}",
         "hovertext": [
          "Activision Blizzard",
          "AT&T Inc.",
          "CBS Corp.",
          "Comcast Corp.",
          "Interpublic Group",
          "News Corp. Class A",
          "News Corp. Class B",
          "Omnicom Group",
          "Verizon Communications",
          "Viacom Inc.",
          "The Walt Disney Company"
         ],
         "legendgroup": "GICSSector=Communication Services",
         "marker": {
          "color": "#ab63fa",
          "size": [
           42033,
           275766,
           13671,
           207796,
           8286,
           8145,
           8374,
           16688,
           251799,
           8854,
           236214
          ],
          "sizemode": "area",
          "sizeref": 686.85875,
          "symbol": "circle"
         },
         "mode": "markers",
         "name": "GICSSector=Communication Services",
         "showlegend": true,
         "type": "scatter",
         "x": [
          15.4,
          85.1,
          8.8,
          30.1,
          53.9,
          75.4,
          75.4,
          42.7,
          62.9,
          19.7,
          21.6
         ],
         "xaxis": "x7",
         "y": [
          0.6,
          5.4,
          2,
          1.7,
          4.3,
          1.4,
          1.4,
          3.3,
          4,
          3.6,
          1.3
         ],
         "yaxis": "y7"
        },
        {
         "hoverlabel": {
          "namelength": 0
         },
         "hovertemplate": "<b>%{hovertext}</b><br><br>GICSSector=Consumer Discretionary<br>PayoutRatio=%{x}<br>DividendYield=%{y}<br>MarketCap=%{marker.size}",
         "hovertext": [
          "Advance Auto Parts",
          "Aptiv Plc",
          "Best Buy Co. Inc.",
          "Block H&R",
          "BorgWarner",
          "Carnival Corp.",
          "D. R. Horton",
          "Darden Restaurants",
          "Dollar General",
          "eBay Inc.",
          "Expedia Group",
          "Ford Motor",
          "Gap Inc.",
          "Garmin Ltd.",
          "General Motors",
          "Genuine Parts",
          "Hanesbrands Inc",
          "Harley-Davidson",
          "Hasbro Inc.",
          "Hilton Worldwide Holdings Inc",
          "Home Depot",
          "Kohl's Corp.",
          "L Brands Inc.",
          "Leggett & Platt",
          "Lennar Corp.",
          "Lowe's Cos.",
          "Macy's Inc.",
          "Marriott Int'l.",
          "Nike",
          "Nordstrom",
          "Polo Ralph Lauren Corp.",
          "Pulte Homes Inc.",
          "PVH Corp.",
          "Ross Stores",
          "Royal Caribbean Cruises Ltd",
          "Starbucks Corp.",
          "Tapestry, Inc.",
          "Target Corp.",
          "Tiffany & Co.",
          "TJX Companies Inc.",
          "Tractor Supply Company",
          "V.F. Corp.",
          "Whirlpool Corp.",
          "Wynn Resorts Ltd",
          "Yum! Brands Inc"
         ],
         "legendgroup": "GICSSector=Consumer Discretionary",
         "marker": {
          "color": "#FFA15A",
          "size": [
           11787,
           22895,
           18995,
           4939,
           8256,
           23181,
           20077,
           13535,
           41896,
           32879,
           20263,
           36747,
           6598,
           16457,
           52269,
           15227,
           5846,
           6200,
           12544,
           27472,
           256998,
           8475,
           4872,
           5899,
           19587,
           86063,
           4840,
           40672,
           144114,
           5677,
           7502,
           10922,
           6802,
           39750,
           22984,
           99039,
           7469,
           56897,
           11165,
           72372,
           11344,
           36429,
           10301,
           12468,
           33249
          ],
          "sizemode": "area",
          "sizeref": 686.85875,
          "symbol": "circle"
         },
         "mode": "markers",
         "name": "GICSSector=Consumer Discretionary",
         "showlegend": true,
         "type": "scatter",
         "x": [
          4,
          23.3,
          33.8,
          47.9,
          18.4,
          45.1,
          13.6,
          53.7,
          19.5,
          10.8,
          30.8,
          108.8,
          39.4,
          55.2,
          23.9,
          55,
          38.6,
          57.7,
          128.9,
          18.7,
          47.4,
          56.1,
          86.1,
          71.2,
          2.6,
          62.1,
          45.5,
          38.8,
          32.1,
          48.5,
          46.7,
          13.4,
          1.7,
          21.6,
          31.7,
          50.3,
          60.7,
          42.3,
          48.3,
          33.8,
          28.2,
          68.6,
          28.2,
          42,
          36.4
         ],
         "xaxis": "x8",
         "y": [
          0.1,
          1,
          2.6,
          4.1,
          1.7,
          4.5,
          1.1,
          2.8,
          0.7,
          0.7,
          0.9,
          6.5,
          5.5,
          2.5,
          4.2,
          2.9,
          3.7,
          3.8,
          2.7,
          0.6,
          2,
          4.8,
          10.2,
          3.4,
          0.3,
          1.8,
          9.6,
          1.4,
          1,
          4,
          2.6,
          1.1,
          0.2,
          0.9,
          2.6,
          1.7,
          5.2,
          2.3,
          2.4,
          1.4,
          1.3,
          2.2,
          2.9,
          2.8,
          1.4
         ],
         "yaxis": "y8"
        },
        {
         "hoverlabel": {
          "namelength": 0
         },
         "hovertemplate": "<b>%{hovertext}</b><br><br>GICSSector=Utilities<br>PayoutRatio=%{x}<br>DividendYield=%{y}<br>MarketCap=%{marker.size}",
         "hovertext": [
          "AES Corp",
          "Alliant Energy Corp",
          "Ameren Corp",
          "American Electric Power",
          "American Water Works Company Inc",
          "Atmos Energy Corp",
          "CenterPoint Energy",
          "CMS Energy",
          "Consolidated Edison",
          "Dominion Energy",
          "DTE Energy Co.",
          "Duke Energy",
          "Entergy Corp.",
          "Evergy",
          "Eversource Energy",
          "Exelon Corp.",
          "FirstEnergy Corp",
          "NRG Energy",
          "Pinnacle West Capital",
          "PPL Corp.",
          "Public Serv. Enterprise Inc.",
          "Sempra Energy",
          "Southern Co.",
          "Wec Energy Group Inc",
          "Xcel Energy Inc"
         ],
         "legendgroup": "GICSSector=Utilities",
         "marker": {
          "color": "#19d3f3",
          "size": [
           11371,
           12740,
           18941,
           46633,
           22028,
           13357,
           14865,
           17960,
           31121,
           67988,
           23704,
           70069,
           23988,
           14947,
           27849,
           44352,
           26140,
           10276,
           10573,
           23964,
           31723,
           40633,
           64751,
           29382,
           33187
          ],
          "sizemode": "area",
          "sizeref": 686.85875,
          "symbol": "circle"
         },
         "mode": "markers",
         "name": "GICSSector=Utilities",
         "showlegend": true,
         "type": "scatter",
         "x": [
          90.3,
          63.8,
          58,
          65.7,
          59.4,
          48.6,
          98.9,
          71.8,
          68.8,
          235.2,
          61.2,
          81.9,
          70,
          79.9,
          76.7,
          60.3,
          71.2,
          6.6,
          64.8,
          66.7,
          63.4,
          52.9,
          56.5,
          65.9,
          64.1
         ],
         "xaxis": "x9",
         "y": [
          3.1,
          2.6,
          2.4,
          2.8,
          1.6,
          1.8,
          3.8,
          2.3,
          3.1,
          4.2,
          2.9,
          3.9,
          3,
          3,
          2.4,
          3.1,
          3.1,
          0.3,
          3.1,
          5,
          2.9,
          2.5,
          3.9,
          2.5,
          2.4
         ],
         "yaxis": "y9"
        },
        {
         "hoverlabel": {
          "namelength": 0
         },
         "hovertemplate": "<b>%{hovertext}</b><br><br>GICSSector=Financials<br>PayoutRatio=%{x}<br>DividendYield=%{y}<br>MarketCap=%{marker.size}",
         "hovertext": [
          "AFLAC Inc",
          "Allstate Corp",
          "American Express Co",
          "Ameriprise Financial",
          "Aon plc",
          "Arthur J. Gallagher & Co.",
          "Assurant",
          "Bank of America Corp",
          "The Bank of New York Mellon Corp.",
          "BB&T Corporation",
          "BlackRock",
          "Capital One Financial",
          "Cboe Global Markets",
          "Charles Schwab Corporation",
          "Chubb Limited",
          "Cincinnati Financial",
          "Citigroup Inc.",
          "Citizens Financial Group",
          "CME Group Inc.",
          "Comerica Inc.",
          "Discover Financial Services",
          "E*Trade",
          "Everest Re Group Ltd.",
          "Fifth Third Bancorp",
          "First Republic Bank",
          "Franklin Resources",
          "Goldman Sachs Group",
          "Hartford Financial Svc.Gp.",
          "Huntington Bancshares",
          "Intercontinental Exchange",
          "Invesco Ltd.",
          "Jefferies Financial Group",
          "JPMorgan Chase & Co.",
          "KeyCorp",
          "Lincoln National",
          "Loews Corp.",
          "M&T Bank Corp.",
          "Marsh & McLennan",
          "MetLife Inc.",
          "Moody's Corp",
          "Morgan Stanley",
          "MSCI Inc",
          "Nasdaq, Inc.",
          "Northern Trust Corp.",
          "People's United Financial",
          "Principal Financial Group",
          "Prudential Financial",
          "Raymond James Financial Inc.",
          "Regions Financial Corp.",
          "S&P Global, Inc.",
          "State Street Corp.",
          "SunTrust Banks",
          "Synchrony Financial",
          "T. Rowe Price Group",
          "The Travelers Companies Inc.",
          "U.S. Bancorp",
          "Unum Group",
          "Wells Fargo",
          "Willis Towers Watson",
          "Zions Bancorp"
         ],
         "legendgroup": "GICSSector=Financials",
         "marker": {
          "color": "#FF6692",
          "size": [
           38847,
           35611,
           96648,
           18775,
           45149,
           16774,
           7734,
           292466,
           44050,
           40982,
           70649,
           43642,
           12735,
           54078,
           68435,
           18613,
           163668,
           16086,
           72417,
           9823,
           25624,
           9805,
           10156,
           20542,
           17950,
           14042,
           75982,
           20924,
           15017,
           52079,
           16236,
           5727,
           400069,
           18289,
           12373,
           15451,
           21096,
           50119,
           43591,
           40104,
           75878,
           18492,
           16684,
           21523,
           6754,
           15983,
           36811,
           11650,
           16243,
           60075,
           24560,
           30645,
           23280,
           25530,
           34412,
           89160,
           6106,
           224403,
           23834,
           8483
          ],
          "sizemode": "area",
          "sizeref": 686.85875,
          "symbol": "circle"
         },
         "mode": "markers",
         "name": "GICSSector=Financials",
         "showlegend": true,
         "type": "scatter",
         "x": [
          25.7,
          24.7,
          19.3,
          26.7,
          29.3,
          44.9,
          40.1,
          23,
          29.7,
          41.4,
          49.8,
          13.8,
          34.2,
          23.5,
          35.8,
          29.1,
          24.6,
          31.5,
          56.4,
          32.7,
          18.5,
          13.5,
          43.2,
          29.5,
          14.3,
          37.3,
          16.4,
          26.5,
          43.8,
          28.9,
          104.6,
          111.4,
          32.5,
          42.7,
          20,
          10.2,
          28.7,
          58,
          27.7,
          28.8,
          26.3,
          34.4,
          57.1,
          34.6,
          53.4,
          40.1,
          38.1,
          18.3,
          38.1,
          27,
          37.7,
          37.5,
          15.4,
          36.2,
          35.5,
          35.1,
          41.8,
          39.4,
          38.4,
          27.5
         ],
         "xaxis": "x4",
         "y": [
          2,
          1.8,
          1.4,
          2.6,
          0.9,
          1.9,
          1.9,
          2,
          2.5,
          3.1,
          2.9,
          1.7,
          1.1,
          1.5,
          2,
          1.9,
          2.6,
          3.3,
          1.4,
          4,
          2,
          1.4,
          2.2,
          3.3,
          0.7,
          3.6,
          1.8,
          2.1,
          3.9,
          1.1,
          7.1,
          2.2,
          2.6,
          3.8,
          2.3,
          0.5,
          2.5,
          1.7,
          3.7,
          0.9,
          2.7,
          1.1,
          1.8,
          2.3,
          4.2,
          3.8,
          4.1,
          1.6,
          3.5,
          0.9,
          2.9,
          3,
          2.4,
          2.7,
          2.4,
          2.7,
          3.6,
          3.6,
          1.4,
          2.6
         ],
         "yaxis": "y4"
        },
        {
         "hoverlabel": {
          "namelength": 0
         },
         "hovertemplate": "<b>%{hovertext}</b><br><br>GICSSector=Materials<br>PayoutRatio=%{x}<br>DividendYield=%{y}<br>MarketCap=%{marker.size}",
         "hovertext": [
          "Air Products & Chemicals Inc",
          "Albemarle Corp",
          "Ball Corp",
          "Celanese Corp.",
          "CF Industries Holdings Inc",
          "Eastman Chemical",
          "Ecolab Inc.",
          "FMC Corporation",
          "Freeport-McMoRan Inc.",
          "International Paper",
          "Linde plc",
          "LyondellBasell",
          "Martin Marietta Materials",
          "The Mosaic Company",
          "Nucor Corp.",
          "Packaging Corporation of America",
          "PPG Industries",
          "Sealed Air",
          "Sherwin-Williams",
          "Vulcan Materials",
          "WestRock"
         ],
         "legendgroup": "GICSSector=Materials",
         "marker": {
          "color": "#B6E880",
          "size": [
           46287,
           7149,
           23598,
           15066,
           10003,
           10249,
           54198,
           10764,
           14697,
           17045,
           104712,
           29572,
           16487,
           7782,
           16058,
           10418,
           29411,
           6442,
           52020,
           19114,
           9843
          ],
          "sizemode": "area",
          "sizeref": 686.85875,
          "symbol": "circle"
         },
         "mode": "markers",
         "name": "GICSSector=Materials",
         "showlegend": true,
         "type": "scatter",
         "x": [
          58.2,
          27.3,
          28.8,
          32.2,
          59.3,
          37,
          34.5,
          35.1,
          45,
          49.7,
          33.9,
          42.4,
          23.8,
          18.7,
          27.3,
          37.8,
          38.3,
          27.4,
          28,
          27.7,
          55.1
         ],
         "xaxis": "x5",
         "y": [
          2.2,
          2.1,
          0.6,
          1.9,
          2.6,
          3.2,
          1,
          1.7,
          2,
          4.6,
          1.8,
          4.6,
          0.7,
          0.6,
          3,
          2.9,
          1.6,
          1.5,
          0.8,
          0.8,
          4.7
         ],
         "yaxis": "y5"
        },
        {
         "hoverlabel": {
          "namelength": 0
         },
         "hovertemplate": "<b>%{hovertext}</b><br><br>GICSSector=Real Estate<br>PayoutRatio=%{x}<br>DividendYield=%{y}<br>MarketCap=%{marker.size}",
         "hovertext": [
          "Alexandria Real Estate Equities",
          "Apartment Investment & Management",
          "AvalonBay Communities, Inc.",
          "Boston Properties",
          "Duke Realty Corp",
          "Equity Residential",
          "Essex Property Trust, Inc.",
          "Extra Space Storage",
          "Federal Realty Investment Trust",
          "HCP Inc.",
          "Host Hotels & Resorts",
          "Iron Mountain Incorporated",
          "Kimco Realty",
          "Macerich",
          "Prologis",
          "Public Storage",
          "Realty Income Corporation",
          "Regency Centers Corporation",
          "Simon Property Group Inc",
          "SL Green Realty",
          "Ventas Inc",
          "Vornado Realty Trust"
         ],
         "legendgroup": "GICSSector=Real Estate",
         "marker": {
          "color": "#FF97FF",
          "size": [
           17980,
           8143,
           30938,
           20243,
           12465,
           32575,
           21581,
           15666,
           10585,
           18627,
           12298,
           9847,
           8976,
           4389,
           57981,
           41976,
           25553,
           11634,
           102532,
           7290,
           27265,
           12347
          ],
          "sizemode": "area",
          "sizeref": 686.85875,
          "symbol": "circle"
         },
         "mode": "markers",
         "name": "GICSSector=Real Estate",
         "showlegend": true,
         "type": "scatter",
         "x": [
          110.4,
          69,
          90.5,
          111.1,
          131.2,
          103.2,
          122.5,
          102.5,
          123.6,
          71.8,
          54,
          237.5,
          139.2,
          389.7,
          73.3,
          95.4,
          204.4,
          133.1,
          115.6,
          159.2,
          227,
          17.1
         ],
         "xaxis": "x6",
         "y": [
          2.5,
          2.9,
          2.7,
          2.9,
          2.5,
          2.6,
          2.3,
          3,
          2.9,
          3.9,
          4.7,
          7.1,
          5.3,
          10.3,
          2.3,
          3.3,
          3.3,
          3.3,
          5.2,
          4,
          4.3,
          4
         ],
         "yaxis": "y6"
        },
        {
         "hoverlabel": {
          "namelength": 0
         },
         "hovertemplate": "<b>%{hovertext}</b><br><br>GICSSector=Consumer Staples<br>PayoutRatio=%{x}<br>DividendYield=%{y}<br>MarketCap=%{marker.size}",
         "hovertext": [
          "Altria Group Inc",
          "Archer-Daniels-Midland Co",
          "Brown-Forman Corp.",
          "Campbell Soup",
          "Church & Dwight",
          "The Clorox Company",
          "Coca-Cola Company",
          "Colgate-Palmolive",
          "Conagra Brands",
          "Constellation Brands",
          "Costco Wholesale Corp.",
          "Estee Lauder Cos.",
          "General Mills",
          "The Hershey Company",
          "Hormel Foods Corp.",
          "JM Smucker",
          "Kellogg Co.",
          "Kimberly-Clark",
          "Kroger Co.",
          "Lamb Weston Holdings Inc",
          "McCormick & Co.",
          "Molson Coors Brewing Company",
          "Mondelez International",
          "PepsiCo Inc.",
          "Philip Morris International",
          "Sysco Corp.",
          "Tyson Foods",
          "Walmart",
          "Walgreens Boots Alliance"
         ],
         "legendgroup": "GICSSector=Consumer Staples",
         "marker": {
          "color": "#FECB52",
          "size": [
           87333,
           22685,
           30896,
           14396,
           18601,
           18800,
           233642,
           57949,
           13436,
           37855,
           130718,
           67132,
           30932,
           31376,
           21775,
           12295,
           21190,
           46222,
           20024,
           10926,
           21327,
           12862,
           75929,
           191664,
           127236,
           40366,
           22837,
           339464,
           49275
          ],
          "sizemode": "area",
          "sizeref": 686.85875,
          "symbol": "circle"
         },
         "mode": "markers",
         "name": "GICSSector=Consumer Staples",
         "showlegend": true,
         "type": "scatter",
         "x": [
          95,
          58.5,
          38.2,
          157.8,
          36.3,
          61.3,
          87.9,
          64.2,
          59.5,
          72.2,
          29.3,
          34,
          62.9,
          48.4,
          44.3,
          72.8,
          88.9,
          69.7,
          28.3,
          24.3,
          41.9,
          39.6,
          40.8,
          42.7,
          95.6,
          47.1,
          24.4,
          47.1,
          34.4
         ],
         "xaxis": "x",
         "y": [
          6.8,
          3.4,
          1,
          2.9,
          1.2,
          2.6,
          2.9,
          2.5,
          3.1,
          1.5,
          0.8,
          0.9,
          3.8,
          1.9,
          2,
          3.2,
          3.6,
          3,
          2.3,
          1.1,
          1.4,
          2.8,
          2,
          2.7,
          5.6,
          1.9,
          1.9,
          1.8,
          3.2
         ],
         "yaxis": "y"
        },
        {
         "hoverlabel": {
          "namelength": 0
         },
         "hovertemplate": "<b>%{hovertext}</b><br><br>GICSSector=Energy<br>PayoutRatio=%{x}<br>DividendYield=%{y}<br>MarketCap=%{marker.size}",
         "hovertext": [
          "Baker Hughes, a GE Company",
          "Cabot Oil & Gas",
          "Chevron Corp.",
          "Cimarex Energy",
          "Concho Resources",
          "ConocoPhillips",
          "Devon Energy",
          "Diamondback Energy",
          "EOG Resources",
          "Exxon Mobil Corp.",
          "Halliburton Co.",
          "HollyFrontier Corp",
          "Kinder Morgan",
          "Marathon Oil Corp.",
          "Marathon Petroleum",
          "Occidental Petroleum",
          "ONEOK",
          "Phillips 66",
          "Pioneer Natural Resources",
          "Valero Energy"
         ],
         "legendgroup": "GICSSector=Energy",
         "marker": {
          "color": "#636efa",
          "size": [
           22348,
           7748,
           223975,
           4521,
           13158,
           62445,
           8609,
           14210,
           41750,
           295119,
           17702,
           9155,
           46181,
           9656,
           43363,
           38391,
           29283,
           48941,
           21829,
           38891
          ],
          "sizemode": "area",
          "sizeref": 686.85875,
          "symbol": "circle"
         },
         "mode": "markers",
         "name": "GICSSector=Energy",
         "showlegend": true,
         "type": "scatter",
         "x": [
          205.7,
          14.7,
          59.4,
          12.3,
          9.9,
          19.2,
          4.2,
          9,
          15.3,
          80.2,
          53,
          24.4,
          99.1,
          16.9,
          42.3,
          61.6,
          111.9,
          28.4,
          9,
          55.9
         ],
         "xaxis": "x2",
         "y": [
          3.3,
          1.6,
          3.9,
          1.7,
          0.4,
          2.1,
          1.6,
          0.6,
          1.3,
          4.8,
          3.6,
          2.4,
          4.4,
          1.7,
          3,
          7.3,
          4.8,
          3,
          0.4,
          3.6
         ],
         "yaxis": "y2"
        }
       ],
       "layout": {
        "annotations": [
         {
          "font": {},
          "showarrow": false,
          "text": "GICSSector=Consumer Staples",
          "x": 0.15999999999999998,
          "xanchor": "center",
          "xref": "paper",
          "y": 0.1975,
          "yanchor": "bottom",
          "yref": "paper"
         },
         {
          "font": {},
          "showarrow": false,
          "text": "GICSSector=Energy",
          "x": 0.49999999999999994,
          "xanchor": "center",
          "xref": "paper",
          "y": 0.1975,
          "yanchor": "bottom",
          "yref": "paper"
         },
         {
          "font": {},
          "showarrow": false,
          "text": "GICSSector=Financials",
          "x": 0.15999999999999998,
          "xanchor": "center",
          "xref": "paper",
          "y": 0.465,
          "yanchor": "bottom",
          "yref": "paper"
         },
         {
          "font": {},
          "showarrow": false,
          "text": "GICSSector=Materials",
          "x": 0.49999999999999994,
          "xanchor": "center",
          "xref": "paper",
          "y": 0.465,
          "yanchor": "bottom",
          "yref": "paper"
         },
         {
          "font": {},
          "showarrow": false,
          "text": "GICSSector=Real Estate",
          "x": 0.8399999999999999,
          "xanchor": "center",
          "xref": "paper",
          "y": 0.465,
          "yanchor": "bottom",
          "yref": "paper"
         },
         {
          "font": {},
          "showarrow": false,
          "text": "GICSSector=Communication Services",
          "x": 0.15999999999999998,
          "xanchor": "center",
          "xref": "paper",
          "y": 0.7325,
          "yanchor": "bottom",
          "yref": "paper"
         },
         {
          "font": {},
          "showarrow": false,
          "text": "GICSSector=Consumer Discretionary",
          "x": 0.49999999999999994,
          "xanchor": "center",
          "xref": "paper",
          "y": 0.7325,
          "yanchor": "bottom",
          "yref": "paper"
         },
         {
          "font": {},
          "showarrow": false,
          "text": "GICSSector=Utilities",
          "x": 0.8399999999999999,
          "xanchor": "center",
          "xref": "paper",
          "y": 0.7325,
          "yanchor": "bottom",
          "yref": "paper"
         },
         {
          "font": {},
          "showarrow": false,
          "text": "GICSSector=Industrials",
          "x": 0.15999999999999998,
          "xanchor": "center",
          "xref": "paper",
          "y": 1,
          "yanchor": "bottom",
          "yref": "paper"
         },
         {
          "font": {},
          "showarrow": false,
          "text": "GICSSector=Health Care",
          "x": 0.49999999999999994,
          "xanchor": "center",
          "xref": "paper",
          "y": 1,
          "yanchor": "bottom",
          "yref": "paper"
         },
         {
          "font": {},
          "showarrow": false,
          "text": "GICSSector=Information Technology",
          "x": 0.8399999999999999,
          "xanchor": "center",
          "xref": "paper",
          "y": 1,
          "yanchor": "bottom",
          "yref": "paper"
         }
        ],
        "height": 800,
        "legend": {
         "itemsizing": "constant",
         "tracegroupgap": 0
        },
        "margin": {
         "t": 60
        },
        "template": {
         "data": {
          "bar": [
           {
            "error_x": {
             "color": "#2a3f5f"
            },
            "error_y": {
             "color": "#2a3f5f"
            },
            "marker": {
             "line": {
              "color": "#E5ECF6",
              "width": 0.5
             }
            },
            "type": "bar"
           }
          ],
          "barpolar": [
           {
            "marker": {
             "line": {
              "color": "#E5ECF6",
              "width": 0.5
             }
            },
            "type": "barpolar"
           }
          ],
          "carpet": [
           {
            "aaxis": {
             "endlinecolor": "#2a3f5f",
             "gridcolor": "white",
             "linecolor": "white",
             "minorgridcolor": "white",
             "startlinecolor": "#2a3f5f"
            },
            "baxis": {
             "endlinecolor": "#2a3f5f",
             "gridcolor": "white",
             "linecolor": "white",
             "minorgridcolor": "white",
             "startlinecolor": "#2a3f5f"
            },
            "type": "carpet"
           }
          ],
          "choropleth": [
           {
            "colorbar": {
             "outlinewidth": 0,
             "ticks": ""
            },
            "type": "choropleth"
           }
          ],
          "contour": [
           {
            "colorbar": {
             "outlinewidth": 0,
             "ticks": ""
            },
            "colorscale": [
             [
              0,
              "#0d0887"
             ],
             [
              0.1111111111111111,
              "#46039f"
             ],
             [
              0.2222222222222222,
              "#7201a8"
             ],
             [
              0.3333333333333333,
              "#9c179e"
             ],
             [
              0.4444444444444444,
              "#bd3786"
             ],
             [
              0.5555555555555556,
              "#d8576b"
             ],
             [
              0.6666666666666666,
              "#ed7953"
             ],
             [
              0.7777777777777778,
              "#fb9f3a"
             ],
             [
              0.8888888888888888,
              "#fdca26"
             ],
             [
              1,
              "#f0f921"
             ]
            ],
            "type": "contour"
           }
          ],
          "contourcarpet": [
           {
            "colorbar": {
             "outlinewidth": 0,
             "ticks": ""
            },
            "type": "contourcarpet"
           }
          ],
          "heatmap": [
           {
            "colorbar": {
             "outlinewidth": 0,
             "ticks": ""
            },
            "colorscale": [
             [
              0,
              "#0d0887"
             ],
             [
              0.1111111111111111,
              "#46039f"
             ],
             [
              0.2222222222222222,
              "#7201a8"
             ],
             [
              0.3333333333333333,
              "#9c179e"
             ],
             [
              0.4444444444444444,
              "#bd3786"
             ],
             [
              0.5555555555555556,
              "#d8576b"
             ],
             [
              0.6666666666666666,
              "#ed7953"
             ],
             [
              0.7777777777777778,
              "#fb9f3a"
             ],
             [
              0.8888888888888888,
              "#fdca26"
             ],
             [
              1,
              "#f0f921"
             ]
            ],
            "type": "heatmap"
           }
          ],
          "heatmapgl": [
           {
            "colorbar": {
             "outlinewidth": 0,
             "ticks": ""
            },
            "colorscale": [
             [
              0,
              "#0d0887"
             ],
             [
              0.1111111111111111,
              "#46039f"
             ],
             [
              0.2222222222222222,
              "#7201a8"
             ],
             [
              0.3333333333333333,
              "#9c179e"
             ],
             [
              0.4444444444444444,
              "#bd3786"
             ],
             [
              0.5555555555555556,
              "#d8576b"
             ],
             [
              0.6666666666666666,
              "#ed7953"
             ],
             [
              0.7777777777777778,
              "#fb9f3a"
             ],
             [
              0.8888888888888888,
              "#fdca26"
             ],
             [
              1,
              "#f0f921"
             ]
            ],
            "type": "heatmapgl"
           }
          ],
          "histogram": [
           {
            "marker": {
             "colorbar": {
              "outlinewidth": 0,
              "ticks": ""
             }
            },
            "type": "histogram"
           }
          ],
          "histogram2d": [
           {
            "colorbar": {
             "outlinewidth": 0,
             "ticks": ""
            },
            "colorscale": [
             [
              0,
              "#0d0887"
             ],
             [
              0.1111111111111111,
              "#46039f"
             ],
             [
              0.2222222222222222,
              "#7201a8"
             ],
             [
              0.3333333333333333,
              "#9c179e"
             ],
             [
              0.4444444444444444,
              "#bd3786"
             ],
             [
              0.5555555555555556,
              "#d8576b"
             ],
             [
              0.6666666666666666,
              "#ed7953"
             ],
             [
              0.7777777777777778,
              "#fb9f3a"
             ],
             [
              0.8888888888888888,
              "#fdca26"
             ],
             [
              1,
              "#f0f921"
             ]
            ],
            "type": "histogram2d"
           }
          ],
          "histogram2dcontour": [
           {
            "colorbar": {
             "outlinewidth": 0,
             "ticks": ""
            },
            "colorscale": [
             [
              0,
              "#0d0887"
             ],
             [
              0.1111111111111111,
              "#46039f"
             ],
             [
              0.2222222222222222,
              "#7201a8"
             ],
             [
              0.3333333333333333,
              "#9c179e"
             ],
             [
              0.4444444444444444,
              "#bd3786"
             ],
             [
              0.5555555555555556,
              "#d8576b"
             ],
             [
              0.6666666666666666,
              "#ed7953"
             ],
             [
              0.7777777777777778,
              "#fb9f3a"
             ],
             [
              0.8888888888888888,
              "#fdca26"
             ],
             [
              1,
              "#f0f921"
             ]
            ],
            "type": "histogram2dcontour"
           }
          ],
          "mesh3d": [
           {
            "colorbar": {
             "outlinewidth": 0,
             "ticks": ""
            },
            "type": "mesh3d"
           }
          ],
          "parcoords": [
           {
            "line": {
             "colorbar": {
              "outlinewidth": 0,
              "ticks": ""
             }
            },
            "type": "parcoords"
           }
          ],
          "pie": [
           {
            "automargin": true,
            "type": "pie"
           }
          ],
          "scatter": [
           {
            "marker": {
             "colorbar": {
              "outlinewidth": 0,
              "ticks": ""
             }
            },
            "type": "scatter"
           }
          ],
          "scatter3d": [
           {
            "line": {
             "colorbar": {
              "outlinewidth": 0,
              "ticks": ""
             }
            },
            "marker": {
             "colorbar": {
              "outlinewidth": 0,
              "ticks": ""
             }
            },
            "type": "scatter3d"
           }
          ],
          "scattercarpet": [
           {
            "marker": {
             "colorbar": {
              "outlinewidth": 0,
              "ticks": ""
             }
            },
            "type": "scattercarpet"
           }
          ],
          "scattergeo": [
           {
            "marker": {
             "colorbar": {
              "outlinewidth": 0,
              "ticks": ""
             }
            },
            "type": "scattergeo"
           }
          ],
          "scattergl": [
           {
            "marker": {
             "colorbar": {
              "outlinewidth": 0,
              "ticks": ""
             }
            },
            "type": "scattergl"
           }
          ],
          "scattermapbox": [
           {
            "marker": {
             "colorbar": {
              "outlinewidth": 0,
              "ticks": ""
             }
            },
            "type": "scattermapbox"
           }
          ],
          "scatterpolar": [
           {
            "marker": {
             "colorbar": {
              "outlinewidth": 0,
              "ticks": ""
             }
            },
            "type": "scatterpolar"
           }
          ],
          "scatterpolargl": [
           {
            "marker": {
             "colorbar": {
              "outlinewidth": 0,
              "ticks": ""
             }
            },
            "type": "scatterpolargl"
           }
          ],
          "scatterternary": [
           {
            "marker": {
             "colorbar": {
              "outlinewidth": 0,
              "ticks": ""
             }
            },
            "type": "scatterternary"
           }
          ],
          "surface": [
           {
            "colorbar": {
             "outlinewidth": 0,
             "ticks": ""
            },
            "colorscale": [
             [
              0,
              "#0d0887"
             ],
             [
              0.1111111111111111,
              "#46039f"
             ],
             [
              0.2222222222222222,
              "#7201a8"
             ],
             [
              0.3333333333333333,
              "#9c179e"
             ],
             [
              0.4444444444444444,
              "#bd3786"
             ],
             [
              0.5555555555555556,
              "#d8576b"
             ],
             [
              0.6666666666666666,
              "#ed7953"
             ],
             [
              0.7777777777777778,
              "#fb9f3a"
             ],
             [
              0.8888888888888888,
              "#fdca26"
             ],
             [
              1,
              "#f0f921"
             ]
            ],
            "type": "surface"
           }
          ],
          "table": [
           {
            "cells": {
             "fill": {
              "color": "#EBF0F8"
             },
             "line": {
              "color": "white"
             }
            },
            "header": {
             "fill": {
              "color": "#C8D4E3"
             },
             "line": {
              "color": "white"
             }
            },
            "type": "table"
           }
          ]
         },
         "layout": {
          "annotationdefaults": {
           "arrowcolor": "#2a3f5f",
           "arrowhead": 0,
           "arrowwidth": 1
          },
          "coloraxis": {
           "colorbar": {
            "outlinewidth": 0,
            "ticks": ""
           }
          },
          "colorscale": {
           "diverging": [
            [
             0,
             "#8e0152"
            ],
            [
             0.1,
             "#c51b7d"
            ],
            [
             0.2,
             "#de77ae"
            ],
            [
             0.3,
             "#f1b6da"
            ],
            [
             0.4,
             "#fde0ef"
            ],
            [
             0.5,
             "#f7f7f7"
            ],
            [
             0.6,
             "#e6f5d0"
            ],
            [
             0.7,
             "#b8e186"
            ],
            [
             0.8,
             "#7fbc41"
            ],
            [
             0.9,
             "#4d9221"
            ],
            [
             1,
             "#276419"
            ]
           ],
           "sequential": [
            [
             0,
             "#0d0887"
            ],
            [
             0.1111111111111111,
             "#46039f"
            ],
            [
             0.2222222222222222,
             "#7201a8"
            ],
            [
             0.3333333333333333,
             "#9c179e"
            ],
            [
             0.4444444444444444,
             "#bd3786"
            ],
            [
             0.5555555555555556,
             "#d8576b"
            ],
            [
             0.6666666666666666,
             "#ed7953"
            ],
            [
             0.7777777777777778,
             "#fb9f3a"
            ],
            [
             0.8888888888888888,
             "#fdca26"
            ],
            [
             1,
             "#f0f921"
            ]
           ],
           "sequentialminus": [
            [
             0,
             "#0d0887"
            ],
            [
             0.1111111111111111,
             "#46039f"
            ],
            [
             0.2222222222222222,
             "#7201a8"
            ],
            [
             0.3333333333333333,
             "#9c179e"
            ],
            [
             0.4444444444444444,
             "#bd3786"
            ],
            [
             0.5555555555555556,
             "#d8576b"
            ],
            [
             0.6666666666666666,
             "#ed7953"
            ],
            [
             0.7777777777777778,
             "#fb9f3a"
            ],
            [
             0.8888888888888888,
             "#fdca26"
            ],
            [
             1,
             "#f0f921"
            ]
           ]
          },
          "colorway": [
           "#636efa",
           "#EF553B",
           "#00cc96",
           "#ab63fa",
           "#FFA15A",
           "#19d3f3",
           "#FF6692",
           "#B6E880",
           "#FF97FF",
           "#FECB52"
          ],
          "font": {
           "color": "#2a3f5f"
          },
          "geo": {
           "bgcolor": "white",
           "lakecolor": "white",
           "landcolor": "#E5ECF6",
           "showlakes": true,
           "showland": true,
           "subunitcolor": "white"
          },
          "hoverlabel": {
           "align": "left"
          },
          "hovermode": "closest",
          "mapbox": {
           "style": "light"
          },
          "paper_bgcolor": "white",
          "plot_bgcolor": "#E5ECF6",
          "polar": {
           "angularaxis": {
            "gridcolor": "white",
            "linecolor": "white",
            "ticks": ""
           },
           "bgcolor": "#E5ECF6",
           "radialaxis": {
            "gridcolor": "white",
            "linecolor": "white",
            "ticks": ""
           }
          },
          "scene": {
           "xaxis": {
            "backgroundcolor": "#E5ECF6",
            "gridcolor": "white",
            "gridwidth": 2,
            "linecolor": "white",
            "showbackground": true,
            "ticks": "",
            "zerolinecolor": "white"
           },
           "yaxis": {
            "backgroundcolor": "#E5ECF6",
            "gridcolor": "white",
            "gridwidth": 2,
            "linecolor": "white",
            "showbackground": true,
            "ticks": "",
            "zerolinecolor": "white"
           },
           "zaxis": {
            "backgroundcolor": "#E5ECF6",
            "gridcolor": "white",
            "gridwidth": 2,
            "linecolor": "white",
            "showbackground": true,
            "ticks": "",
            "zerolinecolor": "white"
           }
          },
          "shapedefaults": {
           "line": {
            "color": "#2a3f5f"
           }
          },
          "ternary": {
           "aaxis": {
            "gridcolor": "white",
            "linecolor": "white",
            "ticks": ""
           },
           "baxis": {
            "gridcolor": "white",
            "linecolor": "white",
            "ticks": ""
           },
           "bgcolor": "#E5ECF6",
           "caxis": {
            "gridcolor": "white",
            "linecolor": "white",
            "ticks": ""
           }
          },
          "title": {
           "x": 0.05
          },
          "xaxis": {
           "automargin": true,
           "gridcolor": "white",
           "linecolor": "white",
           "ticks": "",
           "title": {
            "standoff": 15
           },
           "zerolinecolor": "white",
           "zerolinewidth": 2
          },
          "yaxis": {
           "automargin": true,
           "gridcolor": "white",
           "linecolor": "white",
           "ticks": "",
           "title": {
            "standoff": 15
           },
           "zerolinecolor": "white",
           "zerolinewidth": 2
          }
         }
        },
        "xaxis": {
         "anchor": "y",
         "domain": [
          0,
          0.31999999999999995
         ],
         "title": {
          "text": "PayoutRatio"
         },
         "type": "log"
        },
        "xaxis10": {
         "anchor": "y10",
         "domain": [
          0,
          0.31999999999999995
         ],
         "matches": "x",
         "showticklabels": false,
         "type": "log"
        },
        "xaxis11": {
         "anchor": "y11",
         "domain": [
          0.33999999999999997,
          0.6599999999999999
         ],
         "matches": "x",
         "showticklabels": false,
         "type": "log"
        },
        "xaxis12": {
         "anchor": "y12",
         "domain": [
          0.6799999999999999,
          0.9999999999999999
         ],
         "matches": "x",
         "showticklabels": false,
         "type": "log"
        },
        "xaxis2": {
         "anchor": "y2",
         "domain": [
          0.33999999999999997,
          0.6599999999999999
         ],
         "matches": "x",
         "title": {
          "text": "PayoutRatio"
         },
         "type": "log"
        },
        "xaxis3": {
         "anchor": "y3",
         "domain": [
          0.6799999999999999,
          0.9999999999999999
         ],
         "matches": "x",
         "title": {
          "text": "PayoutRatio"
         },
         "type": "log"
        },
        "xaxis4": {
         "anchor": "y4",
         "domain": [
          0,
          0.31999999999999995
         ],
         "matches": "x",
         "showticklabels": false,
         "type": "log"
        },
        "xaxis5": {
         "anchor": "y5",
         "domain": [
          0.33999999999999997,
          0.6599999999999999
         ],
         "matches": "x",
         "showticklabels": false,
         "type": "log"
        },
        "xaxis6": {
         "anchor": "y6",
         "domain": [
          0.6799999999999999,
          0.9999999999999999
         ],
         "matches": "x",
         "showticklabels": false,
         "type": "log"
        },
        "xaxis7": {
         "anchor": "y7",
         "domain": [
          0,
          0.31999999999999995
         ],
         "matches": "x",
         "showticklabels": false,
         "type": "log"
        },
        "xaxis8": {
         "anchor": "y8",
         "domain": [
          0.33999999999999997,
          0.6599999999999999
         ],
         "matches": "x",
         "showticklabels": false,
         "type": "log"
        },
        "xaxis9": {
         "anchor": "y9",
         "domain": [
          0.6799999999999999,
          0.9999999999999999
         ],
         "matches": "x",
         "showticklabels": false,
         "type": "log"
        },
        "yaxis": {
         "anchor": "x",
         "domain": [
          0,
          0.1975
         ],
         "title": {
          "text": "DividendYield"
         }
        },
        "yaxis10": {
         "anchor": "x10",
         "domain": [
          0.8025,
          1
         ],
         "matches": "y",
         "title": {
          "text": "DividendYield"
         }
        },
        "yaxis11": {
         "anchor": "x11",
         "domain": [
          0.8025,
          1
         ],
         "matches": "y",
         "showticklabels": false
        },
        "yaxis12": {
         "anchor": "x12",
         "domain": [
          0.8025,
          1
         ],
         "matches": "y",
         "showticklabels": false
        },
        "yaxis2": {
         "anchor": "x2",
         "domain": [
          0,
          0.1975
         ],
         "matches": "y",
         "showticklabels": false
        },
        "yaxis3": {
         "anchor": "x3",
         "domain": [
          0,
          0.1975
         ],
         "matches": "y",
         "showticklabels": false
        },
        "yaxis4": {
         "anchor": "x4",
         "domain": [
          0.2675,
          0.465
         ],
         "matches": "y",
         "title": {
          "text": "DividendYield"
         }
        },
        "yaxis5": {
         "anchor": "x5",
         "domain": [
          0.2675,
          0.465
         ],
         "matches": "y",
         "showticklabels": false
        },
        "yaxis6": {
         "anchor": "x6",
         "domain": [
          0.2675,
          0.465
         ],
         "matches": "y",
         "showticklabels": false
        },
        "yaxis7": {
         "anchor": "x7",
         "domain": [
          0.535,
          0.7325
         ],
         "matches": "y",
         "title": {
          "text": "DividendYield"
         }
        },
        "yaxis8": {
         "anchor": "x8",
         "domain": [
          0.535,
          0.7325
         ],
         "matches": "y",
         "showticklabels": false
        },
        "yaxis9": {
         "anchor": "x9",
         "domain": [
          0.535,
          0.7325
         ],
         "matches": "y",
         "showticklabels": false
        }
       }
      },
      "text/html": [
       "<div>\n",
       "        \n",
       "        \n",
       "            <div id=\"45c61294-854a-4e25-b650-156f68222321\" class=\"plotly-graph-div\" style=\"height:800px; width:100%;\"></div>\n",
       "            <script type=\"text/javascript\">\n",
       "                require([\"plotly\"], function(Plotly) {\n",
       "                    window.PLOTLYENV=window.PLOTLYENV || {};\n",
       "                    \n",
       "                if (document.getElementById(\"45c61294-854a-4e25-b650-156f68222321\")) {\n",
       "                    Plotly.newPlot(\n",
       "                        '45c61294-854a-4e25-b650-156f68222321',\n",
       "                        [{\"hoverlabel\": {\"namelength\": 0}, \"hovertemplate\": \"<b>%{hovertext}</b><br><br>GICSSector=Industrials<br>PayoutRatio=%{x}<br>DividendYield=%{y}<br>MarketCap=%{marker.size}\", \"hovertext\": [\"3M Company\", \"Alaska Air Group Inc\", \"Allegion\", \"American Airlines Group\", \"AMETEK Inc.\", \"A.O. Smith Corp\", \"Arconic Inc.\", \"Boeing Company\", \"C. H. Robinson Worldwide\", \"Caterpillar Inc.\", \"CSX Corp.\", \"Cummins Inc.\", \"Deere & Co.\", \"Delta Air Lines Inc.\", \"Dover Corp.\", \"Eaton Corporation\", \"Emerson Electric Company\", \"Expeditors\", \"Fastenal Co\", \"Flowserve Corporation\", \"Fortive Corp\", \"Fortune Brands Home & Security\", \"General Dynamics\", \"Grainger (W.W.) Inc.\", \"Honeywell Int'l Inc.\", \"Huntington Ingalls Industries\", \"Illinois Tool Works\", \"Ingersoll-Rand PLC\", \"Kansas City Southern\", \"Lockheed Martin Corp.\", \"Masco Corp.\", \"Northrop Grumman Corp.\", \"PACCAR Inc.\", \"Parker-Hannifin\", \"Pentair plc\", \"Quanta Services Inc.\", \"Raytheon Co.\", \"Republic Services Inc\", \"Robert Half International\", \"Rockwell Automation Inc.\", \"Rollins Inc.\", \"Roper Technologies\", \"Snap-on\", \"Southwest Airlines\", \"Stanley Black & Decker\", \"Union Pacific\", \"United Parcel Service\", \"United Technologies\", \"Verisk Analytics\", \"Wabtec Corporation\", \"Waste Management Inc.\", \"Xylem Inc.\"], \"legendgroup\": \"GICSSector=Industrials\", \"marker\": {\"color\": \"#636efa\", \"size\": [97084.0, 8494.0, 9745.0, 12596.0, 20322.0, 7035.0, 11990.0, 191602.0, 12054.0, 76140.0, 57676.0, 27642.0, 55102.0, 34801.0, 15022.0, 35557.0, 43401.0, 12798.0, 21595.0, 6348.0, 24272.0, 8166.0, 50131.0, 17050.0, 122208.0, 8976.0, 52283.0, 28682.0, 14572.0, 105359.0, 12738.0, 59760.0, 26015.0, 24092.0, 6968.0, 5866.0, 56687.0, 27828.0, 6570.0, 20153.0, 12618.0, 34832.0, 9105.0, 28617.0, 23312.0, 119791.0, 98952.0, 120730.0, 24301.0, 13518.0, 48095.0, 14690.0], \"sizemode\": \"area\", \"sizeref\": 686.85875, \"symbol\": \"circle\"}, \"mode\": \"markers\", \"name\": \"GICSSector=Industrials\", \"showlegend\": true, \"type\": \"scatter\", \"x\": [66.3, 32.7, 20.7, 12.0, 15.6, 33.5, 22.1, 118.4, 38.9, 34.0, 22.3, 27.7, 28.5, 20.4, 43.1, 53.0, 55.0, 25.8, 62.3, 48.1, 3.6, 29.0, 34.2, 37.4, 37.8, 20.4, 53.4, 36.3, 25.2, 41.5, 19.6, 23.9, 18.3, 27.1, 34.7, 5.4, 33.3, 46.2, 30.7, 44.4, 65.7, 16.6, 30.2, 15.3, 55.3, 41.4, 65.6, 49.2, 13.7, 26.5, 48.4, 28.3], \"xaxis\": \"x10\", \"y\": [3.3, 1.9, 0.9, 1.4, 0.6, 1.7, 0.7, 2.3, 2.2, 2.7, 1.3, 2.6, 1.7, 2.7, 1.9, 3.2, 2.8, 1.3, 2.3, 1.6, 0.4, 1.4, 2.3, 1.8, 1.9, 1.5, 2.5, 1.8, 1.0, 2.4, 1.1, 1.4, 1.7, 1.7, 1.7, 0.3, 1.8, 1.7, 2.1, 2.2, 1.1, 0.5, 2.3, 1.2, 1.7, 2.1, 3.3, 2.1, 0.3, 0.7, 1.8, 1.1], \"yaxis\": \"y10\"}, {\"hoverlabel\": {\"namelength\": 0}, \"hovertemplate\": \"<b>%{hovertext}</b><br><br>GICSSector=Health Care<br>PayoutRatio=%{x}<br>DividendYield=%{y}<br>MarketCap=%{marker.size}\", \"hovertext\": [\"AbbVie Inc.\", \"Agilent Technologies Inc\", \"AmerisourceBergen Corp\", \"Amgen Inc.\", \"Baxter International Inc.\", \"Bristol-Myers Squibb\", \"Cardinal Health Inc.\", \"Cerner\", \"The Cooper Companies\", \"CVS Health\", \"Danaher Corp.\", \"Gilead Sciences\", \"HCA Holdings\", \"Humana Inc.\", \"McKesson Corp.\", \"Medtronic plc\", \"Merck & Co.\", \"PerkinElmer\", \"Pfizer Inc.\", \"Quest Diagnostics\", \"ResMed\", \"Stryker Corp.\", \"Teleflex Inc\", \"Thermo Fisher Scientific\", \"Universal Health Services, Inc.\", \"Zoetis\"], \"legendgroup\": \"GICSSector=Health Care\", \"marker\": {\"color\": \"#EF553B\", \"size\": [114951.0, 23203.0, 17843.0, 121931.0, 44903.0, 89591.0, 14626.0, 21513.0, 13989.0, 85312.0, 99319.0, 84320.0, 42708.0, 39204.0, 27007.0, 141170.0, 212178.0, 9425.0, 203376.0, 13860.0, 18221.0, 78523.0, 14871.0, 118913.0, 12792.0, 58166.0], \"sizemode\": \"area\", \"sizeref\": 686.85875, \"symbol\": \"circle\"}, \"mode\": \"markers\", \"name\": \"GICSSector=Health Care\", \"showlegend\": true, \"type\": \"scatter\", \"x\": [153.0, 19.0, 35.0, 43.6, 26.1, 42.8, 42.2, 9.9, 0.7, 56.0, 19.1, 51.6, 14.1, 11.4, 51.7, 61.9, 59.2, 12.3, 63.7, 39.2, 52.4, 21.4, 23.1, 8.2, 4.5, 21.6], \"xaxis\": \"x11\", \"y\": [5.4, 0.9, 1.8, 2.7, 0.9, 3.0, 3.8, 0.3, 0.0, 3.0, 0.5, 3.6, 1.2, 0.7, 1.1, 1.9, 2.6, 0.3, 3.9, 2.1, 1.2, 1.0, 0.4, 0.2, 0.3, 0.5], \"yaxis\": \"y11\"}, {\"hoverlabel\": {\"namelength\": 0}, \"hovertemplate\": \"<b>%{hovertext}</b><br><br>GICSSector=Information Technology<br>PayoutRatio=%{x}<br>DividendYield=%{y}<br>MarketCap=%{marker.size}\", \"hovertext\": [\"Accenture plc\", \"Alliance Data Systems\", \"Amphenol Corp\", \"Analog Devices, Inc.\", \"Apple Inc.\", \"Applied Materials Inc.\", \"Automatic Data Processing\", \"Broadcom\", \"Broadridge Financial Solutions\", \"Cisco Systems\", \"Citrix Systems\", \"Cognizant Technology Solutions\", \"Corning Inc.\", \"DXC Technology\", \"Fidelity National Information Services\", \"FLIR Systems\", \"Global Payments Inc.\", \"HP Inc.\", \"Intel Corp.\", \"International Business Machines\", \"Intuit Inc.\", \"Jack Henry & Associates Inc\", \"Juniper Networks\", \"KLA-Tencor Corp.\", \"Lam Research\", \"Mastercard Inc.\", \"Maxim Integrated Products Inc\", \"Microchip Technology\", \"Microsoft Corp.\", \"Motorola Solutions Inc.\", \"NetApp\", \"Nvidia Corporation\", \"Oracle Corp.\", \"Paychex Inc.\", \"QUALCOMM Inc.\", \"Seagate Technology\", \"Skyworks Solutions\", \"TE Connectivity Ltd.\", \"Texas Instruments\", \"Total System Services\", \"Visa Inc.\", \"Western Union Co\", \"Xerox\", \"Xilinx\"], \"legendgroup\": \"GICSSector=Information Technology\", \"marker\": {\"color\": \"#00cc96\", \"size\": [117278.0, 6323.0, 30217.0, 38998.0, 1098974.0, 46677.0, 69409.0, 111194.0, 14089.0, 199740.0, 13570.0, 33330.0, 23488.0, 7329.0, 77888.0, 7227.0, 46888.0, 25370.0, 229119.0, 119043.0, 66571.0, 10656.0, 8631.0, 25151.0, 33772.0, 264647.0, 15316.0, 22135.0, 1047883.0, 28162.0, 13325.0, 118809.0, 177682.0, 30092.0, 93897.0, 14818.0, 15331.0, 31423.0, 111054.0, 23587.0, 297822.0, 10393.0, 6788.0, 23701.0], \"sizemode\": \"area\", \"sizeref\": 686.85875, \"symbol\": \"circle\"}, \"mode\": \"markers\", \"name\": \"GICSSector=Information Technology\", \"showlegend\": true, \"type\": \"scatter\", \"x\": [39.0, 14.8, 23.8, 49.9, 25.0, 27.0, 58.0, 130.8, 46.6, 51.7, 26.5, 22.1, 42.6, 18.4, 57.7, 32.3, 1.3, 22.6, 28.2, 73.7, 31.4, 43.7, 51.9, 39.7, 30.6, 19.0, 61.0, 92.9, 36.0, 35.5, 42.2, 14.0, 27.3, 80.4, 87.0, 35.1, 28.8, 18.9, 56.2, 15.2, 18.4, 28.1, 44.1, 39.0], \"xaxis\": \"x12\", \"y\": [1.6, 1.9, 0.9, 1.9, 1.2, 1.6, 1.9, 3.5, 1.6, 2.9, 1.0, 1.3, 2.5, 2.8, 1.1, 1.2, 0.0, 3.6, 2.4, 4.7, 0.7, 1.1, 3.0, 1.9, 1.9, 0.5, 3.3, 1.6, 1.3, 1.3, 3.0, 0.3, 1.6, 2.8, 3.2, 4.5, 1.7, 1.9, 2.6, 0.4, 0.6, 3.2, 3.3, 1.5], \"yaxis\": \"y12\"}, {\"hoverlabel\": {\"namelength\": 0}, \"hovertemplate\": \"<b>%{hovertext}</b><br><br>GICSSector=Communication Services<br>PayoutRatio=%{x}<br>DividendYield=%{y}<br>MarketCap=%{marker.size}\", \"hovertext\": [\"Activision Blizzard\", \"AT&T Inc.\", \"CBS Corp.\", \"Comcast Corp.\", \"Interpublic Group\", \"News Corp. Class A\", \"News Corp. Class B\", \"Omnicom Group\", \"Verizon Communications\", \"Viacom Inc.\", \"The Walt Disney Company\"], \"legendgroup\": \"GICSSector=Communication Services\", \"marker\": {\"color\": \"#ab63fa\", \"size\": [42033.0, 275766.0, 13671.0, 207796.0, 8286.0, 8145.0, 8374.0, 16688.0, 251799.0, 8854.0, 236214.0], \"sizemode\": \"area\", \"sizeref\": 686.85875, \"symbol\": \"circle\"}, \"mode\": \"markers\", \"name\": \"GICSSector=Communication Services\", \"showlegend\": true, \"type\": \"scatter\", \"x\": [15.4, 85.1, 8.8, 30.1, 53.9, 75.4, 75.4, 42.7, 62.9, 19.7, 21.6], \"xaxis\": \"x7\", \"y\": [0.6, 5.4, 2.0, 1.7, 4.3, 1.4, 1.4, 3.3, 4.0, 3.6, 1.3], \"yaxis\": \"y7\"}, {\"hoverlabel\": {\"namelength\": 0}, \"hovertemplate\": \"<b>%{hovertext}</b><br><br>GICSSector=Consumer Discretionary<br>PayoutRatio=%{x}<br>DividendYield=%{y}<br>MarketCap=%{marker.size}\", \"hovertext\": [\"Advance Auto Parts\", \"Aptiv Plc\", \"Best Buy Co. Inc.\", \"Block H&R\", \"BorgWarner\", \"Carnival Corp.\", \"D. R. Horton\", \"Darden Restaurants\", \"Dollar General\", \"eBay Inc.\", \"Expedia Group\", \"Ford Motor\", \"Gap Inc.\", \"Garmin Ltd.\", \"General Motors\", \"Genuine Parts\", \"Hanesbrands Inc\", \"Harley-Davidson\", \"Hasbro Inc.\", \"Hilton Worldwide Holdings Inc\", \"Home Depot\", \"Kohl's Corp.\", \"L Brands Inc.\", \"Leggett & Platt\", \"Lennar Corp.\", \"Lowe's Cos.\", \"Macy's Inc.\", \"Marriott Int'l.\", \"Nike\", \"Nordstrom\", \"Polo Ralph Lauren Corp.\", \"Pulte Homes Inc.\", \"PVH Corp.\", \"Ross Stores\", \"Royal Caribbean Cruises Ltd\", \"Starbucks Corp.\", \"Tapestry, Inc.\", \"Target Corp.\", \"Tiffany & Co.\", \"TJX Companies Inc.\", \"Tractor Supply Company\", \"V.F. Corp.\", \"Whirlpool Corp.\", \"Wynn Resorts Ltd\", \"Yum! Brands Inc\"], \"legendgroup\": \"GICSSector=Consumer Discretionary\", \"marker\": {\"color\": \"#FFA15A\", \"size\": [11787.0, 22895.0, 18995.0, 4939.0, 8256.0, 23181.0, 20077.0, 13535.0, 41896.0, 32879.0, 20263.0, 36747.0, 6598.0, 16457.0, 52269.0, 15227.0, 5846.0, 6200.0, 12544.0, 27472.0, 256998.0, 8475.0, 4872.0, 5899.0, 19587.0, 86063.0, 4840.0, 40672.0, 144114.0, 5677.0, 7502.0, 10922.0, 6802.0, 39750.0, 22984.0, 99039.0, 7469.0, 56897.0, 11165.0, 72372.0, 11344.0, 36429.0, 10301.0, 12468.0, 33249.0], \"sizemode\": \"area\", \"sizeref\": 686.85875, \"symbol\": \"circle\"}, \"mode\": \"markers\", \"name\": \"GICSSector=Consumer Discretionary\", \"showlegend\": true, \"type\": \"scatter\", \"x\": [4.0, 23.3, 33.8, 47.9, 18.4, 45.1, 13.6, 53.7, 19.5, 10.8, 30.8, 108.8, 39.4, 55.2, 23.9, 55.0, 38.6, 57.7, 128.9, 18.7, 47.4, 56.1, 86.1, 71.2, 2.6, 62.1, 45.5, 38.8, 32.1, 48.5, 46.7, 13.4, 1.7, 21.6, 31.7, 50.3, 60.7, 42.3, 48.3, 33.8, 28.2, 68.6, 28.2, 42.0, 36.4], \"xaxis\": \"x8\", \"y\": [0.1, 1.0, 2.6, 4.1, 1.7, 4.5, 1.1, 2.8, 0.7, 0.7, 0.9, 6.5, 5.5, 2.5, 4.2, 2.9, 3.7, 3.8, 2.7, 0.6, 2.0, 4.8, 10.2, 3.4, 0.3, 1.8, 9.6, 1.4, 1.0, 4.0, 2.6, 1.1, 0.2, 0.9, 2.6, 1.7, 5.2, 2.3, 2.4, 1.4, 1.3, 2.2, 2.9, 2.8, 1.4], \"yaxis\": \"y8\"}, {\"hoverlabel\": {\"namelength\": 0}, \"hovertemplate\": \"<b>%{hovertext}</b><br><br>GICSSector=Utilities<br>PayoutRatio=%{x}<br>DividendYield=%{y}<br>MarketCap=%{marker.size}\", \"hovertext\": [\"AES Corp\", \"Alliant Energy Corp\", \"Ameren Corp\", \"American Electric Power\", \"American Water Works Company Inc\", \"Atmos Energy Corp\", \"CenterPoint Energy\", \"CMS Energy\", \"Consolidated Edison\", \"Dominion Energy\", \"DTE Energy Co.\", \"Duke Energy\", \"Entergy Corp.\", \"Evergy\", \"Eversource Energy\", \"Exelon Corp.\", \"FirstEnergy Corp\", \"NRG Energy\", \"Pinnacle West Capital\", \"PPL Corp.\", \"Public Serv. Enterprise Inc.\", \"Sempra Energy\", \"Southern Co.\", \"Wec Energy Group Inc\", \"Xcel Energy Inc\"], \"legendgroup\": \"GICSSector=Utilities\", \"marker\": {\"color\": \"#19d3f3\", \"size\": [11371.0, 12740.0, 18941.0, 46633.0, 22028.0, 13357.0, 14865.0, 17960.0, 31121.0, 67988.0, 23704.0, 70069.0, 23988.0, 14947.0, 27849.0, 44352.0, 26140.0, 10276.0, 10573.0, 23964.0, 31723.0, 40633.0, 64751.0, 29382.0, 33187.0], \"sizemode\": \"area\", \"sizeref\": 686.85875, \"symbol\": \"circle\"}, \"mode\": \"markers\", \"name\": \"GICSSector=Utilities\", \"showlegend\": true, \"type\": \"scatter\", \"x\": [90.3, 63.8, 58.0, 65.7, 59.4, 48.6, 98.9, 71.8, 68.8, 235.2, 61.2, 81.9, 70.0, 79.9, 76.7, 60.3, 71.2, 6.6, 64.8, 66.7, 63.4, 52.9, 56.5, 65.9, 64.1], \"xaxis\": \"x9\", \"y\": [3.1, 2.6, 2.4, 2.8, 1.6, 1.8, 3.8, 2.3, 3.1, 4.2, 2.9, 3.9, 3.0, 3.0, 2.4, 3.1, 3.1, 0.3, 3.1, 5.0, 2.9, 2.5, 3.9, 2.5, 2.4], \"yaxis\": \"y9\"}, {\"hoverlabel\": {\"namelength\": 0}, \"hovertemplate\": \"<b>%{hovertext}</b><br><br>GICSSector=Financials<br>PayoutRatio=%{x}<br>DividendYield=%{y}<br>MarketCap=%{marker.size}\", \"hovertext\": [\"AFLAC Inc\", \"Allstate Corp\", \"American Express Co\", \"Ameriprise Financial\", \"Aon plc\", \"Arthur J. Gallagher & Co.\", \"Assurant\", \"Bank of America Corp\", \"The Bank of New York Mellon Corp.\", \"BB&T Corporation\", \"BlackRock\", \"Capital One Financial\", \"Cboe Global Markets\", \"Charles Schwab Corporation\", \"Chubb Limited\", \"Cincinnati Financial\", \"Citigroup Inc.\", \"Citizens Financial Group\", \"CME Group Inc.\", \"Comerica Inc.\", \"Discover Financial Services\", \"E*Trade\", \"Everest Re Group Ltd.\", \"Fifth Third Bancorp\", \"First Republic Bank\", \"Franklin Resources\", \"Goldman Sachs Group\", \"Hartford Financial Svc.Gp.\", \"Huntington Bancshares\", \"Intercontinental Exchange\", \"Invesco Ltd.\", \"Jefferies Financial Group\", \"JPMorgan Chase & Co.\", \"KeyCorp\", \"Lincoln National\", \"Loews Corp.\", \"M&T Bank Corp.\", \"Marsh & McLennan\", \"MetLife Inc.\", \"Moody's Corp\", \"Morgan Stanley\", \"MSCI Inc\", \"Nasdaq, Inc.\", \"Northern Trust Corp.\", \"People's United Financial\", \"Principal Financial Group\", \"Prudential Financial\", \"Raymond James Financial Inc.\", \"Regions Financial Corp.\", \"S&P Global, Inc.\", \"State Street Corp.\", \"SunTrust Banks\", \"Synchrony Financial\", \"T. Rowe Price Group\", \"The Travelers Companies Inc.\", \"U.S. Bancorp\", \"Unum Group\", \"Wells Fargo\", \"Willis Towers Watson\", \"Zions Bancorp\"], \"legendgroup\": \"GICSSector=Financials\", \"marker\": {\"color\": \"#FF6692\", \"size\": [38847.0, 35611.0, 96648.0, 18775.0, 45149.0, 16774.0, 7734.0, 292466.0, 44050.0, 40982.0, 70649.0, 43642.0, 12735.0, 54078.0, 68435.0, 18613.0, 163668.0, 16086.0, 72417.0, 9823.0, 25624.0, 9805.0, 10156.0, 20542.0, 17950.0, 14042.0, 75982.0, 20924.0, 15017.0, 52079.0, 16236.0, 5727.0, 400069.0, 18289.0, 12373.0, 15451.0, 21096.0, 50119.0, 43591.0, 40104.0, 75878.0, 18492.0, 16684.0, 21523.0, 6754.0, 15983.0, 36811.0, 11650.0, 16243.0, 60075.0, 24560.0, 30645.0, 23280.0, 25530.0, 34412.0, 89160.0, 6106.0, 224403.0, 23834.0, 8483.0], \"sizemode\": \"area\", \"sizeref\": 686.85875, \"symbol\": \"circle\"}, \"mode\": \"markers\", \"name\": \"GICSSector=Financials\", \"showlegend\": true, \"type\": \"scatter\", \"x\": [25.7, 24.7, 19.3, 26.7, 29.3, 44.9, 40.1, 23.0, 29.7, 41.4, 49.8, 13.8, 34.2, 23.5, 35.8, 29.1, 24.6, 31.5, 56.4, 32.7, 18.5, 13.5, 43.2, 29.5, 14.3, 37.3, 16.4, 26.5, 43.8, 28.9, 104.6, 111.4, 32.5, 42.7, 20.0, 10.2, 28.7, 58.0, 27.7, 28.8, 26.3, 34.4, 57.1, 34.6, 53.4, 40.1, 38.1, 18.3, 38.1, 27.0, 37.7, 37.5, 15.4, 36.2, 35.5, 35.1, 41.8, 39.4, 38.4, 27.5], \"xaxis\": \"x4\", \"y\": [2.0, 1.8, 1.4, 2.6, 0.9, 1.9, 1.9, 2.0, 2.5, 3.1, 2.9, 1.7, 1.1, 1.5, 2.0, 1.9, 2.6, 3.3, 1.4, 4.0, 2.0, 1.4, 2.2, 3.3, 0.7, 3.6, 1.8, 2.1, 3.9, 1.1, 7.1, 2.2, 2.6, 3.8, 2.3, 0.5, 2.5, 1.7, 3.7, 0.9, 2.7, 1.1, 1.8, 2.3, 4.2, 3.8, 4.1, 1.6, 3.5, 0.9, 2.9, 3.0, 2.4, 2.7, 2.4, 2.7, 3.6, 3.6, 1.4, 2.6], \"yaxis\": \"y4\"}, {\"hoverlabel\": {\"namelength\": 0}, \"hovertemplate\": \"<b>%{hovertext}</b><br><br>GICSSector=Materials<br>PayoutRatio=%{x}<br>DividendYield=%{y}<br>MarketCap=%{marker.size}\", \"hovertext\": [\"Air Products & Chemicals Inc\", \"Albemarle Corp\", \"Ball Corp\", \"Celanese Corp.\", \"CF Industries Holdings Inc\", \"Eastman Chemical\", \"Ecolab Inc.\", \"FMC Corporation\", \"Freeport-McMoRan Inc.\", \"International Paper\", \"Linde plc\", \"LyondellBasell\", \"Martin Marietta Materials\", \"The Mosaic Company\", \"Nucor Corp.\", \"Packaging Corporation of America\", \"PPG Industries\", \"Sealed Air\", \"Sherwin-Williams\", \"Vulcan Materials\", \"WestRock\"], \"legendgroup\": \"GICSSector=Materials\", \"marker\": {\"color\": \"#B6E880\", \"size\": [46287.0, 7149.0, 23598.0, 15066.0, 10003.0, 10249.0, 54198.0, 10764.0, 14697.0, 17045.0, 104712.0, 29572.0, 16487.0, 7782.0, 16058.0, 10418.0, 29411.0, 6442.0, 52020.0, 19114.0, 9843.0], \"sizemode\": \"area\", \"sizeref\": 686.85875, \"symbol\": \"circle\"}, \"mode\": \"markers\", \"name\": \"GICSSector=Materials\", \"showlegend\": true, \"type\": \"scatter\", \"x\": [58.2, 27.3, 28.8, 32.2, 59.3, 37.0, 34.5, 35.1, 45.0, 49.7, 33.9, 42.4, 23.8, 18.7, 27.3, 37.8, 38.3, 27.4, 28.0, 27.7, 55.1], \"xaxis\": \"x5\", \"y\": [2.2, 2.1, 0.6, 1.9, 2.6, 3.2, 1.0, 1.7, 2.0, 4.6, 1.8, 4.6, 0.7, 0.6, 3.0, 2.9, 1.6, 1.5, 0.8, 0.8, 4.7], \"yaxis\": \"y5\"}, {\"hoverlabel\": {\"namelength\": 0}, \"hovertemplate\": \"<b>%{hovertext}</b><br><br>GICSSector=Real Estate<br>PayoutRatio=%{x}<br>DividendYield=%{y}<br>MarketCap=%{marker.size}\", \"hovertext\": [\"Alexandria Real Estate Equities\", \"Apartment Investment & Management\", \"AvalonBay Communities, Inc.\", \"Boston Properties\", \"Duke Realty Corp\", \"Equity Residential\", \"Essex Property Trust, Inc.\", \"Extra Space Storage\", \"Federal Realty Investment Trust\", \"HCP Inc.\", \"Host Hotels & Resorts\", \"Iron Mountain Incorporated\", \"Kimco Realty\", \"Macerich\", \"Prologis\", \"Public Storage\", \"Realty Income Corporation\", \"Regency Centers Corporation\", \"Simon Property Group Inc\", \"SL Green Realty\", \"Ventas Inc\", \"Vornado Realty Trust\"], \"legendgroup\": \"GICSSector=Real Estate\", \"marker\": {\"color\": \"#FF97FF\", \"size\": [17980.0, 8143.0, 30938.0, 20243.0, 12465.0, 32575.0, 21581.0, 15666.0, 10585.0, 18627.0, 12298.0, 9847.0, 8976.0, 4389.0, 57981.0, 41976.0, 25553.0, 11634.0, 102532.0, 7290.0, 27265.0, 12347.0], \"sizemode\": \"area\", \"sizeref\": 686.85875, \"symbol\": \"circle\"}, \"mode\": \"markers\", \"name\": \"GICSSector=Real Estate\", \"showlegend\": true, \"type\": \"scatter\", \"x\": [110.4, 69.0, 90.5, 111.1, 131.2, 103.2, 122.5, 102.5, 123.6, 71.8, 54.0, 237.5, 139.2, 389.7, 73.3, 95.4, 204.4, 133.1, 115.6, 159.2, 227.0, 17.1], \"xaxis\": \"x6\", \"y\": [2.5, 2.9, 2.7, 2.9, 2.5, 2.6, 2.3, 3.0, 2.9, 3.9, 4.7, 7.1, 5.3, 10.3, 2.3, 3.3, 3.3, 3.3, 5.2, 4.0, 4.3, 4.0], \"yaxis\": \"y6\"}, {\"hoverlabel\": {\"namelength\": 0}, \"hovertemplate\": \"<b>%{hovertext}</b><br><br>GICSSector=Consumer Staples<br>PayoutRatio=%{x}<br>DividendYield=%{y}<br>MarketCap=%{marker.size}\", \"hovertext\": [\"Altria Group Inc\", \"Archer-Daniels-Midland Co\", \"Brown-Forman Corp.\", \"Campbell Soup\", \"Church & Dwight\", \"The Clorox Company\", \"Coca-Cola Company\", \"Colgate-Palmolive\", \"Conagra Brands\", \"Constellation Brands\", \"Costco Wholesale Corp.\", \"Estee Lauder Cos.\", \"General Mills\", \"The Hershey Company\", \"Hormel Foods Corp.\", \"JM Smucker\", \"Kellogg Co.\", \"Kimberly-Clark\", \"Kroger Co.\", \"Lamb Weston Holdings Inc\", \"McCormick & Co.\", \"Molson Coors Brewing Company\", \"Mondelez International\", \"PepsiCo Inc.\", \"Philip Morris International\", \"Sysco Corp.\", \"Tyson Foods\", \"Walmart\", \"Walgreens Boots Alliance\"], \"legendgroup\": \"GICSSector=Consumer Staples\", \"marker\": {\"color\": \"#FECB52\", \"size\": [87333.0, 22685.0, 30896.0, 14396.0, 18601.0, 18800.0, 233642.0, 57949.0, 13436.0, 37855.0, 130718.0, 67132.0, 30932.0, 31376.0, 21775.0, 12295.0, 21190.0, 46222.0, 20024.0, 10926.0, 21327.0, 12862.0, 75929.0, 191664.0, 127236.0, 40366.0, 22837.0, 339464.0, 49275.0], \"sizemode\": \"area\", \"sizeref\": 686.85875, \"symbol\": \"circle\"}, \"mode\": \"markers\", \"name\": \"GICSSector=Consumer Staples\", \"showlegend\": true, \"type\": \"scatter\", \"x\": [95.0, 58.5, 38.2, 157.8, 36.3, 61.3, 87.9, 64.2, 59.5, 72.2, 29.3, 34.0, 62.9, 48.4, 44.3, 72.8, 88.9, 69.7, 28.3, 24.3, 41.9, 39.6, 40.8, 42.7, 95.6, 47.1, 24.4, 47.1, 34.4], \"xaxis\": \"x\", \"y\": [6.8, 3.4, 1.0, 2.9, 1.2, 2.6, 2.9, 2.5, 3.1, 1.5, 0.8, 0.9, 3.8, 1.9, 2.0, 3.2, 3.6, 3.0, 2.3, 1.1, 1.4, 2.8, 2.0, 2.7, 5.6, 1.9, 1.9, 1.8, 3.2], \"yaxis\": \"y\"}, {\"hoverlabel\": {\"namelength\": 0}, \"hovertemplate\": \"<b>%{hovertext}</b><br><br>GICSSector=Energy<br>PayoutRatio=%{x}<br>DividendYield=%{y}<br>MarketCap=%{marker.size}\", \"hovertext\": [\"Baker Hughes, a GE Company\", \"Cabot Oil & Gas\", \"Chevron Corp.\", \"Cimarex Energy\", \"Concho Resources\", \"ConocoPhillips\", \"Devon Energy\", \"Diamondback Energy\", \"EOG Resources\", \"Exxon Mobil Corp.\", \"Halliburton Co.\", \"HollyFrontier Corp\", \"Kinder Morgan\", \"Marathon Oil Corp.\", \"Marathon Petroleum\", \"Occidental Petroleum\", \"ONEOK\", \"Phillips 66\", \"Pioneer Natural Resources\", \"Valero Energy\"], \"legendgroup\": \"GICSSector=Energy\", \"marker\": {\"color\": \"#636efa\", \"size\": [22348.0, 7748.0, 223975.0, 4521.0, 13158.0, 62445.0, 8609.0, 14210.0, 41750.0, 295119.0, 17702.0, 9155.0, 46181.0, 9656.0, 43363.0, 38391.0, 29283.0, 48941.0, 21829.0, 38891.0], \"sizemode\": \"area\", \"sizeref\": 686.85875, \"symbol\": \"circle\"}, \"mode\": \"markers\", \"name\": \"GICSSector=Energy\", \"showlegend\": true, \"type\": \"scatter\", \"x\": [205.7, 14.7, 59.4, 12.3, 9.9, 19.2, 4.2, 9.0, 15.3, 80.2, 53.0, 24.4, 99.1, 16.9, 42.3, 61.6, 111.9, 28.4, 9.0, 55.9], \"xaxis\": \"x2\", \"y\": [3.3, 1.6, 3.9, 1.7, 0.4, 2.1, 1.6, 0.6, 1.3, 4.8, 3.6, 2.4, 4.4, 1.7, 3.0, 7.3, 4.8, 3.0, 0.4, 3.6], \"yaxis\": \"y2\"}],\n",
       "                        {\"annotations\": [{\"font\": {}, \"showarrow\": false, \"text\": \"GICSSector=Consumer Staples\", \"x\": 0.15999999999999998, \"xanchor\": \"center\", \"xref\": \"paper\", \"y\": 0.1975, \"yanchor\": \"bottom\", \"yref\": \"paper\"}, {\"font\": {}, \"showarrow\": false, \"text\": \"GICSSector=Energy\", \"x\": 0.49999999999999994, \"xanchor\": \"center\", \"xref\": \"paper\", \"y\": 0.1975, \"yanchor\": \"bottom\", \"yref\": \"paper\"}, {\"font\": {}, \"showarrow\": false, \"text\": \"GICSSector=Financials\", \"x\": 0.15999999999999998, \"xanchor\": \"center\", \"xref\": \"paper\", \"y\": 0.465, \"yanchor\": \"bottom\", \"yref\": \"paper\"}, {\"font\": {}, \"showarrow\": false, \"text\": \"GICSSector=Materials\", \"x\": 0.49999999999999994, \"xanchor\": \"center\", \"xref\": \"paper\", \"y\": 0.465, \"yanchor\": \"bottom\", \"yref\": \"paper\"}, {\"font\": {}, \"showarrow\": false, \"text\": \"GICSSector=Real Estate\", \"x\": 0.8399999999999999, \"xanchor\": \"center\", \"xref\": \"paper\", \"y\": 0.465, \"yanchor\": \"bottom\", \"yref\": \"paper\"}, {\"font\": {}, \"showarrow\": false, \"text\": \"GICSSector=Communication Services\", \"x\": 0.15999999999999998, \"xanchor\": \"center\", \"xref\": \"paper\", \"y\": 0.7325, \"yanchor\": \"bottom\", \"yref\": \"paper\"}, {\"font\": {}, \"showarrow\": false, \"text\": \"GICSSector=Consumer Discretionary\", \"x\": 0.49999999999999994, \"xanchor\": \"center\", \"xref\": \"paper\", \"y\": 0.7325, \"yanchor\": \"bottom\", \"yref\": \"paper\"}, {\"font\": {}, \"showarrow\": false, \"text\": \"GICSSector=Utilities\", \"x\": 0.8399999999999999, \"xanchor\": \"center\", \"xref\": \"paper\", \"y\": 0.7325, \"yanchor\": \"bottom\", \"yref\": \"paper\"}, {\"font\": {}, \"showarrow\": false, \"text\": \"GICSSector=Industrials\", \"x\": 0.15999999999999998, \"xanchor\": \"center\", \"xref\": \"paper\", \"y\": 1.0, \"yanchor\": \"bottom\", \"yref\": \"paper\"}, {\"font\": {}, \"showarrow\": false, \"text\": \"GICSSector=Health Care\", \"x\": 0.49999999999999994, \"xanchor\": \"center\", \"xref\": \"paper\", \"y\": 1.0, \"yanchor\": \"bottom\", \"yref\": \"paper\"}, {\"font\": {}, \"showarrow\": false, \"text\": \"GICSSector=Information Technology\", \"x\": 0.8399999999999999, \"xanchor\": \"center\", \"xref\": \"paper\", \"y\": 1.0, \"yanchor\": \"bottom\", \"yref\": \"paper\"}], \"height\": 800, \"legend\": {\"itemsizing\": \"constant\", \"tracegroupgap\": 0}, \"margin\": {\"t\": 60}, \"template\": {\"data\": {\"bar\": [{\"error_x\": {\"color\": \"#2a3f5f\"}, \"error_y\": {\"color\": \"#2a3f5f\"}, \"marker\": {\"line\": {\"color\": \"#E5ECF6\", \"width\": 0.5}}, \"type\": \"bar\"}], \"barpolar\": [{\"marker\": {\"line\": {\"color\": \"#E5ECF6\", \"width\": 0.5}}, \"type\": \"barpolar\"}], \"carpet\": [{\"aaxis\": {\"endlinecolor\": \"#2a3f5f\", \"gridcolor\": \"white\", \"linecolor\": \"white\", \"minorgridcolor\": \"white\", \"startlinecolor\": \"#2a3f5f\"}, \"baxis\": {\"endlinecolor\": \"#2a3f5f\", \"gridcolor\": \"white\", \"linecolor\": \"white\", \"minorgridcolor\": \"white\", \"startlinecolor\": \"#2a3f5f\"}, \"type\": \"carpet\"}], \"choropleth\": [{\"colorbar\": {\"outlinewidth\": 0, \"ticks\": \"\"}, \"type\": \"choropleth\"}], \"contour\": [{\"colorbar\": {\"outlinewidth\": 0, \"ticks\": \"\"}, \"colorscale\": [[0.0, \"#0d0887\"], [0.1111111111111111, \"#46039f\"], [0.2222222222222222, \"#7201a8\"], [0.3333333333333333, \"#9c179e\"], [0.4444444444444444, \"#bd3786\"], [0.5555555555555556, \"#d8576b\"], [0.6666666666666666, \"#ed7953\"], [0.7777777777777778, \"#fb9f3a\"], [0.8888888888888888, \"#fdca26\"], [1.0, \"#f0f921\"]], \"type\": \"contour\"}], \"contourcarpet\": [{\"colorbar\": {\"outlinewidth\": 0, \"ticks\": \"\"}, \"type\": \"contourcarpet\"}], \"heatmap\": [{\"colorbar\": {\"outlinewidth\": 0, \"ticks\": \"\"}, \"colorscale\": [[0.0, \"#0d0887\"], [0.1111111111111111, \"#46039f\"], [0.2222222222222222, \"#7201a8\"], [0.3333333333333333, \"#9c179e\"], [0.4444444444444444, \"#bd3786\"], [0.5555555555555556, \"#d8576b\"], [0.6666666666666666, \"#ed7953\"], [0.7777777777777778, \"#fb9f3a\"], [0.8888888888888888, \"#fdca26\"], [1.0, \"#f0f921\"]], \"type\": \"heatmap\"}], \"heatmapgl\": [{\"colorbar\": {\"outlinewidth\": 0, \"ticks\": \"\"}, \"colorscale\": [[0.0, \"#0d0887\"], [0.1111111111111111, \"#46039f\"], [0.2222222222222222, \"#7201a8\"], [0.3333333333333333, \"#9c179e\"], [0.4444444444444444, \"#bd3786\"], [0.5555555555555556, \"#d8576b\"], [0.6666666666666666, \"#ed7953\"], [0.7777777777777778, \"#fb9f3a\"], [0.8888888888888888, \"#fdca26\"], [1.0, \"#f0f921\"]], \"type\": \"heatmapgl\"}], \"histogram\": [{\"marker\": {\"colorbar\": {\"outlinewidth\": 0, \"ticks\": \"\"}}, \"type\": \"histogram\"}], \"histogram2d\": [{\"colorbar\": {\"outlinewidth\": 0, \"ticks\": \"\"}, \"colorscale\": [[0.0, \"#0d0887\"], [0.1111111111111111, \"#46039f\"], [0.2222222222222222, \"#7201a8\"], [0.3333333333333333, \"#9c179e\"], [0.4444444444444444, \"#bd3786\"], [0.5555555555555556, \"#d8576b\"], [0.6666666666666666, \"#ed7953\"], [0.7777777777777778, \"#fb9f3a\"], [0.8888888888888888, \"#fdca26\"], [1.0, \"#f0f921\"]], \"type\": \"histogram2d\"}], \"histogram2dcontour\": [{\"colorbar\": {\"outlinewidth\": 0, \"ticks\": \"\"}, \"colorscale\": [[0.0, \"#0d0887\"], [0.1111111111111111, \"#46039f\"], [0.2222222222222222, \"#7201a8\"], [0.3333333333333333, \"#9c179e\"], [0.4444444444444444, \"#bd3786\"], [0.5555555555555556, \"#d8576b\"], [0.6666666666666666, \"#ed7953\"], [0.7777777777777778, \"#fb9f3a\"], [0.8888888888888888, \"#fdca26\"], [1.0, \"#f0f921\"]], \"type\": \"histogram2dcontour\"}], \"mesh3d\": [{\"colorbar\": {\"outlinewidth\": 0, \"ticks\": \"\"}, \"type\": \"mesh3d\"}], \"parcoords\": [{\"line\": {\"colorbar\": {\"outlinewidth\": 0, \"ticks\": \"\"}}, \"type\": \"parcoords\"}], \"pie\": [{\"automargin\": true, \"type\": \"pie\"}], \"scatter\": [{\"marker\": {\"colorbar\": {\"outlinewidth\": 0, \"ticks\": \"\"}}, \"type\": \"scatter\"}], \"scatter3d\": [{\"line\": {\"colorbar\": {\"outlinewidth\": 0, \"ticks\": \"\"}}, \"marker\": {\"colorbar\": {\"outlinewidth\": 0, \"ticks\": \"\"}}, \"type\": \"scatter3d\"}], \"scattercarpet\": [{\"marker\": {\"colorbar\": {\"outlinewidth\": 0, \"ticks\": \"\"}}, \"type\": \"scattercarpet\"}], \"scattergeo\": [{\"marker\": {\"colorbar\": {\"outlinewidth\": 0, \"ticks\": \"\"}}, \"type\": \"scattergeo\"}], \"scattergl\": [{\"marker\": {\"colorbar\": {\"outlinewidth\": 0, \"ticks\": \"\"}}, \"type\": \"scattergl\"}], \"scattermapbox\": [{\"marker\": {\"colorbar\": {\"outlinewidth\": 0, \"ticks\": \"\"}}, \"type\": \"scattermapbox\"}], \"scatterpolar\": [{\"marker\": {\"colorbar\": {\"outlinewidth\": 0, \"ticks\": \"\"}}, \"type\": \"scatterpolar\"}], \"scatterpolargl\": [{\"marker\": {\"colorbar\": {\"outlinewidth\": 0, \"ticks\": \"\"}}, \"type\": \"scatterpolargl\"}], \"scatterternary\": [{\"marker\": {\"colorbar\": {\"outlinewidth\": 0, \"ticks\": \"\"}}, \"type\": \"scatterternary\"}], \"surface\": [{\"colorbar\": {\"outlinewidth\": 0, \"ticks\": \"\"}, \"colorscale\": [[0.0, \"#0d0887\"], [0.1111111111111111, \"#46039f\"], [0.2222222222222222, \"#7201a8\"], [0.3333333333333333, \"#9c179e\"], [0.4444444444444444, \"#bd3786\"], [0.5555555555555556, \"#d8576b\"], [0.6666666666666666, \"#ed7953\"], [0.7777777777777778, \"#fb9f3a\"], [0.8888888888888888, \"#fdca26\"], [1.0, \"#f0f921\"]], \"type\": \"surface\"}], \"table\": [{\"cells\": {\"fill\": {\"color\": \"#EBF0F8\"}, \"line\": {\"color\": \"white\"}}, \"header\": {\"fill\": {\"color\": \"#C8D4E3\"}, \"line\": {\"color\": \"white\"}}, \"type\": \"table\"}]}, \"layout\": {\"annotationdefaults\": {\"arrowcolor\": \"#2a3f5f\", \"arrowhead\": 0, \"arrowwidth\": 1}, \"coloraxis\": {\"colorbar\": {\"outlinewidth\": 0, \"ticks\": \"\"}}, \"colorscale\": {\"diverging\": [[0, \"#8e0152\"], [0.1, \"#c51b7d\"], [0.2, \"#de77ae\"], [0.3, \"#f1b6da\"], [0.4, \"#fde0ef\"], [0.5, \"#f7f7f7\"], [0.6, \"#e6f5d0\"], [0.7, \"#b8e186\"], [0.8, \"#7fbc41\"], [0.9, \"#4d9221\"], [1, \"#276419\"]], \"sequential\": [[0.0, \"#0d0887\"], [0.1111111111111111, \"#46039f\"], [0.2222222222222222, \"#7201a8\"], [0.3333333333333333, \"#9c179e\"], [0.4444444444444444, \"#bd3786\"], [0.5555555555555556, \"#d8576b\"], [0.6666666666666666, \"#ed7953\"], [0.7777777777777778, \"#fb9f3a\"], [0.8888888888888888, \"#fdca26\"], [1.0, \"#f0f921\"]], \"sequentialminus\": [[0.0, \"#0d0887\"], [0.1111111111111111, \"#46039f\"], [0.2222222222222222, \"#7201a8\"], [0.3333333333333333, \"#9c179e\"], [0.4444444444444444, \"#bd3786\"], [0.5555555555555556, \"#d8576b\"], [0.6666666666666666, \"#ed7953\"], [0.7777777777777778, \"#fb9f3a\"], [0.8888888888888888, \"#fdca26\"], [1.0, \"#f0f921\"]]}, \"colorway\": [\"#636efa\", \"#EF553B\", \"#00cc96\", \"#ab63fa\", \"#FFA15A\", \"#19d3f3\", \"#FF6692\", \"#B6E880\", \"#FF97FF\", \"#FECB52\"], \"font\": {\"color\": \"#2a3f5f\"}, \"geo\": {\"bgcolor\": \"white\", \"lakecolor\": \"white\", \"landcolor\": \"#E5ECF6\", \"showlakes\": true, \"showland\": true, \"subunitcolor\": \"white\"}, \"hoverlabel\": {\"align\": \"left\"}, \"hovermode\": \"closest\", \"mapbox\": {\"style\": \"light\"}, \"paper_bgcolor\": \"white\", \"plot_bgcolor\": \"#E5ECF6\", \"polar\": {\"angularaxis\": {\"gridcolor\": \"white\", \"linecolor\": \"white\", \"ticks\": \"\"}, \"bgcolor\": \"#E5ECF6\", \"radialaxis\": {\"gridcolor\": \"white\", \"linecolor\": \"white\", \"ticks\": \"\"}}, \"scene\": {\"xaxis\": {\"backgroundcolor\": \"#E5ECF6\", \"gridcolor\": \"white\", \"gridwidth\": 2, \"linecolor\": \"white\", \"showbackground\": true, \"ticks\": \"\", \"zerolinecolor\": \"white\"}, \"yaxis\": {\"backgroundcolor\": \"#E5ECF6\", \"gridcolor\": \"white\", \"gridwidth\": 2, \"linecolor\": \"white\", \"showbackground\": true, \"ticks\": \"\", \"zerolinecolor\": \"white\"}, \"zaxis\": {\"backgroundcolor\": \"#E5ECF6\", \"gridcolor\": \"white\", \"gridwidth\": 2, \"linecolor\": \"white\", \"showbackground\": true, \"ticks\": \"\", \"zerolinecolor\": \"white\"}}, \"shapedefaults\": {\"line\": {\"color\": \"#2a3f5f\"}}, \"ternary\": {\"aaxis\": {\"gridcolor\": \"white\", \"linecolor\": \"white\", \"ticks\": \"\"}, \"baxis\": {\"gridcolor\": \"white\", \"linecolor\": \"white\", \"ticks\": \"\"}, \"bgcolor\": \"#E5ECF6\", \"caxis\": {\"gridcolor\": \"white\", \"linecolor\": \"white\", \"ticks\": \"\"}}, \"title\": {\"x\": 0.05}, \"xaxis\": {\"automargin\": true, \"gridcolor\": \"white\", \"linecolor\": \"white\", \"ticks\": \"\", \"title\": {\"standoff\": 15}, \"zerolinecolor\": \"white\", \"zerolinewidth\": 2}, \"yaxis\": {\"automargin\": true, \"gridcolor\": \"white\", \"linecolor\": \"white\", \"ticks\": \"\", \"title\": {\"standoff\": 15}, \"zerolinecolor\": \"white\", \"zerolinewidth\": 2}}}, \"xaxis\": {\"anchor\": \"y\", \"domain\": [0.0, 0.31999999999999995], \"title\": {\"text\": \"PayoutRatio\"}, \"type\": \"log\"}, \"xaxis10\": {\"anchor\": \"y10\", \"domain\": [0.0, 0.31999999999999995], \"matches\": \"x\", \"showticklabels\": false, \"type\": \"log\"}, \"xaxis11\": {\"anchor\": \"y11\", \"domain\": [0.33999999999999997, 0.6599999999999999], \"matches\": \"x\", \"showticklabels\": false, \"type\": \"log\"}, \"xaxis12\": {\"anchor\": \"y12\", \"domain\": [0.6799999999999999, 0.9999999999999999], \"matches\": \"x\", \"showticklabels\": false, \"type\": \"log\"}, \"xaxis2\": {\"anchor\": \"y2\", \"domain\": [0.33999999999999997, 0.6599999999999999], \"matches\": \"x\", \"title\": {\"text\": \"PayoutRatio\"}, \"type\": \"log\"}, \"xaxis3\": {\"anchor\": \"y3\", \"domain\": [0.6799999999999999, 0.9999999999999999], \"matches\": \"x\", \"title\": {\"text\": \"PayoutRatio\"}, \"type\": \"log\"}, \"xaxis4\": {\"anchor\": \"y4\", \"domain\": [0.0, 0.31999999999999995], \"matches\": \"x\", \"showticklabels\": false, \"type\": \"log\"}, \"xaxis5\": {\"anchor\": \"y5\", \"domain\": [0.33999999999999997, 0.6599999999999999], \"matches\": \"x\", \"showticklabels\": false, \"type\": \"log\"}, \"xaxis6\": {\"anchor\": \"y6\", \"domain\": [0.6799999999999999, 0.9999999999999999], \"matches\": \"x\", \"showticklabels\": false, \"type\": \"log\"}, \"xaxis7\": {\"anchor\": \"y7\", \"domain\": [0.0, 0.31999999999999995], \"matches\": \"x\", \"showticklabels\": false, \"type\": \"log\"}, \"xaxis8\": {\"anchor\": \"y8\", \"domain\": [0.33999999999999997, 0.6599999999999999], \"matches\": \"x\", \"showticklabels\": false, \"type\": \"log\"}, \"xaxis9\": {\"anchor\": \"y9\", \"domain\": [0.6799999999999999, 0.9999999999999999], \"matches\": \"x\", \"showticklabels\": false, \"type\": \"log\"}, \"yaxis\": {\"anchor\": \"x\", \"domain\": [0.0, 0.1975], \"title\": {\"text\": \"DividendYield\"}}, \"yaxis10\": {\"anchor\": \"x10\", \"domain\": [0.8025, 1.0], \"matches\": \"y\", \"title\": {\"text\": \"DividendYield\"}}, \"yaxis11\": {\"anchor\": \"x11\", \"domain\": [0.8025, 1.0], \"matches\": \"y\", \"showticklabels\": false}, \"yaxis12\": {\"anchor\": \"x12\", \"domain\": [0.8025, 1.0], \"matches\": \"y\", \"showticklabels\": false}, \"yaxis2\": {\"anchor\": \"x2\", \"domain\": [0.0, 0.1975], \"matches\": \"y\", \"showticklabels\": false}, \"yaxis3\": {\"anchor\": \"x3\", \"domain\": [0.0, 0.1975], \"matches\": \"y\", \"showticklabels\": false}, \"yaxis4\": {\"anchor\": \"x4\", \"domain\": [0.2675, 0.465], \"matches\": \"y\", \"title\": {\"text\": \"DividendYield\"}}, \"yaxis5\": {\"anchor\": \"x5\", \"domain\": [0.2675, 0.465], \"matches\": \"y\", \"showticklabels\": false}, \"yaxis6\": {\"anchor\": \"x6\", \"domain\": [0.2675, 0.465], \"matches\": \"y\", \"showticklabels\": false}, \"yaxis7\": {\"anchor\": \"x7\", \"domain\": [0.535, 0.7325], \"matches\": \"y\", \"title\": {\"text\": \"DividendYield\"}}, \"yaxis8\": {\"anchor\": \"x8\", \"domain\": [0.535, 0.7325], \"matches\": \"y\", \"showticklabels\": false}, \"yaxis9\": {\"anchor\": \"x9\", \"domain\": [0.535, 0.7325], \"matches\": \"y\", \"showticklabels\": false}},\n",
       "                        {\"responsive\": true}\n",
       "                    ).then(function(){\n",
       "                            \n",
       "var gd = document.getElementById('45c61294-854a-4e25-b650-156f68222321');\n",
       "var x = new MutationObserver(function (mutations, observer) {{\n",
       "        var display = window.getComputedStyle(gd).display;\n",
       "        if (!display || display === 'none') {{\n",
       "            console.log([gd, 'removed!']);\n",
       "            Plotly.purge(gd);\n",
       "            observer.disconnect();\n",
       "        }}\n",
       "}});\n",
       "\n",
       "// Listen for the removal of the full notebook cells\n",
       "var notebookContainer = gd.closest('#notebook-container');\n",
       "if (notebookContainer) {{\n",
       "    x.observe(notebookContainer, {childList: true});\n",
       "}}\n",
       "\n",
       "// Listen for the clearing of the current output cell\n",
       "var outputEl = gd.closest('.output');\n",
       "if (outputEl) {{\n",
       "    x.observe(outputEl, {childList: true});\n",
       "}}\n",
       "\n",
       "                        })\n",
       "                };\n",
       "                });\n",
       "            </script>\n",
       "        </div>"
      ]
     },
     "metadata": {},
     "output_type": "display_data"
    }
   ],
   "source": [
    "# dividend, payoutRatio, marketcap by sectors\n",
    "px.scatter(fullDataNoOutliers, x='PayoutRatio', y='DividendYield', color='GICSSector', size='MarketCap',size_max=40,\n",
    "          hover_name='Security', facet_col='GICSSector', facet_col_wrap=3, log_x=True, height = 800)"
   ]
  },
  {
   "cell_type": "code",
   "execution_count": 18,
   "metadata": {},
   "outputs": [
    {
     "data": {
      "application/vnd.plotly.v1+json": {
       "config": {
        "plotlyServerURL": "https://plot.ly"
       },
       "data": [
        {
         "hoverlabel": {
          "namelength": 0
         },
         "hovertemplate": "GICSSector=Industrials<br>PayoutRatio=%{x}<br>DividendYield=%{y}",
         "legendgroup": "GICSSector=Industrials",
         "marker": {
          "color": "#636efa",
          "symbol": "circle"
         },
         "mode": "markers",
         "name": "GICSSector=Industrials",
         "showlegend": true,
         "type": "scatter",
         "x": [
          66.3,
          32.7,
          20.7,
          12,
          15.6,
          33.5,
          22.1,
          118.4,
          38.9,
          34,
          22.3,
          27.7,
          28.5,
          20.4,
          43.1,
          53,
          55,
          25.8,
          62.3,
          48.1,
          3.6,
          29,
          34.2,
          37.4,
          37.8,
          20.4,
          53.4,
          36.3,
          25.2,
          41.5,
          19.6,
          23.9,
          18.3,
          27.1,
          34.7,
          5.4,
          33.3,
          46.2,
          30.7,
          44.4,
          65.7,
          16.6,
          30.2,
          15.3,
          55.3,
          41.4,
          65.6,
          49.2,
          13.7,
          26.5,
          48.4,
          28.3
         ],
         "xaxis": "x",
         "y": [
          3.3,
          1.9,
          0.9,
          1.4,
          0.6,
          1.7,
          0.7,
          2.3,
          2.2,
          2.7,
          1.3,
          2.6,
          1.7,
          2.7,
          1.9,
          3.2,
          2.8,
          1.3,
          2.3,
          1.6,
          0.4,
          1.4,
          2.3,
          1.8,
          1.9,
          1.5,
          2.5,
          1.8,
          1,
          2.4,
          1.1,
          1.4,
          1.7,
          1.7,
          1.7,
          0.3,
          1.8,
          1.7,
          2.1,
          2.2,
          1.1,
          0.5,
          2.3,
          1.2,
          1.7,
          2.1,
          3.3,
          2.1,
          0.3,
          0.7,
          1.8,
          1.1
         ],
         "yaxis": "y"
        },
        {
         "alignmentgroup": "True",
         "hoverlabel": {
          "namelength": 0
         },
         "hovertemplate": "GICSSector=Industrials<br>PayoutRatio=%{x}",
         "legendgroup": "GICSSector=Industrials",
         "marker": {
          "color": "#636efa",
          "symbol": "circle"
         },
         "name": "GICSSector=Industrials",
         "notched": true,
         "offsetgroup": "GICSSector=Industrials",
         "showlegend": false,
         "type": "box",
         "x": [
          66.3,
          32.7,
          20.7,
          12,
          15.6,
          33.5,
          22.1,
          118.4,
          38.9,
          34,
          22.3,
          27.7,
          28.5,
          20.4,
          43.1,
          53,
          55,
          25.8,
          62.3,
          48.1,
          3.6,
          29,
          34.2,
          37.4,
          37.8,
          20.4,
          53.4,
          36.3,
          25.2,
          41.5,
          19.6,
          23.9,
          18.3,
          27.1,
          34.7,
          5.4,
          33.3,
          46.2,
          30.7,
          44.4,
          65.7,
          16.6,
          30.2,
          15.3,
          55.3,
          41.4,
          65.6,
          49.2,
          13.7,
          26.5,
          48.4,
          28.3
         ],
         "xaxis": "x3",
         "yaxis": "y3"
        },
        {
         "alignmentgroup": "True",
         "hoverlabel": {
          "namelength": 0
         },
         "hovertemplate": "GICSSector=Industrials<br>DividendYield=%{y}",
         "legendgroup": "GICSSector=Industrials",
         "marker": {
          "color": "#636efa",
          "symbol": "circle"
         },
         "name": "GICSSector=Industrials",
         "offsetgroup": "GICSSector=Industrials",
         "scalegroup": "y",
         "showlegend": false,
         "type": "violin",
         "xaxis": "x2",
         "y": [
          3.3,
          1.9,
          0.9,
          1.4,
          0.6,
          1.7,
          0.7,
          2.3,
          2.2,
          2.7,
          1.3,
          2.6,
          1.7,
          2.7,
          1.9,
          3.2,
          2.8,
          1.3,
          2.3,
          1.6,
          0.4,
          1.4,
          2.3,
          1.8,
          1.9,
          1.5,
          2.5,
          1.8,
          1,
          2.4,
          1.1,
          1.4,
          1.7,
          1.7,
          1.7,
          0.3,
          1.8,
          1.7,
          2.1,
          2.2,
          1.1,
          0.5,
          2.3,
          1.2,
          1.7,
          2.1,
          3.3,
          2.1,
          0.3,
          0.7,
          1.8,
          1.1
         ],
         "yaxis": "y2"
        },
        {
         "hoverlabel": {
          "namelength": 0
         },
         "hovertemplate": "<b>OLS trendline</b><br>DividendYield = 0.023412 * PayoutRatio + 0.902781<br>R<sup>2</sup>=0.367810<br><br>GICSSector=Industrials<br>PayoutRatio=%{x}<br>DividendYield=%{y} <b>(trend)</b>",
         "legendgroup": "GICSSector=Industrials",
         "marker": {
          "color": "#636efa",
          "symbol": "circle"
         },
         "mode": "lines",
         "name": "GICSSector=Industrials",
         "showlegend": false,
         "type": "scatter",
         "x": [
          3.6,
          5.4,
          12,
          13.7,
          15.3,
          15.6,
          16.6,
          18.3,
          19.6,
          20.4,
          20.4,
          20.7,
          22.1,
          22.3,
          23.9,
          25.2,
          25.8,
          26.5,
          27.1,
          27.7,
          28.3,
          28.5,
          29,
          30.2,
          30.7,
          32.7,
          33.3,
          33.5,
          34,
          34.2,
          34.7,
          36.3,
          37.4,
          37.8,
          38.9,
          41.4,
          41.5,
          43.1,
          44.4,
          46.2,
          48.1,
          48.4,
          49.2,
          53,
          53.4,
          55,
          55.3,
          62.3,
          65.6,
          65.7,
          66.3,
          118.4
         ],
         "xaxis": "x",
         "y": [
          0.987066053065328,
          1.0292083326591561,
          1.1837300245031923,
          1.2235310663418077,
          1.2609908704252106,
          1.2680145836908485,
          1.2914269612429752,
          1.3312280030815906,
          1.3616640938993554,
          1.3803939959410567,
          1.3803939959410567,
          1.3874177092066948,
          1.4201950377796722,
          1.4248775132900975,
          1.4623373173735001,
          1.492773408191265,
          1.506820834722541,
          1.5232094990090297,
          1.5372569255403057,
          1.5513043520715817,
          1.565351778602858,
          1.570034254113283,
          1.5817404428893465,
          1.6098352959518984,
          1.621541484727962,
          1.6683662398322152,
          1.6824136663634912,
          1.6870961418739165,
          1.69880233064998,
          1.7034848061604055,
          1.7151909949364688,
          1.7526507990198712,
          1.7784044143272109,
          1.7877693653480615,
          1.8135229806554007,
          1.8720539245357175,
          1.8743951622909303,
          1.911854966374333,
          1.9422910571920977,
          1.984433336785926,
          2.0289168541349665,
          2.0359405674006044,
          2.054670469442306,
          2.1436375041403877,
          2.1530024551612383,
          2.190462259244641,
          2.197485972510279,
          2.3613726153751657,
          2.438633461297184,
          2.4409746990523966,
          2.455022125583673,
          3.6748069960494743
         ],
         "yaxis": "y"
        },
        {
         "hoverlabel": {
          "namelength": 0
         },
         "hovertemplate": "GICSSector=Health Care<br>PayoutRatio=%{x}<br>DividendYield=%{y}",
         "legendgroup": "GICSSector=Health Care",
         "marker": {
          "color": "#EF553B",
          "symbol": "circle"
         },
         "mode": "markers",
         "name": "GICSSector=Health Care",
         "showlegend": true,
         "type": "scatter",
         "x": [
          153,
          19,
          35,
          43.6,
          26.1,
          42.8,
          42.2,
          9.9,
          0.7,
          56,
          19.1,
          51.6,
          14.1,
          11.4,
          51.7,
          61.9,
          59.2,
          12.3,
          63.7,
          39.2,
          52.4,
          21.4,
          23.1,
          8.2,
          4.5,
          21.6
         ],
         "xaxis": "x",
         "y": [
          5.4,
          0.9,
          1.8,
          2.7,
          0.9,
          3,
          3.8,
          0.3,
          0,
          3,
          0.5,
          3.6,
          1.2,
          0.7,
          1.1,
          1.9,
          2.6,
          0.3,
          3.9,
          2.1,
          1.2,
          1,
          0.4,
          0.2,
          0.3,
          0.5
         ],
         "yaxis": "y"
        },
        {
         "alignmentgroup": "True",
         "hoverlabel": {
          "namelength": 0
         },
         "hovertemplate": "GICSSector=Health Care<br>PayoutRatio=%{x}",
         "legendgroup": "GICSSector=Health Care",
         "marker": {
          "color": "#EF553B",
          "symbol": "circle"
         },
         "name": "GICSSector=Health Care",
         "notched": true,
         "offsetgroup": "GICSSector=Health Care",
         "showlegend": false,
         "type": "box",
         "x": [
          153,
          19,
          35,
          43.6,
          26.1,
          42.8,
          42.2,
          9.9,
          0.7,
          56,
          19.1,
          51.6,
          14.1,
          11.4,
          51.7,
          61.9,
          59.2,
          12.3,
          63.7,
          39.2,
          52.4,
          21.4,
          23.1,
          8.2,
          4.5,
          21.6
         ],
         "xaxis": "x3",
         "yaxis": "y3"
        },
        {
         "alignmentgroup": "True",
         "hoverlabel": {
          "namelength": 0
         },
         "hovertemplate": "GICSSector=Health Care<br>DividendYield=%{y}",
         "legendgroup": "GICSSector=Health Care",
         "marker": {
          "color": "#EF553B",
          "symbol": "circle"
         },
         "name": "GICSSector=Health Care",
         "offsetgroup": "GICSSector=Health Care",
         "scalegroup": "y",
         "showlegend": false,
         "type": "violin",
         "xaxis": "x2",
         "y": [
          5.4,
          0.9,
          1.8,
          2.7,
          0.9,
          3,
          3.8,
          0.3,
          0,
          3,
          0.5,
          3.6,
          1.2,
          0.7,
          1.1,
          1.9,
          2.6,
          0.3,
          3.9,
          2.1,
          1.2,
          1,
          0.4,
          0.2,
          0.3,
          0.5
         ],
         "yaxis": "y2"
        },
        {
         "hoverlabel": {
          "namelength": 0
         },
         "hovertemplate": "<b>OLS trendline</b><br>DividendYield = 0.039280 * PayoutRatio + 0.239684<br>R<sup>2</sup>=0.711241<br><br>GICSSector=Health Care<br>PayoutRatio=%{x}<br>DividendYield=%{y} <b>(trend)</b>",
         "legendgroup": "GICSSector=Health Care",
         "marker": {
          "color": "#EF553B",
          "symbol": "circle"
         },
         "mode": "lines",
         "name": "GICSSector=Health Care",
         "showlegend": false,
         "type": "scatter",
         "x": [
          0.7,
          4.5,
          8.2,
          9.9,
          11.4,
          12.3,
          14.1,
          19,
          19.1,
          21.4,
          21.6,
          23.1,
          26.1,
          35,
          39.2,
          42.2,
          42.8,
          43.6,
          51.6,
          51.7,
          52.4,
          56,
          59.2,
          61.9,
          63.7,
          153
         ],
         "xaxis": "x",
         "y": [
          0.2671800778006771,
          0.41644275561082633,
          0.5617774682154454,
          0.6285528767094596,
          0.6874723547924133,
          0.7228240416421854,
          0.7935274153417298,
          0.9859977104127118,
          0.9899256756182421,
          1.0802688753454377,
          1.088124805756498,
          1.1470442838394517,
          1.2648832400053593,
          1.6144721432975508,
          1.7794466819298211,
          1.8972856380957284,
          1.92085342932891,
          1.9522771509731518,
          2.2665143674155717,
          2.270442332621102,
          2.2979380890598136,
          2.4393448364589023,
          2.5650397230358704,
          2.6710947835851866,
          2.741798157284731,
          6.249471085823239
         ],
         "yaxis": "y"
        },
        {
         "hoverlabel": {
          "namelength": 0
         },
         "hovertemplate": "GICSSector=Information Technology<br>PayoutRatio=%{x}<br>DividendYield=%{y}",
         "legendgroup": "GICSSector=Information Technology",
         "marker": {
          "color": "#00cc96",
          "symbol": "circle"
         },
         "mode": "markers",
         "name": "GICSSector=Information Technology",
         "showlegend": true,
         "type": "scatter",
         "x": [
          39,
          14.8,
          23.8,
          49.9,
          25,
          27,
          58,
          130.8,
          46.6,
          51.7,
          26.5,
          22.1,
          42.6,
          18.4,
          57.7,
          32.3,
          1.3,
          22.6,
          28.2,
          73.7,
          31.4,
          43.7,
          51.9,
          39.7,
          30.6,
          19,
          61,
          92.9,
          36,
          35.5,
          42.2,
          14,
          27.3,
          80.4,
          87,
          35.1,
          28.8,
          18.9,
          56.2,
          15.2,
          18.4,
          28.1,
          44.1,
          39
         ],
         "xaxis": "x",
         "y": [
          1.6,
          1.9,
          0.9,
          1.9,
          1.2,
          1.6,
          1.9,
          3.5,
          1.6,
          2.9,
          1,
          1.3,
          2.5,
          2.8,
          1.1,
          1.2,
          0,
          3.6,
          2.4,
          4.7,
          0.7,
          1.1,
          3,
          1.9,
          1.9,
          0.5,
          3.3,
          1.6,
          1.3,
          1.3,
          3,
          0.3,
          1.6,
          2.8,
          3.2,
          4.5,
          1.7,
          1.9,
          2.6,
          0.4,
          0.6,
          3.2,
          3.3,
          1.5
         ],
         "yaxis": "y"
        },
        {
         "alignmentgroup": "True",
         "hoverlabel": {
          "namelength": 0
         },
         "hovertemplate": "GICSSector=Information Technology<br>PayoutRatio=%{x}",
         "legendgroup": "GICSSector=Information Technology",
         "marker": {
          "color": "#00cc96",
          "symbol": "circle"
         },
         "name": "GICSSector=Information Technology",
         "notched": true,
         "offsetgroup": "GICSSector=Information Technology",
         "showlegend": false,
         "type": "box",
         "x": [
          39,
          14.8,
          23.8,
          49.9,
          25,
          27,
          58,
          130.8,
          46.6,
          51.7,
          26.5,
          22.1,
          42.6,
          18.4,
          57.7,
          32.3,
          1.3,
          22.6,
          28.2,
          73.7,
          31.4,
          43.7,
          51.9,
          39.7,
          30.6,
          19,
          61,
          92.9,
          36,
          35.5,
          42.2,
          14,
          27.3,
          80.4,
          87,
          35.1,
          28.8,
          18.9,
          56.2,
          15.2,
          18.4,
          28.1,
          44.1,
          39
         ],
         "xaxis": "x3",
         "yaxis": "y3"
        },
        {
         "alignmentgroup": "True",
         "hoverlabel": {
          "namelength": 0
         },
         "hovertemplate": "GICSSector=Information Technology<br>DividendYield=%{y}",
         "legendgroup": "GICSSector=Information Technology",
         "marker": {
          "color": "#00cc96",
          "symbol": "circle"
         },
         "name": "GICSSector=Information Technology",
         "offsetgroup": "GICSSector=Information Technology",
         "scalegroup": "y",
         "showlegend": false,
         "type": "violin",
         "xaxis": "x2",
         "y": [
          1.6,
          1.9,
          0.9,
          1.9,
          1.2,
          1.6,
          1.9,
          3.5,
          1.6,
          2.9,
          1,
          1.3,
          2.5,
          2.8,
          1.1,
          1.2,
          0,
          3.6,
          2.4,
          4.7,
          0.7,
          1.1,
          3,
          1.9,
          1.9,
          0.5,
          3.3,
          1.6,
          1.3,
          1.3,
          3,
          0.3,
          1.6,
          2.8,
          3.2,
          4.5,
          1.7,
          1.9,
          2.6,
          0.4,
          0.6,
          3.2,
          3.3,
          1.5
         ],
         "yaxis": "y2"
        },
        {
         "hoverlabel": {
          "namelength": 0
         },
         "hovertemplate": "<b>OLS trendline</b><br>DividendYield = 0.023032 * PayoutRatio + 1.047050<br>R<sup>2</sup>=0.256094<br><br>GICSSector=Information Technology<br>PayoutRatio=%{x}<br>DividendYield=%{y} <b>(trend)</b>",
         "legendgroup": "GICSSector=Information Technology",
         "marker": {
          "color": "#00cc96",
          "symbol": "circle"
         },
         "mode": "lines",
         "name": "GICSSector=Information Technology",
         "showlegend": false,
         "type": "scatter",
         "x": [
          1.3,
          14,
          14.8,
          15.2,
          18.4,
          18.4,
          18.9,
          19,
          22.1,
          22.6,
          23.8,
          25,
          26.5,
          27,
          27.3,
          28.1,
          28.2,
          28.8,
          30.6,
          31.4,
          32.3,
          35.1,
          35.5,
          36,
          39,
          39,
          39.7,
          42.2,
          42.6,
          43.7,
          44.1,
          46.6,
          49.9,
          51.7,
          51.9,
          56.2,
          57.7,
          58,
          61,
          73.7,
          80.4,
          87,
          92.9,
          130.8
         ],
         "xaxis": "x",
         "y": [
          1.076991872534028,
          1.3694982666597788,
          1.3879238662897475,
          1.3971366661047318,
          1.470839064624606,
          1.470839064624606,
          1.4823550643933363,
          1.4846582643470825,
          1.5560574629132105,
          1.567573462681941,
          1.5952118621268938,
          1.6228502615718465,
          1.6573982608780375,
          1.668914260646768,
          1.6758238605080062,
          1.694249460137975,
          1.696552660091721,
          1.7103718598141973,
          1.7518294589816266,
          1.770255058611595,
          1.7909838581953097,
          1.8554734569001998,
          1.864686256715184,
          1.8762022564839143,
          1.9452982550962963,
          1.9452982550962963,
          1.961420654772519,
          2.0190006536161706,
          2.028213453431155,
          2.0535486529223617,
          2.0627614527373463,
          2.1203414515809977,
          2.196347050054618,
          2.2378046492220474,
          2.2424110491295393,
          2.341448647140621,
          2.3759966464468114,
          2.3829062463080497,
          2.4520022449204317,
          2.744508639046183,
          2.89882303594717,
          3.05083423289441,
          3.1867230301654286,
          4.0596358126351895
         ],
         "yaxis": "y"
        },
        {
         "hoverlabel": {
          "namelength": 0
         },
         "hovertemplate": "GICSSector=Communication Services<br>PayoutRatio=%{x}<br>DividendYield=%{y}",
         "legendgroup": "GICSSector=Communication Services",
         "marker": {
          "color": "#ab63fa",
          "symbol": "circle"
         },
         "mode": "markers",
         "name": "GICSSector=Communication Services",
         "showlegend": true,
         "type": "scatter",
         "x": [
          15.4,
          85.1,
          8.8,
          30.1,
          53.9,
          75.4,
          75.4,
          42.7,
          62.9,
          19.7,
          21.6
         ],
         "xaxis": "x",
         "y": [
          0.6,
          5.4,
          2,
          1.7,
          4.3,
          1.4,
          1.4,
          3.3,
          4,
          3.6,
          1.3
         ],
         "yaxis": "y"
        },
        {
         "alignmentgroup": "True",
         "hoverlabel": {
          "namelength": 0
         },
         "hovertemplate": "GICSSector=Communication Services<br>PayoutRatio=%{x}",
         "legendgroup": "GICSSector=Communication Services",
         "marker": {
          "color": "#ab63fa",
          "symbol": "circle"
         },
         "name": "GICSSector=Communication Services",
         "notched": true,
         "offsetgroup": "GICSSector=Communication Services",
         "showlegend": false,
         "type": "box",
         "x": [
          15.4,
          85.1,
          8.8,
          30.1,
          53.9,
          75.4,
          75.4,
          42.7,
          62.9,
          19.7,
          21.6
         ],
         "xaxis": "x3",
         "yaxis": "y3"
        },
        {
         "alignmentgroup": "True",
         "hoverlabel": {
          "namelength": 0
         },
         "hovertemplate": "GICSSector=Communication Services<br>DividendYield=%{y}",
         "legendgroup": "GICSSector=Communication Services",
         "marker": {
          "color": "#ab63fa",
          "symbol": "circle"
         },
         "name": "GICSSector=Communication Services",
         "offsetgroup": "GICSSector=Communication Services",
         "scalegroup": "y",
         "showlegend": false,
         "type": "violin",
         "xaxis": "x2",
         "y": [
          0.6,
          5.4,
          2,
          1.7,
          4.3,
          1.4,
          1.4,
          3.3,
          4,
          3.6,
          1.3
         ],
         "yaxis": "y2"
        },
        {
         "hoverlabel": {
          "namelength": 0
         },
         "hovertemplate": "<b>OLS trendline</b><br>DividendYield = 0.023806 * PayoutRatio + 1.573769<br>R<sup>2</sup>=0.176754<br><br>GICSSector=Communication Services<br>PayoutRatio=%{x}<br>DividendYield=%{y} <b>(trend)</b>",
         "legendgroup": "GICSSector=Communication Services",
         "marker": {
          "color": "#ab63fa",
          "symbol": "circle"
         },
         "mode": "lines",
         "name": "GICSSector=Communication Services",
         "showlegend": false,
         "type": "scatter",
         "x": [
          8.8,
          15.4,
          19.7,
          21.6,
          30.1,
          42.7,
          53.9,
          62.9,
          75.4,
          75.4,
          85.1
         ],
         "xaxis": "x",
         "y": [
          1.7832583687428745,
          1.940375168411234,
          2.042739143952741,
          2.0879697377966626,
          2.2903171313089437,
          2.5902673852212663,
          2.856889833143331,
          3.0711400145092753,
          3.3687097108508657,
          3.3687097108508657,
          3.599623795211939
         ],
         "yaxis": "y"
        },
        {
         "hoverlabel": {
          "namelength": 0
         },
         "hovertemplate": "GICSSector=Consumer Discretionary<br>PayoutRatio=%{x}<br>DividendYield=%{y}",
         "legendgroup": "GICSSector=Consumer Discretionary",
         "marker": {
          "color": "#FFA15A",
          "symbol": "circle"
         },
         "mode": "markers",
         "name": "GICSSector=Consumer Discretionary",
         "showlegend": true,
         "type": "scatter",
         "x": [
          4,
          23.3,
          33.8,
          47.9,
          18.4,
          45.1,
          13.6,
          53.7,
          19.5,
          10.8,
          30.8,
          108.8,
          39.4,
          55.2,
          23.9,
          55,
          38.6,
          57.7,
          128.9,
          18.7,
          47.4,
          56.1,
          86.1,
          71.2,
          2.6,
          62.1,
          45.5,
          38.8,
          32.1,
          48.5,
          46.7,
          13.4,
          1.7,
          21.6,
          31.7,
          50.3,
          60.7,
          42.3,
          48.3,
          33.8,
          28.2,
          68.6,
          28.2,
          42,
          36.4
         ],
         "xaxis": "x",
         "y": [
          0.1,
          1,
          2.6,
          4.1,
          1.7,
          4.5,
          1.1,
          2.8,
          0.7,
          0.7,
          0.9,
          6.5,
          5.5,
          2.5,
          4.2,
          2.9,
          3.7,
          3.8,
          2.7,
          0.6,
          2,
          4.8,
          10.2,
          3.4,
          0.3,
          1.8,
          9.6,
          1.4,
          1,
          4,
          2.6,
          1.1,
          0.2,
          0.9,
          2.6,
          1.7,
          5.2,
          2.3,
          2.4,
          1.4,
          1.3,
          2.2,
          2.9,
          2.8,
          1.4
         ],
         "yaxis": "y"
        },
        {
         "alignmentgroup": "True",
         "hoverlabel": {
          "namelength": 0
         },
         "hovertemplate": "GICSSector=Consumer Discretionary<br>PayoutRatio=%{x}",
         "legendgroup": "GICSSector=Consumer Discretionary",
         "marker": {
          "color": "#FFA15A",
          "symbol": "circle"
         },
         "name": "GICSSector=Consumer Discretionary",
         "notched": true,
         "offsetgroup": "GICSSector=Consumer Discretionary",
         "showlegend": false,
         "type": "box",
         "x": [
          4,
          23.3,
          33.8,
          47.9,
          18.4,
          45.1,
          13.6,
          53.7,
          19.5,
          10.8,
          30.8,
          108.8,
          39.4,
          55.2,
          23.9,
          55,
          38.6,
          57.7,
          128.9,
          18.7,
          47.4,
          56.1,
          86.1,
          71.2,
          2.6,
          62.1,
          45.5,
          38.8,
          32.1,
          48.5,
          46.7,
          13.4,
          1.7,
          21.6,
          31.7,
          50.3,
          60.7,
          42.3,
          48.3,
          33.8,
          28.2,
          68.6,
          28.2,
          42,
          36.4
         ],
         "xaxis": "x3",
         "yaxis": "y3"
        },
        {
         "alignmentgroup": "True",
         "hoverlabel": {
          "namelength": 0
         },
         "hovertemplate": "GICSSector=Consumer Discretionary<br>DividendYield=%{y}",
         "legendgroup": "GICSSector=Consumer Discretionary",
         "marker": {
          "color": "#FFA15A",
          "symbol": "circle"
         },
         "name": "GICSSector=Consumer Discretionary",
         "offsetgroup": "GICSSector=Consumer Discretionary",
         "scalegroup": "y",
         "showlegend": false,
         "type": "violin",
         "xaxis": "x2",
         "y": [
          0.1,
          1,
          2.6,
          4.1,
          1.7,
          4.5,
          1.1,
          2.8,
          0.7,
          0.7,
          0.9,
          6.5,
          5.5,
          2.5,
          4.2,
          2.9,
          3.7,
          3.8,
          2.7,
          0.6,
          2,
          4.8,
          10.2,
          3.4,
          0.3,
          1.8,
          9.6,
          1.4,
          1,
          4,
          2.6,
          1.1,
          0.2,
          0.9,
          2.6,
          1.7,
          5.2,
          2.3,
          2.4,
          1.4,
          1.3,
          2.2,
          2.9,
          2.8,
          1.4
         ],
         "yaxis": "y2"
        },
        {
         "hoverlabel": {
          "namelength": 0
         },
         "hovertemplate": "<b>OLS trendline</b><br>DividendYield = 0.048598 * PayoutRatio + 0.692321<br>R<sup>2</sup>=0.320716<br><br>GICSSector=Consumer Discretionary<br>PayoutRatio=%{x}<br>DividendYield=%{y} <b>(trend)</b>",
         "legendgroup": "GICSSector=Consumer Discretionary",
         "marker": {
          "color": "#FFA15A",
          "symbol": "circle"
         },
         "mode": "lines",
         "name": "GICSSector=Consumer Discretionary",
         "showlegend": false,
         "type": "scatter",
         "x": [
          1.7,
          2.6,
          4,
          10.8,
          13.4,
          13.6,
          18.4,
          18.7,
          19.5,
          21.6,
          23.3,
          23.9,
          28.2,
          28.2,
          30.8,
          31.7,
          32.1,
          33.8,
          33.8,
          36.4,
          38.6,
          38.8,
          39.4,
          42,
          42.3,
          45.1,
          45.5,
          46.7,
          47.4,
          47.9,
          48.3,
          48.5,
          50.3,
          53.7,
          55,
          55.2,
          56.1,
          57.7,
          60.7,
          62.1,
          68.6,
          71.2,
          86.1,
          108.8,
          128.9
         ],
         "xaxis": "x",
         "y": [
          0.7749371213824362,
          0.8186749600274924,
          0.886711597919802,
          1.2171752676824488,
          1.3435290237681667,
          1.353248543467068,
          1.586517016240701,
          1.601096295789053,
          1.6399743745846587,
          1.7420293314231232,
          1.8246452488637848,
          1.8538038079604888,
          2.0627734814868686,
          2.0627734814868686,
          2.1891272375725865,
          2.2328650762176423,
          2.2523041156154457,
          2.3349200330561066,
          2.3349200330561066,
          2.461273789141825,
          2.56818850582974,
          2.5779080255286413,
          2.6070665846253456,
          2.7334203407110635,
          2.7479996202594155,
          2.884072896044035,
          2.9035119354418377,
          2.9618290536352463,
          2.9958473725814008,
          3.020146171828654,
          3.0395852112264565,
          3.049304730925358,
          3.13678040821547,
          3.3020122430967938,
          3.365189121139653,
          3.3749086408385542,
          3.418646479483611,
          3.496402637074822,
          3.642195432558342,
          3.710232070450652,
          4.026116460664946,
          4.152470216750665,
          4.876574434318816,
          5.979739920144122,
          6.956551649883711
         ],
         "yaxis": "y"
        },
        {
         "hoverlabel": {
          "namelength": 0
         },
         "hovertemplate": "GICSSector=Utilities<br>PayoutRatio=%{x}<br>DividendYield=%{y}",
         "legendgroup": "GICSSector=Utilities",
         "marker": {
          "color": "#19d3f3",
          "symbol": "circle"
         },
         "mode": "markers",
         "name": "GICSSector=Utilities",
         "showlegend": true,
         "type": "scatter",
         "x": [
          90.3,
          63.8,
          58,
          65.7,
          59.4,
          48.6,
          98.9,
          71.8,
          68.8,
          235.2,
          61.2,
          81.9,
          70,
          79.9,
          76.7,
          60.3,
          71.2,
          6.6,
          64.8,
          66.7,
          63.4,
          52.9,
          56.5,
          65.9,
          64.1
         ],
         "xaxis": "x",
         "y": [
          3.1,
          2.6,
          2.4,
          2.8,
          1.6,
          1.8,
          3.8,
          2.3,
          3.1,
          4.2,
          2.9,
          3.9,
          3,
          3,
          2.4,
          3.1,
          3.1,
          0.3,
          3.1,
          5,
          2.9,
          2.5,
          3.9,
          2.5,
          2.4
         ],
         "yaxis": "y"
        },
        {
         "alignmentgroup": "True",
         "hoverlabel": {
          "namelength": 0
         },
         "hovertemplate": "GICSSector=Utilities<br>PayoutRatio=%{x}",
         "legendgroup": "GICSSector=Utilities",
         "marker": {
          "color": "#19d3f3",
          "symbol": "circle"
         },
         "name": "GICSSector=Utilities",
         "notched": true,
         "offsetgroup": "GICSSector=Utilities",
         "showlegend": false,
         "type": "box",
         "x": [
          90.3,
          63.8,
          58,
          65.7,
          59.4,
          48.6,
          98.9,
          71.8,
          68.8,
          235.2,
          61.2,
          81.9,
          70,
          79.9,
          76.7,
          60.3,
          71.2,
          6.6,
          64.8,
          66.7,
          63.4,
          52.9,
          56.5,
          65.9,
          64.1
         ],
         "xaxis": "x3",
         "yaxis": "y3"
        },
        {
         "alignmentgroup": "True",
         "hoverlabel": {
          "namelength": 0
         },
         "hovertemplate": "GICSSector=Utilities<br>DividendYield=%{y}",
         "legendgroup": "GICSSector=Utilities",
         "marker": {
          "color": "#19d3f3",
          "symbol": "circle"
         },
         "name": "GICSSector=Utilities",
         "offsetgroup": "GICSSector=Utilities",
         "scalegroup": "y",
         "showlegend": false,
         "type": "violin",
         "xaxis": "x2",
         "y": [
          3.1,
          2.6,
          2.4,
          2.8,
          1.6,
          1.8,
          3.8,
          2.3,
          3.1,
          4.2,
          2.9,
          3.9,
          3,
          3,
          2.4,
          3.1,
          3.1,
          0.3,
          3.1,
          5,
          2.9,
          2.5,
          3.9,
          2.5,
          2.4
         ],
         "yaxis": "y2"
        },
        {
         "hoverlabel": {
          "namelength": 0
         },
         "hovertemplate": "<b>OLS trendline</b><br>DividendYield = 0.013224 * PayoutRatio + 1.914469<br>R<sup>2</sup>=0.295476<br><br>GICSSector=Utilities<br>PayoutRatio=%{x}<br>DividendYield=%{y} <b>(trend)</b>",
         "legendgroup": "GICSSector=Utilities",
         "marker": {
          "color": "#19d3f3",
          "symbol": "circle"
         },
         "mode": "lines",
         "name": "GICSSector=Utilities",
         "showlegend": false,
         "type": "scatter",
         "x": [
          6.6,
          48.6,
          52.9,
          56.5,
          58,
          59.4,
          60.3,
          61.2,
          63.4,
          63.8,
          64.1,
          64.8,
          65.7,
          65.9,
          66.7,
          68.8,
          70,
          71.2,
          71.8,
          76.7,
          79.9,
          81.9,
          90.3,
          98.9,
          235.2
         ],
         "xaxis": "x",
         "y": [
          2.001749750446284,
          2.557174006694087,
          2.614038871024219,
          2.661646664416888,
          2.6814832449971666,
          2.6999973868720932,
          2.7118993352202603,
          2.7238012835684273,
          2.75289493508617,
          2.7581846899075773,
          2.7621520060236326,
          2.7714090769610964,
          2.7833110253092634,
          2.7859559027199676,
          2.7965354123627826,
          2.824306625175173,
          2.8401758896393954,
          2.8560451541036187,
          2.86397978633573,
          2.928779282897974,
          2.9710973214692347,
          2.997546095576273,
          3.1086309468258335,
          3.2223606754860983,
          5.024844630880752
         ],
         "yaxis": "y"
        },
        {
         "hoverlabel": {
          "namelength": 0
         },
         "hovertemplate": "GICSSector=Financials<br>PayoutRatio=%{x}<br>DividendYield=%{y}",
         "legendgroup": "GICSSector=Financials",
         "marker": {
          "color": "#FF6692",
          "symbol": "circle"
         },
         "mode": "markers",
         "name": "GICSSector=Financials",
         "showlegend": true,
         "type": "scatter",
         "x": [
          25.7,
          24.7,
          19.3,
          26.7,
          29.3,
          44.9,
          40.1,
          23,
          29.7,
          41.4,
          49.8,
          13.8,
          34.2,
          23.5,
          35.8,
          29.1,
          24.6,
          31.5,
          56.4,
          32.7,
          18.5,
          13.5,
          43.2,
          29.5,
          14.3,
          37.3,
          16.4,
          26.5,
          43.8,
          28.9,
          104.6,
          111.4,
          32.5,
          42.7,
          20,
          10.2,
          28.7,
          58,
          27.7,
          28.8,
          26.3,
          34.4,
          57.1,
          34.6,
          53.4,
          40.1,
          38.1,
          18.3,
          38.1,
          27,
          37.7,
          37.5,
          15.4,
          36.2,
          35.5,
          35.1,
          41.8,
          39.4,
          38.4,
          27.5
         ],
         "xaxis": "x",
         "y": [
          2,
          1.8,
          1.4,
          2.6,
          0.9,
          1.9,
          1.9,
          2,
          2.5,
          3.1,
          2.9,
          1.7,
          1.1,
          1.5,
          2,
          1.9,
          2.6,
          3.3,
          1.4,
          4,
          2,
          1.4,
          2.2,
          3.3,
          0.7,
          3.6,
          1.8,
          2.1,
          3.9,
          1.1,
          7.1,
          2.2,
          2.6,
          3.8,
          2.3,
          0.5,
          2.5,
          1.7,
          3.7,
          0.9,
          2.7,
          1.1,
          1.8,
          2.3,
          4.2,
          3.8,
          4.1,
          1.6,
          3.5,
          0.9,
          2.9,
          3,
          2.4,
          2.7,
          2.4,
          2.7,
          3.6,
          3.6,
          1.4,
          2.6
         ],
         "yaxis": "y"
        },
        {
         "alignmentgroup": "True",
         "hoverlabel": {
          "namelength": 0
         },
         "hovertemplate": "GICSSector=Financials<br>PayoutRatio=%{x}",
         "legendgroup": "GICSSector=Financials",
         "marker": {
          "color": "#FF6692",
          "symbol": "circle"
         },
         "name": "GICSSector=Financials",
         "notched": true,
         "offsetgroup": "GICSSector=Financials",
         "showlegend": false,
         "type": "box",
         "x": [
          25.7,
          24.7,
          19.3,
          26.7,
          29.3,
          44.9,
          40.1,
          23,
          29.7,
          41.4,
          49.8,
          13.8,
          34.2,
          23.5,
          35.8,
          29.1,
          24.6,
          31.5,
          56.4,
          32.7,
          18.5,
          13.5,
          43.2,
          29.5,
          14.3,
          37.3,
          16.4,
          26.5,
          43.8,
          28.9,
          104.6,
          111.4,
          32.5,
          42.7,
          20,
          10.2,
          28.7,
          58,
          27.7,
          28.8,
          26.3,
          34.4,
          57.1,
          34.6,
          53.4,
          40.1,
          38.1,
          18.3,
          38.1,
          27,
          37.7,
          37.5,
          15.4,
          36.2,
          35.5,
          35.1,
          41.8,
          39.4,
          38.4,
          27.5
         ],
         "xaxis": "x3",
         "yaxis": "y3"
        },
        {
         "alignmentgroup": "True",
         "hoverlabel": {
          "namelength": 0
         },
         "hovertemplate": "GICSSector=Financials<br>DividendYield=%{y}",
         "legendgroup": "GICSSector=Financials",
         "marker": {
          "color": "#FF6692",
          "symbol": "circle"
         },
         "name": "GICSSector=Financials",
         "offsetgroup": "GICSSector=Financials",
         "scalegroup": "y",
         "showlegend": false,
         "type": "violin",
         "xaxis": "x2",
         "y": [
          2,
          1.8,
          1.4,
          2.6,
          0.9,
          1.9,
          1.9,
          2,
          2.5,
          3.1,
          2.9,
          1.7,
          1.1,
          1.5,
          2,
          1.9,
          2.6,
          3.3,
          1.4,
          4,
          2,
          1.4,
          2.2,
          3.3,
          0.7,
          3.6,
          1.8,
          2.1,
          3.9,
          1.1,
          7.1,
          2.2,
          2.6,
          3.8,
          2.3,
          0.5,
          2.5,
          1.7,
          3.7,
          0.9,
          2.7,
          1.1,
          1.8,
          2.3,
          4.2,
          3.8,
          4.1,
          1.6,
          3.5,
          0.9,
          2.9,
          3,
          2.4,
          2.7,
          2.4,
          2.7,
          3.6,
          3.6,
          1.4,
          2.6
         ],
         "yaxis": "y2"
        },
        {
         "hoverlabel": {
          "namelength": 0
         },
         "hovertemplate": "<b>OLS trendline</b><br>DividendYield = 0.030783 * PayoutRatio + 1.350480<br>R<sup>2</sup>=0.229574<br><br>GICSSector=Financials<br>PayoutRatio=%{x}<br>DividendYield=%{y} <b>(trend)</b>",
         "legendgroup": "GICSSector=Financials",
         "marker": {
          "color": "#FF6692",
          "symbol": "circle"
         },
         "mode": "lines",
         "name": "GICSSector=Financials",
         "showlegend": false,
         "type": "scatter",
         "x": [
          10.2,
          13.5,
          13.8,
          14.3,
          15.4,
          16.4,
          18.3,
          18.5,
          19.3,
          20,
          23,
          23.5,
          24.6,
          24.7,
          25.7,
          26.3,
          26.5,
          26.7,
          27,
          27.5,
          27.7,
          28.7,
          28.8,
          28.9,
          29.1,
          29.3,
          29.5,
          29.7,
          31.5,
          32.5,
          32.7,
          34.2,
          34.4,
          34.6,
          35.1,
          35.5,
          35.8,
          36.2,
          37.3,
          37.5,
          37.7,
          38.1,
          38.1,
          38.4,
          39.4,
          40.1,
          40.1,
          41.4,
          41.8,
          42.7,
          43.2,
          43.8,
          44.9,
          49.8,
          53.4,
          56.4,
          57.1,
          58,
          104.6,
          111.4
         ],
         "xaxis": "x",
         "y": [
          1.664471164996401,
          1.766056598468296,
          1.775291637874832,
          1.7906833702190585,
          1.8245451813763567,
          1.8553286460648097,
          1.9138172289728708,
          1.9199739219105614,
          1.9446006936613238,
          1.9661491189432407,
          2.0584995130086,
          2.0738912453528267,
          2.107753056510125,
          2.11083140297897,
          2.141614867667423,
          2.1600849464804948,
          2.1662416394181854,
          2.172398332355876,
          2.181633371762412,
          2.1970251041066384,
          2.203181797044329,
          2.233965261732782,
          2.2370436082016276,
          2.2401219546704727,
          2.2462786476081633,
          2.252435340545854,
          2.2585920334835445,
          2.264748726421235,
          2.3201589628604506,
          2.3509424275489037,
          2.3570991204865943,
          2.4032743175192737,
          2.4094310104569647,
          2.415587703394655,
          2.4309794357388816,
          2.443292821614263,
          2.4525278610207986,
          2.46484124689618,
          2.4987030580534784,
          2.5048597509911685,
          2.5110164439288596,
          2.523329829804241,
          2.523329829804241,
          2.5325648692107765,
          2.5633483338992296,
          2.584896759181147,
          2.584896759181147,
          2.6249152632761357,
          2.637228649151517,
          2.6649337673711244,
          2.680325499715351,
          2.698795578528423,
          2.7326573896857216,
          2.8834963666591413,
          2.9943168395375723,
          3.086667233602931,
          3.1082156588848484,
          3.135920777104456,
          4.570430231586368,
          4.779757791467848
         ],
         "yaxis": "y"
        },
        {
         "hoverlabel": {
          "namelength": 0
         },
         "hovertemplate": "GICSSector=Materials<br>PayoutRatio=%{x}<br>DividendYield=%{y}",
         "legendgroup": "GICSSector=Materials",
         "marker": {
          "color": "#B6E880",
          "symbol": "circle"
         },
         "mode": "markers",
         "name": "GICSSector=Materials",
         "showlegend": true,
         "type": "scatter",
         "x": [
          58.2,
          27.3,
          28.8,
          32.2,
          59.3,
          37,
          34.5,
          35.1,
          45,
          49.7,
          33.9,
          42.4,
          23.8,
          18.7,
          27.3,
          37.8,
          38.3,
          27.4,
          28,
          27.7,
          55.1
         ],
         "xaxis": "x",
         "y": [
          2.2,
          2.1,
          0.6,
          1.9,
          2.6,
          3.2,
          1,
          1.7,
          2,
          4.6,
          1.8,
          4.6,
          0.7,
          0.6,
          3,
          2.9,
          1.6,
          1.5,
          0.8,
          0.8,
          4.7
         ],
         "yaxis": "y"
        },
        {
         "alignmentgroup": "True",
         "hoverlabel": {
          "namelength": 0
         },
         "hovertemplate": "GICSSector=Materials<br>PayoutRatio=%{x}",
         "legendgroup": "GICSSector=Materials",
         "marker": {
          "color": "#B6E880",
          "symbol": "circle"
         },
         "name": "GICSSector=Materials",
         "notched": true,
         "offsetgroup": "GICSSector=Materials",
         "showlegend": false,
         "type": "box",
         "x": [
          58.2,
          27.3,
          28.8,
          32.2,
          59.3,
          37,
          34.5,
          35.1,
          45,
          49.7,
          33.9,
          42.4,
          23.8,
          18.7,
          27.3,
          37.8,
          38.3,
          27.4,
          28,
          27.7,
          55.1
         ],
         "xaxis": "x3",
         "yaxis": "y3"
        },
        {
         "alignmentgroup": "True",
         "hoverlabel": {
          "namelength": 0
         },
         "hovertemplate": "GICSSector=Materials<br>DividendYield=%{y}",
         "legendgroup": "GICSSector=Materials",
         "marker": {
          "color": "#B6E880",
          "symbol": "circle"
         },
         "name": "GICSSector=Materials",
         "offsetgroup": "GICSSector=Materials",
         "scalegroup": "y",
         "showlegend": false,
         "type": "violin",
         "xaxis": "x2",
         "y": [
          2.2,
          2.1,
          0.6,
          1.9,
          2.6,
          3.2,
          1,
          1.7,
          2,
          4.6,
          1.8,
          4.6,
          0.7,
          0.6,
          3,
          2.9,
          1.6,
          1.5,
          0.8,
          0.8,
          4.7
         ],
         "yaxis": "y2"
        },
        {
         "hoverlabel": {
          "namelength": 0
         },
         "hovertemplate": "<b>OLS trendline</b><br>DividendYield = 0.073098 * PayoutRatio + -0.533461<br>R<sup>2</sup>=0.406281<br><br>GICSSector=Materials<br>PayoutRatio=%{x}<br>DividendYield=%{y} <b>(trend)</b>",
         "legendgroup": "GICSSector=Materials",
         "marker": {
          "color": "#B6E880",
          "symbol": "circle"
         },
         "mode": "lines",
         "name": "GICSSector=Materials",
         "showlegend": false,
         "type": "scatter",
         "x": [
          18.7,
          23.8,
          27.3,
          27.3,
          27.4,
          27.7,
          28,
          28.8,
          32.2,
          33.9,
          34.5,
          35.1,
          37,
          37.8,
          38.3,
          42.4,
          45,
          49.7,
          55.1,
          58.2,
          59.3
         ],
         "xaxis": "x",
         "y": [
          0.8334708426712758,
          1.2062703964330326,
          1.462113227446003,
          1.462113227446003,
          1.469423022617802,
          1.4913524081331995,
          1.513281793648597,
          1.57176015502299,
          1.8202931908641615,
          1.9445597087847466,
          1.9884184798155415,
          2.0322772508463363,
          2.171163359110521,
          2.2296417204849135,
          2.2661906963439096,
          2.5658922983876744,
          2.755946972854453,
          3.0995073459290126,
          3.494236285206167,
          3.7208399355319406,
          3.8012476824217307
         ],
         "yaxis": "y"
        },
        {
         "hoverlabel": {
          "namelength": 0
         },
         "hovertemplate": "GICSSector=Real Estate<br>PayoutRatio=%{x}<br>DividendYield=%{y}",
         "legendgroup": "GICSSector=Real Estate",
         "marker": {
          "color": "#FF97FF",
          "symbol": "circle"
         },
         "mode": "markers",
         "name": "GICSSector=Real Estate",
         "showlegend": true,
         "type": "scatter",
         "x": [
          110.4,
          69,
          90.5,
          111.1,
          131.2,
          103.2,
          122.5,
          102.5,
          123.6,
          71.8,
          54,
          237.5,
          139.2,
          389.7,
          73.3,
          95.4,
          204.4,
          133.1,
          115.6,
          159.2,
          227,
          17.1
         ],
         "xaxis": "x",
         "y": [
          2.5,
          2.9,
          2.7,
          2.9,
          2.5,
          2.6,
          2.3,
          3,
          2.9,
          3.9,
          4.7,
          7.1,
          5.3,
          10.3,
          2.3,
          3.3,
          3.3,
          3.3,
          5.2,
          4,
          4.3,
          4
         ],
         "yaxis": "y"
        },
        {
         "alignmentgroup": "True",
         "hoverlabel": {
          "namelength": 0
         },
         "hovertemplate": "GICSSector=Real Estate<br>PayoutRatio=%{x}",
         "legendgroup": "GICSSector=Real Estate",
         "marker": {
          "color": "#FF97FF",
          "symbol": "circle"
         },
         "name": "GICSSector=Real Estate",
         "notched": true,
         "offsetgroup": "GICSSector=Real Estate",
         "showlegend": false,
         "type": "box",
         "x": [
          110.4,
          69,
          90.5,
          111.1,
          131.2,
          103.2,
          122.5,
          102.5,
          123.6,
          71.8,
          54,
          237.5,
          139.2,
          389.7,
          73.3,
          95.4,
          204.4,
          133.1,
          115.6,
          159.2,
          227,
          17.1
         ],
         "xaxis": "x3",
         "yaxis": "y3"
        },
        {
         "alignmentgroup": "True",
         "hoverlabel": {
          "namelength": 0
         },
         "hovertemplate": "GICSSector=Real Estate<br>DividendYield=%{y}",
         "legendgroup": "GICSSector=Real Estate",
         "marker": {
          "color": "#FF97FF",
          "symbol": "circle"
         },
         "name": "GICSSector=Real Estate",
         "offsetgroup": "GICSSector=Real Estate",
         "scalegroup": "y",
         "showlegend": false,
         "type": "violin",
         "xaxis": "x2",
         "y": [
          2.5,
          2.9,
          2.7,
          2.9,
          2.5,
          2.6,
          2.3,
          3,
          2.9,
          3.9,
          4.7,
          7.1,
          5.3,
          10.3,
          2.3,
          3.3,
          3.3,
          3.3,
          5.2,
          4,
          4.3,
          4
         ],
         "yaxis": "y2"
        },
        {
         "hoverlabel": {
          "namelength": 0
         },
         "hovertemplate": "<b>OLS trendline</b><br>DividendYield = 0.017569 * PayoutRatio + 1.576235<br>R<sup>2</sup>=0.547578<br><br>GICSSector=Real Estate<br>PayoutRatio=%{x}<br>DividendYield=%{y} <b>(trend)</b>",
         "legendgroup": "GICSSector=Real Estate",
         "marker": {
          "color": "#FF97FF",
          "symbol": "circle"
         },
         "mode": "lines",
         "name": "GICSSector=Real Estate",
         "showlegend": false,
         "type": "scatter",
         "x": [
          17.1,
          54,
          69,
          71.8,
          73.3,
          90.5,
          95.4,
          102.5,
          103.2,
          110.4,
          111.1,
          115.6,
          122.5,
          123.6,
          131.2,
          133.1,
          139.2,
          159.2,
          204.4,
          227,
          237.5,
          389.7
         ],
         "xaxis": "x",
         "y": [
          1.87667224038637,
          2.5249846731253203,
          2.788526312450097,
          2.837720751790722,
          2.8640749157231995,
          3.16626932881561,
          3.252359597661704,
          3.3771026402754316,
          3.3894012501105877,
          3.5159012369864806,
          3.5281998468216367,
          3.6072623386190696,
          3.728491492708467,
          3.747817879592284,
          3.881345643516837,
          3.9147275844979754,
          4.021901184490051,
          4.373290036923087,
          5.167428843421748,
          5.564498246671077,
          5.7489773941984215,
          8.42304656121382
         ],
         "yaxis": "y"
        },
        {
         "hoverlabel": {
          "namelength": 0
         },
         "hovertemplate": "GICSSector=Consumer Staples<br>PayoutRatio=%{x}<br>DividendYield=%{y}",
         "legendgroup": "GICSSector=Consumer Staples",
         "marker": {
          "color": "#FECB52",
          "symbol": "circle"
         },
         "mode": "markers",
         "name": "GICSSector=Consumer Staples",
         "showlegend": true,
         "type": "scatter",
         "x": [
          95,
          58.5,
          38.2,
          157.8,
          36.3,
          61.3,
          87.9,
          64.2,
          59.5,
          72.2,
          29.3,
          34,
          62.9,
          48.4,
          44.3,
          72.8,
          88.9,
          69.7,
          28.3,
          24.3,
          41.9,
          39.6,
          40.8,
          42.7,
          95.6,
          47.1,
          24.4,
          47.1,
          34.4
         ],
         "xaxis": "x",
         "y": [
          6.8,
          3.4,
          1,
          2.9,
          1.2,
          2.6,
          2.9,
          2.5,
          3.1,
          1.5,
          0.8,
          0.9,
          3.8,
          1.9,
          2,
          3.2,
          3.6,
          3,
          2.3,
          1.1,
          1.4,
          2.8,
          2,
          2.7,
          5.6,
          1.9,
          1.9,
          1.8,
          3.2
         ],
         "yaxis": "y"
        },
        {
         "alignmentgroup": "True",
         "hoverlabel": {
          "namelength": 0
         },
         "hovertemplate": "GICSSector=Consumer Staples<br>PayoutRatio=%{x}",
         "legendgroup": "GICSSector=Consumer Staples",
         "marker": {
          "color": "#FECB52",
          "symbol": "circle"
         },
         "name": "GICSSector=Consumer Staples",
         "notched": true,
         "offsetgroup": "GICSSector=Consumer Staples",
         "showlegend": false,
         "type": "box",
         "x": [
          95,
          58.5,
          38.2,
          157.8,
          36.3,
          61.3,
          87.9,
          64.2,
          59.5,
          72.2,
          29.3,
          34,
          62.9,
          48.4,
          44.3,
          72.8,
          88.9,
          69.7,
          28.3,
          24.3,
          41.9,
          39.6,
          40.8,
          42.7,
          95.6,
          47.1,
          24.4,
          47.1,
          34.4
         ],
         "xaxis": "x3",
         "yaxis": "y3"
        },
        {
         "alignmentgroup": "True",
         "hoverlabel": {
          "namelength": 0
         },
         "hovertemplate": "GICSSector=Consumer Staples<br>DividendYield=%{y}",
         "legendgroup": "GICSSector=Consumer Staples",
         "marker": {
          "color": "#FECB52",
          "symbol": "circle"
         },
         "name": "GICSSector=Consumer Staples",
         "offsetgroup": "GICSSector=Consumer Staples",
         "scalegroup": "y",
         "showlegend": false,
         "type": "violin",
         "xaxis": "x2",
         "y": [
          6.8,
          3.4,
          1,
          2.9,
          1.2,
          2.6,
          2.9,
          2.5,
          3.1,
          1.5,
          0.8,
          0.9,
          3.8,
          1.9,
          2,
          3.2,
          3.6,
          3,
          2.3,
          1.1,
          1.4,
          2.8,
          2,
          2.7,
          5.6,
          1.9,
          1.9,
          1.8,
          3.2
         ],
         "yaxis": "y2"
        },
        {
         "hoverlabel": {
          "namelength": 0
         },
         "hovertemplate": "<b>OLS trendline</b><br>DividendYield = 0.027177 * PayoutRatio + 1.000975<br>R<sup>2</sup>=0.340327<br><br>GICSSector=Consumer Staples<br>PayoutRatio=%{x}<br>DividendYield=%{y} <b>(trend)</b>",
         "legendgroup": "GICSSector=Consumer Staples",
         "marker": {
          "color": "#FECB52",
          "symbol": "circle"
         },
         "mode": "lines",
         "name": "GICSSector=Consumer Staples",
         "showlegend": false,
         "type": "scatter",
         "x": [
          24.3,
          24.4,
          28.3,
          29.3,
          34,
          34.4,
          36.3,
          38.2,
          39.6,
          40.8,
          41.9,
          42.7,
          44.3,
          47.1,
          47.1,
          48.4,
          58.5,
          59.5,
          61.3,
          62.9,
          64.2,
          69.7,
          72.2,
          72.8,
          87.9,
          88.9,
          95,
          95.6,
          157.8
         ],
         "xaxis": "x",
         "y": [
          1.6613807644524434,
          1.6640984856607686,
          1.7700896127854409,
          1.7972668248686903,
          1.924999721659962,
          1.9358706064932618,
          1.9875073094514353,
          2.039144012409609,
          2.077192109326158,
          2.109804763826057,
          2.1396996971176314,
          2.161441466784231,
          2.20492500611743,
          2.281021199950528,
          2.281021199950528,
          2.3163515756587523,
          2.59084141769957,
          2.61801862978282,
          2.6669376115326684,
          2.7104211508658675,
          2.7457515265740913,
          2.895226193031963,
          2.963169223240086,
          2.9794755504900357,
          3.3898514529471004,
          3.41702866503035,
          3.582809658738171,
          3.59911598598812,
          5.289538577566228
         ],
         "yaxis": "y"
        },
        {
         "hoverlabel": {
          "namelength": 0
         },
         "hovertemplate": "GICSSector=Energy<br>PayoutRatio=%{x}<br>DividendYield=%{y}",
         "legendgroup": "GICSSector=Energy",
         "marker": {
          "color": "#636efa",
          "symbol": "circle"
         },
         "mode": "markers",
         "name": "GICSSector=Energy",
         "showlegend": true,
         "type": "scatter",
         "x": [
          205.7,
          14.7,
          59.4,
          12.3,
          9.9,
          19.2,
          4.2,
          9,
          15.3,
          80.2,
          53,
          24.4,
          99.1,
          16.9,
          42.3,
          61.6,
          111.9,
          28.4,
          9,
          55.9
         ],
         "xaxis": "x",
         "y": [
          3.3,
          1.6,
          3.9,
          1.7,
          0.4,
          2.1,
          1.6,
          0.6,
          1.3,
          4.8,
          3.6,
          2.4,
          4.4,
          1.7,
          3,
          7.3,
          4.8,
          3,
          0.4,
          3.6
         ],
         "yaxis": "y"
        },
        {
         "alignmentgroup": "True",
         "hoverlabel": {
          "namelength": 0
         },
         "hovertemplate": "GICSSector=Energy<br>PayoutRatio=%{x}",
         "legendgroup": "GICSSector=Energy",
         "marker": {
          "color": "#636efa",
          "symbol": "circle"
         },
         "name": "GICSSector=Energy",
         "notched": true,
         "offsetgroup": "GICSSector=Energy",
         "showlegend": false,
         "type": "box",
         "x": [
          205.7,
          14.7,
          59.4,
          12.3,
          9.9,
          19.2,
          4.2,
          9,
          15.3,
          80.2,
          53,
          24.4,
          99.1,
          16.9,
          42.3,
          61.6,
          111.9,
          28.4,
          9,
          55.9
         ],
         "xaxis": "x3",
         "yaxis": "y3"
        },
        {
         "alignmentgroup": "True",
         "hoverlabel": {
          "namelength": 0
         },
         "hovertemplate": "GICSSector=Energy<br>DividendYield=%{y}",
         "legendgroup": "GICSSector=Energy",
         "marker": {
          "color": "#636efa",
          "symbol": "circle"
         },
         "name": "GICSSector=Energy",
         "offsetgroup": "GICSSector=Energy",
         "scalegroup": "y",
         "showlegend": false,
         "type": "violin",
         "xaxis": "x2",
         "y": [
          3.3,
          1.6,
          3.9,
          1.7,
          0.4,
          2.1,
          1.6,
          0.6,
          1.3,
          4.8,
          3.6,
          2.4,
          4.4,
          1.7,
          3,
          7.3,
          4.8,
          3,
          0.4,
          3.6
         ],
         "yaxis": "y2"
        },
        {
         "hoverlabel": {
          "namelength": 0
         },
         "hovertemplate": "<b>OLS trendline</b><br>DividendYield = 0.020759 * PayoutRatio + 1.807211<br>R<sup>2</sup>=0.337773<br><br>GICSSector=Energy<br>PayoutRatio=%{x}<br>DividendYield=%{y} <b>(trend)</b>",
         "legendgroup": "GICSSector=Energy",
         "marker": {
          "color": "#636efa",
          "symbol": "circle"
         },
         "mode": "lines",
         "name": "GICSSector=Energy",
         "showlegend": false,
         "type": "scatter",
         "x": [
          4.2,
          9,
          9,
          9.9,
          12.3,
          14.7,
          15.3,
          16.9,
          19.2,
          24.4,
          28.4,
          42.3,
          53,
          55.9,
          59.4,
          61.6,
          80.2,
          99.1,
          111.9,
          205.7
         ],
         "xaxis": "x",
         "y": [
          1.8943991891012089,
          1.9940428452142263,
          1.9940428452142263,
          2.012726030735417,
          2.0625478587919255,
          2.1123696868484343,
          2.1248251438625614,
          2.158039695900234,
          2.2057856144543884,
          2.3137329085768235,
          2.396769288671005,
          2.6853207094982845,
          2.907443026250219,
          2.9676444018185,
          3.040301234400909,
          3.0859712434527085,
          3.472090410890651,
          3.864437306835657,
          4.130153723137037,
          6.077356836345585
         ],
         "yaxis": "y"
        }
       ],
       "layout": {
        "legend": {
         "tracegroupgap": 0
        },
        "margin": {
         "t": 60
        },
        "showlegend": false,
        "template": {
         "data": {
          "bar": [
           {
            "error_x": {
             "color": "#2a3f5f"
            },
            "error_y": {
             "color": "#2a3f5f"
            },
            "marker": {
             "line": {
              "color": "#E5ECF6",
              "width": 0.5
             }
            },
            "type": "bar"
           }
          ],
          "barpolar": [
           {
            "marker": {
             "line": {
              "color": "#E5ECF6",
              "width": 0.5
             }
            },
            "type": "barpolar"
           }
          ],
          "carpet": [
           {
            "aaxis": {
             "endlinecolor": "#2a3f5f",
             "gridcolor": "white",
             "linecolor": "white",
             "minorgridcolor": "white",
             "startlinecolor": "#2a3f5f"
            },
            "baxis": {
             "endlinecolor": "#2a3f5f",
             "gridcolor": "white",
             "linecolor": "white",
             "minorgridcolor": "white",
             "startlinecolor": "#2a3f5f"
            },
            "type": "carpet"
           }
          ],
          "choropleth": [
           {
            "colorbar": {
             "outlinewidth": 0,
             "ticks": ""
            },
            "type": "choropleth"
           }
          ],
          "contour": [
           {
            "colorbar": {
             "outlinewidth": 0,
             "ticks": ""
            },
            "colorscale": [
             [
              0,
              "#0d0887"
             ],
             [
              0.1111111111111111,
              "#46039f"
             ],
             [
              0.2222222222222222,
              "#7201a8"
             ],
             [
              0.3333333333333333,
              "#9c179e"
             ],
             [
              0.4444444444444444,
              "#bd3786"
             ],
             [
              0.5555555555555556,
              "#d8576b"
             ],
             [
              0.6666666666666666,
              "#ed7953"
             ],
             [
              0.7777777777777778,
              "#fb9f3a"
             ],
             [
              0.8888888888888888,
              "#fdca26"
             ],
             [
              1,
              "#f0f921"
             ]
            ],
            "type": "contour"
           }
          ],
          "contourcarpet": [
           {
            "colorbar": {
             "outlinewidth": 0,
             "ticks": ""
            },
            "type": "contourcarpet"
           }
          ],
          "heatmap": [
           {
            "colorbar": {
             "outlinewidth": 0,
             "ticks": ""
            },
            "colorscale": [
             [
              0,
              "#0d0887"
             ],
             [
              0.1111111111111111,
              "#46039f"
             ],
             [
              0.2222222222222222,
              "#7201a8"
             ],
             [
              0.3333333333333333,
              "#9c179e"
             ],
             [
              0.4444444444444444,
              "#bd3786"
             ],
             [
              0.5555555555555556,
              "#d8576b"
             ],
             [
              0.6666666666666666,
              "#ed7953"
             ],
             [
              0.7777777777777778,
              "#fb9f3a"
             ],
             [
              0.8888888888888888,
              "#fdca26"
             ],
             [
              1,
              "#f0f921"
             ]
            ],
            "type": "heatmap"
           }
          ],
          "heatmapgl": [
           {
            "colorbar": {
             "outlinewidth": 0,
             "ticks": ""
            },
            "colorscale": [
             [
              0,
              "#0d0887"
             ],
             [
              0.1111111111111111,
              "#46039f"
             ],
             [
              0.2222222222222222,
              "#7201a8"
             ],
             [
              0.3333333333333333,
              "#9c179e"
             ],
             [
              0.4444444444444444,
              "#bd3786"
             ],
             [
              0.5555555555555556,
              "#d8576b"
             ],
             [
              0.6666666666666666,
              "#ed7953"
             ],
             [
              0.7777777777777778,
              "#fb9f3a"
             ],
             [
              0.8888888888888888,
              "#fdca26"
             ],
             [
              1,
              "#f0f921"
             ]
            ],
            "type": "heatmapgl"
           }
          ],
          "histogram": [
           {
            "marker": {
             "colorbar": {
              "outlinewidth": 0,
              "ticks": ""
             }
            },
            "type": "histogram"
           }
          ],
          "histogram2d": [
           {
            "colorbar": {
             "outlinewidth": 0,
             "ticks": ""
            },
            "colorscale": [
             [
              0,
              "#0d0887"
             ],
             [
              0.1111111111111111,
              "#46039f"
             ],
             [
              0.2222222222222222,
              "#7201a8"
             ],
             [
              0.3333333333333333,
              "#9c179e"
             ],
             [
              0.4444444444444444,
              "#bd3786"
             ],
             [
              0.5555555555555556,
              "#d8576b"
             ],
             [
              0.6666666666666666,
              "#ed7953"
             ],
             [
              0.7777777777777778,
              "#fb9f3a"
             ],
             [
              0.8888888888888888,
              "#fdca26"
             ],
             [
              1,
              "#f0f921"
             ]
            ],
            "type": "histogram2d"
           }
          ],
          "histogram2dcontour": [
           {
            "colorbar": {
             "outlinewidth": 0,
             "ticks": ""
            },
            "colorscale": [
             [
              0,
              "#0d0887"
             ],
             [
              0.1111111111111111,
              "#46039f"
             ],
             [
              0.2222222222222222,
              "#7201a8"
             ],
             [
              0.3333333333333333,
              "#9c179e"
             ],
             [
              0.4444444444444444,
              "#bd3786"
             ],
             [
              0.5555555555555556,
              "#d8576b"
             ],
             [
              0.6666666666666666,
              "#ed7953"
             ],
             [
              0.7777777777777778,
              "#fb9f3a"
             ],
             [
              0.8888888888888888,
              "#fdca26"
             ],
             [
              1,
              "#f0f921"
             ]
            ],
            "type": "histogram2dcontour"
           }
          ],
          "mesh3d": [
           {
            "colorbar": {
             "outlinewidth": 0,
             "ticks": ""
            },
            "type": "mesh3d"
           }
          ],
          "parcoords": [
           {
            "line": {
             "colorbar": {
              "outlinewidth": 0,
              "ticks": ""
             }
            },
            "type": "parcoords"
           }
          ],
          "pie": [
           {
            "automargin": true,
            "type": "pie"
           }
          ],
          "scatter": [
           {
            "marker": {
             "colorbar": {
              "outlinewidth": 0,
              "ticks": ""
             }
            },
            "type": "scatter"
           }
          ],
          "scatter3d": [
           {
            "line": {
             "colorbar": {
              "outlinewidth": 0,
              "ticks": ""
             }
            },
            "marker": {
             "colorbar": {
              "outlinewidth": 0,
              "ticks": ""
             }
            },
            "type": "scatter3d"
           }
          ],
          "scattercarpet": [
           {
            "marker": {
             "colorbar": {
              "outlinewidth": 0,
              "ticks": ""
             }
            },
            "type": "scattercarpet"
           }
          ],
          "scattergeo": [
           {
            "marker": {
             "colorbar": {
              "outlinewidth": 0,
              "ticks": ""
             }
            },
            "type": "scattergeo"
           }
          ],
          "scattergl": [
           {
            "marker": {
             "colorbar": {
              "outlinewidth": 0,
              "ticks": ""
             }
            },
            "type": "scattergl"
           }
          ],
          "scattermapbox": [
           {
            "marker": {
             "colorbar": {
              "outlinewidth": 0,
              "ticks": ""
             }
            },
            "type": "scattermapbox"
           }
          ],
          "scatterpolar": [
           {
            "marker": {
             "colorbar": {
              "outlinewidth": 0,
              "ticks": ""
             }
            },
            "type": "scatterpolar"
           }
          ],
          "scatterpolargl": [
           {
            "marker": {
             "colorbar": {
              "outlinewidth": 0,
              "ticks": ""
             }
            },
            "type": "scatterpolargl"
           }
          ],
          "scatterternary": [
           {
            "marker": {
             "colorbar": {
              "outlinewidth": 0,
              "ticks": ""
             }
            },
            "type": "scatterternary"
           }
          ],
          "surface": [
           {
            "colorbar": {
             "outlinewidth": 0,
             "ticks": ""
            },
            "colorscale": [
             [
              0,
              "#0d0887"
             ],
             [
              0.1111111111111111,
              "#46039f"
             ],
             [
              0.2222222222222222,
              "#7201a8"
             ],
             [
              0.3333333333333333,
              "#9c179e"
             ],
             [
              0.4444444444444444,
              "#bd3786"
             ],
             [
              0.5555555555555556,
              "#d8576b"
             ],
             [
              0.6666666666666666,
              "#ed7953"
             ],
             [
              0.7777777777777778,
              "#fb9f3a"
             ],
             [
              0.8888888888888888,
              "#fdca26"
             ],
             [
              1,
              "#f0f921"
             ]
            ],
            "type": "surface"
           }
          ],
          "table": [
           {
            "cells": {
             "fill": {
              "color": "#EBF0F8"
             },
             "line": {
              "color": "white"
             }
            },
            "header": {
             "fill": {
              "color": "#C8D4E3"
             },
             "line": {
              "color": "white"
             }
            },
            "type": "table"
           }
          ]
         },
         "layout": {
          "annotationdefaults": {
           "arrowcolor": "#2a3f5f",
           "arrowhead": 0,
           "arrowwidth": 1
          },
          "coloraxis": {
           "colorbar": {
            "outlinewidth": 0,
            "ticks": ""
           }
          },
          "colorscale": {
           "diverging": [
            [
             0,
             "#8e0152"
            ],
            [
             0.1,
             "#c51b7d"
            ],
            [
             0.2,
             "#de77ae"
            ],
            [
             0.3,
             "#f1b6da"
            ],
            [
             0.4,
             "#fde0ef"
            ],
            [
             0.5,
             "#f7f7f7"
            ],
            [
             0.6,
             "#e6f5d0"
            ],
            [
             0.7,
             "#b8e186"
            ],
            [
             0.8,
             "#7fbc41"
            ],
            [
             0.9,
             "#4d9221"
            ],
            [
             1,
             "#276419"
            ]
           ],
           "sequential": [
            [
             0,
             "#0d0887"
            ],
            [
             0.1111111111111111,
             "#46039f"
            ],
            [
             0.2222222222222222,
             "#7201a8"
            ],
            [
             0.3333333333333333,
             "#9c179e"
            ],
            [
             0.4444444444444444,
             "#bd3786"
            ],
            [
             0.5555555555555556,
             "#d8576b"
            ],
            [
             0.6666666666666666,
             "#ed7953"
            ],
            [
             0.7777777777777778,
             "#fb9f3a"
            ],
            [
             0.8888888888888888,
             "#fdca26"
            ],
            [
             1,
             "#f0f921"
            ]
           ],
           "sequentialminus": [
            [
             0,
             "#0d0887"
            ],
            [
             0.1111111111111111,
             "#46039f"
            ],
            [
             0.2222222222222222,
             "#7201a8"
            ],
            [
             0.3333333333333333,
             "#9c179e"
            ],
            [
             0.4444444444444444,
             "#bd3786"
            ],
            [
             0.5555555555555556,
             "#d8576b"
            ],
            [
             0.6666666666666666,
             "#ed7953"
            ],
            [
             0.7777777777777778,
             "#fb9f3a"
            ],
            [
             0.8888888888888888,
             "#fdca26"
            ],
            [
             1,
             "#f0f921"
            ]
           ]
          },
          "colorway": [
           "#636efa",
           "#EF553B",
           "#00cc96",
           "#ab63fa",
           "#FFA15A",
           "#19d3f3",
           "#FF6692",
           "#B6E880",
           "#FF97FF",
           "#FECB52"
          ],
          "font": {
           "color": "#2a3f5f"
          },
          "geo": {
           "bgcolor": "white",
           "lakecolor": "white",
           "landcolor": "#E5ECF6",
           "showlakes": true,
           "showland": true,
           "subunitcolor": "white"
          },
          "hoverlabel": {
           "align": "left"
          },
          "hovermode": "closest",
          "mapbox": {
           "style": "light"
          },
          "paper_bgcolor": "white",
          "plot_bgcolor": "#E5ECF6",
          "polar": {
           "angularaxis": {
            "gridcolor": "white",
            "linecolor": "white",
            "ticks": ""
           },
           "bgcolor": "#E5ECF6",
           "radialaxis": {
            "gridcolor": "white",
            "linecolor": "white",
            "ticks": ""
           }
          },
          "scene": {
           "xaxis": {
            "backgroundcolor": "#E5ECF6",
            "gridcolor": "white",
            "gridwidth": 2,
            "linecolor": "white",
            "showbackground": true,
            "ticks": "",
            "zerolinecolor": "white"
           },
           "yaxis": {
            "backgroundcolor": "#E5ECF6",
            "gridcolor": "white",
            "gridwidth": 2,
            "linecolor": "white",
            "showbackground": true,
            "ticks": "",
            "zerolinecolor": "white"
           },
           "zaxis": {
            "backgroundcolor": "#E5ECF6",
            "gridcolor": "white",
            "gridwidth": 2,
            "linecolor": "white",
            "showbackground": true,
            "ticks": "",
            "zerolinecolor": "white"
           }
          },
          "shapedefaults": {
           "line": {
            "color": "#2a3f5f"
           }
          },
          "ternary": {
           "aaxis": {
            "gridcolor": "white",
            "linecolor": "white",
            "ticks": ""
           },
           "baxis": {
            "gridcolor": "white",
            "linecolor": "white",
            "ticks": ""
           },
           "bgcolor": "#E5ECF6",
           "caxis": {
            "gridcolor": "white",
            "linecolor": "white",
            "ticks": ""
           }
          },
          "title": {
           "x": 0.05
          },
          "xaxis": {
           "automargin": true,
           "gridcolor": "white",
           "linecolor": "white",
           "ticks": "",
           "title": {
            "standoff": 15
           },
           "zerolinecolor": "white",
           "zerolinewidth": 2
          },
          "yaxis": {
           "automargin": true,
           "gridcolor": "white",
           "linecolor": "white",
           "ticks": "",
           "title": {
            "standoff": 15
           },
           "zerolinecolor": "white",
           "zerolinewidth": 2
          }
         }
        },
        "xaxis": {
         "anchor": "y",
         "domain": [
          0,
          0.7363
         ],
         "title": {
          "text": "PayoutRatio"
         }
        },
        "xaxis2": {
         "anchor": "y2",
         "domain": [
          0.7413,
          1
         ],
         "matches": "x2",
         "showgrid": false,
         "showline": false,
         "showticklabels": false,
         "ticks": ""
        },
        "xaxis3": {
         "anchor": "y3",
         "domain": [
          0,
          0.7363
         ],
         "matches": "x",
         "showgrid": true,
         "showticklabels": false
        },
        "xaxis4": {
         "anchor": "y4",
         "domain": [
          0.7413,
          1
         ],
         "matches": "x2",
         "showgrid": false,
         "showline": false,
         "showticklabels": false,
         "ticks": ""
        },
        "yaxis": {
         "anchor": "x",
         "domain": [
          0,
          0.7326
         ],
         "title": {
          "text": "DividendYield"
         }
        },
        "yaxis2": {
         "anchor": "x2",
         "domain": [
          0,
          0.7326
         ],
         "matches": "y",
         "showgrid": true,
         "showticklabels": false
        },
        "yaxis3": {
         "anchor": "x3",
         "domain": [
          0.7426,
          1
         ],
         "matches": "y3",
         "showgrid": false,
         "showline": false,
         "showticklabels": false,
         "ticks": ""
        },
        "yaxis4": {
         "anchor": "x4",
         "domain": [
          0.7426,
          1
         ],
         "matches": "y3",
         "showgrid": true,
         "showline": false,
         "showticklabels": false,
         "ticks": ""
        }
       }
      },
      "text/html": [
       "<div>\n",
       "        \n",
       "        \n",
       "            <div id=\"904bed82-87a0-4ad0-84b0-78bcac8d7a83\" class=\"plotly-graph-div\" style=\"height:525px; width:100%;\"></div>\n",
       "            <script type=\"text/javascript\">\n",
       "                require([\"plotly\"], function(Plotly) {\n",
       "                    window.PLOTLYENV=window.PLOTLYENV || {};\n",
       "                    \n",
       "                if (document.getElementById(\"904bed82-87a0-4ad0-84b0-78bcac8d7a83\")) {\n",
       "                    Plotly.newPlot(\n",
       "                        '904bed82-87a0-4ad0-84b0-78bcac8d7a83',\n",
       "                        [{\"hoverlabel\": {\"namelength\": 0}, \"hovertemplate\": \"GICSSector=Industrials<br>PayoutRatio=%{x}<br>DividendYield=%{y}\", \"legendgroup\": \"GICSSector=Industrials\", \"marker\": {\"color\": \"#636efa\", \"symbol\": \"circle\"}, \"mode\": \"markers\", \"name\": \"GICSSector=Industrials\", \"showlegend\": true, \"type\": \"scatter\", \"x\": [66.3, 32.7, 20.7, 12.0, 15.6, 33.5, 22.1, 118.4, 38.9, 34.0, 22.3, 27.7, 28.5, 20.4, 43.1, 53.0, 55.0, 25.8, 62.3, 48.1, 3.6, 29.0, 34.2, 37.4, 37.8, 20.4, 53.4, 36.3, 25.2, 41.5, 19.6, 23.9, 18.3, 27.1, 34.7, 5.4, 33.3, 46.2, 30.7, 44.4, 65.7, 16.6, 30.2, 15.3, 55.3, 41.4, 65.6, 49.2, 13.7, 26.5, 48.4, 28.3], \"xaxis\": \"x\", \"y\": [3.3, 1.9, 0.9, 1.4, 0.6, 1.7, 0.7, 2.3, 2.2, 2.7, 1.3, 2.6, 1.7, 2.7, 1.9, 3.2, 2.8, 1.3, 2.3, 1.6, 0.4, 1.4, 2.3, 1.8, 1.9, 1.5, 2.5, 1.8, 1.0, 2.4, 1.1, 1.4, 1.7, 1.7, 1.7, 0.3, 1.8, 1.7, 2.1, 2.2, 1.1, 0.5, 2.3, 1.2, 1.7, 2.1, 3.3, 2.1, 0.3, 0.7, 1.8, 1.1], \"yaxis\": \"y\"}, {\"alignmentgroup\": \"True\", \"hoverlabel\": {\"namelength\": 0}, \"hovertemplate\": \"GICSSector=Industrials<br>PayoutRatio=%{x}\", \"legendgroup\": \"GICSSector=Industrials\", \"marker\": {\"color\": \"#636efa\", \"symbol\": \"circle\"}, \"name\": \"GICSSector=Industrials\", \"notched\": true, \"offsetgroup\": \"GICSSector=Industrials\", \"showlegend\": false, \"type\": \"box\", \"x\": [66.3, 32.7, 20.7, 12.0, 15.6, 33.5, 22.1, 118.4, 38.9, 34.0, 22.3, 27.7, 28.5, 20.4, 43.1, 53.0, 55.0, 25.8, 62.3, 48.1, 3.6, 29.0, 34.2, 37.4, 37.8, 20.4, 53.4, 36.3, 25.2, 41.5, 19.6, 23.9, 18.3, 27.1, 34.7, 5.4, 33.3, 46.2, 30.7, 44.4, 65.7, 16.6, 30.2, 15.3, 55.3, 41.4, 65.6, 49.2, 13.7, 26.5, 48.4, 28.3], \"xaxis\": \"x3\", \"yaxis\": \"y3\"}, {\"alignmentgroup\": \"True\", \"hoverlabel\": {\"namelength\": 0}, \"hovertemplate\": \"GICSSector=Industrials<br>DividendYield=%{y}\", \"legendgroup\": \"GICSSector=Industrials\", \"marker\": {\"color\": \"#636efa\", \"symbol\": \"circle\"}, \"name\": \"GICSSector=Industrials\", \"offsetgroup\": \"GICSSector=Industrials\", \"scalegroup\": \"y\", \"showlegend\": false, \"type\": \"violin\", \"xaxis\": \"x2\", \"y\": [3.3, 1.9, 0.9, 1.4, 0.6, 1.7, 0.7, 2.3, 2.2, 2.7, 1.3, 2.6, 1.7, 2.7, 1.9, 3.2, 2.8, 1.3, 2.3, 1.6, 0.4, 1.4, 2.3, 1.8, 1.9, 1.5, 2.5, 1.8, 1.0, 2.4, 1.1, 1.4, 1.7, 1.7, 1.7, 0.3, 1.8, 1.7, 2.1, 2.2, 1.1, 0.5, 2.3, 1.2, 1.7, 2.1, 3.3, 2.1, 0.3, 0.7, 1.8, 1.1], \"yaxis\": \"y2\"}, {\"hoverlabel\": {\"namelength\": 0}, \"hovertemplate\": \"<b>OLS trendline</b><br>DividendYield = 0.023412 * PayoutRatio + 0.902781<br>R<sup>2</sup>=0.367810<br><br>GICSSector=Industrials<br>PayoutRatio=%{x}<br>DividendYield=%{y} <b>(trend)</b>\", \"legendgroup\": \"GICSSector=Industrials\", \"marker\": {\"color\": \"#636efa\", \"symbol\": \"circle\"}, \"mode\": \"lines\", \"name\": \"GICSSector=Industrials\", \"showlegend\": false, \"type\": \"scatter\", \"x\": [3.6, 5.4, 12.0, 13.7, 15.3, 15.6, 16.6, 18.3, 19.6, 20.4, 20.4, 20.7, 22.1, 22.3, 23.9, 25.2, 25.8, 26.5, 27.1, 27.7, 28.3, 28.5, 29.0, 30.2, 30.7, 32.7, 33.3, 33.5, 34.0, 34.2, 34.7, 36.3, 37.4, 37.8, 38.9, 41.4, 41.5, 43.1, 44.4, 46.2, 48.1, 48.4, 49.2, 53.0, 53.4, 55.0, 55.3, 62.3, 65.6, 65.7, 66.3, 118.4], \"xaxis\": \"x\", \"y\": [0.987066053065328, 1.0292083326591561, 1.1837300245031923, 1.2235310663418077, 1.2609908704252106, 1.2680145836908485, 1.2914269612429752, 1.3312280030815906, 1.3616640938993554, 1.3803939959410567, 1.3803939959410567, 1.3874177092066948, 1.4201950377796722, 1.4248775132900975, 1.4623373173735001, 1.492773408191265, 1.506820834722541, 1.5232094990090297, 1.5372569255403057, 1.5513043520715817, 1.565351778602858, 1.570034254113283, 1.5817404428893465, 1.6098352959518984, 1.621541484727962, 1.6683662398322152, 1.6824136663634912, 1.6870961418739165, 1.69880233064998, 1.7034848061604055, 1.7151909949364688, 1.7526507990198712, 1.7784044143272109, 1.7877693653480615, 1.8135229806554007, 1.8720539245357175, 1.8743951622909303, 1.911854966374333, 1.9422910571920977, 1.984433336785926, 2.0289168541349665, 2.0359405674006044, 2.054670469442306, 2.1436375041403877, 2.1530024551612383, 2.190462259244641, 2.197485972510279, 2.3613726153751657, 2.438633461297184, 2.4409746990523966, 2.455022125583673, 3.6748069960494743], \"yaxis\": \"y\"}, {\"hoverlabel\": {\"namelength\": 0}, \"hovertemplate\": \"GICSSector=Health Care<br>PayoutRatio=%{x}<br>DividendYield=%{y}\", \"legendgroup\": \"GICSSector=Health Care\", \"marker\": {\"color\": \"#EF553B\", \"symbol\": \"circle\"}, \"mode\": \"markers\", \"name\": \"GICSSector=Health Care\", \"showlegend\": true, \"type\": \"scatter\", \"x\": [153.0, 19.0, 35.0, 43.6, 26.1, 42.8, 42.2, 9.9, 0.7, 56.0, 19.1, 51.6, 14.1, 11.4, 51.7, 61.9, 59.2, 12.3, 63.7, 39.2, 52.4, 21.4, 23.1, 8.2, 4.5, 21.6], \"xaxis\": \"x\", \"y\": [5.4, 0.9, 1.8, 2.7, 0.9, 3.0, 3.8, 0.3, 0.0, 3.0, 0.5, 3.6, 1.2, 0.7, 1.1, 1.9, 2.6, 0.3, 3.9, 2.1, 1.2, 1.0, 0.4, 0.2, 0.3, 0.5], \"yaxis\": \"y\"}, {\"alignmentgroup\": \"True\", \"hoverlabel\": {\"namelength\": 0}, \"hovertemplate\": \"GICSSector=Health Care<br>PayoutRatio=%{x}\", \"legendgroup\": \"GICSSector=Health Care\", \"marker\": {\"color\": \"#EF553B\", \"symbol\": \"circle\"}, \"name\": \"GICSSector=Health Care\", \"notched\": true, \"offsetgroup\": \"GICSSector=Health Care\", \"showlegend\": false, \"type\": \"box\", \"x\": [153.0, 19.0, 35.0, 43.6, 26.1, 42.8, 42.2, 9.9, 0.7, 56.0, 19.1, 51.6, 14.1, 11.4, 51.7, 61.9, 59.2, 12.3, 63.7, 39.2, 52.4, 21.4, 23.1, 8.2, 4.5, 21.6], \"xaxis\": \"x3\", \"yaxis\": \"y3\"}, {\"alignmentgroup\": \"True\", \"hoverlabel\": {\"namelength\": 0}, \"hovertemplate\": \"GICSSector=Health Care<br>DividendYield=%{y}\", \"legendgroup\": \"GICSSector=Health Care\", \"marker\": {\"color\": \"#EF553B\", \"symbol\": \"circle\"}, \"name\": \"GICSSector=Health Care\", \"offsetgroup\": \"GICSSector=Health Care\", \"scalegroup\": \"y\", \"showlegend\": false, \"type\": \"violin\", \"xaxis\": \"x2\", \"y\": [5.4, 0.9, 1.8, 2.7, 0.9, 3.0, 3.8, 0.3, 0.0, 3.0, 0.5, 3.6, 1.2, 0.7, 1.1, 1.9, 2.6, 0.3, 3.9, 2.1, 1.2, 1.0, 0.4, 0.2, 0.3, 0.5], \"yaxis\": \"y2\"}, {\"hoverlabel\": {\"namelength\": 0}, \"hovertemplate\": \"<b>OLS trendline</b><br>DividendYield = 0.039280 * PayoutRatio + 0.239684<br>R<sup>2</sup>=0.711241<br><br>GICSSector=Health Care<br>PayoutRatio=%{x}<br>DividendYield=%{y} <b>(trend)</b>\", \"legendgroup\": \"GICSSector=Health Care\", \"marker\": {\"color\": \"#EF553B\", \"symbol\": \"circle\"}, \"mode\": \"lines\", \"name\": \"GICSSector=Health Care\", \"showlegend\": false, \"type\": \"scatter\", \"x\": [0.7, 4.5, 8.2, 9.9, 11.4, 12.3, 14.1, 19.0, 19.1, 21.4, 21.6, 23.1, 26.1, 35.0, 39.2, 42.2, 42.8, 43.6, 51.6, 51.7, 52.4, 56.0, 59.2, 61.9, 63.7, 153.0], \"xaxis\": \"x\", \"y\": [0.2671800778006771, 0.41644275561082633, 0.5617774682154454, 0.6285528767094596, 0.6874723547924133, 0.7228240416421854, 0.7935274153417298, 0.9859977104127118, 0.9899256756182421, 1.0802688753454377, 1.088124805756498, 1.1470442838394517, 1.2648832400053593, 1.6144721432975508, 1.7794466819298211, 1.8972856380957284, 1.92085342932891, 1.9522771509731518, 2.2665143674155717, 2.270442332621102, 2.2979380890598136, 2.4393448364589023, 2.5650397230358704, 2.6710947835851866, 2.741798157284731, 6.249471085823239], \"yaxis\": \"y\"}, {\"hoverlabel\": {\"namelength\": 0}, \"hovertemplate\": \"GICSSector=Information Technology<br>PayoutRatio=%{x}<br>DividendYield=%{y}\", \"legendgroup\": \"GICSSector=Information Technology\", \"marker\": {\"color\": \"#00cc96\", \"symbol\": \"circle\"}, \"mode\": \"markers\", \"name\": \"GICSSector=Information Technology\", \"showlegend\": true, \"type\": \"scatter\", \"x\": [39.0, 14.8, 23.8, 49.9, 25.0, 27.0, 58.0, 130.8, 46.6, 51.7, 26.5, 22.1, 42.6, 18.4, 57.7, 32.3, 1.3, 22.6, 28.2, 73.7, 31.4, 43.7, 51.9, 39.7, 30.6, 19.0, 61.0, 92.9, 36.0, 35.5, 42.2, 14.0, 27.3, 80.4, 87.0, 35.1, 28.8, 18.9, 56.2, 15.2, 18.4, 28.1, 44.1, 39.0], \"xaxis\": \"x\", \"y\": [1.6, 1.9, 0.9, 1.9, 1.2, 1.6, 1.9, 3.5, 1.6, 2.9, 1.0, 1.3, 2.5, 2.8, 1.1, 1.2, 0.0, 3.6, 2.4, 4.7, 0.7, 1.1, 3.0, 1.9, 1.9, 0.5, 3.3, 1.6, 1.3, 1.3, 3.0, 0.3, 1.6, 2.8, 3.2, 4.5, 1.7, 1.9, 2.6, 0.4, 0.6, 3.2, 3.3, 1.5], \"yaxis\": \"y\"}, {\"alignmentgroup\": \"True\", \"hoverlabel\": {\"namelength\": 0}, \"hovertemplate\": \"GICSSector=Information Technology<br>PayoutRatio=%{x}\", \"legendgroup\": \"GICSSector=Information Technology\", \"marker\": {\"color\": \"#00cc96\", \"symbol\": \"circle\"}, \"name\": \"GICSSector=Information Technology\", \"notched\": true, \"offsetgroup\": \"GICSSector=Information Technology\", \"showlegend\": false, \"type\": \"box\", \"x\": [39.0, 14.8, 23.8, 49.9, 25.0, 27.0, 58.0, 130.8, 46.6, 51.7, 26.5, 22.1, 42.6, 18.4, 57.7, 32.3, 1.3, 22.6, 28.2, 73.7, 31.4, 43.7, 51.9, 39.7, 30.6, 19.0, 61.0, 92.9, 36.0, 35.5, 42.2, 14.0, 27.3, 80.4, 87.0, 35.1, 28.8, 18.9, 56.2, 15.2, 18.4, 28.1, 44.1, 39.0], \"xaxis\": \"x3\", \"yaxis\": \"y3\"}, {\"alignmentgroup\": \"True\", \"hoverlabel\": {\"namelength\": 0}, \"hovertemplate\": \"GICSSector=Information Technology<br>DividendYield=%{y}\", \"legendgroup\": \"GICSSector=Information Technology\", \"marker\": {\"color\": \"#00cc96\", \"symbol\": \"circle\"}, \"name\": \"GICSSector=Information Technology\", \"offsetgroup\": \"GICSSector=Information Technology\", \"scalegroup\": \"y\", \"showlegend\": false, \"type\": \"violin\", \"xaxis\": \"x2\", \"y\": [1.6, 1.9, 0.9, 1.9, 1.2, 1.6, 1.9, 3.5, 1.6, 2.9, 1.0, 1.3, 2.5, 2.8, 1.1, 1.2, 0.0, 3.6, 2.4, 4.7, 0.7, 1.1, 3.0, 1.9, 1.9, 0.5, 3.3, 1.6, 1.3, 1.3, 3.0, 0.3, 1.6, 2.8, 3.2, 4.5, 1.7, 1.9, 2.6, 0.4, 0.6, 3.2, 3.3, 1.5], \"yaxis\": \"y2\"}, {\"hoverlabel\": {\"namelength\": 0}, \"hovertemplate\": \"<b>OLS trendline</b><br>DividendYield = 0.023032 * PayoutRatio + 1.047050<br>R<sup>2</sup>=0.256094<br><br>GICSSector=Information Technology<br>PayoutRatio=%{x}<br>DividendYield=%{y} <b>(trend)</b>\", \"legendgroup\": \"GICSSector=Information Technology\", \"marker\": {\"color\": \"#00cc96\", \"symbol\": \"circle\"}, \"mode\": \"lines\", \"name\": \"GICSSector=Information Technology\", \"showlegend\": false, \"type\": \"scatter\", \"x\": [1.3, 14.0, 14.8, 15.2, 18.4, 18.4, 18.9, 19.0, 22.1, 22.6, 23.8, 25.0, 26.5, 27.0, 27.3, 28.1, 28.2, 28.8, 30.6, 31.4, 32.3, 35.1, 35.5, 36.0, 39.0, 39.0, 39.7, 42.2, 42.6, 43.7, 44.1, 46.6, 49.9, 51.7, 51.9, 56.2, 57.7, 58.0, 61.0, 73.7, 80.4, 87.0, 92.9, 130.8], \"xaxis\": \"x\", \"y\": [1.076991872534028, 1.3694982666597788, 1.3879238662897475, 1.3971366661047318, 1.470839064624606, 1.470839064624606, 1.4823550643933363, 1.4846582643470825, 1.5560574629132105, 1.567573462681941, 1.5952118621268938, 1.6228502615718465, 1.6573982608780375, 1.668914260646768, 1.6758238605080062, 1.694249460137975, 1.696552660091721, 1.7103718598141973, 1.7518294589816266, 1.770255058611595, 1.7909838581953097, 1.8554734569001998, 1.864686256715184, 1.8762022564839143, 1.9452982550962963, 1.9452982550962963, 1.961420654772519, 2.0190006536161706, 2.028213453431155, 2.0535486529223617, 2.0627614527373463, 2.1203414515809977, 2.196347050054618, 2.2378046492220474, 2.2424110491295393, 2.341448647140621, 2.3759966464468114, 2.3829062463080497, 2.4520022449204317, 2.744508639046183, 2.89882303594717, 3.05083423289441, 3.1867230301654286, 4.0596358126351895], \"yaxis\": \"y\"}, {\"hoverlabel\": {\"namelength\": 0}, \"hovertemplate\": \"GICSSector=Communication Services<br>PayoutRatio=%{x}<br>DividendYield=%{y}\", \"legendgroup\": \"GICSSector=Communication Services\", \"marker\": {\"color\": \"#ab63fa\", \"symbol\": \"circle\"}, \"mode\": \"markers\", \"name\": \"GICSSector=Communication Services\", \"showlegend\": true, \"type\": \"scatter\", \"x\": [15.4, 85.1, 8.8, 30.1, 53.9, 75.4, 75.4, 42.7, 62.9, 19.7, 21.6], \"xaxis\": \"x\", \"y\": [0.6, 5.4, 2.0, 1.7, 4.3, 1.4, 1.4, 3.3, 4.0, 3.6, 1.3], \"yaxis\": \"y\"}, {\"alignmentgroup\": \"True\", \"hoverlabel\": {\"namelength\": 0}, \"hovertemplate\": \"GICSSector=Communication Services<br>PayoutRatio=%{x}\", \"legendgroup\": \"GICSSector=Communication Services\", \"marker\": {\"color\": \"#ab63fa\", \"symbol\": \"circle\"}, \"name\": \"GICSSector=Communication Services\", \"notched\": true, \"offsetgroup\": \"GICSSector=Communication Services\", \"showlegend\": false, \"type\": \"box\", \"x\": [15.4, 85.1, 8.8, 30.1, 53.9, 75.4, 75.4, 42.7, 62.9, 19.7, 21.6], \"xaxis\": \"x3\", \"yaxis\": \"y3\"}, {\"alignmentgroup\": \"True\", \"hoverlabel\": {\"namelength\": 0}, \"hovertemplate\": \"GICSSector=Communication Services<br>DividendYield=%{y}\", \"legendgroup\": \"GICSSector=Communication Services\", \"marker\": {\"color\": \"#ab63fa\", \"symbol\": \"circle\"}, \"name\": \"GICSSector=Communication Services\", \"offsetgroup\": \"GICSSector=Communication Services\", \"scalegroup\": \"y\", \"showlegend\": false, \"type\": \"violin\", \"xaxis\": \"x2\", \"y\": [0.6, 5.4, 2.0, 1.7, 4.3, 1.4, 1.4, 3.3, 4.0, 3.6, 1.3], \"yaxis\": \"y2\"}, {\"hoverlabel\": {\"namelength\": 0}, \"hovertemplate\": \"<b>OLS trendline</b><br>DividendYield = 0.023806 * PayoutRatio + 1.573769<br>R<sup>2</sup>=0.176754<br><br>GICSSector=Communication Services<br>PayoutRatio=%{x}<br>DividendYield=%{y} <b>(trend)</b>\", \"legendgroup\": \"GICSSector=Communication Services\", \"marker\": {\"color\": \"#ab63fa\", \"symbol\": \"circle\"}, \"mode\": \"lines\", \"name\": \"GICSSector=Communication Services\", \"showlegend\": false, \"type\": \"scatter\", \"x\": [8.8, 15.4, 19.7, 21.6, 30.1, 42.7, 53.9, 62.9, 75.4, 75.4, 85.1], \"xaxis\": \"x\", \"y\": [1.7832583687428745, 1.940375168411234, 2.042739143952741, 2.0879697377966626, 2.2903171313089437, 2.5902673852212663, 2.856889833143331, 3.0711400145092753, 3.3687097108508657, 3.3687097108508657, 3.599623795211939], \"yaxis\": \"y\"}, {\"hoverlabel\": {\"namelength\": 0}, \"hovertemplate\": \"GICSSector=Consumer Discretionary<br>PayoutRatio=%{x}<br>DividendYield=%{y}\", \"legendgroup\": \"GICSSector=Consumer Discretionary\", \"marker\": {\"color\": \"#FFA15A\", \"symbol\": \"circle\"}, \"mode\": \"markers\", \"name\": \"GICSSector=Consumer Discretionary\", \"showlegend\": true, \"type\": \"scatter\", \"x\": [4.0, 23.3, 33.8, 47.9, 18.4, 45.1, 13.6, 53.7, 19.5, 10.8, 30.8, 108.8, 39.4, 55.2, 23.9, 55.0, 38.6, 57.7, 128.9, 18.7, 47.4, 56.1, 86.1, 71.2, 2.6, 62.1, 45.5, 38.8, 32.1, 48.5, 46.7, 13.4, 1.7, 21.6, 31.7, 50.3, 60.7, 42.3, 48.3, 33.8, 28.2, 68.6, 28.2, 42.0, 36.4], \"xaxis\": \"x\", \"y\": [0.1, 1.0, 2.6, 4.1, 1.7, 4.5, 1.1, 2.8, 0.7, 0.7, 0.9, 6.5, 5.5, 2.5, 4.2, 2.9, 3.7, 3.8, 2.7, 0.6, 2.0, 4.8, 10.2, 3.4, 0.3, 1.8, 9.6, 1.4, 1.0, 4.0, 2.6, 1.1, 0.2, 0.9, 2.6, 1.7, 5.2, 2.3, 2.4, 1.4, 1.3, 2.2, 2.9, 2.8, 1.4], \"yaxis\": \"y\"}, {\"alignmentgroup\": \"True\", \"hoverlabel\": {\"namelength\": 0}, \"hovertemplate\": \"GICSSector=Consumer Discretionary<br>PayoutRatio=%{x}\", \"legendgroup\": \"GICSSector=Consumer Discretionary\", \"marker\": {\"color\": \"#FFA15A\", \"symbol\": \"circle\"}, \"name\": \"GICSSector=Consumer Discretionary\", \"notched\": true, \"offsetgroup\": \"GICSSector=Consumer Discretionary\", \"showlegend\": false, \"type\": \"box\", \"x\": [4.0, 23.3, 33.8, 47.9, 18.4, 45.1, 13.6, 53.7, 19.5, 10.8, 30.8, 108.8, 39.4, 55.2, 23.9, 55.0, 38.6, 57.7, 128.9, 18.7, 47.4, 56.1, 86.1, 71.2, 2.6, 62.1, 45.5, 38.8, 32.1, 48.5, 46.7, 13.4, 1.7, 21.6, 31.7, 50.3, 60.7, 42.3, 48.3, 33.8, 28.2, 68.6, 28.2, 42.0, 36.4], \"xaxis\": \"x3\", \"yaxis\": \"y3\"}, {\"alignmentgroup\": \"True\", \"hoverlabel\": {\"namelength\": 0}, \"hovertemplate\": \"GICSSector=Consumer Discretionary<br>DividendYield=%{y}\", \"legendgroup\": \"GICSSector=Consumer Discretionary\", \"marker\": {\"color\": \"#FFA15A\", \"symbol\": \"circle\"}, \"name\": \"GICSSector=Consumer Discretionary\", \"offsetgroup\": \"GICSSector=Consumer Discretionary\", \"scalegroup\": \"y\", \"showlegend\": false, \"type\": \"violin\", \"xaxis\": \"x2\", \"y\": [0.1, 1.0, 2.6, 4.1, 1.7, 4.5, 1.1, 2.8, 0.7, 0.7, 0.9, 6.5, 5.5, 2.5, 4.2, 2.9, 3.7, 3.8, 2.7, 0.6, 2.0, 4.8, 10.2, 3.4, 0.3, 1.8, 9.6, 1.4, 1.0, 4.0, 2.6, 1.1, 0.2, 0.9, 2.6, 1.7, 5.2, 2.3, 2.4, 1.4, 1.3, 2.2, 2.9, 2.8, 1.4], \"yaxis\": \"y2\"}, {\"hoverlabel\": {\"namelength\": 0}, \"hovertemplate\": \"<b>OLS trendline</b><br>DividendYield = 0.048598 * PayoutRatio + 0.692321<br>R<sup>2</sup>=0.320716<br><br>GICSSector=Consumer Discretionary<br>PayoutRatio=%{x}<br>DividendYield=%{y} <b>(trend)</b>\", \"legendgroup\": \"GICSSector=Consumer Discretionary\", \"marker\": {\"color\": \"#FFA15A\", \"symbol\": \"circle\"}, \"mode\": \"lines\", \"name\": \"GICSSector=Consumer Discretionary\", \"showlegend\": false, \"type\": \"scatter\", \"x\": [1.7, 2.6, 4.0, 10.8, 13.4, 13.6, 18.4, 18.7, 19.5, 21.6, 23.3, 23.9, 28.2, 28.2, 30.8, 31.7, 32.1, 33.8, 33.8, 36.4, 38.6, 38.8, 39.4, 42.0, 42.3, 45.1, 45.5, 46.7, 47.4, 47.9, 48.3, 48.5, 50.3, 53.7, 55.0, 55.2, 56.1, 57.7, 60.7, 62.1, 68.6, 71.2, 86.1, 108.8, 128.9], \"xaxis\": \"x\", \"y\": [0.7749371213824362, 0.8186749600274924, 0.886711597919802, 1.2171752676824488, 1.3435290237681667, 1.353248543467068, 1.586517016240701, 1.601096295789053, 1.6399743745846587, 1.7420293314231232, 1.8246452488637848, 1.8538038079604888, 2.0627734814868686, 2.0627734814868686, 2.1891272375725865, 2.2328650762176423, 2.2523041156154457, 2.3349200330561066, 2.3349200330561066, 2.461273789141825, 2.56818850582974, 2.5779080255286413, 2.6070665846253456, 2.7334203407110635, 2.7479996202594155, 2.884072896044035, 2.9035119354418377, 2.9618290536352463, 2.9958473725814008, 3.020146171828654, 3.0395852112264565, 3.049304730925358, 3.13678040821547, 3.3020122430967938, 3.365189121139653, 3.3749086408385542, 3.418646479483611, 3.496402637074822, 3.642195432558342, 3.710232070450652, 4.026116460664946, 4.152470216750665, 4.876574434318816, 5.979739920144122, 6.956551649883711], \"yaxis\": \"y\"}, {\"hoverlabel\": {\"namelength\": 0}, \"hovertemplate\": \"GICSSector=Utilities<br>PayoutRatio=%{x}<br>DividendYield=%{y}\", \"legendgroup\": \"GICSSector=Utilities\", \"marker\": {\"color\": \"#19d3f3\", \"symbol\": \"circle\"}, \"mode\": \"markers\", \"name\": \"GICSSector=Utilities\", \"showlegend\": true, \"type\": \"scatter\", \"x\": [90.3, 63.8, 58.0, 65.7, 59.4, 48.6, 98.9, 71.8, 68.8, 235.2, 61.2, 81.9, 70.0, 79.9, 76.7, 60.3, 71.2, 6.6, 64.8, 66.7, 63.4, 52.9, 56.5, 65.9, 64.1], \"xaxis\": \"x\", \"y\": [3.1, 2.6, 2.4, 2.8, 1.6, 1.8, 3.8, 2.3, 3.1, 4.2, 2.9, 3.9, 3.0, 3.0, 2.4, 3.1, 3.1, 0.3, 3.1, 5.0, 2.9, 2.5, 3.9, 2.5, 2.4], \"yaxis\": \"y\"}, {\"alignmentgroup\": \"True\", \"hoverlabel\": {\"namelength\": 0}, \"hovertemplate\": \"GICSSector=Utilities<br>PayoutRatio=%{x}\", \"legendgroup\": \"GICSSector=Utilities\", \"marker\": {\"color\": \"#19d3f3\", \"symbol\": \"circle\"}, \"name\": \"GICSSector=Utilities\", \"notched\": true, \"offsetgroup\": \"GICSSector=Utilities\", \"showlegend\": false, \"type\": \"box\", \"x\": [90.3, 63.8, 58.0, 65.7, 59.4, 48.6, 98.9, 71.8, 68.8, 235.2, 61.2, 81.9, 70.0, 79.9, 76.7, 60.3, 71.2, 6.6, 64.8, 66.7, 63.4, 52.9, 56.5, 65.9, 64.1], \"xaxis\": \"x3\", \"yaxis\": \"y3\"}, {\"alignmentgroup\": \"True\", \"hoverlabel\": {\"namelength\": 0}, \"hovertemplate\": \"GICSSector=Utilities<br>DividendYield=%{y}\", \"legendgroup\": \"GICSSector=Utilities\", \"marker\": {\"color\": \"#19d3f3\", \"symbol\": \"circle\"}, \"name\": \"GICSSector=Utilities\", \"offsetgroup\": \"GICSSector=Utilities\", \"scalegroup\": \"y\", \"showlegend\": false, \"type\": \"violin\", \"xaxis\": \"x2\", \"y\": [3.1, 2.6, 2.4, 2.8, 1.6, 1.8, 3.8, 2.3, 3.1, 4.2, 2.9, 3.9, 3.0, 3.0, 2.4, 3.1, 3.1, 0.3, 3.1, 5.0, 2.9, 2.5, 3.9, 2.5, 2.4], \"yaxis\": \"y2\"}, {\"hoverlabel\": {\"namelength\": 0}, \"hovertemplate\": \"<b>OLS trendline</b><br>DividendYield = 0.013224 * PayoutRatio + 1.914469<br>R<sup>2</sup>=0.295476<br><br>GICSSector=Utilities<br>PayoutRatio=%{x}<br>DividendYield=%{y} <b>(trend)</b>\", \"legendgroup\": \"GICSSector=Utilities\", \"marker\": {\"color\": \"#19d3f3\", \"symbol\": \"circle\"}, \"mode\": \"lines\", \"name\": \"GICSSector=Utilities\", \"showlegend\": false, \"type\": \"scatter\", \"x\": [6.6, 48.6, 52.9, 56.5, 58.0, 59.4, 60.3, 61.2, 63.4, 63.8, 64.1, 64.8, 65.7, 65.9, 66.7, 68.8, 70.0, 71.2, 71.8, 76.7, 79.9, 81.9, 90.3, 98.9, 235.2], \"xaxis\": \"x\", \"y\": [2.001749750446284, 2.557174006694087, 2.614038871024219, 2.661646664416888, 2.6814832449971666, 2.6999973868720932, 2.7118993352202603, 2.7238012835684273, 2.75289493508617, 2.7581846899075773, 2.7621520060236326, 2.7714090769610964, 2.7833110253092634, 2.7859559027199676, 2.7965354123627826, 2.824306625175173, 2.8401758896393954, 2.8560451541036187, 2.86397978633573, 2.928779282897974, 2.9710973214692347, 2.997546095576273, 3.1086309468258335, 3.2223606754860983, 5.024844630880752], \"yaxis\": \"y\"}, {\"hoverlabel\": {\"namelength\": 0}, \"hovertemplate\": \"GICSSector=Financials<br>PayoutRatio=%{x}<br>DividendYield=%{y}\", \"legendgroup\": \"GICSSector=Financials\", \"marker\": {\"color\": \"#FF6692\", \"symbol\": \"circle\"}, \"mode\": \"markers\", \"name\": \"GICSSector=Financials\", \"showlegend\": true, \"type\": \"scatter\", \"x\": [25.7, 24.7, 19.3, 26.7, 29.3, 44.9, 40.1, 23.0, 29.7, 41.4, 49.8, 13.8, 34.2, 23.5, 35.8, 29.1, 24.6, 31.5, 56.4, 32.7, 18.5, 13.5, 43.2, 29.5, 14.3, 37.3, 16.4, 26.5, 43.8, 28.9, 104.6, 111.4, 32.5, 42.7, 20.0, 10.2, 28.7, 58.0, 27.7, 28.8, 26.3, 34.4, 57.1, 34.6, 53.4, 40.1, 38.1, 18.3, 38.1, 27.0, 37.7, 37.5, 15.4, 36.2, 35.5, 35.1, 41.8, 39.4, 38.4, 27.5], \"xaxis\": \"x\", \"y\": [2.0, 1.8, 1.4, 2.6, 0.9, 1.9, 1.9, 2.0, 2.5, 3.1, 2.9, 1.7, 1.1, 1.5, 2.0, 1.9, 2.6, 3.3, 1.4, 4.0, 2.0, 1.4, 2.2, 3.3, 0.7, 3.6, 1.8, 2.1, 3.9, 1.1, 7.1, 2.2, 2.6, 3.8, 2.3, 0.5, 2.5, 1.7, 3.7, 0.9, 2.7, 1.1, 1.8, 2.3, 4.2, 3.8, 4.1, 1.6, 3.5, 0.9, 2.9, 3.0, 2.4, 2.7, 2.4, 2.7, 3.6, 3.6, 1.4, 2.6], \"yaxis\": \"y\"}, {\"alignmentgroup\": \"True\", \"hoverlabel\": {\"namelength\": 0}, \"hovertemplate\": \"GICSSector=Financials<br>PayoutRatio=%{x}\", \"legendgroup\": \"GICSSector=Financials\", \"marker\": {\"color\": \"#FF6692\", \"symbol\": \"circle\"}, \"name\": \"GICSSector=Financials\", \"notched\": true, \"offsetgroup\": \"GICSSector=Financials\", \"showlegend\": false, \"type\": \"box\", \"x\": [25.7, 24.7, 19.3, 26.7, 29.3, 44.9, 40.1, 23.0, 29.7, 41.4, 49.8, 13.8, 34.2, 23.5, 35.8, 29.1, 24.6, 31.5, 56.4, 32.7, 18.5, 13.5, 43.2, 29.5, 14.3, 37.3, 16.4, 26.5, 43.8, 28.9, 104.6, 111.4, 32.5, 42.7, 20.0, 10.2, 28.7, 58.0, 27.7, 28.8, 26.3, 34.4, 57.1, 34.6, 53.4, 40.1, 38.1, 18.3, 38.1, 27.0, 37.7, 37.5, 15.4, 36.2, 35.5, 35.1, 41.8, 39.4, 38.4, 27.5], \"xaxis\": \"x3\", \"yaxis\": \"y3\"}, {\"alignmentgroup\": \"True\", \"hoverlabel\": {\"namelength\": 0}, \"hovertemplate\": \"GICSSector=Financials<br>DividendYield=%{y}\", \"legendgroup\": \"GICSSector=Financials\", \"marker\": {\"color\": \"#FF6692\", \"symbol\": \"circle\"}, \"name\": \"GICSSector=Financials\", \"offsetgroup\": \"GICSSector=Financials\", \"scalegroup\": \"y\", \"showlegend\": false, \"type\": \"violin\", \"xaxis\": \"x2\", \"y\": [2.0, 1.8, 1.4, 2.6, 0.9, 1.9, 1.9, 2.0, 2.5, 3.1, 2.9, 1.7, 1.1, 1.5, 2.0, 1.9, 2.6, 3.3, 1.4, 4.0, 2.0, 1.4, 2.2, 3.3, 0.7, 3.6, 1.8, 2.1, 3.9, 1.1, 7.1, 2.2, 2.6, 3.8, 2.3, 0.5, 2.5, 1.7, 3.7, 0.9, 2.7, 1.1, 1.8, 2.3, 4.2, 3.8, 4.1, 1.6, 3.5, 0.9, 2.9, 3.0, 2.4, 2.7, 2.4, 2.7, 3.6, 3.6, 1.4, 2.6], \"yaxis\": \"y2\"}, {\"hoverlabel\": {\"namelength\": 0}, \"hovertemplate\": \"<b>OLS trendline</b><br>DividendYield = 0.030783 * PayoutRatio + 1.350480<br>R<sup>2</sup>=0.229574<br><br>GICSSector=Financials<br>PayoutRatio=%{x}<br>DividendYield=%{y} <b>(trend)</b>\", \"legendgroup\": \"GICSSector=Financials\", \"marker\": {\"color\": \"#FF6692\", \"symbol\": \"circle\"}, \"mode\": \"lines\", \"name\": \"GICSSector=Financials\", \"showlegend\": false, \"type\": \"scatter\", \"x\": [10.2, 13.5, 13.8, 14.3, 15.4, 16.4, 18.3, 18.5, 19.3, 20.0, 23.0, 23.5, 24.6, 24.7, 25.7, 26.3, 26.5, 26.7, 27.0, 27.5, 27.7, 28.7, 28.8, 28.9, 29.1, 29.3, 29.5, 29.7, 31.5, 32.5, 32.7, 34.2, 34.4, 34.6, 35.1, 35.5, 35.8, 36.2, 37.3, 37.5, 37.7, 38.1, 38.1, 38.4, 39.4, 40.1, 40.1, 41.4, 41.8, 42.7, 43.2, 43.8, 44.9, 49.8, 53.4, 56.4, 57.1, 58.0, 104.6, 111.4], \"xaxis\": \"x\", \"y\": [1.664471164996401, 1.766056598468296, 1.775291637874832, 1.7906833702190585, 1.8245451813763567, 1.8553286460648097, 1.9138172289728708, 1.9199739219105614, 1.9446006936613238, 1.9661491189432407, 2.0584995130086, 2.0738912453528267, 2.107753056510125, 2.11083140297897, 2.141614867667423, 2.1600849464804948, 2.1662416394181854, 2.172398332355876, 2.181633371762412, 2.1970251041066384, 2.203181797044329, 2.233965261732782, 2.2370436082016276, 2.2401219546704727, 2.2462786476081633, 2.252435340545854, 2.2585920334835445, 2.264748726421235, 2.3201589628604506, 2.3509424275489037, 2.3570991204865943, 2.4032743175192737, 2.4094310104569647, 2.415587703394655, 2.4309794357388816, 2.443292821614263, 2.4525278610207986, 2.46484124689618, 2.4987030580534784, 2.5048597509911685, 2.5110164439288596, 2.523329829804241, 2.523329829804241, 2.5325648692107765, 2.5633483338992296, 2.584896759181147, 2.584896759181147, 2.6249152632761357, 2.637228649151517, 2.6649337673711244, 2.680325499715351, 2.698795578528423, 2.7326573896857216, 2.8834963666591413, 2.9943168395375723, 3.086667233602931, 3.1082156588848484, 3.135920777104456, 4.570430231586368, 4.779757791467848], \"yaxis\": \"y\"}, {\"hoverlabel\": {\"namelength\": 0}, \"hovertemplate\": \"GICSSector=Materials<br>PayoutRatio=%{x}<br>DividendYield=%{y}\", \"legendgroup\": \"GICSSector=Materials\", \"marker\": {\"color\": \"#B6E880\", \"symbol\": \"circle\"}, \"mode\": \"markers\", \"name\": \"GICSSector=Materials\", \"showlegend\": true, \"type\": \"scatter\", \"x\": [58.2, 27.3, 28.8, 32.2, 59.3, 37.0, 34.5, 35.1, 45.0, 49.7, 33.9, 42.4, 23.8, 18.7, 27.3, 37.8, 38.3, 27.4, 28.0, 27.7, 55.1], \"xaxis\": \"x\", \"y\": [2.2, 2.1, 0.6, 1.9, 2.6, 3.2, 1.0, 1.7, 2.0, 4.6, 1.8, 4.6, 0.7, 0.6, 3.0, 2.9, 1.6, 1.5, 0.8, 0.8, 4.7], \"yaxis\": \"y\"}, {\"alignmentgroup\": \"True\", \"hoverlabel\": {\"namelength\": 0}, \"hovertemplate\": \"GICSSector=Materials<br>PayoutRatio=%{x}\", \"legendgroup\": \"GICSSector=Materials\", \"marker\": {\"color\": \"#B6E880\", \"symbol\": \"circle\"}, \"name\": \"GICSSector=Materials\", \"notched\": true, \"offsetgroup\": \"GICSSector=Materials\", \"showlegend\": false, \"type\": \"box\", \"x\": [58.2, 27.3, 28.8, 32.2, 59.3, 37.0, 34.5, 35.1, 45.0, 49.7, 33.9, 42.4, 23.8, 18.7, 27.3, 37.8, 38.3, 27.4, 28.0, 27.7, 55.1], \"xaxis\": \"x3\", \"yaxis\": \"y3\"}, {\"alignmentgroup\": \"True\", \"hoverlabel\": {\"namelength\": 0}, \"hovertemplate\": \"GICSSector=Materials<br>DividendYield=%{y}\", \"legendgroup\": \"GICSSector=Materials\", \"marker\": {\"color\": \"#B6E880\", \"symbol\": \"circle\"}, \"name\": \"GICSSector=Materials\", \"offsetgroup\": \"GICSSector=Materials\", \"scalegroup\": \"y\", \"showlegend\": false, \"type\": \"violin\", \"xaxis\": \"x2\", \"y\": [2.2, 2.1, 0.6, 1.9, 2.6, 3.2, 1.0, 1.7, 2.0, 4.6, 1.8, 4.6, 0.7, 0.6, 3.0, 2.9, 1.6, 1.5, 0.8, 0.8, 4.7], \"yaxis\": \"y2\"}, {\"hoverlabel\": {\"namelength\": 0}, \"hovertemplate\": \"<b>OLS trendline</b><br>DividendYield = 0.073098 * PayoutRatio + -0.533461<br>R<sup>2</sup>=0.406281<br><br>GICSSector=Materials<br>PayoutRatio=%{x}<br>DividendYield=%{y} <b>(trend)</b>\", \"legendgroup\": \"GICSSector=Materials\", \"marker\": {\"color\": \"#B6E880\", \"symbol\": \"circle\"}, \"mode\": \"lines\", \"name\": \"GICSSector=Materials\", \"showlegend\": false, \"type\": \"scatter\", \"x\": [18.7, 23.8, 27.3, 27.3, 27.4, 27.7, 28.0, 28.8, 32.2, 33.9, 34.5, 35.1, 37.0, 37.8, 38.3, 42.4, 45.0, 49.7, 55.1, 58.2, 59.3], \"xaxis\": \"x\", \"y\": [0.8334708426712758, 1.2062703964330326, 1.462113227446003, 1.462113227446003, 1.469423022617802, 1.4913524081331995, 1.513281793648597, 1.57176015502299, 1.8202931908641615, 1.9445597087847466, 1.9884184798155415, 2.0322772508463363, 2.171163359110521, 2.2296417204849135, 2.2661906963439096, 2.5658922983876744, 2.755946972854453, 3.0995073459290126, 3.494236285206167, 3.7208399355319406, 3.8012476824217307], \"yaxis\": \"y\"}, {\"hoverlabel\": {\"namelength\": 0}, \"hovertemplate\": \"GICSSector=Real Estate<br>PayoutRatio=%{x}<br>DividendYield=%{y}\", \"legendgroup\": \"GICSSector=Real Estate\", \"marker\": {\"color\": \"#FF97FF\", \"symbol\": \"circle\"}, \"mode\": \"markers\", \"name\": \"GICSSector=Real Estate\", \"showlegend\": true, \"type\": \"scatter\", \"x\": [110.4, 69.0, 90.5, 111.1, 131.2, 103.2, 122.5, 102.5, 123.6, 71.8, 54.0, 237.5, 139.2, 389.7, 73.3, 95.4, 204.4, 133.1, 115.6, 159.2, 227.0, 17.1], \"xaxis\": \"x\", \"y\": [2.5, 2.9, 2.7, 2.9, 2.5, 2.6, 2.3, 3.0, 2.9, 3.9, 4.7, 7.1, 5.3, 10.3, 2.3, 3.3, 3.3, 3.3, 5.2, 4.0, 4.3, 4.0], \"yaxis\": \"y\"}, {\"alignmentgroup\": \"True\", \"hoverlabel\": {\"namelength\": 0}, \"hovertemplate\": \"GICSSector=Real Estate<br>PayoutRatio=%{x}\", \"legendgroup\": \"GICSSector=Real Estate\", \"marker\": {\"color\": \"#FF97FF\", \"symbol\": \"circle\"}, \"name\": \"GICSSector=Real Estate\", \"notched\": true, \"offsetgroup\": \"GICSSector=Real Estate\", \"showlegend\": false, \"type\": \"box\", \"x\": [110.4, 69.0, 90.5, 111.1, 131.2, 103.2, 122.5, 102.5, 123.6, 71.8, 54.0, 237.5, 139.2, 389.7, 73.3, 95.4, 204.4, 133.1, 115.6, 159.2, 227.0, 17.1], \"xaxis\": \"x3\", \"yaxis\": \"y3\"}, {\"alignmentgroup\": \"True\", \"hoverlabel\": {\"namelength\": 0}, \"hovertemplate\": \"GICSSector=Real Estate<br>DividendYield=%{y}\", \"legendgroup\": \"GICSSector=Real Estate\", \"marker\": {\"color\": \"#FF97FF\", \"symbol\": \"circle\"}, \"name\": \"GICSSector=Real Estate\", \"offsetgroup\": \"GICSSector=Real Estate\", \"scalegroup\": \"y\", \"showlegend\": false, \"type\": \"violin\", \"xaxis\": \"x2\", \"y\": [2.5, 2.9, 2.7, 2.9, 2.5, 2.6, 2.3, 3.0, 2.9, 3.9, 4.7, 7.1, 5.3, 10.3, 2.3, 3.3, 3.3, 3.3, 5.2, 4.0, 4.3, 4.0], \"yaxis\": \"y2\"}, {\"hoverlabel\": {\"namelength\": 0}, \"hovertemplate\": \"<b>OLS trendline</b><br>DividendYield = 0.017569 * PayoutRatio + 1.576235<br>R<sup>2</sup>=0.547578<br><br>GICSSector=Real Estate<br>PayoutRatio=%{x}<br>DividendYield=%{y} <b>(trend)</b>\", \"legendgroup\": \"GICSSector=Real Estate\", \"marker\": {\"color\": \"#FF97FF\", \"symbol\": \"circle\"}, \"mode\": \"lines\", \"name\": \"GICSSector=Real Estate\", \"showlegend\": false, \"type\": \"scatter\", \"x\": [17.1, 54.0, 69.0, 71.8, 73.3, 90.5, 95.4, 102.5, 103.2, 110.4, 111.1, 115.6, 122.5, 123.6, 131.2, 133.1, 139.2, 159.2, 204.4, 227.0, 237.5, 389.7], \"xaxis\": \"x\", \"y\": [1.87667224038637, 2.5249846731253203, 2.788526312450097, 2.837720751790722, 2.8640749157231995, 3.16626932881561, 3.252359597661704, 3.3771026402754316, 3.3894012501105877, 3.5159012369864806, 3.5281998468216367, 3.6072623386190696, 3.728491492708467, 3.747817879592284, 3.881345643516837, 3.9147275844979754, 4.021901184490051, 4.373290036923087, 5.167428843421748, 5.564498246671077, 5.7489773941984215, 8.42304656121382], \"yaxis\": \"y\"}, {\"hoverlabel\": {\"namelength\": 0}, \"hovertemplate\": \"GICSSector=Consumer Staples<br>PayoutRatio=%{x}<br>DividendYield=%{y}\", \"legendgroup\": \"GICSSector=Consumer Staples\", \"marker\": {\"color\": \"#FECB52\", \"symbol\": \"circle\"}, \"mode\": \"markers\", \"name\": \"GICSSector=Consumer Staples\", \"showlegend\": true, \"type\": \"scatter\", \"x\": [95.0, 58.5, 38.2, 157.8, 36.3, 61.3, 87.9, 64.2, 59.5, 72.2, 29.3, 34.0, 62.9, 48.4, 44.3, 72.8, 88.9, 69.7, 28.3, 24.3, 41.9, 39.6, 40.8, 42.7, 95.6, 47.1, 24.4, 47.1, 34.4], \"xaxis\": \"x\", \"y\": [6.8, 3.4, 1.0, 2.9, 1.2, 2.6, 2.9, 2.5, 3.1, 1.5, 0.8, 0.9, 3.8, 1.9, 2.0, 3.2, 3.6, 3.0, 2.3, 1.1, 1.4, 2.8, 2.0, 2.7, 5.6, 1.9, 1.9, 1.8, 3.2], \"yaxis\": \"y\"}, {\"alignmentgroup\": \"True\", \"hoverlabel\": {\"namelength\": 0}, \"hovertemplate\": \"GICSSector=Consumer Staples<br>PayoutRatio=%{x}\", \"legendgroup\": \"GICSSector=Consumer Staples\", \"marker\": {\"color\": \"#FECB52\", \"symbol\": \"circle\"}, \"name\": \"GICSSector=Consumer Staples\", \"notched\": true, \"offsetgroup\": \"GICSSector=Consumer Staples\", \"showlegend\": false, \"type\": \"box\", \"x\": [95.0, 58.5, 38.2, 157.8, 36.3, 61.3, 87.9, 64.2, 59.5, 72.2, 29.3, 34.0, 62.9, 48.4, 44.3, 72.8, 88.9, 69.7, 28.3, 24.3, 41.9, 39.6, 40.8, 42.7, 95.6, 47.1, 24.4, 47.1, 34.4], \"xaxis\": \"x3\", \"yaxis\": \"y3\"}, {\"alignmentgroup\": \"True\", \"hoverlabel\": {\"namelength\": 0}, \"hovertemplate\": \"GICSSector=Consumer Staples<br>DividendYield=%{y}\", \"legendgroup\": \"GICSSector=Consumer Staples\", \"marker\": {\"color\": \"#FECB52\", \"symbol\": \"circle\"}, \"name\": \"GICSSector=Consumer Staples\", \"offsetgroup\": \"GICSSector=Consumer Staples\", \"scalegroup\": \"y\", \"showlegend\": false, \"type\": \"violin\", \"xaxis\": \"x2\", \"y\": [6.8, 3.4, 1.0, 2.9, 1.2, 2.6, 2.9, 2.5, 3.1, 1.5, 0.8, 0.9, 3.8, 1.9, 2.0, 3.2, 3.6, 3.0, 2.3, 1.1, 1.4, 2.8, 2.0, 2.7, 5.6, 1.9, 1.9, 1.8, 3.2], \"yaxis\": \"y2\"}, {\"hoverlabel\": {\"namelength\": 0}, \"hovertemplate\": \"<b>OLS trendline</b><br>DividendYield = 0.027177 * PayoutRatio + 1.000975<br>R<sup>2</sup>=0.340327<br><br>GICSSector=Consumer Staples<br>PayoutRatio=%{x}<br>DividendYield=%{y} <b>(trend)</b>\", \"legendgroup\": \"GICSSector=Consumer Staples\", \"marker\": {\"color\": \"#FECB52\", \"symbol\": \"circle\"}, \"mode\": \"lines\", \"name\": \"GICSSector=Consumer Staples\", \"showlegend\": false, \"type\": \"scatter\", \"x\": [24.3, 24.4, 28.3, 29.3, 34.0, 34.4, 36.3, 38.2, 39.6, 40.8, 41.9, 42.7, 44.3, 47.1, 47.1, 48.4, 58.5, 59.5, 61.3, 62.9, 64.2, 69.7, 72.2, 72.8, 87.9, 88.9, 95.0, 95.6, 157.8], \"xaxis\": \"x\", \"y\": [1.6613807644524434, 1.6640984856607686, 1.7700896127854409, 1.7972668248686903, 1.924999721659962, 1.9358706064932618, 1.9875073094514353, 2.039144012409609, 2.077192109326158, 2.109804763826057, 2.1396996971176314, 2.161441466784231, 2.20492500611743, 2.281021199950528, 2.281021199950528, 2.3163515756587523, 2.59084141769957, 2.61801862978282, 2.6669376115326684, 2.7104211508658675, 2.7457515265740913, 2.895226193031963, 2.963169223240086, 2.9794755504900357, 3.3898514529471004, 3.41702866503035, 3.582809658738171, 3.59911598598812, 5.289538577566228], \"yaxis\": \"y\"}, {\"hoverlabel\": {\"namelength\": 0}, \"hovertemplate\": \"GICSSector=Energy<br>PayoutRatio=%{x}<br>DividendYield=%{y}\", \"legendgroup\": \"GICSSector=Energy\", \"marker\": {\"color\": \"#636efa\", \"symbol\": \"circle\"}, \"mode\": \"markers\", \"name\": \"GICSSector=Energy\", \"showlegend\": true, \"type\": \"scatter\", \"x\": [205.7, 14.7, 59.4, 12.3, 9.9, 19.2, 4.2, 9.0, 15.3, 80.2, 53.0, 24.4, 99.1, 16.9, 42.3, 61.6, 111.9, 28.4, 9.0, 55.9], \"xaxis\": \"x\", \"y\": [3.3, 1.6, 3.9, 1.7, 0.4, 2.1, 1.6, 0.6, 1.3, 4.8, 3.6, 2.4, 4.4, 1.7, 3.0, 7.3, 4.8, 3.0, 0.4, 3.6], \"yaxis\": \"y\"}, {\"alignmentgroup\": \"True\", \"hoverlabel\": {\"namelength\": 0}, \"hovertemplate\": \"GICSSector=Energy<br>PayoutRatio=%{x}\", \"legendgroup\": \"GICSSector=Energy\", \"marker\": {\"color\": \"#636efa\", \"symbol\": \"circle\"}, \"name\": \"GICSSector=Energy\", \"notched\": true, \"offsetgroup\": \"GICSSector=Energy\", \"showlegend\": false, \"type\": \"box\", \"x\": [205.7, 14.7, 59.4, 12.3, 9.9, 19.2, 4.2, 9.0, 15.3, 80.2, 53.0, 24.4, 99.1, 16.9, 42.3, 61.6, 111.9, 28.4, 9.0, 55.9], \"xaxis\": \"x3\", \"yaxis\": \"y3\"}, {\"alignmentgroup\": \"True\", \"hoverlabel\": {\"namelength\": 0}, \"hovertemplate\": \"GICSSector=Energy<br>DividendYield=%{y}\", \"legendgroup\": \"GICSSector=Energy\", \"marker\": {\"color\": \"#636efa\", \"symbol\": \"circle\"}, \"name\": \"GICSSector=Energy\", \"offsetgroup\": \"GICSSector=Energy\", \"scalegroup\": \"y\", \"showlegend\": false, \"type\": \"violin\", \"xaxis\": \"x2\", \"y\": [3.3, 1.6, 3.9, 1.7, 0.4, 2.1, 1.6, 0.6, 1.3, 4.8, 3.6, 2.4, 4.4, 1.7, 3.0, 7.3, 4.8, 3.0, 0.4, 3.6], \"yaxis\": \"y2\"}, {\"hoverlabel\": {\"namelength\": 0}, \"hovertemplate\": \"<b>OLS trendline</b><br>DividendYield = 0.020759 * PayoutRatio + 1.807211<br>R<sup>2</sup>=0.337773<br><br>GICSSector=Energy<br>PayoutRatio=%{x}<br>DividendYield=%{y} <b>(trend)</b>\", \"legendgroup\": \"GICSSector=Energy\", \"marker\": {\"color\": \"#636efa\", \"symbol\": \"circle\"}, \"mode\": \"lines\", \"name\": \"GICSSector=Energy\", \"showlegend\": false, \"type\": \"scatter\", \"x\": [4.2, 9.0, 9.0, 9.9, 12.3, 14.7, 15.3, 16.9, 19.2, 24.4, 28.4, 42.3, 53.0, 55.9, 59.4, 61.6, 80.2, 99.1, 111.9, 205.7], \"xaxis\": \"x\", \"y\": [1.8943991891012089, 1.9940428452142263, 1.9940428452142263, 2.012726030735417, 2.0625478587919255, 2.1123696868484343, 2.1248251438625614, 2.158039695900234, 2.2057856144543884, 2.3137329085768235, 2.396769288671005, 2.6853207094982845, 2.907443026250219, 2.9676444018185, 3.040301234400909, 3.0859712434527085, 3.472090410890651, 3.864437306835657, 4.130153723137037, 6.077356836345585], \"yaxis\": \"y\"}],\n",
       "                        {\"legend\": {\"tracegroupgap\": 0}, \"margin\": {\"t\": 60}, \"showlegend\": false, \"template\": {\"data\": {\"bar\": [{\"error_x\": {\"color\": \"#2a3f5f\"}, \"error_y\": {\"color\": \"#2a3f5f\"}, \"marker\": {\"line\": {\"color\": \"#E5ECF6\", \"width\": 0.5}}, \"type\": \"bar\"}], \"barpolar\": [{\"marker\": {\"line\": {\"color\": \"#E5ECF6\", \"width\": 0.5}}, \"type\": \"barpolar\"}], \"carpet\": [{\"aaxis\": {\"endlinecolor\": \"#2a3f5f\", \"gridcolor\": \"white\", \"linecolor\": \"white\", \"minorgridcolor\": \"white\", \"startlinecolor\": \"#2a3f5f\"}, \"baxis\": {\"endlinecolor\": \"#2a3f5f\", \"gridcolor\": \"white\", \"linecolor\": \"white\", \"minorgridcolor\": \"white\", \"startlinecolor\": \"#2a3f5f\"}, \"type\": \"carpet\"}], \"choropleth\": [{\"colorbar\": {\"outlinewidth\": 0, \"ticks\": \"\"}, \"type\": \"choropleth\"}], \"contour\": [{\"colorbar\": {\"outlinewidth\": 0, \"ticks\": \"\"}, \"colorscale\": [[0.0, \"#0d0887\"], [0.1111111111111111, \"#46039f\"], [0.2222222222222222, \"#7201a8\"], [0.3333333333333333, \"#9c179e\"], [0.4444444444444444, \"#bd3786\"], [0.5555555555555556, \"#d8576b\"], [0.6666666666666666, \"#ed7953\"], [0.7777777777777778, \"#fb9f3a\"], [0.8888888888888888, \"#fdca26\"], [1.0, \"#f0f921\"]], \"type\": \"contour\"}], \"contourcarpet\": [{\"colorbar\": {\"outlinewidth\": 0, \"ticks\": \"\"}, \"type\": \"contourcarpet\"}], \"heatmap\": [{\"colorbar\": {\"outlinewidth\": 0, \"ticks\": \"\"}, \"colorscale\": [[0.0, \"#0d0887\"], [0.1111111111111111, \"#46039f\"], [0.2222222222222222, \"#7201a8\"], [0.3333333333333333, \"#9c179e\"], [0.4444444444444444, \"#bd3786\"], [0.5555555555555556, \"#d8576b\"], [0.6666666666666666, \"#ed7953\"], [0.7777777777777778, \"#fb9f3a\"], [0.8888888888888888, \"#fdca26\"], [1.0, \"#f0f921\"]], \"type\": \"heatmap\"}], \"heatmapgl\": [{\"colorbar\": {\"outlinewidth\": 0, \"ticks\": \"\"}, \"colorscale\": [[0.0, \"#0d0887\"], [0.1111111111111111, \"#46039f\"], [0.2222222222222222, \"#7201a8\"], [0.3333333333333333, \"#9c179e\"], [0.4444444444444444, \"#bd3786\"], [0.5555555555555556, \"#d8576b\"], [0.6666666666666666, \"#ed7953\"], [0.7777777777777778, \"#fb9f3a\"], [0.8888888888888888, \"#fdca26\"], [1.0, \"#f0f921\"]], \"type\": \"heatmapgl\"}], \"histogram\": [{\"marker\": {\"colorbar\": {\"outlinewidth\": 0, \"ticks\": \"\"}}, \"type\": \"histogram\"}], \"histogram2d\": [{\"colorbar\": {\"outlinewidth\": 0, \"ticks\": \"\"}, \"colorscale\": [[0.0, \"#0d0887\"], [0.1111111111111111, \"#46039f\"], [0.2222222222222222, \"#7201a8\"], [0.3333333333333333, \"#9c179e\"], [0.4444444444444444, \"#bd3786\"], [0.5555555555555556, \"#d8576b\"], [0.6666666666666666, \"#ed7953\"], [0.7777777777777778, \"#fb9f3a\"], [0.8888888888888888, \"#fdca26\"], [1.0, \"#f0f921\"]], \"type\": \"histogram2d\"}], \"histogram2dcontour\": [{\"colorbar\": {\"outlinewidth\": 0, \"ticks\": \"\"}, \"colorscale\": [[0.0, \"#0d0887\"], [0.1111111111111111, \"#46039f\"], [0.2222222222222222, \"#7201a8\"], [0.3333333333333333, \"#9c179e\"], [0.4444444444444444, \"#bd3786\"], [0.5555555555555556, \"#d8576b\"], [0.6666666666666666, \"#ed7953\"], [0.7777777777777778, \"#fb9f3a\"], [0.8888888888888888, \"#fdca26\"], [1.0, \"#f0f921\"]], \"type\": \"histogram2dcontour\"}], \"mesh3d\": [{\"colorbar\": {\"outlinewidth\": 0, \"ticks\": \"\"}, \"type\": \"mesh3d\"}], \"parcoords\": [{\"line\": {\"colorbar\": {\"outlinewidth\": 0, \"ticks\": \"\"}}, \"type\": \"parcoords\"}], \"pie\": [{\"automargin\": true, \"type\": \"pie\"}], \"scatter\": [{\"marker\": {\"colorbar\": {\"outlinewidth\": 0, \"ticks\": \"\"}}, \"type\": \"scatter\"}], \"scatter3d\": [{\"line\": {\"colorbar\": {\"outlinewidth\": 0, \"ticks\": \"\"}}, \"marker\": {\"colorbar\": {\"outlinewidth\": 0, \"ticks\": \"\"}}, \"type\": \"scatter3d\"}], \"scattercarpet\": [{\"marker\": {\"colorbar\": {\"outlinewidth\": 0, \"ticks\": \"\"}}, \"type\": \"scattercarpet\"}], \"scattergeo\": [{\"marker\": {\"colorbar\": {\"outlinewidth\": 0, \"ticks\": \"\"}}, \"type\": \"scattergeo\"}], \"scattergl\": [{\"marker\": {\"colorbar\": {\"outlinewidth\": 0, \"ticks\": \"\"}}, \"type\": \"scattergl\"}], \"scattermapbox\": [{\"marker\": {\"colorbar\": {\"outlinewidth\": 0, \"ticks\": \"\"}}, \"type\": \"scattermapbox\"}], \"scatterpolar\": [{\"marker\": {\"colorbar\": {\"outlinewidth\": 0, \"ticks\": \"\"}}, \"type\": \"scatterpolar\"}], \"scatterpolargl\": [{\"marker\": {\"colorbar\": {\"outlinewidth\": 0, \"ticks\": \"\"}}, \"type\": \"scatterpolargl\"}], \"scatterternary\": [{\"marker\": {\"colorbar\": {\"outlinewidth\": 0, \"ticks\": \"\"}}, \"type\": \"scatterternary\"}], \"surface\": [{\"colorbar\": {\"outlinewidth\": 0, \"ticks\": \"\"}, \"colorscale\": [[0.0, \"#0d0887\"], [0.1111111111111111, \"#46039f\"], [0.2222222222222222, \"#7201a8\"], [0.3333333333333333, \"#9c179e\"], [0.4444444444444444, \"#bd3786\"], [0.5555555555555556, \"#d8576b\"], [0.6666666666666666, \"#ed7953\"], [0.7777777777777778, \"#fb9f3a\"], [0.8888888888888888, \"#fdca26\"], [1.0, \"#f0f921\"]], \"type\": \"surface\"}], \"table\": [{\"cells\": {\"fill\": {\"color\": \"#EBF0F8\"}, \"line\": {\"color\": \"white\"}}, \"header\": {\"fill\": {\"color\": \"#C8D4E3\"}, \"line\": {\"color\": \"white\"}}, \"type\": \"table\"}]}, \"layout\": {\"annotationdefaults\": {\"arrowcolor\": \"#2a3f5f\", \"arrowhead\": 0, \"arrowwidth\": 1}, \"coloraxis\": {\"colorbar\": {\"outlinewidth\": 0, \"ticks\": \"\"}}, \"colorscale\": {\"diverging\": [[0, \"#8e0152\"], [0.1, \"#c51b7d\"], [0.2, \"#de77ae\"], [0.3, \"#f1b6da\"], [0.4, \"#fde0ef\"], [0.5, \"#f7f7f7\"], [0.6, \"#e6f5d0\"], [0.7, \"#b8e186\"], [0.8, \"#7fbc41\"], [0.9, \"#4d9221\"], [1, \"#276419\"]], \"sequential\": [[0.0, \"#0d0887\"], [0.1111111111111111, \"#46039f\"], [0.2222222222222222, \"#7201a8\"], [0.3333333333333333, \"#9c179e\"], [0.4444444444444444, \"#bd3786\"], [0.5555555555555556, \"#d8576b\"], [0.6666666666666666, \"#ed7953\"], [0.7777777777777778, \"#fb9f3a\"], [0.8888888888888888, \"#fdca26\"], [1.0, \"#f0f921\"]], \"sequentialminus\": [[0.0, \"#0d0887\"], [0.1111111111111111, \"#46039f\"], [0.2222222222222222, \"#7201a8\"], [0.3333333333333333, \"#9c179e\"], [0.4444444444444444, \"#bd3786\"], [0.5555555555555556, \"#d8576b\"], [0.6666666666666666, \"#ed7953\"], [0.7777777777777778, \"#fb9f3a\"], [0.8888888888888888, \"#fdca26\"], [1.0, \"#f0f921\"]]}, \"colorway\": [\"#636efa\", \"#EF553B\", \"#00cc96\", \"#ab63fa\", \"#FFA15A\", \"#19d3f3\", \"#FF6692\", \"#B6E880\", \"#FF97FF\", \"#FECB52\"], \"font\": {\"color\": \"#2a3f5f\"}, \"geo\": {\"bgcolor\": \"white\", \"lakecolor\": \"white\", \"landcolor\": \"#E5ECF6\", \"showlakes\": true, \"showland\": true, \"subunitcolor\": \"white\"}, \"hoverlabel\": {\"align\": \"left\"}, \"hovermode\": \"closest\", \"mapbox\": {\"style\": \"light\"}, \"paper_bgcolor\": \"white\", \"plot_bgcolor\": \"#E5ECF6\", \"polar\": {\"angularaxis\": {\"gridcolor\": \"white\", \"linecolor\": \"white\", \"ticks\": \"\"}, \"bgcolor\": \"#E5ECF6\", \"radialaxis\": {\"gridcolor\": \"white\", \"linecolor\": \"white\", \"ticks\": \"\"}}, \"scene\": {\"xaxis\": {\"backgroundcolor\": \"#E5ECF6\", \"gridcolor\": \"white\", \"gridwidth\": 2, \"linecolor\": \"white\", \"showbackground\": true, \"ticks\": \"\", \"zerolinecolor\": \"white\"}, \"yaxis\": {\"backgroundcolor\": \"#E5ECF6\", \"gridcolor\": \"white\", \"gridwidth\": 2, \"linecolor\": \"white\", \"showbackground\": true, \"ticks\": \"\", \"zerolinecolor\": \"white\"}, \"zaxis\": {\"backgroundcolor\": \"#E5ECF6\", \"gridcolor\": \"white\", \"gridwidth\": 2, \"linecolor\": \"white\", \"showbackground\": true, \"ticks\": \"\", \"zerolinecolor\": \"white\"}}, \"shapedefaults\": {\"line\": {\"color\": \"#2a3f5f\"}}, \"ternary\": {\"aaxis\": {\"gridcolor\": \"white\", \"linecolor\": \"white\", \"ticks\": \"\"}, \"baxis\": {\"gridcolor\": \"white\", \"linecolor\": \"white\", \"ticks\": \"\"}, \"bgcolor\": \"#E5ECF6\", \"caxis\": {\"gridcolor\": \"white\", \"linecolor\": \"white\", \"ticks\": \"\"}}, \"title\": {\"x\": 0.05}, \"xaxis\": {\"automargin\": true, \"gridcolor\": \"white\", \"linecolor\": \"white\", \"ticks\": \"\", \"title\": {\"standoff\": 15}, \"zerolinecolor\": \"white\", \"zerolinewidth\": 2}, \"yaxis\": {\"automargin\": true, \"gridcolor\": \"white\", \"linecolor\": \"white\", \"ticks\": \"\", \"title\": {\"standoff\": 15}, \"zerolinecolor\": \"white\", \"zerolinewidth\": 2}}}, \"xaxis\": {\"anchor\": \"y\", \"domain\": [0.0, 0.7363], \"title\": {\"text\": \"PayoutRatio\"}}, \"xaxis2\": {\"anchor\": \"y2\", \"domain\": [0.7413, 1.0], \"matches\": \"x2\", \"showgrid\": false, \"showline\": false, \"showticklabels\": false, \"ticks\": \"\"}, \"xaxis3\": {\"anchor\": \"y3\", \"domain\": [0.0, 0.7363], \"matches\": \"x\", \"showgrid\": true, \"showticklabels\": false}, \"xaxis4\": {\"anchor\": \"y4\", \"domain\": [0.7413, 1.0], \"matches\": \"x2\", \"showgrid\": false, \"showline\": false, \"showticklabels\": false, \"ticks\": \"\"}, \"yaxis\": {\"anchor\": \"x\", \"domain\": [0.0, 0.7326], \"title\": {\"text\": \"DividendYield\"}}, \"yaxis2\": {\"anchor\": \"x2\", \"domain\": [0.0, 0.7326], \"matches\": \"y\", \"showgrid\": true, \"showticklabels\": false}, \"yaxis3\": {\"anchor\": \"x3\", \"domain\": [0.7426, 1.0], \"matches\": \"y3\", \"showgrid\": false, \"showline\": false, \"showticklabels\": false, \"ticks\": \"\"}, \"yaxis4\": {\"anchor\": \"x4\", \"domain\": [0.7426, 1.0], \"matches\": \"y3\", \"showgrid\": true, \"showline\": false, \"showticklabels\": false, \"ticks\": \"\"}},\n",
       "                        {\"responsive\": true}\n",
       "                    ).then(function(){\n",
       "                            \n",
       "var gd = document.getElementById('904bed82-87a0-4ad0-84b0-78bcac8d7a83');\n",
       "var x = new MutationObserver(function (mutations, observer) {{\n",
       "        var display = window.getComputedStyle(gd).display;\n",
       "        if (!display || display === 'none') {{\n",
       "            console.log([gd, 'removed!']);\n",
       "            Plotly.purge(gd);\n",
       "            observer.disconnect();\n",
       "        }}\n",
       "}});\n",
       "\n",
       "// Listen for the removal of the full notebook cells\n",
       "var notebookContainer = gd.closest('#notebook-container');\n",
       "if (notebookContainer) {{\n",
       "    x.observe(notebookContainer, {childList: true});\n",
       "}}\n",
       "\n",
       "// Listen for the clearing of the current output cell\n",
       "var outputEl = gd.closest('.output');\n",
       "if (outputEl) {{\n",
       "    x.observe(outputEl, {childList: true});\n",
       "}}\n",
       "\n",
       "                        })\n",
       "                };\n",
       "                });\n",
       "            </script>\n",
       "        </div>"
      ]
     },
     "metadata": {},
     "output_type": "display_data"
    }
   ],
   "source": [
    "# we can see the difference is huge among sectors, pretty interesting\n",
    "fig = px.scatter(fullDataNoOutliers, x='PayoutRatio', y='DividendYield', color='GICSSector', marginal_y=\"violin\",\n",
    "           marginal_x=\"box\", trendline=\"ols\")\n",
    "fig.layout.update(showlegend=False)\n",
    "fig.show()"
   ]
  },
  {
   "cell_type": "code",
   "execution_count": 23,
   "metadata": {},
   "outputs": [
    {
     "data": {
      "application/vnd.plotly.v1+json": {
       "config": {
        "plotlyServerURL": "https://plot.ly"
       },
       "data": [
        {
         "alignmentgroup": "True",
         "bingroup": "x",
         "hoverlabel": {
          "namelength": 0
         },
         "hovertemplate": "BetaTo1=>1<br>GICSSector=%{x}<br>count of BetaTo1=%{y}",
         "legendgroup": "BetaTo1=>1",
         "marker": {
          "color": "rgb(168, 219, 217)"
         },
         "name": "BetaTo1=>1",
         "offsetgroup": "BetaTo1=>1",
         "orientation": "v",
         "showlegend": true,
         "type": "histogram",
         "x": [
          "Industrials",
          "Communication Services",
          "Health Care",
          "Materials",
          "Information Technology",
          "Industrials",
          "Financials",
          "Financials",
          "Industrials",
          "Information Technology",
          "Information Technology",
          "Information Technology",
          "Information Technology",
          "Consumer Discretionary",
          "Industrials",
          "Information Technology",
          "Energy",
          "Financials",
          "Consumer Discretionary",
          "Financials",
          "Industrials",
          "Consumer Discretionary",
          "Information Technology",
          "Financials",
          "Consumer Discretionary",
          "Industrials",
          "Materials",
          "Materials",
          "Financials",
          "Energy",
          "Information Technology",
          "Financials",
          "Financials",
          "Energy",
          "Energy",
          "Information Technology",
          "Industrials",
          "Industrials",
          "Industrials",
          "Industrials",
          "Energy",
          "Energy",
          "Financials",
          "Industrials",
          "Information Technology",
          "Financials",
          "Materials",
          "Industrials",
          "Consumer Discretionary",
          "Industrials",
          "Energy",
          "Consumer Staples",
          "Industrials",
          "Industrials",
          "Industrials",
          "Materials",
          "Industrials",
          "Industrials",
          "Financials",
          "Materials",
          "Consumer Discretionary",
          "Consumer Discretionary",
          "Information Technology",
          "Financials",
          "Industrials",
          "Energy",
          "Consumer Discretionary",
          "Consumer Discretionary",
          "Consumer Discretionary",
          "Consumer Discretionary",
          "Energy",
          "Information Technology",
          "Industrials",
          "Information Technology",
          "Materials",
          "Information Technology",
          "Financials",
          "Financials",
          "Information Technology",
          "Industrials",
          "Financials",
          "Information Technology",
          "Consumer Discretionary",
          "Consumer Discretionary",
          "Information Technology",
          "Consumer Discretionary",
          "Financials",
          "Consumer Discretionary",
          "Materials",
          "Consumer Discretionary",
          "Energy",
          "Energy",
          "Consumer Discretionary",
          "Industrials",
          "Information Technology",
          "Information Technology",
          "Financials",
          "Information Technology",
          "Information Technology",
          "Financials",
          "Financials",
          "Materials",
          "Financials",
          "Information Technology",
          "Consumer Discretionary",
          "Consumer Discretionary",
          "Financials",
          "Materials",
          "Information Technology",
          "Information Technology",
          "Materials",
          "Industrials",
          "Industrials",
          "Health Care",
          "Energy",
          "Energy",
          "Consumer Discretionary",
          "Financials",
          "Financials",
          "Consumer Discretionary",
          "Industrials",
          "Financials",
          "Financials",
          "Industrials",
          "Industrials",
          "Consumer Discretionary",
          "Consumer Discretionary",
          "Information Technology",
          "Information Technology",
          "Industrials",
          "Industrials",
          "Financials",
          "Financials",
          "Financials",
          "Consumer Discretionary",
          "Information Technology",
          "Information Technology",
          "Health Care",
          "Consumer Discretionary",
          "Industrials",
          "Industrials",
          "Industrials",
          "Financials",
          "Consumer Discretionary",
          "Energy",
          "Information Technology",
          "Industrials",
          "Materials",
          "Consumer Discretionary",
          "Consumer Discretionary",
          "Information Technology",
          "Information Technology",
          "Industrials"
         ],
         "xaxis": "x",
         "y": [
          ">1",
          ">1",
          ">1",
          ">1",
          ">1",
          ">1",
          ">1",
          ">1",
          ">1",
          ">1",
          ">1",
          ">1",
          ">1",
          ">1",
          ">1",
          ">1",
          ">1",
          ">1",
          ">1",
          ">1",
          ">1",
          ">1",
          ">1",
          ">1",
          ">1",
          ">1",
          ">1",
          ">1",
          ">1",
          ">1",
          ">1",
          ">1",
          ">1",
          ">1",
          ">1",
          ">1",
          ">1",
          ">1",
          ">1",
          ">1",
          ">1",
          ">1",
          ">1",
          ">1",
          ">1",
          ">1",
          ">1",
          ">1",
          ">1",
          ">1",
          ">1",
          ">1",
          ">1",
          ">1",
          ">1",
          ">1",
          ">1",
          ">1",
          ">1",
          ">1",
          ">1",
          ">1",
          ">1",
          ">1",
          ">1",
          ">1",
          ">1",
          ">1",
          ">1",
          ">1",
          ">1",
          ">1",
          ">1",
          ">1",
          ">1",
          ">1",
          ">1",
          ">1",
          ">1",
          ">1",
          ">1",
          ">1",
          ">1",
          ">1",
          ">1",
          ">1",
          ">1",
          ">1",
          ">1",
          ">1",
          ">1",
          ">1",
          ">1",
          ">1",
          ">1",
          ">1",
          ">1",
          ">1",
          ">1",
          ">1",
          ">1",
          ">1",
          ">1",
          ">1",
          ">1",
          ">1",
          ">1",
          ">1",
          ">1",
          ">1",
          ">1",
          ">1",
          ">1",
          ">1",
          ">1",
          ">1",
          ">1",
          ">1",
          ">1",
          ">1",
          ">1",
          ">1",
          ">1",
          ">1",
          ">1",
          ">1",
          ">1",
          ">1",
          ">1",
          ">1",
          ">1",
          ">1",
          ">1",
          ">1",
          ">1",
          ">1",
          ">1",
          ">1",
          ">1",
          ">1",
          ">1",
          ">1",
          ">1",
          ">1",
          ">1",
          ">1",
          ">1",
          ">1",
          ">1",
          ">1",
          ">1",
          ">1",
          ">1"
         ],
         "yaxis": "y"
        },
        {
         "alignmentgroup": "True",
         "bingroup": "x",
         "hoverlabel": {
          "namelength": 0
         },
         "hovertemplate": "BetaTo1=<=1<br>GICSSector=%{x}<br>count of BetaTo1=%{y}",
         "legendgroup": "BetaTo1=<=1",
         "marker": {
          "color": "rgb(255, 221, 154)"
         },
         "name": "BetaTo1=<=1",
         "offsetgroup": "BetaTo1=<=1",
         "orientation": "v",
         "showlegend": true,
         "type": "histogram",
         "x": [
          "Health Care",
          "Information Technology",
          "Consumer Discretionary",
          "Utilities",
          "Financials",
          "Materials",
          "Industrials",
          "Real Estate",
          "Industrials",
          "Utilities",
          "Financials",
          "Consumer Staples",
          "Utilities",
          "Utilities",
          "Utilities",
          "Health Care",
          "Health Care",
          "Financials",
          "Industrials",
          "Real Estate",
          "Consumer Staples",
          "Financials",
          "Financials",
          "Utilities",
          "Communication Services",
          "Real Estate",
          "Materials",
          "Financials",
          "Health Care",
          "Financials",
          "Consumer Discretionary",
          "Real Estate",
          "Health Care",
          "Information Technology",
          "Consumer Staples",
          "Industrials",
          "Energy",
          "Consumer Staples",
          "Health Care",
          "Financials",
          "Communication Services",
          "Utilities",
          "Health Care",
          "Energy",
          "Financials",
          "Consumer Staples",
          "Financials",
          "Information Technology",
          "Consumer Staples",
          "Financials",
          "Utilities",
          "Consumer Staples",
          "Information Technology",
          "Consumer Staples",
          "Communication Services",
          "Financials",
          "Consumer Staples",
          "Utilities",
          "Consumer Staples",
          "Health Care",
          "Consumer Staples",
          "Health Care",
          "Consumer Discretionary",
          "Health Care",
          "Consumer Discretionary",
          "Consumer Discretionary",
          "Utilities",
          "Utilities",
          "Real Estate",
          "Utilities",
          "Materials",
          "Utilities",
          "Real Estate",
          "Real Estate",
          "Utilities",
          "Utilities",
          "Financials",
          "Utilities",
          "Consumer Discretionary",
          "Real Estate",
          "Energy",
          "Real Estate",
          "Information Technology",
          "Financials",
          "Utilities",
          "Financials",
          "Information Technology",
          "Consumer Discretionary",
          "Consumer Discretionary",
          "Industrials",
          "Consumer Staples",
          "Consumer Discretionary",
          "Health Care",
          "Financials",
          "Health Care",
          "Real Estate",
          "Consumer Staples",
          "Consumer Discretionary",
          "Industrials",
          "Consumer Staples",
          "Real Estate",
          "Health Care",
          "Financials",
          "Industrials",
          "Industrials",
          "Financials",
          "Information Technology",
          "Communication Services",
          "Real Estate",
          "Information Technology",
          "Consumer Staples",
          "Financials",
          "Consumer Staples",
          "Consumer Staples",
          "Real Estate",
          "Energy",
          "Consumer Staples",
          "Consumer Staples",
          "Consumer Discretionary",
          "Materials",
          "Industrials",
          "Financials",
          "Financials",
          "Real Estate",
          "Financials",
          "Materials",
          "Consumer Staples",
          "Health Care",
          "Health Care",
          "Health Care",
          "Consumer Staples",
          "Consumer Staples",
          "Information Technology",
          "Financials",
          "Communication Services",
          "Communication Services",
          "Industrials",
          "Utilities",
          "Energy",
          "Communication Services",
          "Energy",
          "Industrials",
          "Information Technology",
          "Financials",
          "Consumer Staples",
          "Health Care",
          "Consumer Staples",
          "Utilities",
          "Materials",
          "Utilities",
          "Real Estate",
          "Utilities",
          "Real Estate",
          "Consumer Discretionary",
          "Information Technology",
          "Health Care",
          "Industrials",
          "Real Estate",
          "Real Estate",
          "Industrials",
          "Health Care",
          "Industrials",
          "Industrials",
          "Materials",
          "Utilities",
          "Materials",
          "Real Estate",
          "Real Estate",
          "Utilities",
          "Industrials",
          "Financials",
          "Consumer Discretionary",
          "Health Care",
          "Financials",
          "Consumer Staples",
          "Consumer Discretionary",
          "Health Care",
          "Consumer Discretionary",
          "Information Technology",
          "Consumer Discretionary",
          "Financials",
          "Consumer Staples",
          "Financials",
          "Health Care",
          "Real Estate",
          "Industrials",
          "Communication Services",
          "Communication Services",
          "Real Estate",
          "Materials",
          "Consumer Staples",
          "Consumer Staples",
          "Communication Services",
          "Industrials",
          "Utilities",
          "Financials",
          "Information Technology",
          "Financials",
          "Utilities",
          "Consumer Discretionary",
          "Financials",
          "Health Care"
         ],
         "xaxis": "x",
         "y": [
          "<=1",
          "<=1",
          "<=1",
          "<=1",
          "<=1",
          "<=1",
          "<=1",
          "<=1",
          "<=1",
          "<=1",
          "<=1",
          "<=1",
          "<=1",
          "<=1",
          "<=1",
          "<=1",
          "<=1",
          "<=1",
          "<=1",
          "<=1",
          "<=1",
          "<=1",
          "<=1",
          "<=1",
          "<=1",
          "<=1",
          "<=1",
          "<=1",
          "<=1",
          "<=1",
          "<=1",
          "<=1",
          "<=1",
          "<=1",
          "<=1",
          "<=1",
          "<=1",
          "<=1",
          "<=1",
          "<=1",
          "<=1",
          "<=1",
          "<=1",
          "<=1",
          "<=1",
          "<=1",
          "<=1",
          "<=1",
          "<=1",
          "<=1",
          "<=1",
          "<=1",
          "<=1",
          "<=1",
          "<=1",
          "<=1",
          "<=1",
          "<=1",
          "<=1",
          "<=1",
          "<=1",
          "<=1",
          "<=1",
          "<=1",
          "<=1",
          "<=1",
          "<=1",
          "<=1",
          "<=1",
          "<=1",
          "<=1",
          "<=1",
          "<=1",
          "<=1",
          "<=1",
          "<=1",
          "<=1",
          "<=1",
          "<=1",
          "<=1",
          "<=1",
          "<=1",
          "<=1",
          "<=1",
          "<=1",
          "<=1",
          "<=1",
          "<=1",
          "<=1",
          "<=1",
          "<=1",
          "<=1",
          "<=1",
          "<=1",
          "<=1",
          "<=1",
          "<=1",
          "<=1",
          "<=1",
          "<=1",
          "<=1",
          "<=1",
          "<=1",
          "<=1",
          "<=1",
          "<=1",
          "<=1",
          "<=1",
          "<=1",
          "<=1",
          "<=1",
          "<=1",
          "<=1",
          "<=1",
          "<=1",
          "<=1",
          "<=1",
          "<=1",
          "<=1",
          "<=1",
          "<=1",
          "<=1",
          "<=1",
          "<=1",
          "<=1",
          "<=1",
          "<=1",
          "<=1",
          "<=1",
          "<=1",
          "<=1",
          "<=1",
          "<=1",
          "<=1",
          "<=1",
          "<=1",
          "<=1",
          "<=1",
          "<=1",
          "<=1",
          "<=1",
          "<=1",
          "<=1",
          "<=1",
          "<=1",
          "<=1",
          "<=1",
          "<=1",
          "<=1",
          "<=1",
          "<=1",
          "<=1",
          "<=1",
          "<=1",
          "<=1",
          "<=1",
          "<=1",
          "<=1",
          "<=1",
          "<=1",
          "<=1",
          "<=1",
          "<=1",
          "<=1",
          "<=1",
          "<=1",
          "<=1",
          "<=1",
          "<=1",
          "<=1",
          "<=1",
          "<=1",
          "<=1",
          "<=1",
          "<=1",
          "<=1",
          "<=1",
          "<=1",
          "<=1",
          "<=1",
          "<=1",
          "<=1",
          "<=1",
          "<=1",
          "<=1",
          "<=1",
          "<=1",
          "<=1",
          "<=1",
          "<=1",
          "<=1",
          "<=1",
          "<=1",
          "<=1",
          "<=1",
          "<=1",
          "<=1",
          "<=1",
          "<=1",
          "<=1",
          "<=1",
          "<=1"
         ],
         "yaxis": "y"
        }
       ],
       "layout": {
        "barmode": "group",
        "height": 400,
        "legend": {
         "tracegroupgap": 0
        },
        "margin": {
         "t": 60
        },
        "template": {
         "data": {
          "bar": [
           {
            "error_x": {
             "color": "#2a3f5f"
            },
            "error_y": {
             "color": "#2a3f5f"
            },
            "marker": {
             "line": {
              "color": "#E5ECF6",
              "width": 0.5
             }
            },
            "type": "bar"
           }
          ],
          "barpolar": [
           {
            "marker": {
             "line": {
              "color": "#E5ECF6",
              "width": 0.5
             }
            },
            "type": "barpolar"
           }
          ],
          "carpet": [
           {
            "aaxis": {
             "endlinecolor": "#2a3f5f",
             "gridcolor": "white",
             "linecolor": "white",
             "minorgridcolor": "white",
             "startlinecolor": "#2a3f5f"
            },
            "baxis": {
             "endlinecolor": "#2a3f5f",
             "gridcolor": "white",
             "linecolor": "white",
             "minorgridcolor": "white",
             "startlinecolor": "#2a3f5f"
            },
            "type": "carpet"
           }
          ],
          "choropleth": [
           {
            "colorbar": {
             "outlinewidth": 0,
             "ticks": ""
            },
            "type": "choropleth"
           }
          ],
          "contour": [
           {
            "colorbar": {
             "outlinewidth": 0,
             "ticks": ""
            },
            "colorscale": [
             [
              0,
              "#0d0887"
             ],
             [
              0.1111111111111111,
              "#46039f"
             ],
             [
              0.2222222222222222,
              "#7201a8"
             ],
             [
              0.3333333333333333,
              "#9c179e"
             ],
             [
              0.4444444444444444,
              "#bd3786"
             ],
             [
              0.5555555555555556,
              "#d8576b"
             ],
             [
              0.6666666666666666,
              "#ed7953"
             ],
             [
              0.7777777777777778,
              "#fb9f3a"
             ],
             [
              0.8888888888888888,
              "#fdca26"
             ],
             [
              1,
              "#f0f921"
             ]
            ],
            "type": "contour"
           }
          ],
          "contourcarpet": [
           {
            "colorbar": {
             "outlinewidth": 0,
             "ticks": ""
            },
            "type": "contourcarpet"
           }
          ],
          "heatmap": [
           {
            "colorbar": {
             "outlinewidth": 0,
             "ticks": ""
            },
            "colorscale": [
             [
              0,
              "#0d0887"
             ],
             [
              0.1111111111111111,
              "#46039f"
             ],
             [
              0.2222222222222222,
              "#7201a8"
             ],
             [
              0.3333333333333333,
              "#9c179e"
             ],
             [
              0.4444444444444444,
              "#bd3786"
             ],
             [
              0.5555555555555556,
              "#d8576b"
             ],
             [
              0.6666666666666666,
              "#ed7953"
             ],
             [
              0.7777777777777778,
              "#fb9f3a"
             ],
             [
              0.8888888888888888,
              "#fdca26"
             ],
             [
              1,
              "#f0f921"
             ]
            ],
            "type": "heatmap"
           }
          ],
          "heatmapgl": [
           {
            "colorbar": {
             "outlinewidth": 0,
             "ticks": ""
            },
            "colorscale": [
             [
              0,
              "#0d0887"
             ],
             [
              0.1111111111111111,
              "#46039f"
             ],
             [
              0.2222222222222222,
              "#7201a8"
             ],
             [
              0.3333333333333333,
              "#9c179e"
             ],
             [
              0.4444444444444444,
              "#bd3786"
             ],
             [
              0.5555555555555556,
              "#d8576b"
             ],
             [
              0.6666666666666666,
              "#ed7953"
             ],
             [
              0.7777777777777778,
              "#fb9f3a"
             ],
             [
              0.8888888888888888,
              "#fdca26"
             ],
             [
              1,
              "#f0f921"
             ]
            ],
            "type": "heatmapgl"
           }
          ],
          "histogram": [
           {
            "marker": {
             "colorbar": {
              "outlinewidth": 0,
              "ticks": ""
             }
            },
            "type": "histogram"
           }
          ],
          "histogram2d": [
           {
            "colorbar": {
             "outlinewidth": 0,
             "ticks": ""
            },
            "colorscale": [
             [
              0,
              "#0d0887"
             ],
             [
              0.1111111111111111,
              "#46039f"
             ],
             [
              0.2222222222222222,
              "#7201a8"
             ],
             [
              0.3333333333333333,
              "#9c179e"
             ],
             [
              0.4444444444444444,
              "#bd3786"
             ],
             [
              0.5555555555555556,
              "#d8576b"
             ],
             [
              0.6666666666666666,
              "#ed7953"
             ],
             [
              0.7777777777777778,
              "#fb9f3a"
             ],
             [
              0.8888888888888888,
              "#fdca26"
             ],
             [
              1,
              "#f0f921"
             ]
            ],
            "type": "histogram2d"
           }
          ],
          "histogram2dcontour": [
           {
            "colorbar": {
             "outlinewidth": 0,
             "ticks": ""
            },
            "colorscale": [
             [
              0,
              "#0d0887"
             ],
             [
              0.1111111111111111,
              "#46039f"
             ],
             [
              0.2222222222222222,
              "#7201a8"
             ],
             [
              0.3333333333333333,
              "#9c179e"
             ],
             [
              0.4444444444444444,
              "#bd3786"
             ],
             [
              0.5555555555555556,
              "#d8576b"
             ],
             [
              0.6666666666666666,
              "#ed7953"
             ],
             [
              0.7777777777777778,
              "#fb9f3a"
             ],
             [
              0.8888888888888888,
              "#fdca26"
             ],
             [
              1,
              "#f0f921"
             ]
            ],
            "type": "histogram2dcontour"
           }
          ],
          "mesh3d": [
           {
            "colorbar": {
             "outlinewidth": 0,
             "ticks": ""
            },
            "type": "mesh3d"
           }
          ],
          "parcoords": [
           {
            "line": {
             "colorbar": {
              "outlinewidth": 0,
              "ticks": ""
             }
            },
            "type": "parcoords"
           }
          ],
          "pie": [
           {
            "automargin": true,
            "type": "pie"
           }
          ],
          "scatter": [
           {
            "marker": {
             "colorbar": {
              "outlinewidth": 0,
              "ticks": ""
             }
            },
            "type": "scatter"
           }
          ],
          "scatter3d": [
           {
            "line": {
             "colorbar": {
              "outlinewidth": 0,
              "ticks": ""
             }
            },
            "marker": {
             "colorbar": {
              "outlinewidth": 0,
              "ticks": ""
             }
            },
            "type": "scatter3d"
           }
          ],
          "scattercarpet": [
           {
            "marker": {
             "colorbar": {
              "outlinewidth": 0,
              "ticks": ""
             }
            },
            "type": "scattercarpet"
           }
          ],
          "scattergeo": [
           {
            "marker": {
             "colorbar": {
              "outlinewidth": 0,
              "ticks": ""
             }
            },
            "type": "scattergeo"
           }
          ],
          "scattergl": [
           {
            "marker": {
             "colorbar": {
              "outlinewidth": 0,
              "ticks": ""
             }
            },
            "type": "scattergl"
           }
          ],
          "scattermapbox": [
           {
            "marker": {
             "colorbar": {
              "outlinewidth": 0,
              "ticks": ""
             }
            },
            "type": "scattermapbox"
           }
          ],
          "scatterpolar": [
           {
            "marker": {
             "colorbar": {
              "outlinewidth": 0,
              "ticks": ""
             }
            },
            "type": "scatterpolar"
           }
          ],
          "scatterpolargl": [
           {
            "marker": {
             "colorbar": {
              "outlinewidth": 0,
              "ticks": ""
             }
            },
            "type": "scatterpolargl"
           }
          ],
          "scatterternary": [
           {
            "marker": {
             "colorbar": {
              "outlinewidth": 0,
              "ticks": ""
             }
            },
            "type": "scatterternary"
           }
          ],
          "surface": [
           {
            "colorbar": {
             "outlinewidth": 0,
             "ticks": ""
            },
            "colorscale": [
             [
              0,
              "#0d0887"
             ],
             [
              0.1111111111111111,
              "#46039f"
             ],
             [
              0.2222222222222222,
              "#7201a8"
             ],
             [
              0.3333333333333333,
              "#9c179e"
             ],
             [
              0.4444444444444444,
              "#bd3786"
             ],
             [
              0.5555555555555556,
              "#d8576b"
             ],
             [
              0.6666666666666666,
              "#ed7953"
             ],
             [
              0.7777777777777778,
              "#fb9f3a"
             ],
             [
              0.8888888888888888,
              "#fdca26"
             ],
             [
              1,
              "#f0f921"
             ]
            ],
            "type": "surface"
           }
          ],
          "table": [
           {
            "cells": {
             "fill": {
              "color": "#EBF0F8"
             },
             "line": {
              "color": "white"
             }
            },
            "header": {
             "fill": {
              "color": "#C8D4E3"
             },
             "line": {
              "color": "white"
             }
            },
            "type": "table"
           }
          ]
         },
         "layout": {
          "annotationdefaults": {
           "arrowcolor": "#2a3f5f",
           "arrowhead": 0,
           "arrowwidth": 1
          },
          "coloraxis": {
           "colorbar": {
            "outlinewidth": 0,
            "ticks": ""
           }
          },
          "colorscale": {
           "diverging": [
            [
             0,
             "#8e0152"
            ],
            [
             0.1,
             "#c51b7d"
            ],
            [
             0.2,
             "#de77ae"
            ],
            [
             0.3,
             "#f1b6da"
            ],
            [
             0.4,
             "#fde0ef"
            ],
            [
             0.5,
             "#f7f7f7"
            ],
            [
             0.6,
             "#e6f5d0"
            ],
            [
             0.7,
             "#b8e186"
            ],
            [
             0.8,
             "#7fbc41"
            ],
            [
             0.9,
             "#4d9221"
            ],
            [
             1,
             "#276419"
            ]
           ],
           "sequential": [
            [
             0,
             "#0d0887"
            ],
            [
             0.1111111111111111,
             "#46039f"
            ],
            [
             0.2222222222222222,
             "#7201a8"
            ],
            [
             0.3333333333333333,
             "#9c179e"
            ],
            [
             0.4444444444444444,
             "#bd3786"
            ],
            [
             0.5555555555555556,
             "#d8576b"
            ],
            [
             0.6666666666666666,
             "#ed7953"
            ],
            [
             0.7777777777777778,
             "#fb9f3a"
            ],
            [
             0.8888888888888888,
             "#fdca26"
            ],
            [
             1,
             "#f0f921"
            ]
           ],
           "sequentialminus": [
            [
             0,
             "#0d0887"
            ],
            [
             0.1111111111111111,
             "#46039f"
            ],
            [
             0.2222222222222222,
             "#7201a8"
            ],
            [
             0.3333333333333333,
             "#9c179e"
            ],
            [
             0.4444444444444444,
             "#bd3786"
            ],
            [
             0.5555555555555556,
             "#d8576b"
            ],
            [
             0.6666666666666666,
             "#ed7953"
            ],
            [
             0.7777777777777778,
             "#fb9f3a"
            ],
            [
             0.8888888888888888,
             "#fdca26"
            ],
            [
             1,
             "#f0f921"
            ]
           ]
          },
          "colorway": [
           "#636efa",
           "#EF553B",
           "#00cc96",
           "#ab63fa",
           "#FFA15A",
           "#19d3f3",
           "#FF6692",
           "#B6E880",
           "#FF97FF",
           "#FECB52"
          ],
          "font": {
           "color": "#2a3f5f"
          },
          "geo": {
           "bgcolor": "white",
           "lakecolor": "white",
           "landcolor": "#E5ECF6",
           "showlakes": true,
           "showland": true,
           "subunitcolor": "white"
          },
          "hoverlabel": {
           "align": "left"
          },
          "hovermode": "closest",
          "mapbox": {
           "style": "light"
          },
          "paper_bgcolor": "white",
          "plot_bgcolor": "#E5ECF6",
          "polar": {
           "angularaxis": {
            "gridcolor": "white",
            "linecolor": "white",
            "ticks": ""
           },
           "bgcolor": "#E5ECF6",
           "radialaxis": {
            "gridcolor": "white",
            "linecolor": "white",
            "ticks": ""
           }
          },
          "scene": {
           "xaxis": {
            "backgroundcolor": "#E5ECF6",
            "gridcolor": "white",
            "gridwidth": 2,
            "linecolor": "white",
            "showbackground": true,
            "ticks": "",
            "zerolinecolor": "white"
           },
           "yaxis": {
            "backgroundcolor": "#E5ECF6",
            "gridcolor": "white",
            "gridwidth": 2,
            "linecolor": "white",
            "showbackground": true,
            "ticks": "",
            "zerolinecolor": "white"
           },
           "zaxis": {
            "backgroundcolor": "#E5ECF6",
            "gridcolor": "white",
            "gridwidth": 2,
            "linecolor": "white",
            "showbackground": true,
            "ticks": "",
            "zerolinecolor": "white"
           }
          },
          "shapedefaults": {
           "line": {
            "color": "#2a3f5f"
           }
          },
          "ternary": {
           "aaxis": {
            "gridcolor": "white",
            "linecolor": "white",
            "ticks": ""
           },
           "baxis": {
            "gridcolor": "white",
            "linecolor": "white",
            "ticks": ""
           },
           "bgcolor": "#E5ECF6",
           "caxis": {
            "gridcolor": "white",
            "linecolor": "white",
            "ticks": ""
           }
          },
          "title": {
           "x": 0.05
          },
          "xaxis": {
           "automargin": true,
           "gridcolor": "white",
           "linecolor": "white",
           "ticks": "",
           "title": {
            "standoff": 15
           },
           "zerolinecolor": "white",
           "zerolinewidth": 2
          },
          "yaxis": {
           "automargin": true,
           "gridcolor": "white",
           "linecolor": "white",
           "ticks": "",
           "title": {
            "standoff": 15
           },
           "zerolinecolor": "white",
           "zerolinewidth": 2
          }
         }
        },
        "xaxis": {
         "anchor": "y",
         "autorange": "reversed",
         "domain": [
          0,
          1
         ],
         "title": {
          "text": "GICSSector"
         }
        },
        "yaxis": {
         "anchor": "x",
         "categoryarray": [
          "<=1",
          ">1"
         ],
         "categoryorder": "array",
         "domain": [
          0,
          1
         ],
         "title": {
          "text": "count of BetaTo1"
         }
        }
       }
      },
      "text/html": [
       "<div>\n",
       "        \n",
       "        \n",
       "            <div id=\"ae4c5fd7-9c9f-4e28-8797-59ea66dc9213\" class=\"plotly-graph-div\" style=\"height:400px; width:100%;\"></div>\n",
       "            <script type=\"text/javascript\">\n",
       "                require([\"plotly\"], function(Plotly) {\n",
       "                    window.PLOTLYENV=window.PLOTLYENV || {};\n",
       "                    \n",
       "                if (document.getElementById(\"ae4c5fd7-9c9f-4e28-8797-59ea66dc9213\")) {\n",
       "                    Plotly.newPlot(\n",
       "                        'ae4c5fd7-9c9f-4e28-8797-59ea66dc9213',\n",
       "                        [{\"alignmentgroup\": \"True\", \"bingroup\": \"x\", \"hoverlabel\": {\"namelength\": 0}, \"hovertemplate\": \"BetaTo1=>1<br>GICSSector=%{x}<br>count of BetaTo1=%{y}\", \"legendgroup\": \"BetaTo1=>1\", \"marker\": {\"color\": \"rgb(168, 219, 217)\"}, \"name\": \"BetaTo1=>1\", \"offsetgroup\": \"BetaTo1=>1\", \"orientation\": \"v\", \"showlegend\": true, \"type\": \"histogram\", \"x\": [\"Industrials\", \"Communication Services\", \"Health Care\", \"Materials\", \"Information Technology\", \"Industrials\", \"Financials\", \"Financials\", \"Industrials\", \"Information Technology\", \"Information Technology\", \"Information Technology\", \"Information Technology\", \"Consumer Discretionary\", \"Industrials\", \"Information Technology\", \"Energy\", \"Financials\", \"Consumer Discretionary\", \"Financials\", \"Industrials\", \"Consumer Discretionary\", \"Information Technology\", \"Financials\", \"Consumer Discretionary\", \"Industrials\", \"Materials\", \"Materials\", \"Financials\", \"Energy\", \"Information Technology\", \"Financials\", \"Financials\", \"Energy\", \"Energy\", \"Information Technology\", \"Industrials\", \"Industrials\", \"Industrials\", \"Industrials\", \"Energy\", \"Energy\", \"Financials\", \"Industrials\", \"Information Technology\", \"Financials\", \"Materials\", \"Industrials\", \"Consumer Discretionary\", \"Industrials\", \"Energy\", \"Consumer Staples\", \"Industrials\", \"Industrials\", \"Industrials\", \"Materials\", \"Industrials\", \"Industrials\", \"Financials\", \"Materials\", \"Consumer Discretionary\", \"Consumer Discretionary\", \"Information Technology\", \"Financials\", \"Industrials\", \"Energy\", \"Consumer Discretionary\", \"Consumer Discretionary\", \"Consumer Discretionary\", \"Consumer Discretionary\", \"Energy\", \"Information Technology\", \"Industrials\", \"Information Technology\", \"Materials\", \"Information Technology\", \"Financials\", \"Financials\", \"Information Technology\", \"Industrials\", \"Financials\", \"Information Technology\", \"Consumer Discretionary\", \"Consumer Discretionary\", \"Information Technology\", \"Consumer Discretionary\", \"Financials\", \"Consumer Discretionary\", \"Materials\", \"Consumer Discretionary\", \"Energy\", \"Energy\", \"Consumer Discretionary\", \"Industrials\", \"Information Technology\", \"Information Technology\", \"Financials\", \"Information Technology\", \"Information Technology\", \"Financials\", \"Financials\", \"Materials\", \"Financials\", \"Information Technology\", \"Consumer Discretionary\", \"Consumer Discretionary\", \"Financials\", \"Materials\", \"Information Technology\", \"Information Technology\", \"Materials\", \"Industrials\", \"Industrials\", \"Health Care\", \"Energy\", \"Energy\", \"Consumer Discretionary\", \"Financials\", \"Financials\", \"Consumer Discretionary\", \"Industrials\", \"Financials\", \"Financials\", \"Industrials\", \"Industrials\", \"Consumer Discretionary\", \"Consumer Discretionary\", \"Information Technology\", \"Information Technology\", \"Industrials\", \"Industrials\", \"Financials\", \"Financials\", \"Financials\", \"Consumer Discretionary\", \"Information Technology\", \"Information Technology\", \"Health Care\", \"Consumer Discretionary\", \"Industrials\", \"Industrials\", \"Industrials\", \"Financials\", \"Consumer Discretionary\", \"Energy\", \"Information Technology\", \"Industrials\", \"Materials\", \"Consumer Discretionary\", \"Consumer Discretionary\", \"Information Technology\", \"Information Technology\", \"Industrials\"], \"xaxis\": \"x\", \"y\": [\">1\", \">1\", \">1\", \">1\", \">1\", \">1\", \">1\", \">1\", \">1\", \">1\", \">1\", \">1\", \">1\", \">1\", \">1\", \">1\", \">1\", \">1\", \">1\", \">1\", \">1\", \">1\", \">1\", \">1\", \">1\", \">1\", \">1\", \">1\", \">1\", \">1\", \">1\", \">1\", \">1\", \">1\", \">1\", \">1\", \">1\", \">1\", \">1\", \">1\", \">1\", \">1\", \">1\", \">1\", \">1\", \">1\", \">1\", \">1\", \">1\", \">1\", \">1\", \">1\", \">1\", \">1\", \">1\", \">1\", \">1\", \">1\", \">1\", \">1\", \">1\", \">1\", \">1\", \">1\", \">1\", \">1\", \">1\", \">1\", \">1\", \">1\", \">1\", \">1\", \">1\", \">1\", \">1\", \">1\", \">1\", \">1\", \">1\", \">1\", \">1\", \">1\", \">1\", \">1\", \">1\", \">1\", \">1\", \">1\", \">1\", \">1\", \">1\", \">1\", \">1\", \">1\", \">1\", \">1\", \">1\", \">1\", \">1\", \">1\", \">1\", \">1\", \">1\", \">1\", \">1\", \">1\", \">1\", \">1\", \">1\", \">1\", \">1\", \">1\", \">1\", \">1\", \">1\", \">1\", \">1\", \">1\", \">1\", \">1\", \">1\", \">1\", \">1\", \">1\", \">1\", \">1\", \">1\", \">1\", \">1\", \">1\", \">1\", \">1\", \">1\", \">1\", \">1\", \">1\", \">1\", \">1\", \">1\", \">1\", \">1\", \">1\", \">1\", \">1\", \">1\", \">1\", \">1\", \">1\", \">1\", \">1\", \">1\", \">1\", \">1\"], \"yaxis\": \"y\"}, {\"alignmentgroup\": \"True\", \"bingroup\": \"x\", \"hoverlabel\": {\"namelength\": 0}, \"hovertemplate\": \"BetaTo1=<=1<br>GICSSector=%{x}<br>count of BetaTo1=%{y}\", \"legendgroup\": \"BetaTo1=<=1\", \"marker\": {\"color\": \"rgb(255, 221, 154)\"}, \"name\": \"BetaTo1=<=1\", \"offsetgroup\": \"BetaTo1=<=1\", \"orientation\": \"v\", \"showlegend\": true, \"type\": \"histogram\", \"x\": [\"Health Care\", \"Information Technology\", \"Consumer Discretionary\", \"Utilities\", \"Financials\", \"Materials\", \"Industrials\", \"Real Estate\", \"Industrials\", \"Utilities\", \"Financials\", \"Consumer Staples\", \"Utilities\", \"Utilities\", \"Utilities\", \"Health Care\", \"Health Care\", \"Financials\", \"Industrials\", \"Real Estate\", \"Consumer Staples\", \"Financials\", \"Financials\", \"Utilities\", \"Communication Services\", \"Real Estate\", \"Materials\", \"Financials\", \"Health Care\", \"Financials\", \"Consumer Discretionary\", \"Real Estate\", \"Health Care\", \"Information Technology\", \"Consumer Staples\", \"Industrials\", \"Energy\", \"Consumer Staples\", \"Health Care\", \"Financials\", \"Communication Services\", \"Utilities\", \"Health Care\", \"Energy\", \"Financials\", \"Consumer Staples\", \"Financials\", \"Information Technology\", \"Consumer Staples\", \"Financials\", \"Utilities\", \"Consumer Staples\", \"Information Technology\", \"Consumer Staples\", \"Communication Services\", \"Financials\", \"Consumer Staples\", \"Utilities\", \"Consumer Staples\", \"Health Care\", \"Consumer Staples\", \"Health Care\", \"Consumer Discretionary\", \"Health Care\", \"Consumer Discretionary\", \"Consumer Discretionary\", \"Utilities\", \"Utilities\", \"Real Estate\", \"Utilities\", \"Materials\", \"Utilities\", \"Real Estate\", \"Real Estate\", \"Utilities\", \"Utilities\", \"Financials\", \"Utilities\", \"Consumer Discretionary\", \"Real Estate\", \"Energy\", \"Real Estate\", \"Information Technology\", \"Financials\", \"Utilities\", \"Financials\", \"Information Technology\", \"Consumer Discretionary\", \"Consumer Discretionary\", \"Industrials\", \"Consumer Staples\", \"Consumer Discretionary\", \"Health Care\", \"Financials\", \"Health Care\", \"Real Estate\", \"Consumer Staples\", \"Consumer Discretionary\", \"Industrials\", \"Consumer Staples\", \"Real Estate\", \"Health Care\", \"Financials\", \"Industrials\", \"Industrials\", \"Financials\", \"Information Technology\", \"Communication Services\", \"Real Estate\", \"Information Technology\", \"Consumer Staples\", \"Financials\", \"Consumer Staples\", \"Consumer Staples\", \"Real Estate\", \"Energy\", \"Consumer Staples\", \"Consumer Staples\", \"Consumer Discretionary\", \"Materials\", \"Industrials\", \"Financials\", \"Financials\", \"Real Estate\", \"Financials\", \"Materials\", \"Consumer Staples\", \"Health Care\", \"Health Care\", \"Health Care\", \"Consumer Staples\", \"Consumer Staples\", \"Information Technology\", \"Financials\", \"Communication Services\", \"Communication Services\", \"Industrials\", \"Utilities\", \"Energy\", \"Communication Services\", \"Energy\", \"Industrials\", \"Information Technology\", \"Financials\", \"Consumer Staples\", \"Health Care\", \"Consumer Staples\", \"Utilities\", \"Materials\", \"Utilities\", \"Real Estate\", \"Utilities\", \"Real Estate\", \"Consumer Discretionary\", \"Information Technology\", \"Health Care\", \"Industrials\", \"Real Estate\", \"Real Estate\", \"Industrials\", \"Health Care\", \"Industrials\", \"Industrials\", \"Materials\", \"Utilities\", \"Materials\", \"Real Estate\", \"Real Estate\", \"Utilities\", \"Industrials\", \"Financials\", \"Consumer Discretionary\", \"Health Care\", \"Financials\", \"Consumer Staples\", \"Consumer Discretionary\", \"Health Care\", \"Consumer Discretionary\", \"Information Technology\", \"Consumer Discretionary\", \"Financials\", \"Consumer Staples\", \"Financials\", \"Health Care\", \"Real Estate\", \"Industrials\", \"Communication Services\", \"Communication Services\", \"Real Estate\", \"Materials\", \"Consumer Staples\", \"Consumer Staples\", \"Communication Services\", \"Industrials\", \"Utilities\", \"Financials\", \"Information Technology\", \"Financials\", \"Utilities\", \"Consumer Discretionary\", \"Financials\", \"Health Care\"], \"xaxis\": \"x\", \"y\": [\"<=1\", \"<=1\", \"<=1\", \"<=1\", \"<=1\", \"<=1\", \"<=1\", \"<=1\", \"<=1\", \"<=1\", \"<=1\", \"<=1\", \"<=1\", \"<=1\", \"<=1\", \"<=1\", \"<=1\", \"<=1\", \"<=1\", \"<=1\", \"<=1\", \"<=1\", \"<=1\", \"<=1\", \"<=1\", \"<=1\", \"<=1\", \"<=1\", \"<=1\", \"<=1\", \"<=1\", \"<=1\", \"<=1\", \"<=1\", \"<=1\", \"<=1\", \"<=1\", \"<=1\", \"<=1\", \"<=1\", \"<=1\", \"<=1\", \"<=1\", \"<=1\", \"<=1\", \"<=1\", \"<=1\", \"<=1\", \"<=1\", \"<=1\", \"<=1\", \"<=1\", \"<=1\", \"<=1\", \"<=1\", \"<=1\", \"<=1\", \"<=1\", \"<=1\", \"<=1\", \"<=1\", \"<=1\", \"<=1\", \"<=1\", \"<=1\", \"<=1\", \"<=1\", \"<=1\", \"<=1\", \"<=1\", \"<=1\", \"<=1\", \"<=1\", \"<=1\", \"<=1\", \"<=1\", \"<=1\", \"<=1\", \"<=1\", \"<=1\", \"<=1\", \"<=1\", \"<=1\", \"<=1\", \"<=1\", \"<=1\", \"<=1\", \"<=1\", \"<=1\", \"<=1\", \"<=1\", \"<=1\", \"<=1\", \"<=1\", \"<=1\", \"<=1\", \"<=1\", \"<=1\", \"<=1\", \"<=1\", \"<=1\", \"<=1\", \"<=1\", \"<=1\", \"<=1\", \"<=1\", \"<=1\", \"<=1\", \"<=1\", \"<=1\", \"<=1\", \"<=1\", \"<=1\", \"<=1\", \"<=1\", \"<=1\", \"<=1\", \"<=1\", \"<=1\", \"<=1\", \"<=1\", \"<=1\", \"<=1\", \"<=1\", \"<=1\", \"<=1\", \"<=1\", \"<=1\", \"<=1\", \"<=1\", \"<=1\", \"<=1\", \"<=1\", \"<=1\", \"<=1\", \"<=1\", \"<=1\", \"<=1\", \"<=1\", \"<=1\", \"<=1\", \"<=1\", \"<=1\", \"<=1\", \"<=1\", \"<=1\", \"<=1\", \"<=1\", \"<=1\", \"<=1\", \"<=1\", \"<=1\", \"<=1\", \"<=1\", \"<=1\", \"<=1\", \"<=1\", \"<=1\", \"<=1\", \"<=1\", \"<=1\", \"<=1\", \"<=1\", \"<=1\", \"<=1\", \"<=1\", \"<=1\", \"<=1\", \"<=1\", \"<=1\", \"<=1\", \"<=1\", \"<=1\", \"<=1\", \"<=1\", \"<=1\", \"<=1\", \"<=1\", \"<=1\", \"<=1\", \"<=1\", \"<=1\", \"<=1\", \"<=1\", \"<=1\", \"<=1\", \"<=1\", \"<=1\", \"<=1\", \"<=1\", \"<=1\", \"<=1\", \"<=1\", \"<=1\", \"<=1\", \"<=1\", \"<=1\", \"<=1\", \"<=1\", \"<=1\", \"<=1\", \"<=1\"], \"yaxis\": \"y\"}],\n",
       "                        {\"barmode\": \"group\", \"height\": 400, \"legend\": {\"tracegroupgap\": 0}, \"margin\": {\"t\": 60}, \"template\": {\"data\": {\"bar\": [{\"error_x\": {\"color\": \"#2a3f5f\"}, \"error_y\": {\"color\": \"#2a3f5f\"}, \"marker\": {\"line\": {\"color\": \"#E5ECF6\", \"width\": 0.5}}, \"type\": \"bar\"}], \"barpolar\": [{\"marker\": {\"line\": {\"color\": \"#E5ECF6\", \"width\": 0.5}}, \"type\": \"barpolar\"}], \"carpet\": [{\"aaxis\": {\"endlinecolor\": \"#2a3f5f\", \"gridcolor\": \"white\", \"linecolor\": \"white\", \"minorgridcolor\": \"white\", \"startlinecolor\": \"#2a3f5f\"}, \"baxis\": {\"endlinecolor\": \"#2a3f5f\", \"gridcolor\": \"white\", \"linecolor\": \"white\", \"minorgridcolor\": \"white\", \"startlinecolor\": \"#2a3f5f\"}, \"type\": \"carpet\"}], \"choropleth\": [{\"colorbar\": {\"outlinewidth\": 0, \"ticks\": \"\"}, \"type\": \"choropleth\"}], \"contour\": [{\"colorbar\": {\"outlinewidth\": 0, \"ticks\": \"\"}, \"colorscale\": [[0.0, \"#0d0887\"], [0.1111111111111111, \"#46039f\"], [0.2222222222222222, \"#7201a8\"], [0.3333333333333333, \"#9c179e\"], [0.4444444444444444, \"#bd3786\"], [0.5555555555555556, \"#d8576b\"], [0.6666666666666666, \"#ed7953\"], [0.7777777777777778, \"#fb9f3a\"], [0.8888888888888888, \"#fdca26\"], [1.0, \"#f0f921\"]], \"type\": \"contour\"}], \"contourcarpet\": [{\"colorbar\": {\"outlinewidth\": 0, \"ticks\": \"\"}, \"type\": \"contourcarpet\"}], \"heatmap\": [{\"colorbar\": {\"outlinewidth\": 0, \"ticks\": \"\"}, \"colorscale\": [[0.0, \"#0d0887\"], [0.1111111111111111, \"#46039f\"], [0.2222222222222222, \"#7201a8\"], [0.3333333333333333, \"#9c179e\"], [0.4444444444444444, \"#bd3786\"], [0.5555555555555556, \"#d8576b\"], [0.6666666666666666, \"#ed7953\"], [0.7777777777777778, \"#fb9f3a\"], [0.8888888888888888, \"#fdca26\"], [1.0, \"#f0f921\"]], \"type\": \"heatmap\"}], \"heatmapgl\": [{\"colorbar\": {\"outlinewidth\": 0, \"ticks\": \"\"}, \"colorscale\": [[0.0, \"#0d0887\"], [0.1111111111111111, \"#46039f\"], [0.2222222222222222, \"#7201a8\"], [0.3333333333333333, \"#9c179e\"], [0.4444444444444444, \"#bd3786\"], [0.5555555555555556, \"#d8576b\"], [0.6666666666666666, \"#ed7953\"], [0.7777777777777778, \"#fb9f3a\"], [0.8888888888888888, \"#fdca26\"], [1.0, \"#f0f921\"]], \"type\": \"heatmapgl\"}], \"histogram\": [{\"marker\": {\"colorbar\": {\"outlinewidth\": 0, \"ticks\": \"\"}}, \"type\": \"histogram\"}], \"histogram2d\": [{\"colorbar\": {\"outlinewidth\": 0, \"ticks\": \"\"}, \"colorscale\": [[0.0, \"#0d0887\"], [0.1111111111111111, \"#46039f\"], [0.2222222222222222, \"#7201a8\"], [0.3333333333333333, \"#9c179e\"], [0.4444444444444444, \"#bd3786\"], [0.5555555555555556, \"#d8576b\"], [0.6666666666666666, \"#ed7953\"], [0.7777777777777778, \"#fb9f3a\"], [0.8888888888888888, \"#fdca26\"], [1.0, \"#f0f921\"]], \"type\": \"histogram2d\"}], \"histogram2dcontour\": [{\"colorbar\": {\"outlinewidth\": 0, \"ticks\": \"\"}, \"colorscale\": [[0.0, \"#0d0887\"], [0.1111111111111111, \"#46039f\"], [0.2222222222222222, \"#7201a8\"], [0.3333333333333333, \"#9c179e\"], [0.4444444444444444, \"#bd3786\"], [0.5555555555555556, \"#d8576b\"], [0.6666666666666666, \"#ed7953\"], [0.7777777777777778, \"#fb9f3a\"], [0.8888888888888888, \"#fdca26\"], [1.0, \"#f0f921\"]], \"type\": \"histogram2dcontour\"}], \"mesh3d\": [{\"colorbar\": {\"outlinewidth\": 0, \"ticks\": \"\"}, \"type\": \"mesh3d\"}], \"parcoords\": [{\"line\": {\"colorbar\": {\"outlinewidth\": 0, \"ticks\": \"\"}}, \"type\": \"parcoords\"}], \"pie\": [{\"automargin\": true, \"type\": \"pie\"}], \"scatter\": [{\"marker\": {\"colorbar\": {\"outlinewidth\": 0, \"ticks\": \"\"}}, \"type\": \"scatter\"}], \"scatter3d\": [{\"line\": {\"colorbar\": {\"outlinewidth\": 0, \"ticks\": \"\"}}, \"marker\": {\"colorbar\": {\"outlinewidth\": 0, \"ticks\": \"\"}}, \"type\": \"scatter3d\"}], \"scattercarpet\": [{\"marker\": {\"colorbar\": {\"outlinewidth\": 0, \"ticks\": \"\"}}, \"type\": \"scattercarpet\"}], \"scattergeo\": [{\"marker\": {\"colorbar\": {\"outlinewidth\": 0, \"ticks\": \"\"}}, \"type\": \"scattergeo\"}], \"scattergl\": [{\"marker\": {\"colorbar\": {\"outlinewidth\": 0, \"ticks\": \"\"}}, \"type\": \"scattergl\"}], \"scattermapbox\": [{\"marker\": {\"colorbar\": {\"outlinewidth\": 0, \"ticks\": \"\"}}, \"type\": \"scattermapbox\"}], \"scatterpolar\": [{\"marker\": {\"colorbar\": {\"outlinewidth\": 0, \"ticks\": \"\"}}, \"type\": \"scatterpolar\"}], \"scatterpolargl\": [{\"marker\": {\"colorbar\": {\"outlinewidth\": 0, \"ticks\": \"\"}}, \"type\": \"scatterpolargl\"}], \"scatterternary\": [{\"marker\": {\"colorbar\": {\"outlinewidth\": 0, \"ticks\": \"\"}}, \"type\": \"scatterternary\"}], \"surface\": [{\"colorbar\": {\"outlinewidth\": 0, \"ticks\": \"\"}, \"colorscale\": [[0.0, \"#0d0887\"], [0.1111111111111111, \"#46039f\"], [0.2222222222222222, \"#7201a8\"], [0.3333333333333333, \"#9c179e\"], [0.4444444444444444, \"#bd3786\"], [0.5555555555555556, \"#d8576b\"], [0.6666666666666666, \"#ed7953\"], [0.7777777777777778, \"#fb9f3a\"], [0.8888888888888888, \"#fdca26\"], [1.0, \"#f0f921\"]], \"type\": \"surface\"}], \"table\": [{\"cells\": {\"fill\": {\"color\": \"#EBF0F8\"}, \"line\": {\"color\": \"white\"}}, \"header\": {\"fill\": {\"color\": \"#C8D4E3\"}, \"line\": {\"color\": \"white\"}}, \"type\": \"table\"}]}, \"layout\": {\"annotationdefaults\": {\"arrowcolor\": \"#2a3f5f\", \"arrowhead\": 0, \"arrowwidth\": 1}, \"coloraxis\": {\"colorbar\": {\"outlinewidth\": 0, \"ticks\": \"\"}}, \"colorscale\": {\"diverging\": [[0, \"#8e0152\"], [0.1, \"#c51b7d\"], [0.2, \"#de77ae\"], [0.3, \"#f1b6da\"], [0.4, \"#fde0ef\"], [0.5, \"#f7f7f7\"], [0.6, \"#e6f5d0\"], [0.7, \"#b8e186\"], [0.8, \"#7fbc41\"], [0.9, \"#4d9221\"], [1, \"#276419\"]], \"sequential\": [[0.0, \"#0d0887\"], [0.1111111111111111, \"#46039f\"], [0.2222222222222222, \"#7201a8\"], [0.3333333333333333, \"#9c179e\"], [0.4444444444444444, \"#bd3786\"], [0.5555555555555556, \"#d8576b\"], [0.6666666666666666, \"#ed7953\"], [0.7777777777777778, \"#fb9f3a\"], [0.8888888888888888, \"#fdca26\"], [1.0, \"#f0f921\"]], \"sequentialminus\": [[0.0, \"#0d0887\"], [0.1111111111111111, \"#46039f\"], [0.2222222222222222, \"#7201a8\"], [0.3333333333333333, \"#9c179e\"], [0.4444444444444444, \"#bd3786\"], [0.5555555555555556, \"#d8576b\"], [0.6666666666666666, \"#ed7953\"], [0.7777777777777778, \"#fb9f3a\"], [0.8888888888888888, \"#fdca26\"], [1.0, \"#f0f921\"]]}, \"colorway\": [\"#636efa\", \"#EF553B\", \"#00cc96\", \"#ab63fa\", \"#FFA15A\", \"#19d3f3\", \"#FF6692\", \"#B6E880\", \"#FF97FF\", \"#FECB52\"], \"font\": {\"color\": \"#2a3f5f\"}, \"geo\": {\"bgcolor\": \"white\", \"lakecolor\": \"white\", \"landcolor\": \"#E5ECF6\", \"showlakes\": true, \"showland\": true, \"subunitcolor\": \"white\"}, \"hoverlabel\": {\"align\": \"left\"}, \"hovermode\": \"closest\", \"mapbox\": {\"style\": \"light\"}, \"paper_bgcolor\": \"white\", \"plot_bgcolor\": \"#E5ECF6\", \"polar\": {\"angularaxis\": {\"gridcolor\": \"white\", \"linecolor\": \"white\", \"ticks\": \"\"}, \"bgcolor\": \"#E5ECF6\", \"radialaxis\": {\"gridcolor\": \"white\", \"linecolor\": \"white\", \"ticks\": \"\"}}, \"scene\": {\"xaxis\": {\"backgroundcolor\": \"#E5ECF6\", \"gridcolor\": \"white\", \"gridwidth\": 2, \"linecolor\": \"white\", \"showbackground\": true, \"ticks\": \"\", \"zerolinecolor\": \"white\"}, \"yaxis\": {\"backgroundcolor\": \"#E5ECF6\", \"gridcolor\": \"white\", \"gridwidth\": 2, \"linecolor\": \"white\", \"showbackground\": true, \"ticks\": \"\", \"zerolinecolor\": \"white\"}, \"zaxis\": {\"backgroundcolor\": \"#E5ECF6\", \"gridcolor\": \"white\", \"gridwidth\": 2, \"linecolor\": \"white\", \"showbackground\": true, \"ticks\": \"\", \"zerolinecolor\": \"white\"}}, \"shapedefaults\": {\"line\": {\"color\": \"#2a3f5f\"}}, \"ternary\": {\"aaxis\": {\"gridcolor\": \"white\", \"linecolor\": \"white\", \"ticks\": \"\"}, \"baxis\": {\"gridcolor\": \"white\", \"linecolor\": \"white\", \"ticks\": \"\"}, \"bgcolor\": \"#E5ECF6\", \"caxis\": {\"gridcolor\": \"white\", \"linecolor\": \"white\", \"ticks\": \"\"}}, \"title\": {\"x\": 0.05}, \"xaxis\": {\"automargin\": true, \"gridcolor\": \"white\", \"linecolor\": \"white\", \"ticks\": \"\", \"title\": {\"standoff\": 15}, \"zerolinecolor\": \"white\", \"zerolinewidth\": 2}, \"yaxis\": {\"automargin\": true, \"gridcolor\": \"white\", \"linecolor\": \"white\", \"ticks\": \"\", \"title\": {\"standoff\": 15}, \"zerolinecolor\": \"white\", \"zerolinewidth\": 2}}}, \"xaxis\": {\"anchor\": \"y\", \"autorange\": \"reversed\", \"domain\": [0.0, 1.0], \"title\": {\"text\": \"GICSSector\"}}, \"yaxis\": {\"anchor\": \"x\", \"categoryarray\": [\"<=1\", \">1\"], \"categoryorder\": \"array\", \"domain\": [0.0, 1.0], \"title\": {\"text\": \"count of BetaTo1\"}}},\n",
       "                        {\"responsive\": true}\n",
       "                    ).then(function(){\n",
       "                            \n",
       "var gd = document.getElementById('ae4c5fd7-9c9f-4e28-8797-59ea66dc9213');\n",
       "var x = new MutationObserver(function (mutations, observer) {{\n",
       "        var display = window.getComputedStyle(gd).display;\n",
       "        if (!display || display === 'none') {{\n",
       "            console.log([gd, 'removed!']);\n",
       "            Plotly.purge(gd);\n",
       "            observer.disconnect();\n",
       "        }}\n",
       "}});\n",
       "\n",
       "// Listen for the removal of the full notebook cells\n",
       "var notebookContainer = gd.closest('#notebook-container');\n",
       "if (notebookContainer) {{\n",
       "    x.observe(notebookContainer, {childList: true});\n",
       "}}\n",
       "\n",
       "// Listen for the clearing of the current output cell\n",
       "var outputEl = gd.closest('.output');\n",
       "if (outputEl) {{\n",
       "    x.observe(outputEl, {childList: true});\n",
       "}}\n",
       "\n",
       "                        })\n",
       "                };\n",
       "                });\n",
       "            </script>\n",
       "        </div>"
      ]
     },
     "metadata": {},
     "output_type": "display_data"
    }
   ],
   "source": [
    "# let's look at information in beta\n",
    "#fullDataNoOutliers = fullDataNoOutliers.drop('BetaTo1',axis=1)\n",
    "\n",
    "fullDataNoOutliers['BetaTo1'] = ''\n",
    "fullDataNoOutliers.loc[fullDataNoOutliers[fullDataNoOutliers['Beta']<=1].index,'BetaTo1'] = '<=1'\n",
    "fullDataNoOutliers.loc[fullDataNoOutliers[fullDataNoOutliers['Beta']>1].index,'BetaTo1'] = '>1'\n",
    "\n",
    "fig = px.histogram(fullDataNoOutliers,x='GICSSector',barmode='group',y='BetaTo1',color='BetaTo1',\n",
    "                   color_discrete_sequence=[px.colors.carto.Teal[1],px.colors.carto.Pinkyl[1]],height=400)\n",
    "fig.layout.update(xaxis_autorange='reversed')\n",
    "fig.show()"
   ]
  },
  {
   "cell_type": "code",
   "execution_count": 26,
   "metadata": {},
   "outputs": [
    {
     "data": {
      "application/vnd.plotly.v1+json": {
       "config": {
        "plotlyServerURL": "https://plot.ly"
       },
       "data": [
        {
         "hoverlabel": {
          "namelength": 0
         },
         "hovertemplate": "GICSSector=Industrials<br>MarketCapUniformed=%{x}<br>Beta=%{y}",
         "legendgroup": "GICSSector=Industrials",
         "marker": {
          "color": "#636efa",
          "symbol": "circle"
         },
         "mode": "markers",
         "name": "GICSSector=Industrials",
         "showlegend": true,
         "type": "scatter",
         "x": [
          0.4635275191234472,
          -0.44327290523054136,
          -0.4304677654758643,
          -0.4012851488167242,
          -0.32220240721429827,
          -0.4582071169827986,
          -0.4074881181942896,
          1.4310064954084714,
          -0.40683301911811104,
          0.24914634644402583,
          0.06015026296652225,
          -0.2472754503763798,
          0.03380299699646731,
          -0.17399647715197292,
          -0.3764527994603321,
          -0.16625811931461415,
          -0.08596753879048404,
          -0.39921749235753573,
          -0.3091720771521848,
          -0.4652391961286524,
          -0.2817705111064051,
          -0.4466302879959563,
          -0.017079776561086328,
          -0.3556943474839252,
          0.7206948502157783,
          -0.43833919031307184,
          0.004947929875416475,
          -0.23663009038847882,
          -0.38105896483971236,
          0.548229782488717,
          -0.39983164774145313,
          0.08148192663458537,
          -0.26392929720360564,
          -0.2836129772581572,
          -0.458892923828173,
          -0.4701729110461219,
          0.050026935054951024,
          -0.24537156868623597,
          -0.4629668212081582,
          -0.32393227821233217,
          -0.40105995850928783,
          -0.17367916353694896,
          -0.4370187562376495,
          -0.2372954253877226,
          -0.29159699724908295,
          0.6959546241669737,
          0.4826482234094078,
          0.7055661559252805,
          -0.2814736693375117,
          -0.3918476277505274,
          -0.03792011592201556,
          -0.3798511259180082
         ],
         "xaxis": "x",
         "y": [
          1.04,
          0.96,
          0.89,
          1.48,
          1.09,
          0.95,
          1.12,
          1.16,
          0.8,
          1.4,
          1.06,
          1.1,
          1.3,
          1.02,
          1.02,
          1.11,
          1.14,
          1.06,
          1.2,
          1.54,
          1.09,
          1.28,
          0.89,
          1.02,
          0.95,
          0.99,
          1.11,
          0.98,
          1.02,
          0.74,
          1.1,
          0.76,
          1,
          1.32,
          1.14,
          1.16,
          0.75,
          0.43,
          1.29,
          1.21,
          0.8,
          0.98,
          1.01,
          0.88,
          1.54,
          1.14,
          1.08,
          1.06,
          0.82,
          1.09,
          0.5,
          1.1
         ],
         "yaxis": "y"
        },
        {
         "hoverlabel": {
          "namelength": 0
         },
         "hovertemplate": "<b>OLS trendline</b><br>Beta = -0.042196 * MarketCapUniformed + 1.045452<br>R<sup>2</sup>=0.005966<br><br>GICSSector=Industrials<br>MarketCapUniformed=%{x}<br>Beta=%{y} <b>(trend)</b>",
         "legendgroup": "GICSSector=Industrials",
         "marker": {
          "color": "#636efa",
          "symbol": "circle"
         },
         "mode": "lines",
         "name": "GICSSector=Industrials",
         "showlegend": false,
         "type": "scatter",
         "x": [
          -0.4701729110461219,
          -0.4652391961286524,
          -0.4629668212081582,
          -0.458892923828173,
          -0.4582071169827986,
          -0.4466302879959563,
          -0.44327290523054136,
          -0.43833919031307184,
          -0.4370187562376495,
          -0.4304677654758643,
          -0.4074881181942896,
          -0.40683301911811104,
          -0.4012851488167242,
          -0.40105995850928783,
          -0.39983164774145313,
          -0.39921749235753573,
          -0.3918476277505274,
          -0.38105896483971236,
          -0.3798511259180082,
          -0.3764527994603321,
          -0.3556943474839252,
          -0.32393227821233217,
          -0.32220240721429827,
          -0.3091720771521848,
          -0.29159699724908295,
          -0.2836129772581572,
          -0.2817705111064051,
          -0.2814736693375117,
          -0.26392929720360564,
          -0.2472754503763798,
          -0.24537156868623597,
          -0.2372954253877226,
          -0.23663009038847882,
          -0.17399647715197292,
          -0.17367916353694896,
          -0.16625811931461415,
          -0.08596753879048404,
          -0.03792011592201556,
          -0.017079776561086328,
          0.004947929875416475,
          0.03380299699646731,
          0.050026935054951024,
          0.06015026296652225,
          0.08148192663458537,
          0.24914634644402583,
          0.4635275191234472,
          0.4826482234094078,
          0.548229782488717,
          0.6959546241669737,
          0.7055661559252805,
          0.7206948502157783,
          1.4310064954084714
         ],
         "xaxis": "x",
         "y": [
          1.0652912615484034,
          1.0650830786275607,
          1.0649871935478363,
          1.0648152914679705,
          1.0647863531781436,
          1.0642978575692783,
          1.0641561895235596,
          1.0639480066027167,
          1.0638922895969312,
          1.0636158641418703,
          1.0626462154752894,
          1.0626185729297832,
          1.0623844751225284,
          1.0623749729975107,
          1.062323143224687,
          1.062297228338275,
          1.0619862497013313,
          1.0615310115300278,
          1.061480045586751,
          1.0613366498819383,
          1.060460726721214,
          1.0591204951789421,
          1.059047501582215,
          1.0584976740755079,
          1.0577560764093523,
          1.057419182885997,
          1.057341438226761,
          1.0573289126983285,
          1.0565886107764935,
          1.0558858854399558,
          1.0558055492920788,
          1.0554647685357614,
          1.0554366940754818,
          1.0527938075762353,
          1.0527804182182559,
          1.0524672800074446,
          1.0490793405238543,
          1.047051932576892,
          1.0461725540979794,
          1.045243073505337,
          1.0440255057587486,
          1.0433409208426994,
          1.0429137571316753,
          1.0420136467436334,
          1.034938882753168,
          1.0258928597362997,
          1.0250860429393407,
          1.022318764985317,
          1.0160853709736932,
          1.015679803001346,
          1.0150414329660649,
          0.9850691391715383
         ],
         "yaxis": "y"
        },
        {
         "hoverlabel": {
          "namelength": 0
         },
         "hovertemplate": "GICSSector=Health Care<br>MarketCapUniformed=%{x}<br>Beta=%{y}",
         "legendgroup": "GICSSector=Health Care",
         "marker": {
          "color": "#EF553B",
          "symbol": "circle"
         },
         "mode": "markers",
         "name": "GICSSector=Health Care",
         "showlegend": true,
         "type": "scatter",
         "x": [
          0.646412756530973,
          -0.29271271286319944,
          -0.3475772604931507,
          0.717859499526693,
          -0.07059318234641934,
          0.38682974759523364,
          -0.3805062249941867,
          -0.31001142284353855,
          -0.38702650798677607,
          0.3430302327988603,
          0.486404807174369,
          0.3328761971180932,
          -0.09306103347472959,
          -0.12892770789550367,
          -0.2537752615228386,
          0.9147884233797959,
          1.6416208483998662,
          -0.4337432608567569,
          1.5515242535791889,
          -0.3883469420621984,
          -0.3437080815744713,
          0.27353855110861053,
          -0.3779984238431908,
          0.6869674837156496,
          -0.39927890789592746,
          0.06516586526851405
         ],
         "xaxis": "x",
         "y": [
          0.84,
          1.1,
          0.75,
          0.74,
          0.85,
          0.8,
          0.89,
          0.91,
          0.86,
          0.82,
          0.93,
          0.77,
          0.96,
          0.86,
          0.74,
          0.67,
          0.65,
          1.26,
          0.7,
          0.68,
          0.82,
          0.96,
          0.98,
          1.14,
          0.75,
          0.95
         ],
         "yaxis": "y"
        },
        {
         "hoverlabel": {
          "namelength": 0
         },
         "hovertemplate": "<b>OLS trendline</b><br>Beta = -0.090165 * MarketCapUniformed + 0.874085<br>R<sup>2</sup>=0.131074<br><br>GICSSector=Health Care<br>MarketCapUniformed=%{x}<br>Beta=%{y} <b>(trend)</b>",
         "legendgroup": "GICSSector=Health Care",
         "marker": {
          "color": "#EF553B",
          "symbol": "circle"
         },
         "mode": "lines",
         "name": "GICSSector=Health Care",
         "showlegend": false,
         "type": "scatter",
         "x": [
          -0.4337432608567569,
          -0.39927890789592746,
          -0.3883469420621984,
          -0.38702650798677607,
          -0.3805062249941867,
          -0.3779984238431908,
          -0.3475772604931507,
          -0.3437080815744713,
          -0.31001142284353855,
          -0.29271271286319944,
          -0.2537752615228386,
          -0.12892770789550367,
          -0.09306103347472959,
          -0.07059318234641934,
          0.06516586526851405,
          0.27353855110861053,
          0.3328761971180932,
          0.3430302327988603,
          0.38682974759523364,
          0.486404807174369,
          0.646412756530973,
          0.6869674837156496,
          0.717859499526693,
          0.9147884233797959,
          1.5515242535791889,
          1.6416208483998662
         ],
         "xaxis": "x",
         "y": [
          0.913193729593134,
          0.9100862380647667,
          0.9091005531962499,
          0.9089814957542661,
          0.9083935919516021,
          0.9081674751044235,
          0.9054245393092624,
          0.9050756733164727,
          0.9020374012311192,
          0.900477656448541,
          0.8969668462988798,
          0.8857099190130182,
          0.8824759866354123,
          0.8804501642698743,
          0.8682093979673094,
          0.8494213952815437,
          0.8440711937995284,
          0.8431556512999322,
          0.8392064513445168,
          0.8302282281226703,
          0.8158010503467754,
          0.8121444179038317,
          0.8093590275169554,
          0.791602855995049,
          0.7341913270334757,
          0.7260677332013732
         ],
         "yaxis": "y"
        },
        {
         "hoverlabel": {
          "namelength": 0
         },
         "hovertemplate": "GICSSector=Information Technology<br>MarketCapUniformed=%{x}<br>Beta=%{y}",
         "legendgroup": "GICSSector=Information Technology",
         "marker": {
          "color": "#00cc96",
          "symbol": "circle"
         },
         "mode": "markers",
         "name": "GICSSector=Information Technology",
         "showlegend": true,
         "type": "scatter",
         "x": [
          0.6702317495039014,
          -0.4654950942052847,
          -0.22091794848325957,
          -0.1310363080469533,
          10.71879647900625,
          -0.05243465482859594,
          0.18024834829156286,
          0.6079563935746807,
          -0.38600291568024714,
          1.5143064373137967,
          -0.3913153597511323,
          -0.18905351998101363,
          -0.289795474789592,
          -0.4551977556016035,
          0.2670387399621517,
          -0.45624181975426303,
          -0.05027487506181987,
          -0.27053146758071733,
          1.8150276210489342,
          0.6882981537141373,
          0.1511987986322715,
          -0.42114283956338566,
          -0.4418705837705967,
          -0.2727731347320157,
          -0.18452924198615572,
          2.1786894957125362,
          -0.373443438079137,
          -0.30364467869692857,
          10.195832933677549,
          -0.2419527703824293,
          -0.3938231609021282,
          0.6859029477168596,
          1.2885224463396427,
          -0.22219743886642074,
          0.43090563231436985,
          -0.3785409277656511,
          -0.3732898992331577,
          -0.20857342526652053,
          0.6065233643455402,
          -0.28878211840612833,
          2.518266243403512,
          -0.42383488732955676,
          -0.4607353899799251,
          -0.28761522317668536
         ],
         "xaxis": "x",
         "y": [
          0.99,
          1.25,
          1.12,
          1.29,
          1.53,
          1.52,
          1.05,
          1.3,
          0.91,
          1.29,
          0.63,
          0.92,
          1.27,
          1.4,
          0.89,
          0.96,
          1.2,
          1.26,
          1.23,
          0.99,
          1.29,
          0.79,
          1.07,
          1.49,
          1.53,
          1.39,
          1.35,
          1.56,
          1.34,
          0.9,
          1.5,
          2.07,
          1.02,
          0.89,
          1,
          1.42,
          1.52,
          1.07,
          1.28,
          0,
          1.17,
          0.69,
          1.34,
          1.54
         ],
         "yaxis": "y"
        },
        {
         "hoverlabel": {
          "namelength": 0
         },
         "hovertemplate": "<b>OLS trendline</b><br>Beta = 0.027917 * MarketCapUniformed + 1.170396<br>R<sup>2</sup>=0.037324<br><br>GICSSector=Information Technology<br>MarketCapUniformed=%{x}<br>Beta=%{y} <b>(trend)</b>",
         "legendgroup": "GICSSector=Information Technology",
         "marker": {
          "color": "#00cc96",
          "symbol": "circle"
         },
         "mode": "lines",
         "name": "GICSSector=Information Technology",
         "showlegend": false,
         "type": "scatter",
         "x": [
          -0.4654950942052847,
          -0.4607353899799251,
          -0.45624181975426303,
          -0.4551977556016035,
          -0.4418705837705967,
          -0.42383488732955676,
          -0.42114283956338566,
          -0.3938231609021282,
          -0.3913153597511323,
          -0.38600291568024714,
          -0.3785409277656511,
          -0.373443438079137,
          -0.3732898992331577,
          -0.30364467869692857,
          -0.289795474789592,
          -0.28878211840612833,
          -0.28761522317668536,
          -0.2727731347320157,
          -0.27053146758071733,
          -0.2419527703824293,
          -0.22219743886642074,
          -0.22091794848325957,
          -0.20857342526652053,
          -0.18905351998101363,
          -0.18452924198615572,
          -0.1310363080469533,
          -0.05243465482859594,
          -0.05027487506181987,
          0.1511987986322715,
          0.18024834829156286,
          0.2670387399621517,
          0.43090563231436985,
          0.6065233643455402,
          0.6079563935746807,
          0.6702317495039014,
          0.6859029477168596,
          0.6882981537141373,
          1.2885224463396427,
          1.5143064373137967,
          1.8150276210489342,
          2.1786894957125362,
          2.518266243403512,
          10.195832933677549,
          10.71879647900625
         ],
         "xaxis": "x",
         "y": [
          1.1574011463002556,
          1.157534022170053,
          1.1576594684213242,
          1.1576886153863122,
          1.158060667821745,
          1.1585641673541822,
          1.1586393208031214,
          1.1594019997203033,
          1.1594720095871858,
          1.1596203162031533,
          1.159828631276449,
          1.1599709370466835,
          1.1599752233650642,
          1.1619194973824885,
          1.1623061233004155,
          1.1623344130017272,
          1.1623669890214194,
          1.1627813331315406,
          1.162843913379897,
          1.1636417401077994,
          1.164193246406099,
          1.1642289657259368,
          1.1645735857237343,
          1.1651185196671834,
          1.1652448231821309,
          1.1667381765059197,
          1.1689324857622103,
          1.168992779974097,
          1.1746172869530742,
          1.175428258390677,
          1.1778511712939312,
          1.182425816024229,
          1.1873285069879191,
          1.1873685126261377,
          1.189107043361295,
          1.1895445335906711,
          1.189611400157408,
          1.2063677617252713,
          1.2126709357811716,
          1.221066118961346,
          1.2312184069229937,
          1.24069831440801,
          1.4550316644643404,
          1.4696311506231035
         ],
         "yaxis": "y"
        },
        {
         "hoverlabel": {
          "namelength": 0
         },
         "hovertemplate": "GICSSector=Communication Services<br>MarketCapUniformed=%{x}<br>Beta=%{y}",
         "legendgroup": "GICSSector=Communication Services",
         "marker": {
          "color": "#ab63fa",
          "symbol": "circle"
         },
         "mode": "markers",
         "name": "GICSSector=Communication Services",
         "showlegend": true,
         "type": "scatter",
         "x": [
          -0.09997028154379994,
          2.292502724275489,
          -0.3902815315215381,
          1.5967670335277682,
          -0.4454019772281215,
          -0.44684524238032736,
          -0.44450121599837605,
          -0.35939975163355997,
          2.047178356169698,
          -0.43958797292703716,
          1.8876514951971624
         ],
         "xaxis": "x",
         "y": [
          1.22,
          0.59,
          0.99,
          0.84,
          0.8,
          0.96,
          0.95,
          0.67,
          0.32,
          0.97,
          0.81
         ],
         "yaxis": "y"
        },
        {
         "hoverlabel": {
          "namelength": 0
         },
         "hovertemplate": "<b>OLS trendline</b><br>Beta = -0.127957 * MarketCapUniformed + 0.889558<br>R<sup>2</sup>=0.405072<br><br>GICSSector=Communication Services<br>MarketCapUniformed=%{x}<br>Beta=%{y} <b>(trend)</b>",
         "legendgroup": "GICSSector=Communication Services",
         "marker": {
          "color": "#ab63fa",
          "symbol": "circle"
         },
         "mode": "lines",
         "name": "GICSSector=Communication Services",
         "showlegend": false,
         "type": "scatter",
         "x": [
          -0.44684524238032736,
          -0.4454019772281215,
          -0.44450121599837605,
          -0.43958797292703716,
          -0.3902815315215381,
          -0.35939975163355997,
          -0.09997028154379994,
          1.5967670335277682,
          1.8876514951971624,
          2.047178356169698,
          2.292502724275489
         ],
         "xaxis": "x",
         "y": [
          0.9467347586014777,
          0.9465500826038715,
          0.9464348238252236,
          0.9458061395780535,
          0.939497031205931,
          0.9355454887606968,
          0.9023496507512627,
          0.6852400947852813,
          0.6480193678351098,
          0.6276067761848029,
          0.5962157858682866
         ],
         "yaxis": "y"
        },
        {
         "hoverlabel": {
          "namelength": 0
         },
         "hovertemplate": "GICSSector=Consumer Discretionary<br>MarketCapUniformed=%{x}<br>Beta=%{y}",
         "legendgroup": "GICSSector=Consumer Discretionary",
         "marker": {
          "color": "#FFA15A",
          "symbol": "circle"
         },
         "mode": "markers",
         "name": "GICSSector=Consumer Discretionary",
         "showlegend": true,
         "type": "scatter",
         "x": [
          -0.40956601057654335,
          -0.2958653771673086,
          -0.3357854771219373,
          -0.4796616117276452,
          -0.4457090549200802,
          -0.29293790317063584,
          -0.32471020836529413,
          -0.39167361705841747,
          -0.1013726030037446,
          -0.19366992128345917,
          -0.3228063266751503,
          -0.15407737086691975,
          -0.46268021536233006,
          -0.3617642498616418,
          0.0048046269525024235,
          -0.3743544352319478,
          -0.4703776295074277,
          -0.46675411274231526,
          -0.40181741681611927,
          -0.24901555729747898,
          2.1003949201861376,
          -0.44346738776878186,
          -0.4803474185730196,
          -0.4698351255849674,
          -0.32972581066728596,
          0.35071741102089266,
          -0.4806749681111088,
          -0.11390137283565882,
          0.944922980884008,
          -0.47210750050546163,
          -0.4534269409113084,
          -0.41842008402801867,
          -0.46059208705701105,
          -0.12333889390185565,
          -0.29495438001449786,
          0.483538748716088,
          -0.453764726372463,
          0.052176478898661796,
          -0.41593275472315333,
          0.21057738833401538,
          -0.41410052449446655,
          -0.15733239440168179,
          -0.4247765922515634,
          -0.4025953469690812,
          -0.1898826297493021
         ],
         "xaxis": "x",
         "y": [
          0.65,
          1.22,
          1.26,
          0.62,
          1.27,
          1.04,
          0.73,
          0.66,
          0.82,
          1.02,
          0.84,
          0.91,
          1.01,
          0.81,
          1.06,
          0.73,
          1.11,
          1.25,
          1.02,
          1.01,
          0.94,
          1.19,
          1.41,
          1.11,
          0.65,
          1.1,
          1.14,
          1.08,
          1.1,
          1.05,
          1.11,
          0.64,
          1.37,
          1.05,
          1.22,
          0.75,
          1.32,
          0.94,
          1.11,
          0.95,
          0.97,
          1.11,
          1.17,
          1.82,
          0.52
         ],
         "yaxis": "y"
        },
        {
         "hoverlabel": {
          "namelength": 0
         },
         "hovertemplate": "<b>OLS trendline</b><br>Beta = -0.064752 * MarketCapUniformed + 1.005604<br>R<sup>2</sup>=0.013947<br><br>GICSSector=Consumer Discretionary<br>MarketCapUniformed=%{x}<br>Beta=%{y} <b>(trend)</b>",
         "legendgroup": "GICSSector=Consumer Discretionary",
         "marker": {
          "color": "#FFA15A",
          "symbol": "circle"
         },
         "mode": "lines",
         "name": "GICSSector=Consumer Discretionary",
         "showlegend": false,
         "type": "scatter",
         "x": [
          -0.4806749681111088,
          -0.4803474185730196,
          -0.4796616117276452,
          -0.47210750050546163,
          -0.4703776295074277,
          -0.4698351255849674,
          -0.46675411274231526,
          -0.46268021536233006,
          -0.46059208705701105,
          -0.453764726372463,
          -0.4534269409113084,
          -0.4457090549200802,
          -0.44346738776878186,
          -0.4247765922515634,
          -0.41842008402801867,
          -0.41593275472315333,
          -0.41410052449446655,
          -0.40956601057654335,
          -0.4025953469690812,
          -0.40181741681611927,
          -0.39167361705841747,
          -0.3743544352319478,
          -0.3617642498616418,
          -0.3357854771219373,
          -0.32972581066728596,
          -0.32471020836529413,
          -0.3228063266751503,
          -0.2958653771673086,
          -0.29495438001449786,
          -0.29293790317063584,
          -0.24901555729747898,
          -0.19366992128345917,
          -0.1898826297493021,
          -0.15733239440168179,
          -0.15407737086691975,
          -0.12333889390185565,
          -0.11390137283565882,
          -0.1013726030037446,
          0.0048046269525024235,
          0.052176478898661796,
          0.21057738833401538,
          0.35071741102089266,
          0.483538748716088,
          0.944922980884008,
          2.1003949201861376
         ],
         "xaxis": "x",
         "y": [
          1.0367290384940928,
          1.0367078289870888,
          1.036663421581799,
          1.0361742773265163,
          1.036062264617651,
          1.0360271363716753,
          1.035827634446418,
          1.0355638412030541,
          1.035428630595903,
          1.0349865449342859,
          1.034964672630188,
          1.0344649236214034,
          1.034319771057844,
          1.0331095035644218,
          1.032697906569123,
          1.0325368468753107,
          1.0324182061955063,
          1.032124587082918,
          1.0316732222619867,
          1.031622849682852,
          1.0309660177628182,
          1.0298445650799757,
          1.0290293246545048,
          1.027347145630241,
          1.026954769750665,
          1.0266299991746644,
          1.0265067189152028,
          1.0247622369641143,
          1.0247032480227591,
          1.024572676995265,
          1.0217286146654319,
          1.0181448707788303,
          1.017899635854095,
          1.0157919410955611,
          1.0155811716197076,
          1.0135907919467901,
          1.012979693026234,
          1.0121684293833266,
          1.0052932351285238,
          1.0022258101780535,
          0.991969025150282,
          0.9828946701379897,
          0.9742942150478208,
          0.944418636041242,
          0.869599448895848
         ],
         "yaxis": "y"
        },
        {
         "hoverlabel": {
          "namelength": 0
         },
         "hovertemplate": "GICSSector=Utilities<br>MarketCapUniformed=%{x}<br>Beta=%{y}",
         "legendgroup": "GICSSector=Utilities",
         "marker": {
          "color": "#19d3f3",
          "symbol": "circle"
         },
         "mode": "markers",
         "name": "GICSSector=Utilities",
         "showlegend": true,
         "type": "scatter",
         "x": [
          -0.41382415457170374,
          -0.3998111758953225,
          -0.3363382169674629,
          -0.052885035443468675,
          -0.30473992246491455,
          -0.393495611364039,
          -0.37805983938158255,
          -0.34637965749451183,
          -0.21166467403223796,
          0.1657031016157866,
          -0.28758451540748947,
          0.18700405751465385,
          -0.2846775132569473,
          -0.3772204936902288,
          -0.2451566143018649,
          -0.0762331759553938,
          -0.2626498068204445,
          -0.4250324903281956,
          -0.42199242117780467,
          -0.2849231754105142,
          -0.20550264834693371,
          -0.11430057383520512,
          0.1325694186534448,
          -0.22946494424277622,
          -0.19051725697935004
         ],
         "xaxis": "x",
         "y": [
          0.66,
          0.23,
          0.27,
          0.17,
          0.24,
          0.3,
          0.38,
          0.21,
          0.19,
          0.21,
          0.24,
          0.19,
          0.19,
          0.15,
          0.21,
          0.27,
          0.33,
          0.71,
          0.22,
          0.33,
          0.33,
          0.36,
          0.2,
          0.17,
          0.25
         ],
         "yaxis": "y"
        },
        {
         "hoverlabel": {
          "namelength": 0
         },
         "hovertemplate": "<b>OLS trendline</b><br>Beta = -0.286803 * MarketCapUniformed + 0.214353<br>R<sup>2</sup>=0.142737<br><br>GICSSector=Utilities<br>MarketCapUniformed=%{x}<br>Beta=%{y} <b>(trend)</b>",
         "legendgroup": "GICSSector=Utilities",
         "marker": {
          "color": "#19d3f3",
          "symbol": "circle"
         },
         "mode": "lines",
         "name": "GICSSector=Utilities",
         "showlegend": false,
         "type": "scatter",
         "x": [
          -0.4250324903281956,
          -0.42199242117780467,
          -0.41382415457170374,
          -0.3998111758953225,
          -0.393495611364039,
          -0.37805983938158255,
          -0.3772204936902288,
          -0.34637965749451183,
          -0.3363382169674629,
          -0.30473992246491455,
          -0.28758451540748947,
          -0.2849231754105142,
          -0.2846775132569473,
          -0.2626498068204445,
          -0.2451566143018649,
          -0.22946494424277622,
          -0.21166467403223796,
          -0.20550264834693371,
          -0.19051725697935004,
          -0.11430057383520512,
          -0.0762331759553938,
          -0.052885035443468675,
          0.1325694186534448,
          0.1657031016157866,
          0.18700405751465385
         ],
         "xaxis": "x",
         "y": [
          0.3362536286258845,
          0.3353817266648567,
          0.3330390405877517,
          0.32902007161587593,
          0.3272087466665353,
          0.3227817158341113,
          0.3225409886933561,
          0.3136957341190234,
          0.310815815520477,
          0.301753319380097,
          0.29683309147880865,
          0.2960698103008045,
          0.29599935357668106,
          0.28968173398027747,
          0.2846646280833194,
          0.2801642048299334,
          0.27505902802782106,
          0.2732917385310576,
          0.26899387835952654,
          0.24713467970022307,
          0.23621682315792525,
          0.22952049866935806,
          0.1763315433498227,
          0.16682869268367106,
          0.16071950756279937
         ],
         "yaxis": "y"
        },
        {
         "hoverlabel": {
          "namelength": 0
         },
         "hovertemplate": "GICSSector=Financials<br>MarketCapUniformed=%{x}<br>Beta=%{y}",
         "legendgroup": "GICSSector=Financials",
         "marker": {
          "color": "#FF6692",
          "symbol": "circle"
         },
         "mode": "markers",
         "name": "GICSSector=Financials",
         "showlegend": true,
         "type": "scatter",
         "x": [
          -0.132581932429812,
          -0.1657053794690885,
          0.459064656666981,
          -0.338037380196301,
          -0.06807514527235815,
          -0.3585194622499451,
          -0.4510522067601613,
          2.463442639465822,
          -0.0793244247211112,
          -0.1107282366854191,
          0.19294089289252173,
          -0.08350068133174929,
          -0.39986235551064897,
          0.02332141177761096,
          0.17027855922597096,
          -0.33969559973287783,
          1.145076220502677,
          -0.3655617773188642,
          0.2110380048719534,
          -0.4296693634767717,
          -0.2679315431221338,
          -0.42985361009194695,
          -0.4262608010960304,
          -0.3199505041399346,
          -0.3464820167251647,
          -0.3864840040643157,
          0.24752907059971013,
          -0.31604038152899405,
          -0.3765039790756585,
          0.002859801570097436,
          -0.36402638885907074,
          -0.4715957043521971,
          3.564858669060158,
          -0.3430120388060316,
          -0.40356775966028374,
          -0.37206158846532295,
          -0.31427980276176426,
          -0.0172026076378698,
          -0.08402271340807904,
          -0.11971537713674321,
          0.24646453460092002,
          -0.34093414642377784,
          -0.3594406953258211,
          -0.30990906361288567,
          -0.46108341136414493,
          -0.36661607739458896,
          -0.15342227179074122,
          -0.41096833203648797,
          -0.36395473739761375,
          0.08470624240015152,
          -0.2788225652636017,
          -0.2165369734113157,
          -0.29192454678717217,
          -0.268893719890271,
          -0.1779782512243705,
          0.3824180647540939,
          -0.46771628951045247,
          1.7667550078730292,
          -0.28625384540900184,
          -0.44338550038425956
         ],
         "xaxis": "x",
         "y": [
          0.68,
          0.69,
          1.06,
          1.46,
          0.77,
          0.74,
          0.76,
          1.13,
          0.78,
          0.83,
          1.21,
          1.19,
          0.31,
          1.18,
          0.62,
          0.66,
          1.29,
          1.07,
          0.39,
          0.97,
          1.27,
          1.27,
          0.5,
          0.95,
          0.93,
          1.05,
          1.18,
          0.72,
          0.96,
          0.61,
          1.2,
          1.28,
          0.97,
          1.06,
          1.35,
          0.9,
          0.82,
          0.81,
          1.03,
          1.22,
          1.22,
          1.3,
          0.84,
          1.14,
          0.9,
          1.18,
          1.2,
          1.16,
          1.11,
          1,
          1.03,
          0.91,
          1.01,
          1.22,
          0.69,
          0.79,
          1.24,
          0.84,
          0.73,
          0.99
         ],
         "yaxis": "y"
        },
        {
         "hoverlabel": {
          "namelength": 0
         },
         "hovertemplate": "<b>OLS trendline</b><br>Beta = 0.007496 * MarketCapUniformed + 0.973198<br>R<sup>2</sup>=0.000439<br><br>GICSSector=Financials<br>MarketCapUniformed=%{x}<br>Beta=%{y} <b>(trend)</b>",
         "legendgroup": "GICSSector=Financials",
         "marker": {
          "color": "#FF6692",
          "symbol": "circle"
         },
         "mode": "lines",
         "name": "GICSSector=Financials",
         "showlegend": false,
         "type": "scatter",
         "x": [
          -0.4715957043521971,
          -0.46771628951045247,
          -0.46108341136414493,
          -0.4510522067601613,
          -0.44338550038425956,
          -0.42985361009194695,
          -0.4296693634767717,
          -0.4262608010960304,
          -0.41096833203648797,
          -0.40356775966028374,
          -0.39986235551064897,
          -0.3864840040643157,
          -0.3765039790756585,
          -0.37206158846532295,
          -0.36661607739458896,
          -0.3655617773188642,
          -0.36402638885907074,
          -0.36395473739761375,
          -0.3594406953258211,
          -0.3585194622499451,
          -0.3464820167251647,
          -0.3430120388060316,
          -0.34093414642377784,
          -0.33969559973287783,
          -0.338037380196301,
          -0.3199505041399346,
          -0.31604038152899405,
          -0.31427980276176426,
          -0.30990906361288567,
          -0.29192454678717217,
          -0.28625384540900184,
          -0.2788225652636017,
          -0.268893719890271,
          -0.2679315431221338,
          -0.2165369734113157,
          -0.1779782512243705,
          -0.1657053794690885,
          -0.15342227179074122,
          -0.132581932429812,
          -0.11971537713674321,
          -0.1107282366854191,
          -0.08402271340807904,
          -0.08350068133174929,
          -0.0793244247211112,
          -0.06807514527235815,
          -0.0172026076378698,
          0.002859801570097436,
          0.02332141177761096,
          0.08470624240015152,
          0.17027855922597096,
          0.19294089289252173,
          0.2110380048719534,
          0.24646453460092002,
          0.24752907059971013,
          0.3824180647540939,
          0.459064656666981,
          1.145076220502677,
          1.7667550078730292,
          2.463442639465822,
          3.564858669060158
         ],
         "xaxis": "x",
         "y": [
          0.9696629216575856,
          0.9696920011517809,
          0.9697417201814339,
          0.9698169125410943,
          0.9698743809874062,
          0.9699758139460501,
          0.9699771950302072,
          0.9700027450871123,
          0.9701173750721456,
          0.9701728486191196,
          0.9702006237560553,
          0.9703009058112352,
          0.9703757145364075,
          0.9704090140099714,
          0.9704498327195014,
          0.9704577355899555,
          0.9704692446245974,
          0.9704697817128807,
          0.9705036182747279,
          0.970510523695513,
          0.9706007545271055,
          0.9706267649453962,
          0.9706423405056116,
          0.9706516244602227,
          0.970664054217636,
          0.9707996306457176,
          0.9708289403206056,
          0.9708421373469951,
          0.9708748997322757,
          0.9710097088913812,
          0.9710522155926585,
          0.9711079193203254,
          0.9711823444110097,
          0.9711895567393853,
          0.9715748024922986,
          0.9718638327156056,
          0.9719558282658433,
          0.9720479005429784,
          0.9722041165065178,
          0.972300562216817,
          0.972367928432921,
          0.9725681089087924,
          0.9725720219805707,
          0.9726033265547966,
          0.9726876494152731,
          0.9730689820964081,
          0.973219366815729,
          0.9733727438840567,
          0.97383287508904,
          0.9744743119530821,
          0.9746441853043966,
          0.9747798384593758,
          0.9750453902520133,
          0.9750533698493651,
          0.9760644769061051,
          0.9766390079154289,
          0.9817812445934312,
          0.9864412527199379,
          0.9916635155521503,
          0.9999195599159684
         ],
         "yaxis": "y"
        },
        {
         "hoverlabel": {
          "namelength": 0
         },
         "hovertemplate": "GICSSector=Materials<br>MarketCapUniformed=%{x}<br>Beta=%{y}",
         "legendgroup": "GICSSector=Materials",
         "marker": {
          "color": "#B6E880",
          "symbol": "circle"
         },
         "mode": "markers",
         "name": "GICSSector=Materials",
         "showlegend": true,
         "type": "scatter",
         "x": [
          -0.05642666482405881,
          -0.4570402217533556,
          -0.28866952325241013,
          -0.3760024188454594,
          -0.4278268973250196,
          -0.42530886025095843,
          0.024549722545445688,
          -0.42003735987233437,
          -0.37977947445655114,
          -0.3557455270992516,
          0.5416071402654747,
          -0.22752011886037124,
          -0.3614571721696831,
          -0.4505608824530274,
          -0.36584838316469226,
          -0.42357898925292453,
          -0.22916810247388283,
          -0.4642770193605152,
          0.0022558821092453613,
          -0.33456740227716786,
          -0.42946464501546594
         ],
         "xaxis": "x",
         "y": [
          0.82,
          1.41,
          0.7,
          1.15,
          1.19,
          1.26,
          0.81,
          1.12,
          1.61,
          1.16,
          0.75,
          1.11,
          0.68,
          1.29,
          1.16,
          1.08,
          0.92,
          0.58,
          0.82,
          0.9,
          1.3
         ],
         "yaxis": "y"
        },
        {
         "hoverlabel": {
          "namelength": 0
         },
         "hovertemplate": "<b>OLS trendline</b><br>Beta = -0.526178 * MarketCapUniformed + 0.891095<br>R<sup>2</sup>=0.219895<br><br>GICSSector=Materials<br>MarketCapUniformed=%{x}<br>Beta=%{y} <b>(trend)</b>",
         "legendgroup": "GICSSector=Materials",
         "marker": {
          "color": "#B6E880",
          "symbol": "circle"
         },
         "mode": "lines",
         "name": "GICSSector=Materials",
         "showlegend": false,
         "type": "scatter",
         "x": [
          -0.4642770193605152,
          -0.4570402217533556,
          -0.4505608824530274,
          -0.42946464501546594,
          -0.4278268973250196,
          -0.42530886025095843,
          -0.42357898925292453,
          -0.42003735987233437,
          -0.37977947445655114,
          -0.3760024188454594,
          -0.36584838316469226,
          -0.3614571721696831,
          -0.3557455270992516,
          -0.33456740227716786,
          -0.28866952325241013,
          -0.22916810247388283,
          -0.22752011886037124,
          -0.05642666482405881,
          0.0022558821092453613,
          0.024549722545445688,
          0.5416071402654747
         ],
         "xaxis": "x",
         "y": [
          1.13538698106155,
          1.1315791406752667,
          1.1281698578400225,
          1.1170694914522852,
          1.1162077453959833,
          1.1148828108344193,
          1.1139725915624505,
          1.112109065715698,
          1.0909262704692297,
          1.0889388686268837,
          1.0835960430778127,
          1.0812854864643535,
          1.078280147093001,
          1.0671366934024484,
          1.0429862601745907,
          1.0116779487665764,
          1.0108108167974228,
          0.9207852834781453,
          0.8899078450982818,
          0.8781773269068738,
          0.6061133251066952
         ],
         "yaxis": "y"
        },
        {
         "hoverlabel": {
          "namelength": 0
         },
         "hovertemplate": "GICSSector=Real Estate<br>MarketCapUniformed=%{x}<br>Beta=%{y}",
         "legendgroup": "GICSSector=Real Estate",
         "marker": {
          "color": "#FF97FF",
          "symbol": "circle"
         },
         "mode": "markers",
         "name": "GICSSector=Real Estate",
         "showlegend": true,
         "type": "scatter",
         "x": [
          -0.34617493903320606,
          -0.44686571422645793,
          -0.2135378479531859,
          -0.3230110451364561,
          -0.4026260547382771,
          -0.19678164189530714,
          -0.3093153800750989,
          -0.36986086500628573,
          -0.4218695901010212,
          -0.3395522968099638,
          -0.40433545389018044,
          -0.4294237013232048,
          -0.43833919031307184,
          -0.4852913694135544,
          0.06327221950143551,
          -0.10055372915852144,
          -0.26865829365976934,
          -0.41113210680553264,
          0.5192928279831439,
          -0.4555969566011498,
          -0.2511343933719939,
          -0.4038338936599813
         ],
         "xaxis": "x",
         "y": [
          0.58,
          0.45,
          0.41,
          0.66,
          0.59,
          0.37,
          0.4,
          0.24,
          0.49,
          0.3,
          0.86,
          0.56,
          0.66,
          0.7,
          0.72,
          0.13,
          0.35,
          0.49,
          0.56,
          0.66,
          0.27,
          0.63
         ],
         "yaxis": "y"
        },
        {
         "hoverlabel": {
          "namelength": 0
         },
         "hovertemplate": "<b>OLS trendline</b><br>Beta = -0.100494 * MarketCapUniformed + 0.474240<br>R<sup>2</sup>=0.015321<br><br>GICSSector=Real Estate<br>MarketCapUniformed=%{x}<br>Beta=%{y} <b>(trend)</b>",
         "legendgroup": "GICSSector=Real Estate",
         "marker": {
          "color": "#FF97FF",
          "symbol": "circle"
         },
         "mode": "lines",
         "name": "GICSSector=Real Estate",
         "showlegend": false,
         "type": "scatter",
         "x": [
          -0.4852913694135544,
          -0.4555969566011498,
          -0.44686571422645793,
          -0.43833919031307184,
          -0.4294237013232048,
          -0.4218695901010212,
          -0.41113210680553264,
          -0.40433545389018044,
          -0.4038338936599813,
          -0.4026260547382771,
          -0.36986086500628573,
          -0.34617493903320606,
          -0.3395522968099638,
          -0.3230110451364561,
          -0.3093153800750989,
          -0.26865829365976934,
          -0.2511343933719939,
          -0.2135378479531859,
          -0.19678164189530714,
          -0.10055372915852144,
          0.06327221950143551,
          0.5192928279831439
         ],
         "xaxis": "x",
         "y": [
          0.5230091950563687,
          0.5200250908530164,
          0.5191476551806761,
          0.5182907924432087,
          0.5173948411294825,
          0.5166356998326629,
          0.5155566493985655,
          0.5148736279607764,
          0.5148232242703372,
          0.5147018439545855,
          0.5114091457281358,
          0.5090288571633108,
          0.508363322720164,
          0.5067010295824125,
          0.5053247002393979,
          0.5012389153735877,
          0.49947787214844497,
          0.49569965265898863,
          0.4940157579396202,
          0.48434544990249,
          0.4678819587702414,
          0.42205471769352737
         ],
         "yaxis": "y"
        },
        {
         "hoverlabel": {
          "namelength": 0
         },
         "hovertemplate": "GICSSector=Consumer Staples<br>MarketCapUniformed=%{x}<br>Beta=%{y}",
         "legendgroup": "GICSSector=Consumer Staples",
         "marker": {
          "color": "#FECB52",
          "symbol": "circle"
         },
         "mode": "markers",
         "name": "GICSSector=Consumer Staples",
         "showlegend": true,
         "type": "scatter",
         "x": [
          0.36371703331381017,
          -0.2980149210110194,
          -0.21396775672192805,
          -0.38286048729920324,
          -0.33981843080966134,
          -0.33778148211966874,
          1.861324701073238,
          0.06294466996334626,
          -0.3926869734418811,
          -0.1427359681105791,
          0.8078025555013911,
          0.15694115147189888,
          -0.21359926349157765,
          -0.20905451365058914,
          -0.30732961100043277,
          -0.40436616165937633,
          -0.31331762599362706,
          -0.05709199982330262,
          -0.3252527122877545,
          -0.4183791403357575,
          -0.3119153045336824,
          -0.39856239328135723,
          0.24698656667724977,
          1.4316411226385195,
          0.7721610713880533,
          -0.11703356529363738,
          -0.29645906070509537,
          2.944510551688294,
          -0.02584172670497406
         ],
         "xaxis": "x",
         "y": [
          0.63,
          0.8,
          0.73,
          0.35,
          0.33,
          0.42,
          0.43,
          0.59,
          0.78,
          0.77,
          0.85,
          1.03,
          0.36,
          0.24,
          0.45,
          0.26,
          0.42,
          0.44,
          0.63,
          0.3,
          0.41,
          0.65,
          0.57,
          0.51,
          0.6,
          0.49,
          0.48,
          0.61,
          0.97
         ],
         "yaxis": "y"
        },
        {
         "hoverlabel": {
          "namelength": 0
         },
         "hovertemplate": "<b>OLS trendline</b><br>Beta = 0.037035 * MarketCapUniformed + 0.551160<br>R<sup>2</sup>=0.019690<br><br>GICSSector=Consumer Staples<br>MarketCapUniformed=%{x}<br>Beta=%{y} <b>(trend)</b>",
         "legendgroup": "GICSSector=Consumer Staples",
         "marker": {
          "color": "#FECB52",
          "symbol": "circle"
         },
         "mode": "lines",
         "name": "GICSSector=Consumer Staples",
         "showlegend": false,
         "type": "scatter",
         "x": [
          -0.4183791403357575,
          -0.40436616165937633,
          -0.39856239328135723,
          -0.3926869734418811,
          -0.38286048729920324,
          -0.33981843080966134,
          -0.33778148211966874,
          -0.3252527122877545,
          -0.31331762599362706,
          -0.3119153045336824,
          -0.30732961100043277,
          -0.2980149210110194,
          -0.29645906070509537,
          -0.21396775672192805,
          -0.21359926349157765,
          -0.20905451365058914,
          -0.1427359681105791,
          -0.11703356529363738,
          -0.05709199982330262,
          -0.02584172670497406,
          0.06294466996334626,
          0.15694115147189888,
          0.24698656667724977,
          0.36371703331381017,
          0.7721610713880533,
          0.8078025555013911,
          1.4316411226385195,
          1.861324701073238,
          2.944510551688294
         ],
         "xaxis": "x",
         "y": [
          0.5356653076850116,
          0.536184276611002,
          0.5363992184525189,
          0.5366168138970174,
          0.5369807365916491,
          0.5385747938113641,
          0.5386502319532721,
          0.5391142333889276,
          0.539556247828449,
          0.5396081826296621,
          0.5397780132204902,
          0.5401229816081099,
          0.5401806027014265,
          0.5432356579056318,
          0.5432493050066804,
          0.5434176192529476,
          0.5458737183555715,
          0.5468256036537176,
          0.5490455320909711,
          0.550202882077128,
          0.5534910752575816,
          0.5569722232834181,
          0.5603070440591215,
          0.564630142402434,
          0.5797568166564854,
          0.5810767945968058,
          0.6041805784999564,
          0.6200938564950087,
          0.660209510027631
         ],
         "yaxis": "y"
        },
        {
         "hoverlabel": {
          "namelength": 0
         },
         "hovertemplate": "GICSSector=Energy<br>MarketCapUniformed=%{x}<br>Beta=%{y}",
         "legendgroup": "GICSSector=Energy",
         "marker": {
          "color": "#636efa",
          "symbol": "circle"
         },
         "mode": "markers",
         "name": "GICSSector=Energy",
         "showlegend": true,
         "type": "scatter",
         "x": [
          -0.30146442708402194,
          -0.45090890383724724,
          1.7623740328010855,
          -0.4839402275689362,
          -0.39553256005403153,
          0.10896538006488743,
          -0.4420957740780331,
          -0.3847643689893471,
          -0.10286704777127684,
          2.490598543358035,
          -0.3490205256453565,
          -0.43650696008438505,
          -0.05751167266897948,
          -0.4313787626286751,
          -0.08635650386696503,
          -0.13724951334758395,
          -0.23047830062623986,
          -0.02926052500878072,
          -0.3067768711549071,
          -0.13213155181493927
         ],
         "xaxis": "x",
         "y": [
          1.03,
          0.55,
          0.84,
          1.61,
          1.43,
          1.08,
          1.55,
          1.27,
          1.26,
          0.91,
          1.27,
          1.39,
          0.79,
          1.53,
          1.32,
          0.91,
          0.94,
          1.05,
          1.35,
          1.21
         ],
         "yaxis": "y"
        },
        {
         "hoverlabel": {
          "namelength": 0
         },
         "hovertemplate": "<b>OLS trendline</b><br>Beta = -0.153590 * MarketCapUniformed + 1.161457<br>R<sup>2</sup>=0.169693<br><br>GICSSector=Energy<br>MarketCapUniformed=%{x}<br>Beta=%{y} <b>(trend)</b>",
         "legendgroup": "GICSSector=Energy",
         "marker": {
          "color": "#636efa",
          "symbol": "circle"
         },
         "mode": "lines",
         "name": "GICSSector=Energy",
         "showlegend": false,
         "type": "scatter",
         "x": [
          -0.4839402275689362,
          -0.45090890383724724,
          -0.4420957740780331,
          -0.43650696008438505,
          -0.4313787626286751,
          -0.39553256005403153,
          -0.3847643689893471,
          -0.3490205256453565,
          -0.3067768711549071,
          -0.30146442708402194,
          -0.23047830062623986,
          -0.13724951334758395,
          -0.13213155181493927,
          -0.10286704777127684,
          -0.08635650386696503,
          -0.05751167266897948,
          -0.02926052500878072,
          0.10896538006488743,
          1.7623740328010855,
          2.490598543358035
         ],
         "xaxis": "x",
         "y": [
          1.2357848829169642,
          1.2307116062151089,
          1.229357998765373,
          1.2284996135533457,
          1.2277119743752765,
          1.2222063607992315,
          1.220552475738695,
          1.2150625835035296,
          1.2085743861225082,
          1.2077584485308555,
          1.1968556986308352,
          1.1825367013576722,
          1.181750634313691,
          1.177255902956206,
          1.1747200506723223,
          1.1702897768124438,
          1.1659506867296672,
          1.1447205880058209,
          0.8907737687772286,
          0.7789258612232204
         ],
         "yaxis": "y"
        }
       ],
       "layout": {
        "height": 400,
        "legend": {
         "tracegroupgap": 0
        },
        "margin": {
         "t": 60
        },
        "showlegend": false,
        "template": {
         "data": {
          "bar": [
           {
            "error_x": {
             "color": "#2a3f5f"
            },
            "error_y": {
             "color": "#2a3f5f"
            },
            "marker": {
             "line": {
              "color": "#E5ECF6",
              "width": 0.5
             }
            },
            "type": "bar"
           }
          ],
          "barpolar": [
           {
            "marker": {
             "line": {
              "color": "#E5ECF6",
              "width": 0.5
             }
            },
            "type": "barpolar"
           }
          ],
          "carpet": [
           {
            "aaxis": {
             "endlinecolor": "#2a3f5f",
             "gridcolor": "white",
             "linecolor": "white",
             "minorgridcolor": "white",
             "startlinecolor": "#2a3f5f"
            },
            "baxis": {
             "endlinecolor": "#2a3f5f",
             "gridcolor": "white",
             "linecolor": "white",
             "minorgridcolor": "white",
             "startlinecolor": "#2a3f5f"
            },
            "type": "carpet"
           }
          ],
          "choropleth": [
           {
            "colorbar": {
             "outlinewidth": 0,
             "ticks": ""
            },
            "type": "choropleth"
           }
          ],
          "contour": [
           {
            "colorbar": {
             "outlinewidth": 0,
             "ticks": ""
            },
            "colorscale": [
             [
              0,
              "#0d0887"
             ],
             [
              0.1111111111111111,
              "#46039f"
             ],
             [
              0.2222222222222222,
              "#7201a8"
             ],
             [
              0.3333333333333333,
              "#9c179e"
             ],
             [
              0.4444444444444444,
              "#bd3786"
             ],
             [
              0.5555555555555556,
              "#d8576b"
             ],
             [
              0.6666666666666666,
              "#ed7953"
             ],
             [
              0.7777777777777778,
              "#fb9f3a"
             ],
             [
              0.8888888888888888,
              "#fdca26"
             ],
             [
              1,
              "#f0f921"
             ]
            ],
            "type": "contour"
           }
          ],
          "contourcarpet": [
           {
            "colorbar": {
             "outlinewidth": 0,
             "ticks": ""
            },
            "type": "contourcarpet"
           }
          ],
          "heatmap": [
           {
            "colorbar": {
             "outlinewidth": 0,
             "ticks": ""
            },
            "colorscale": [
             [
              0,
              "#0d0887"
             ],
             [
              0.1111111111111111,
              "#46039f"
             ],
             [
              0.2222222222222222,
              "#7201a8"
             ],
             [
              0.3333333333333333,
              "#9c179e"
             ],
             [
              0.4444444444444444,
              "#bd3786"
             ],
             [
              0.5555555555555556,
              "#d8576b"
             ],
             [
              0.6666666666666666,
              "#ed7953"
             ],
             [
              0.7777777777777778,
              "#fb9f3a"
             ],
             [
              0.8888888888888888,
              "#fdca26"
             ],
             [
              1,
              "#f0f921"
             ]
            ],
            "type": "heatmap"
           }
          ],
          "heatmapgl": [
           {
            "colorbar": {
             "outlinewidth": 0,
             "ticks": ""
            },
            "colorscale": [
             [
              0,
              "#0d0887"
             ],
             [
              0.1111111111111111,
              "#46039f"
             ],
             [
              0.2222222222222222,
              "#7201a8"
             ],
             [
              0.3333333333333333,
              "#9c179e"
             ],
             [
              0.4444444444444444,
              "#bd3786"
             ],
             [
              0.5555555555555556,
              "#d8576b"
             ],
             [
              0.6666666666666666,
              "#ed7953"
             ],
             [
              0.7777777777777778,
              "#fb9f3a"
             ],
             [
              0.8888888888888888,
              "#fdca26"
             ],
             [
              1,
              "#f0f921"
             ]
            ],
            "type": "heatmapgl"
           }
          ],
          "histogram": [
           {
            "marker": {
             "colorbar": {
              "outlinewidth": 0,
              "ticks": ""
             }
            },
            "type": "histogram"
           }
          ],
          "histogram2d": [
           {
            "colorbar": {
             "outlinewidth": 0,
             "ticks": ""
            },
            "colorscale": [
             [
              0,
              "#0d0887"
             ],
             [
              0.1111111111111111,
              "#46039f"
             ],
             [
              0.2222222222222222,
              "#7201a8"
             ],
             [
              0.3333333333333333,
              "#9c179e"
             ],
             [
              0.4444444444444444,
              "#bd3786"
             ],
             [
              0.5555555555555556,
              "#d8576b"
             ],
             [
              0.6666666666666666,
              "#ed7953"
             ],
             [
              0.7777777777777778,
              "#fb9f3a"
             ],
             [
              0.8888888888888888,
              "#fdca26"
             ],
             [
              1,
              "#f0f921"
             ]
            ],
            "type": "histogram2d"
           }
          ],
          "histogram2dcontour": [
           {
            "colorbar": {
             "outlinewidth": 0,
             "ticks": ""
            },
            "colorscale": [
             [
              0,
              "#0d0887"
             ],
             [
              0.1111111111111111,
              "#46039f"
             ],
             [
              0.2222222222222222,
              "#7201a8"
             ],
             [
              0.3333333333333333,
              "#9c179e"
             ],
             [
              0.4444444444444444,
              "#bd3786"
             ],
             [
              0.5555555555555556,
              "#d8576b"
             ],
             [
              0.6666666666666666,
              "#ed7953"
             ],
             [
              0.7777777777777778,
              "#fb9f3a"
             ],
             [
              0.8888888888888888,
              "#fdca26"
             ],
             [
              1,
              "#f0f921"
             ]
            ],
            "type": "histogram2dcontour"
           }
          ],
          "mesh3d": [
           {
            "colorbar": {
             "outlinewidth": 0,
             "ticks": ""
            },
            "type": "mesh3d"
           }
          ],
          "parcoords": [
           {
            "line": {
             "colorbar": {
              "outlinewidth": 0,
              "ticks": ""
             }
            },
            "type": "parcoords"
           }
          ],
          "pie": [
           {
            "automargin": true,
            "type": "pie"
           }
          ],
          "scatter": [
           {
            "marker": {
             "colorbar": {
              "outlinewidth": 0,
              "ticks": ""
             }
            },
            "type": "scatter"
           }
          ],
          "scatter3d": [
           {
            "line": {
             "colorbar": {
              "outlinewidth": 0,
              "ticks": ""
             }
            },
            "marker": {
             "colorbar": {
              "outlinewidth": 0,
              "ticks": ""
             }
            },
            "type": "scatter3d"
           }
          ],
          "scattercarpet": [
           {
            "marker": {
             "colorbar": {
              "outlinewidth": 0,
              "ticks": ""
             }
            },
            "type": "scattercarpet"
           }
          ],
          "scattergeo": [
           {
            "marker": {
             "colorbar": {
              "outlinewidth": 0,
              "ticks": ""
             }
            },
            "type": "scattergeo"
           }
          ],
          "scattergl": [
           {
            "marker": {
             "colorbar": {
              "outlinewidth": 0,
              "ticks": ""
             }
            },
            "type": "scattergl"
           }
          ],
          "scattermapbox": [
           {
            "marker": {
             "colorbar": {
              "outlinewidth": 0,
              "ticks": ""
             }
            },
            "type": "scattermapbox"
           }
          ],
          "scatterpolar": [
           {
            "marker": {
             "colorbar": {
              "outlinewidth": 0,
              "ticks": ""
             }
            },
            "type": "scatterpolar"
           }
          ],
          "scatterpolargl": [
           {
            "marker": {
             "colorbar": {
              "outlinewidth": 0,
              "ticks": ""
             }
            },
            "type": "scatterpolargl"
           }
          ],
          "scatterternary": [
           {
            "marker": {
             "colorbar": {
              "outlinewidth": 0,
              "ticks": ""
             }
            },
            "type": "scatterternary"
           }
          ],
          "surface": [
           {
            "colorbar": {
             "outlinewidth": 0,
             "ticks": ""
            },
            "colorscale": [
             [
              0,
              "#0d0887"
             ],
             [
              0.1111111111111111,
              "#46039f"
             ],
             [
              0.2222222222222222,
              "#7201a8"
             ],
             [
              0.3333333333333333,
              "#9c179e"
             ],
             [
              0.4444444444444444,
              "#bd3786"
             ],
             [
              0.5555555555555556,
              "#d8576b"
             ],
             [
              0.6666666666666666,
              "#ed7953"
             ],
             [
              0.7777777777777778,
              "#fb9f3a"
             ],
             [
              0.8888888888888888,
              "#fdca26"
             ],
             [
              1,
              "#f0f921"
             ]
            ],
            "type": "surface"
           }
          ],
          "table": [
           {
            "cells": {
             "fill": {
              "color": "#EBF0F8"
             },
             "line": {
              "color": "white"
             }
            },
            "header": {
             "fill": {
              "color": "#C8D4E3"
             },
             "line": {
              "color": "white"
             }
            },
            "type": "table"
           }
          ]
         },
         "layout": {
          "annotationdefaults": {
           "arrowcolor": "#2a3f5f",
           "arrowhead": 0,
           "arrowwidth": 1
          },
          "coloraxis": {
           "colorbar": {
            "outlinewidth": 0,
            "ticks": ""
           }
          },
          "colorscale": {
           "diverging": [
            [
             0,
             "#8e0152"
            ],
            [
             0.1,
             "#c51b7d"
            ],
            [
             0.2,
             "#de77ae"
            ],
            [
             0.3,
             "#f1b6da"
            ],
            [
             0.4,
             "#fde0ef"
            ],
            [
             0.5,
             "#f7f7f7"
            ],
            [
             0.6,
             "#e6f5d0"
            ],
            [
             0.7,
             "#b8e186"
            ],
            [
             0.8,
             "#7fbc41"
            ],
            [
             0.9,
             "#4d9221"
            ],
            [
             1,
             "#276419"
            ]
           ],
           "sequential": [
            [
             0,
             "#0d0887"
            ],
            [
             0.1111111111111111,
             "#46039f"
            ],
            [
             0.2222222222222222,
             "#7201a8"
            ],
            [
             0.3333333333333333,
             "#9c179e"
            ],
            [
             0.4444444444444444,
             "#bd3786"
            ],
            [
             0.5555555555555556,
             "#d8576b"
            ],
            [
             0.6666666666666666,
             "#ed7953"
            ],
            [
             0.7777777777777778,
             "#fb9f3a"
            ],
            [
             0.8888888888888888,
             "#fdca26"
            ],
            [
             1,
             "#f0f921"
            ]
           ],
           "sequentialminus": [
            [
             0,
             "#0d0887"
            ],
            [
             0.1111111111111111,
             "#46039f"
            ],
            [
             0.2222222222222222,
             "#7201a8"
            ],
            [
             0.3333333333333333,
             "#9c179e"
            ],
            [
             0.4444444444444444,
             "#bd3786"
            ],
            [
             0.5555555555555556,
             "#d8576b"
            ],
            [
             0.6666666666666666,
             "#ed7953"
            ],
            [
             0.7777777777777778,
             "#fb9f3a"
            ],
            [
             0.8888888888888888,
             "#fdca26"
            ],
            [
             1,
             "#f0f921"
            ]
           ]
          },
          "colorway": [
           "#636efa",
           "#EF553B",
           "#00cc96",
           "#ab63fa",
           "#FFA15A",
           "#19d3f3",
           "#FF6692",
           "#B6E880",
           "#FF97FF",
           "#FECB52"
          ],
          "font": {
           "color": "#2a3f5f"
          },
          "geo": {
           "bgcolor": "white",
           "lakecolor": "white",
           "landcolor": "#E5ECF6",
           "showlakes": true,
           "showland": true,
           "subunitcolor": "white"
          },
          "hoverlabel": {
           "align": "left"
          },
          "hovermode": "closest",
          "mapbox": {
           "style": "light"
          },
          "paper_bgcolor": "white",
          "plot_bgcolor": "#E5ECF6",
          "polar": {
           "angularaxis": {
            "gridcolor": "white",
            "linecolor": "white",
            "ticks": ""
           },
           "bgcolor": "#E5ECF6",
           "radialaxis": {
            "gridcolor": "white",
            "linecolor": "white",
            "ticks": ""
           }
          },
          "scene": {
           "xaxis": {
            "backgroundcolor": "#E5ECF6",
            "gridcolor": "white",
            "gridwidth": 2,
            "linecolor": "white",
            "showbackground": true,
            "ticks": "",
            "zerolinecolor": "white"
           },
           "yaxis": {
            "backgroundcolor": "#E5ECF6",
            "gridcolor": "white",
            "gridwidth": 2,
            "linecolor": "white",
            "showbackground": true,
            "ticks": "",
            "zerolinecolor": "white"
           },
           "zaxis": {
            "backgroundcolor": "#E5ECF6",
            "gridcolor": "white",
            "gridwidth": 2,
            "linecolor": "white",
            "showbackground": true,
            "ticks": "",
            "zerolinecolor": "white"
           }
          },
          "shapedefaults": {
           "line": {
            "color": "#2a3f5f"
           }
          },
          "ternary": {
           "aaxis": {
            "gridcolor": "white",
            "linecolor": "white",
            "ticks": ""
           },
           "baxis": {
            "gridcolor": "white",
            "linecolor": "white",
            "ticks": ""
           },
           "bgcolor": "#E5ECF6",
           "caxis": {
            "gridcolor": "white",
            "linecolor": "white",
            "ticks": ""
           }
          },
          "title": {
           "x": 0.05
          },
          "xaxis": {
           "automargin": true,
           "gridcolor": "white",
           "linecolor": "white",
           "ticks": "",
           "title": {
            "standoff": 15
           },
           "zerolinecolor": "white",
           "zerolinewidth": 2
          },
          "yaxis": {
           "automargin": true,
           "gridcolor": "white",
           "linecolor": "white",
           "ticks": "",
           "title": {
            "standoff": 15
           },
           "zerolinecolor": "white",
           "zerolinewidth": 2
          }
         }
        },
        "xaxis": {
         "anchor": "y",
         "domain": [
          0,
          1
         ],
         "title": {
          "text": "MarketCapUniformed"
         }
        },
        "yaxis": {
         "anchor": "x",
         "domain": [
          0,
          1
         ],
         "title": {
          "text": "Beta"
         }
        }
       }
      },
      "text/html": [
       "<div>\n",
       "        \n",
       "        \n",
       "            <div id=\"50a865b5-0edc-4267-86f6-4ec7d84d49d1\" class=\"plotly-graph-div\" style=\"height:400px; width:100%;\"></div>\n",
       "            <script type=\"text/javascript\">\n",
       "                require([\"plotly\"], function(Plotly) {\n",
       "                    window.PLOTLYENV=window.PLOTLYENV || {};\n",
       "                    \n",
       "                if (document.getElementById(\"50a865b5-0edc-4267-86f6-4ec7d84d49d1\")) {\n",
       "                    Plotly.newPlot(\n",
       "                        '50a865b5-0edc-4267-86f6-4ec7d84d49d1',\n",
       "                        [{\"hoverlabel\": {\"namelength\": 0}, \"hovertemplate\": \"GICSSector=Industrials<br>MarketCapUniformed=%{x}<br>Beta=%{y}\", \"legendgroup\": \"GICSSector=Industrials\", \"marker\": {\"color\": \"#636efa\", \"symbol\": \"circle\"}, \"mode\": \"markers\", \"name\": \"GICSSector=Industrials\", \"showlegend\": true, \"type\": \"scatter\", \"x\": [0.4635275191234472, -0.44327290523054136, -0.4304677654758643, -0.4012851488167242, -0.32220240721429827, -0.4582071169827986, -0.4074881181942896, 1.4310064954084714, -0.40683301911811104, 0.24914634644402583, 0.06015026296652225, -0.2472754503763798, 0.03380299699646731, -0.17399647715197292, -0.3764527994603321, -0.16625811931461415, -0.08596753879048404, -0.39921749235753573, -0.3091720771521848, -0.4652391961286524, -0.2817705111064051, -0.4466302879959563, -0.017079776561086328, -0.3556943474839252, 0.7206948502157783, -0.43833919031307184, 0.004947929875416475, -0.23663009038847882, -0.38105896483971236, 0.548229782488717, -0.39983164774145313, 0.08148192663458537, -0.26392929720360564, -0.2836129772581572, -0.458892923828173, -0.4701729110461219, 0.050026935054951024, -0.24537156868623597, -0.4629668212081582, -0.32393227821233217, -0.40105995850928783, -0.17367916353694896, -0.4370187562376495, -0.2372954253877226, -0.29159699724908295, 0.6959546241669737, 0.4826482234094078, 0.7055661559252805, -0.2814736693375117, -0.3918476277505274, -0.03792011592201556, -0.3798511259180082], \"xaxis\": \"x\", \"y\": [1.04, 0.96, 0.89, 1.48, 1.09, 0.95, 1.12, 1.16, 0.8, 1.4, 1.06, 1.1, 1.3, 1.02, 1.02, 1.11, 1.14, 1.06, 1.2, 1.54, 1.09, 1.28, 0.89, 1.02, 0.95, 0.99, 1.11, 0.98, 1.02, 0.74, 1.1, 0.76, 1.0, 1.32, 1.14, 1.16, 0.75, 0.43, 1.29, 1.21, 0.8, 0.98, 1.01, 0.88, 1.54, 1.14, 1.08, 1.06, 0.82, 1.09, 0.5, 1.1], \"yaxis\": \"y\"}, {\"hoverlabel\": {\"namelength\": 0}, \"hovertemplate\": \"<b>OLS trendline</b><br>Beta = -0.042196 * MarketCapUniformed + 1.045452<br>R<sup>2</sup>=0.005966<br><br>GICSSector=Industrials<br>MarketCapUniformed=%{x}<br>Beta=%{y} <b>(trend)</b>\", \"legendgroup\": \"GICSSector=Industrials\", \"marker\": {\"color\": \"#636efa\", \"symbol\": \"circle\"}, \"mode\": \"lines\", \"name\": \"GICSSector=Industrials\", \"showlegend\": false, \"type\": \"scatter\", \"x\": [-0.4701729110461219, -0.4652391961286524, -0.4629668212081582, -0.458892923828173, -0.4582071169827986, -0.4466302879959563, -0.44327290523054136, -0.43833919031307184, -0.4370187562376495, -0.4304677654758643, -0.4074881181942896, -0.40683301911811104, -0.4012851488167242, -0.40105995850928783, -0.39983164774145313, -0.39921749235753573, -0.3918476277505274, -0.38105896483971236, -0.3798511259180082, -0.3764527994603321, -0.3556943474839252, -0.32393227821233217, -0.32220240721429827, -0.3091720771521848, -0.29159699724908295, -0.2836129772581572, -0.2817705111064051, -0.2814736693375117, -0.26392929720360564, -0.2472754503763798, -0.24537156868623597, -0.2372954253877226, -0.23663009038847882, -0.17399647715197292, -0.17367916353694896, -0.16625811931461415, -0.08596753879048404, -0.03792011592201556, -0.017079776561086328, 0.004947929875416475, 0.03380299699646731, 0.050026935054951024, 0.06015026296652225, 0.08148192663458537, 0.24914634644402583, 0.4635275191234472, 0.4826482234094078, 0.548229782488717, 0.6959546241669737, 0.7055661559252805, 0.7206948502157783, 1.4310064954084714], \"xaxis\": \"x\", \"y\": [1.0652912615484034, 1.0650830786275607, 1.0649871935478363, 1.0648152914679705, 1.0647863531781436, 1.0642978575692783, 1.0641561895235596, 1.0639480066027167, 1.0638922895969312, 1.0636158641418703, 1.0626462154752894, 1.0626185729297832, 1.0623844751225284, 1.0623749729975107, 1.062323143224687, 1.062297228338275, 1.0619862497013313, 1.0615310115300278, 1.061480045586751, 1.0613366498819383, 1.060460726721214, 1.0591204951789421, 1.059047501582215, 1.0584976740755079, 1.0577560764093523, 1.057419182885997, 1.057341438226761, 1.0573289126983285, 1.0565886107764935, 1.0558858854399558, 1.0558055492920788, 1.0554647685357614, 1.0554366940754818, 1.0527938075762353, 1.0527804182182559, 1.0524672800074446, 1.0490793405238543, 1.047051932576892, 1.0461725540979794, 1.045243073505337, 1.0440255057587486, 1.0433409208426994, 1.0429137571316753, 1.0420136467436334, 1.034938882753168, 1.0258928597362997, 1.0250860429393407, 1.022318764985317, 1.0160853709736932, 1.015679803001346, 1.0150414329660649, 0.9850691391715383], \"yaxis\": \"y\"}, {\"hoverlabel\": {\"namelength\": 0}, \"hovertemplate\": \"GICSSector=Health Care<br>MarketCapUniformed=%{x}<br>Beta=%{y}\", \"legendgroup\": \"GICSSector=Health Care\", \"marker\": {\"color\": \"#EF553B\", \"symbol\": \"circle\"}, \"mode\": \"markers\", \"name\": \"GICSSector=Health Care\", \"showlegend\": true, \"type\": \"scatter\", \"x\": [0.646412756530973, -0.29271271286319944, -0.3475772604931507, 0.717859499526693, -0.07059318234641934, 0.38682974759523364, -0.3805062249941867, -0.31001142284353855, -0.38702650798677607, 0.3430302327988603, 0.486404807174369, 0.3328761971180932, -0.09306103347472959, -0.12892770789550367, -0.2537752615228386, 0.9147884233797959, 1.6416208483998662, -0.4337432608567569, 1.5515242535791889, -0.3883469420621984, -0.3437080815744713, 0.27353855110861053, -0.3779984238431908, 0.6869674837156496, -0.39927890789592746, 0.06516586526851405], \"xaxis\": \"x\", \"y\": [0.84, 1.1, 0.75, 0.74, 0.85, 0.8, 0.89, 0.91, 0.86, 0.82, 0.93, 0.77, 0.96, 0.86, 0.74, 0.67, 0.65, 1.26, 0.7, 0.68, 0.82, 0.96, 0.98, 1.14, 0.75, 0.95], \"yaxis\": \"y\"}, {\"hoverlabel\": {\"namelength\": 0}, \"hovertemplate\": \"<b>OLS trendline</b><br>Beta = -0.090165 * MarketCapUniformed + 0.874085<br>R<sup>2</sup>=0.131074<br><br>GICSSector=Health Care<br>MarketCapUniformed=%{x}<br>Beta=%{y} <b>(trend)</b>\", \"legendgroup\": \"GICSSector=Health Care\", \"marker\": {\"color\": \"#EF553B\", \"symbol\": \"circle\"}, \"mode\": \"lines\", \"name\": \"GICSSector=Health Care\", \"showlegend\": false, \"type\": \"scatter\", \"x\": [-0.4337432608567569, -0.39927890789592746, -0.3883469420621984, -0.38702650798677607, -0.3805062249941867, -0.3779984238431908, -0.3475772604931507, -0.3437080815744713, -0.31001142284353855, -0.29271271286319944, -0.2537752615228386, -0.12892770789550367, -0.09306103347472959, -0.07059318234641934, 0.06516586526851405, 0.27353855110861053, 0.3328761971180932, 0.3430302327988603, 0.38682974759523364, 0.486404807174369, 0.646412756530973, 0.6869674837156496, 0.717859499526693, 0.9147884233797959, 1.5515242535791889, 1.6416208483998662], \"xaxis\": \"x\", \"y\": [0.913193729593134, 0.9100862380647667, 0.9091005531962499, 0.9089814957542661, 0.9083935919516021, 0.9081674751044235, 0.9054245393092624, 0.9050756733164727, 0.9020374012311192, 0.900477656448541, 0.8969668462988798, 0.8857099190130182, 0.8824759866354123, 0.8804501642698743, 0.8682093979673094, 0.8494213952815437, 0.8440711937995284, 0.8431556512999322, 0.8392064513445168, 0.8302282281226703, 0.8158010503467754, 0.8121444179038317, 0.8093590275169554, 0.791602855995049, 0.7341913270334757, 0.7260677332013732], \"yaxis\": \"y\"}, {\"hoverlabel\": {\"namelength\": 0}, \"hovertemplate\": \"GICSSector=Information Technology<br>MarketCapUniformed=%{x}<br>Beta=%{y}\", \"legendgroup\": \"GICSSector=Information Technology\", \"marker\": {\"color\": \"#00cc96\", \"symbol\": \"circle\"}, \"mode\": \"markers\", \"name\": \"GICSSector=Information Technology\", \"showlegend\": true, \"type\": \"scatter\", \"x\": [0.6702317495039014, -0.4654950942052847, -0.22091794848325957, -0.1310363080469533, 10.71879647900625, -0.05243465482859594, 0.18024834829156286, 0.6079563935746807, -0.38600291568024714, 1.5143064373137967, -0.3913153597511323, -0.18905351998101363, -0.289795474789592, -0.4551977556016035, 0.2670387399621517, -0.45624181975426303, -0.05027487506181987, -0.27053146758071733, 1.8150276210489342, 0.6882981537141373, 0.1511987986322715, -0.42114283956338566, -0.4418705837705967, -0.2727731347320157, -0.18452924198615572, 2.1786894957125362, -0.373443438079137, -0.30364467869692857, 10.195832933677549, -0.2419527703824293, -0.3938231609021282, 0.6859029477168596, 1.2885224463396427, -0.22219743886642074, 0.43090563231436985, -0.3785409277656511, -0.3732898992331577, -0.20857342526652053, 0.6065233643455402, -0.28878211840612833, 2.518266243403512, -0.42383488732955676, -0.4607353899799251, -0.28761522317668536], \"xaxis\": \"x\", \"y\": [0.99, 1.25, 1.12, 1.29, 1.53, 1.52, 1.05, 1.3, 0.91, 1.29, 0.63, 0.92, 1.27, 1.4, 0.89, 0.96, 1.2, 1.26, 1.23, 0.99, 1.29, 0.79, 1.07, 1.49, 1.53, 1.39, 1.35, 1.56, 1.34, 0.9, 1.5, 2.07, 1.02, 0.89, 1.0, 1.42, 1.52, 1.07, 1.28, 0.0, 1.17, 0.69, 1.34, 1.54], \"yaxis\": \"y\"}, {\"hoverlabel\": {\"namelength\": 0}, \"hovertemplate\": \"<b>OLS trendline</b><br>Beta = 0.027917 * MarketCapUniformed + 1.170396<br>R<sup>2</sup>=0.037324<br><br>GICSSector=Information Technology<br>MarketCapUniformed=%{x}<br>Beta=%{y} <b>(trend)</b>\", \"legendgroup\": \"GICSSector=Information Technology\", \"marker\": {\"color\": \"#00cc96\", \"symbol\": \"circle\"}, \"mode\": \"lines\", \"name\": \"GICSSector=Information Technology\", \"showlegend\": false, \"type\": \"scatter\", \"x\": [-0.4654950942052847, -0.4607353899799251, -0.45624181975426303, -0.4551977556016035, -0.4418705837705967, -0.42383488732955676, -0.42114283956338566, -0.3938231609021282, -0.3913153597511323, -0.38600291568024714, -0.3785409277656511, -0.373443438079137, -0.3732898992331577, -0.30364467869692857, -0.289795474789592, -0.28878211840612833, -0.28761522317668536, -0.2727731347320157, -0.27053146758071733, -0.2419527703824293, -0.22219743886642074, -0.22091794848325957, -0.20857342526652053, -0.18905351998101363, -0.18452924198615572, -0.1310363080469533, -0.05243465482859594, -0.05027487506181987, 0.1511987986322715, 0.18024834829156286, 0.2670387399621517, 0.43090563231436985, 0.6065233643455402, 0.6079563935746807, 0.6702317495039014, 0.6859029477168596, 0.6882981537141373, 1.2885224463396427, 1.5143064373137967, 1.8150276210489342, 2.1786894957125362, 2.518266243403512, 10.195832933677549, 10.71879647900625], \"xaxis\": \"x\", \"y\": [1.1574011463002556, 1.157534022170053, 1.1576594684213242, 1.1576886153863122, 1.158060667821745, 1.1585641673541822, 1.1586393208031214, 1.1594019997203033, 1.1594720095871858, 1.1596203162031533, 1.159828631276449, 1.1599709370466835, 1.1599752233650642, 1.1619194973824885, 1.1623061233004155, 1.1623344130017272, 1.1623669890214194, 1.1627813331315406, 1.162843913379897, 1.1636417401077994, 1.164193246406099, 1.1642289657259368, 1.1645735857237343, 1.1651185196671834, 1.1652448231821309, 1.1667381765059197, 1.1689324857622103, 1.168992779974097, 1.1746172869530742, 1.175428258390677, 1.1778511712939312, 1.182425816024229, 1.1873285069879191, 1.1873685126261377, 1.189107043361295, 1.1895445335906711, 1.189611400157408, 1.2063677617252713, 1.2126709357811716, 1.221066118961346, 1.2312184069229937, 1.24069831440801, 1.4550316644643404, 1.4696311506231035], \"yaxis\": \"y\"}, {\"hoverlabel\": {\"namelength\": 0}, \"hovertemplate\": \"GICSSector=Communication Services<br>MarketCapUniformed=%{x}<br>Beta=%{y}\", \"legendgroup\": \"GICSSector=Communication Services\", \"marker\": {\"color\": \"#ab63fa\", \"symbol\": \"circle\"}, \"mode\": \"markers\", \"name\": \"GICSSector=Communication Services\", \"showlegend\": true, \"type\": \"scatter\", \"x\": [-0.09997028154379994, 2.292502724275489, -0.3902815315215381, 1.5967670335277682, -0.4454019772281215, -0.44684524238032736, -0.44450121599837605, -0.35939975163355997, 2.047178356169698, -0.43958797292703716, 1.8876514951971624], \"xaxis\": \"x\", \"y\": [1.22, 0.59, 0.99, 0.84, 0.8, 0.96, 0.95, 0.67, 0.32, 0.97, 0.81], \"yaxis\": \"y\"}, {\"hoverlabel\": {\"namelength\": 0}, \"hovertemplate\": \"<b>OLS trendline</b><br>Beta = -0.127957 * MarketCapUniformed + 0.889558<br>R<sup>2</sup>=0.405072<br><br>GICSSector=Communication Services<br>MarketCapUniformed=%{x}<br>Beta=%{y} <b>(trend)</b>\", \"legendgroup\": \"GICSSector=Communication Services\", \"marker\": {\"color\": \"#ab63fa\", \"symbol\": \"circle\"}, \"mode\": \"lines\", \"name\": \"GICSSector=Communication Services\", \"showlegend\": false, \"type\": \"scatter\", \"x\": [-0.44684524238032736, -0.4454019772281215, -0.44450121599837605, -0.43958797292703716, -0.3902815315215381, -0.35939975163355997, -0.09997028154379994, 1.5967670335277682, 1.8876514951971624, 2.047178356169698, 2.292502724275489], \"xaxis\": \"x\", \"y\": [0.9467347586014777, 0.9465500826038715, 0.9464348238252236, 0.9458061395780535, 0.939497031205931, 0.9355454887606968, 0.9023496507512627, 0.6852400947852813, 0.6480193678351098, 0.6276067761848029, 0.5962157858682866], \"yaxis\": \"y\"}, {\"hoverlabel\": {\"namelength\": 0}, \"hovertemplate\": \"GICSSector=Consumer Discretionary<br>MarketCapUniformed=%{x}<br>Beta=%{y}\", \"legendgroup\": \"GICSSector=Consumer Discretionary\", \"marker\": {\"color\": \"#FFA15A\", \"symbol\": \"circle\"}, \"mode\": \"markers\", \"name\": \"GICSSector=Consumer Discretionary\", \"showlegend\": true, \"type\": \"scatter\", \"x\": [-0.40956601057654335, -0.2958653771673086, -0.3357854771219373, -0.4796616117276452, -0.4457090549200802, -0.29293790317063584, -0.32471020836529413, -0.39167361705841747, -0.1013726030037446, -0.19366992128345917, -0.3228063266751503, -0.15407737086691975, -0.46268021536233006, -0.3617642498616418, 0.0048046269525024235, -0.3743544352319478, -0.4703776295074277, -0.46675411274231526, -0.40181741681611927, -0.24901555729747898, 2.1003949201861376, -0.44346738776878186, -0.4803474185730196, -0.4698351255849674, -0.32972581066728596, 0.35071741102089266, -0.4806749681111088, -0.11390137283565882, 0.944922980884008, -0.47210750050546163, -0.4534269409113084, -0.41842008402801867, -0.46059208705701105, -0.12333889390185565, -0.29495438001449786, 0.483538748716088, -0.453764726372463, 0.052176478898661796, -0.41593275472315333, 0.21057738833401538, -0.41410052449446655, -0.15733239440168179, -0.4247765922515634, -0.4025953469690812, -0.1898826297493021], \"xaxis\": \"x\", \"y\": [0.65, 1.22, 1.26, 0.62, 1.27, 1.04, 0.73, 0.66, 0.82, 1.02, 0.84, 0.91, 1.01, 0.81, 1.06, 0.73, 1.11, 1.25, 1.02, 1.01, 0.94, 1.19, 1.41, 1.11, 0.65, 1.1, 1.14, 1.08, 1.1, 1.05, 1.11, 0.64, 1.37, 1.05, 1.22, 0.75, 1.32, 0.94, 1.11, 0.95, 0.97, 1.11, 1.17, 1.82, 0.52], \"yaxis\": \"y\"}, {\"hoverlabel\": {\"namelength\": 0}, \"hovertemplate\": \"<b>OLS trendline</b><br>Beta = -0.064752 * MarketCapUniformed + 1.005604<br>R<sup>2</sup>=0.013947<br><br>GICSSector=Consumer Discretionary<br>MarketCapUniformed=%{x}<br>Beta=%{y} <b>(trend)</b>\", \"legendgroup\": \"GICSSector=Consumer Discretionary\", \"marker\": {\"color\": \"#FFA15A\", \"symbol\": \"circle\"}, \"mode\": \"lines\", \"name\": \"GICSSector=Consumer Discretionary\", \"showlegend\": false, \"type\": \"scatter\", \"x\": [-0.4806749681111088, -0.4803474185730196, -0.4796616117276452, -0.47210750050546163, -0.4703776295074277, -0.4698351255849674, -0.46675411274231526, -0.46268021536233006, -0.46059208705701105, -0.453764726372463, -0.4534269409113084, -0.4457090549200802, -0.44346738776878186, -0.4247765922515634, -0.41842008402801867, -0.41593275472315333, -0.41410052449446655, -0.40956601057654335, -0.4025953469690812, -0.40181741681611927, -0.39167361705841747, -0.3743544352319478, -0.3617642498616418, -0.3357854771219373, -0.32972581066728596, -0.32471020836529413, -0.3228063266751503, -0.2958653771673086, -0.29495438001449786, -0.29293790317063584, -0.24901555729747898, -0.19366992128345917, -0.1898826297493021, -0.15733239440168179, -0.15407737086691975, -0.12333889390185565, -0.11390137283565882, -0.1013726030037446, 0.0048046269525024235, 0.052176478898661796, 0.21057738833401538, 0.35071741102089266, 0.483538748716088, 0.944922980884008, 2.1003949201861376], \"xaxis\": \"x\", \"y\": [1.0367290384940928, 1.0367078289870888, 1.036663421581799, 1.0361742773265163, 1.036062264617651, 1.0360271363716753, 1.035827634446418, 1.0355638412030541, 1.035428630595903, 1.0349865449342859, 1.034964672630188, 1.0344649236214034, 1.034319771057844, 1.0331095035644218, 1.032697906569123, 1.0325368468753107, 1.0324182061955063, 1.032124587082918, 1.0316732222619867, 1.031622849682852, 1.0309660177628182, 1.0298445650799757, 1.0290293246545048, 1.027347145630241, 1.026954769750665, 1.0266299991746644, 1.0265067189152028, 1.0247622369641143, 1.0247032480227591, 1.024572676995265, 1.0217286146654319, 1.0181448707788303, 1.017899635854095, 1.0157919410955611, 1.0155811716197076, 1.0135907919467901, 1.012979693026234, 1.0121684293833266, 1.0052932351285238, 1.0022258101780535, 0.991969025150282, 0.9828946701379897, 0.9742942150478208, 0.944418636041242, 0.869599448895848], \"yaxis\": \"y\"}, {\"hoverlabel\": {\"namelength\": 0}, \"hovertemplate\": \"GICSSector=Utilities<br>MarketCapUniformed=%{x}<br>Beta=%{y}\", \"legendgroup\": \"GICSSector=Utilities\", \"marker\": {\"color\": \"#19d3f3\", \"symbol\": \"circle\"}, \"mode\": \"markers\", \"name\": \"GICSSector=Utilities\", \"showlegend\": true, \"type\": \"scatter\", \"x\": [-0.41382415457170374, -0.3998111758953225, -0.3363382169674629, -0.052885035443468675, -0.30473992246491455, -0.393495611364039, -0.37805983938158255, -0.34637965749451183, -0.21166467403223796, 0.1657031016157866, -0.28758451540748947, 0.18700405751465385, -0.2846775132569473, -0.3772204936902288, -0.2451566143018649, -0.0762331759553938, -0.2626498068204445, -0.4250324903281956, -0.42199242117780467, -0.2849231754105142, -0.20550264834693371, -0.11430057383520512, 0.1325694186534448, -0.22946494424277622, -0.19051725697935004], \"xaxis\": \"x\", \"y\": [0.66, 0.23, 0.27, 0.17, 0.24, 0.3, 0.38, 0.21, 0.19, 0.21, 0.24, 0.19, 0.19, 0.15, 0.21, 0.27, 0.33, 0.71, 0.22, 0.33, 0.33, 0.36, 0.2, 0.17, 0.25], \"yaxis\": \"y\"}, {\"hoverlabel\": {\"namelength\": 0}, \"hovertemplate\": \"<b>OLS trendline</b><br>Beta = -0.286803 * MarketCapUniformed + 0.214353<br>R<sup>2</sup>=0.142737<br><br>GICSSector=Utilities<br>MarketCapUniformed=%{x}<br>Beta=%{y} <b>(trend)</b>\", \"legendgroup\": \"GICSSector=Utilities\", \"marker\": {\"color\": \"#19d3f3\", \"symbol\": \"circle\"}, \"mode\": \"lines\", \"name\": \"GICSSector=Utilities\", \"showlegend\": false, \"type\": \"scatter\", \"x\": [-0.4250324903281956, -0.42199242117780467, -0.41382415457170374, -0.3998111758953225, -0.393495611364039, -0.37805983938158255, -0.3772204936902288, -0.34637965749451183, -0.3363382169674629, -0.30473992246491455, -0.28758451540748947, -0.2849231754105142, -0.2846775132569473, -0.2626498068204445, -0.2451566143018649, -0.22946494424277622, -0.21166467403223796, -0.20550264834693371, -0.19051725697935004, -0.11430057383520512, -0.0762331759553938, -0.052885035443468675, 0.1325694186534448, 0.1657031016157866, 0.18700405751465385], \"xaxis\": \"x\", \"y\": [0.3362536286258845, 0.3353817266648567, 0.3330390405877517, 0.32902007161587593, 0.3272087466665353, 0.3227817158341113, 0.3225409886933561, 0.3136957341190234, 0.310815815520477, 0.301753319380097, 0.29683309147880865, 0.2960698103008045, 0.29599935357668106, 0.28968173398027747, 0.2846646280833194, 0.2801642048299334, 0.27505902802782106, 0.2732917385310576, 0.26899387835952654, 0.24713467970022307, 0.23621682315792525, 0.22952049866935806, 0.1763315433498227, 0.16682869268367106, 0.16071950756279937], \"yaxis\": \"y\"}, {\"hoverlabel\": {\"namelength\": 0}, \"hovertemplate\": \"GICSSector=Financials<br>MarketCapUniformed=%{x}<br>Beta=%{y}\", \"legendgroup\": \"GICSSector=Financials\", \"marker\": {\"color\": \"#FF6692\", \"symbol\": \"circle\"}, \"mode\": \"markers\", \"name\": \"GICSSector=Financials\", \"showlegend\": true, \"type\": \"scatter\", \"x\": [-0.132581932429812, -0.1657053794690885, 0.459064656666981, -0.338037380196301, -0.06807514527235815, -0.3585194622499451, -0.4510522067601613, 2.463442639465822, -0.0793244247211112, -0.1107282366854191, 0.19294089289252173, -0.08350068133174929, -0.39986235551064897, 0.02332141177761096, 0.17027855922597096, -0.33969559973287783, 1.145076220502677, -0.3655617773188642, 0.2110380048719534, -0.4296693634767717, -0.2679315431221338, -0.42985361009194695, -0.4262608010960304, -0.3199505041399346, -0.3464820167251647, -0.3864840040643157, 0.24752907059971013, -0.31604038152899405, -0.3765039790756585, 0.002859801570097436, -0.36402638885907074, -0.4715957043521971, 3.564858669060158, -0.3430120388060316, -0.40356775966028374, -0.37206158846532295, -0.31427980276176426, -0.0172026076378698, -0.08402271340807904, -0.11971537713674321, 0.24646453460092002, -0.34093414642377784, -0.3594406953258211, -0.30990906361288567, -0.46108341136414493, -0.36661607739458896, -0.15342227179074122, -0.41096833203648797, -0.36395473739761375, 0.08470624240015152, -0.2788225652636017, -0.2165369734113157, -0.29192454678717217, -0.268893719890271, -0.1779782512243705, 0.3824180647540939, -0.46771628951045247, 1.7667550078730292, -0.28625384540900184, -0.44338550038425956], \"xaxis\": \"x\", \"y\": [0.68, 0.69, 1.06, 1.46, 0.77, 0.74, 0.76, 1.13, 0.78, 0.83, 1.21, 1.19, 0.31, 1.18, 0.62, 0.66, 1.29, 1.07, 0.39, 0.97, 1.27, 1.27, 0.5, 0.95, 0.93, 1.05, 1.18, 0.72, 0.96, 0.61, 1.2, 1.28, 0.97, 1.06, 1.35, 0.9, 0.82, 0.81, 1.03, 1.22, 1.22, 1.3, 0.84, 1.14, 0.9, 1.18, 1.2, 1.16, 1.11, 1.0, 1.03, 0.91, 1.01, 1.22, 0.69, 0.79, 1.24, 0.84, 0.73, 0.99], \"yaxis\": \"y\"}, {\"hoverlabel\": {\"namelength\": 0}, \"hovertemplate\": \"<b>OLS trendline</b><br>Beta = 0.007496 * MarketCapUniformed + 0.973198<br>R<sup>2</sup>=0.000439<br><br>GICSSector=Financials<br>MarketCapUniformed=%{x}<br>Beta=%{y} <b>(trend)</b>\", \"legendgroup\": \"GICSSector=Financials\", \"marker\": {\"color\": \"#FF6692\", \"symbol\": \"circle\"}, \"mode\": \"lines\", \"name\": \"GICSSector=Financials\", \"showlegend\": false, \"type\": \"scatter\", \"x\": [-0.4715957043521971, -0.46771628951045247, -0.46108341136414493, -0.4510522067601613, -0.44338550038425956, -0.42985361009194695, -0.4296693634767717, -0.4262608010960304, -0.41096833203648797, -0.40356775966028374, -0.39986235551064897, -0.3864840040643157, -0.3765039790756585, -0.37206158846532295, -0.36661607739458896, -0.3655617773188642, -0.36402638885907074, -0.36395473739761375, -0.3594406953258211, -0.3585194622499451, -0.3464820167251647, -0.3430120388060316, -0.34093414642377784, -0.33969559973287783, -0.338037380196301, -0.3199505041399346, -0.31604038152899405, -0.31427980276176426, -0.30990906361288567, -0.29192454678717217, -0.28625384540900184, -0.2788225652636017, -0.268893719890271, -0.2679315431221338, -0.2165369734113157, -0.1779782512243705, -0.1657053794690885, -0.15342227179074122, -0.132581932429812, -0.11971537713674321, -0.1107282366854191, -0.08402271340807904, -0.08350068133174929, -0.0793244247211112, -0.06807514527235815, -0.0172026076378698, 0.002859801570097436, 0.02332141177761096, 0.08470624240015152, 0.17027855922597096, 0.19294089289252173, 0.2110380048719534, 0.24646453460092002, 0.24752907059971013, 0.3824180647540939, 0.459064656666981, 1.145076220502677, 1.7667550078730292, 2.463442639465822, 3.564858669060158], \"xaxis\": \"x\", \"y\": [0.9696629216575856, 0.9696920011517809, 0.9697417201814339, 0.9698169125410943, 0.9698743809874062, 0.9699758139460501, 0.9699771950302072, 0.9700027450871123, 0.9701173750721456, 0.9701728486191196, 0.9702006237560553, 0.9703009058112352, 0.9703757145364075, 0.9704090140099714, 0.9704498327195014, 0.9704577355899555, 0.9704692446245974, 0.9704697817128807, 0.9705036182747279, 0.970510523695513, 0.9706007545271055, 0.9706267649453962, 0.9706423405056116, 0.9706516244602227, 0.970664054217636, 0.9707996306457176, 0.9708289403206056, 0.9708421373469951, 0.9708748997322757, 0.9710097088913812, 0.9710522155926585, 0.9711079193203254, 0.9711823444110097, 0.9711895567393853, 0.9715748024922986, 0.9718638327156056, 0.9719558282658433, 0.9720479005429784, 0.9722041165065178, 0.972300562216817, 0.972367928432921, 0.9725681089087924, 0.9725720219805707, 0.9726033265547966, 0.9726876494152731, 0.9730689820964081, 0.973219366815729, 0.9733727438840567, 0.97383287508904, 0.9744743119530821, 0.9746441853043966, 0.9747798384593758, 0.9750453902520133, 0.9750533698493651, 0.9760644769061051, 0.9766390079154289, 0.9817812445934312, 0.9864412527199379, 0.9916635155521503, 0.9999195599159684], \"yaxis\": \"y\"}, {\"hoverlabel\": {\"namelength\": 0}, \"hovertemplate\": \"GICSSector=Materials<br>MarketCapUniformed=%{x}<br>Beta=%{y}\", \"legendgroup\": \"GICSSector=Materials\", \"marker\": {\"color\": \"#B6E880\", \"symbol\": \"circle\"}, \"mode\": \"markers\", \"name\": \"GICSSector=Materials\", \"showlegend\": true, \"type\": \"scatter\", \"x\": [-0.05642666482405881, -0.4570402217533556, -0.28866952325241013, -0.3760024188454594, -0.4278268973250196, -0.42530886025095843, 0.024549722545445688, -0.42003735987233437, -0.37977947445655114, -0.3557455270992516, 0.5416071402654747, -0.22752011886037124, -0.3614571721696831, -0.4505608824530274, -0.36584838316469226, -0.42357898925292453, -0.22916810247388283, -0.4642770193605152, 0.0022558821092453613, -0.33456740227716786, -0.42946464501546594], \"xaxis\": \"x\", \"y\": [0.82, 1.41, 0.7, 1.15, 1.19, 1.26, 0.81, 1.12, 1.61, 1.16, 0.75, 1.11, 0.68, 1.29, 1.16, 1.08, 0.92, 0.58, 0.82, 0.9, 1.3], \"yaxis\": \"y\"}, {\"hoverlabel\": {\"namelength\": 0}, \"hovertemplate\": \"<b>OLS trendline</b><br>Beta = -0.526178 * MarketCapUniformed + 0.891095<br>R<sup>2</sup>=0.219895<br><br>GICSSector=Materials<br>MarketCapUniformed=%{x}<br>Beta=%{y} <b>(trend)</b>\", \"legendgroup\": \"GICSSector=Materials\", \"marker\": {\"color\": \"#B6E880\", \"symbol\": \"circle\"}, \"mode\": \"lines\", \"name\": \"GICSSector=Materials\", \"showlegend\": false, \"type\": \"scatter\", \"x\": [-0.4642770193605152, -0.4570402217533556, -0.4505608824530274, -0.42946464501546594, -0.4278268973250196, -0.42530886025095843, -0.42357898925292453, -0.42003735987233437, -0.37977947445655114, -0.3760024188454594, -0.36584838316469226, -0.3614571721696831, -0.3557455270992516, -0.33456740227716786, -0.28866952325241013, -0.22916810247388283, -0.22752011886037124, -0.05642666482405881, 0.0022558821092453613, 0.024549722545445688, 0.5416071402654747], \"xaxis\": \"x\", \"y\": [1.13538698106155, 1.1315791406752667, 1.1281698578400225, 1.1170694914522852, 1.1162077453959833, 1.1148828108344193, 1.1139725915624505, 1.112109065715698, 1.0909262704692297, 1.0889388686268837, 1.0835960430778127, 1.0812854864643535, 1.078280147093001, 1.0671366934024484, 1.0429862601745907, 1.0116779487665764, 1.0108108167974228, 0.9207852834781453, 0.8899078450982818, 0.8781773269068738, 0.6061133251066952], \"yaxis\": \"y\"}, {\"hoverlabel\": {\"namelength\": 0}, \"hovertemplate\": \"GICSSector=Real Estate<br>MarketCapUniformed=%{x}<br>Beta=%{y}\", \"legendgroup\": \"GICSSector=Real Estate\", \"marker\": {\"color\": \"#FF97FF\", \"symbol\": \"circle\"}, \"mode\": \"markers\", \"name\": \"GICSSector=Real Estate\", \"showlegend\": true, \"type\": \"scatter\", \"x\": [-0.34617493903320606, -0.44686571422645793, -0.2135378479531859, -0.3230110451364561, -0.4026260547382771, -0.19678164189530714, -0.3093153800750989, -0.36986086500628573, -0.4218695901010212, -0.3395522968099638, -0.40433545389018044, -0.4294237013232048, -0.43833919031307184, -0.4852913694135544, 0.06327221950143551, -0.10055372915852144, -0.26865829365976934, -0.41113210680553264, 0.5192928279831439, -0.4555969566011498, -0.2511343933719939, -0.4038338936599813], \"xaxis\": \"x\", \"y\": [0.58, 0.45, 0.41, 0.66, 0.59, 0.37, 0.4, 0.24, 0.49, 0.3, 0.86, 0.56, 0.66, 0.7, 0.72, 0.13, 0.35, 0.49, 0.56, 0.66, 0.27, 0.63], \"yaxis\": \"y\"}, {\"hoverlabel\": {\"namelength\": 0}, \"hovertemplate\": \"<b>OLS trendline</b><br>Beta = -0.100494 * MarketCapUniformed + 0.474240<br>R<sup>2</sup>=0.015321<br><br>GICSSector=Real Estate<br>MarketCapUniformed=%{x}<br>Beta=%{y} <b>(trend)</b>\", \"legendgroup\": \"GICSSector=Real Estate\", \"marker\": {\"color\": \"#FF97FF\", \"symbol\": \"circle\"}, \"mode\": \"lines\", \"name\": \"GICSSector=Real Estate\", \"showlegend\": false, \"type\": \"scatter\", \"x\": [-0.4852913694135544, -0.4555969566011498, -0.44686571422645793, -0.43833919031307184, -0.4294237013232048, -0.4218695901010212, -0.41113210680553264, -0.40433545389018044, -0.4038338936599813, -0.4026260547382771, -0.36986086500628573, -0.34617493903320606, -0.3395522968099638, -0.3230110451364561, -0.3093153800750989, -0.26865829365976934, -0.2511343933719939, -0.2135378479531859, -0.19678164189530714, -0.10055372915852144, 0.06327221950143551, 0.5192928279831439], \"xaxis\": \"x\", \"y\": [0.5230091950563687, 0.5200250908530164, 0.5191476551806761, 0.5182907924432087, 0.5173948411294825, 0.5166356998326629, 0.5155566493985655, 0.5148736279607764, 0.5148232242703372, 0.5147018439545855, 0.5114091457281358, 0.5090288571633108, 0.508363322720164, 0.5067010295824125, 0.5053247002393979, 0.5012389153735877, 0.49947787214844497, 0.49569965265898863, 0.4940157579396202, 0.48434544990249, 0.4678819587702414, 0.42205471769352737], \"yaxis\": \"y\"}, {\"hoverlabel\": {\"namelength\": 0}, \"hovertemplate\": \"GICSSector=Consumer Staples<br>MarketCapUniformed=%{x}<br>Beta=%{y}\", \"legendgroup\": \"GICSSector=Consumer Staples\", \"marker\": {\"color\": \"#FECB52\", \"symbol\": \"circle\"}, \"mode\": \"markers\", \"name\": \"GICSSector=Consumer Staples\", \"showlegend\": true, \"type\": \"scatter\", \"x\": [0.36371703331381017, -0.2980149210110194, -0.21396775672192805, -0.38286048729920324, -0.33981843080966134, -0.33778148211966874, 1.861324701073238, 0.06294466996334626, -0.3926869734418811, -0.1427359681105791, 0.8078025555013911, 0.15694115147189888, -0.21359926349157765, -0.20905451365058914, -0.30732961100043277, -0.40436616165937633, -0.31331762599362706, -0.05709199982330262, -0.3252527122877545, -0.4183791403357575, -0.3119153045336824, -0.39856239328135723, 0.24698656667724977, 1.4316411226385195, 0.7721610713880533, -0.11703356529363738, -0.29645906070509537, 2.944510551688294, -0.02584172670497406], \"xaxis\": \"x\", \"y\": [0.63, 0.8, 0.73, 0.35, 0.33, 0.42, 0.43, 0.59, 0.78, 0.77, 0.85, 1.03, 0.36, 0.24, 0.45, 0.26, 0.42, 0.44, 0.63, 0.3, 0.41, 0.65, 0.57, 0.51, 0.6, 0.49, 0.48, 0.61, 0.97], \"yaxis\": \"y\"}, {\"hoverlabel\": {\"namelength\": 0}, \"hovertemplate\": \"<b>OLS trendline</b><br>Beta = 0.037035 * MarketCapUniformed + 0.551160<br>R<sup>2</sup>=0.019690<br><br>GICSSector=Consumer Staples<br>MarketCapUniformed=%{x}<br>Beta=%{y} <b>(trend)</b>\", \"legendgroup\": \"GICSSector=Consumer Staples\", \"marker\": {\"color\": \"#FECB52\", \"symbol\": \"circle\"}, \"mode\": \"lines\", \"name\": \"GICSSector=Consumer Staples\", \"showlegend\": false, \"type\": \"scatter\", \"x\": [-0.4183791403357575, -0.40436616165937633, -0.39856239328135723, -0.3926869734418811, -0.38286048729920324, -0.33981843080966134, -0.33778148211966874, -0.3252527122877545, -0.31331762599362706, -0.3119153045336824, -0.30732961100043277, -0.2980149210110194, -0.29645906070509537, -0.21396775672192805, -0.21359926349157765, -0.20905451365058914, -0.1427359681105791, -0.11703356529363738, -0.05709199982330262, -0.02584172670497406, 0.06294466996334626, 0.15694115147189888, 0.24698656667724977, 0.36371703331381017, 0.7721610713880533, 0.8078025555013911, 1.4316411226385195, 1.861324701073238, 2.944510551688294], \"xaxis\": \"x\", \"y\": [0.5356653076850116, 0.536184276611002, 0.5363992184525189, 0.5366168138970174, 0.5369807365916491, 0.5385747938113641, 0.5386502319532721, 0.5391142333889276, 0.539556247828449, 0.5396081826296621, 0.5397780132204902, 0.5401229816081099, 0.5401806027014265, 0.5432356579056318, 0.5432493050066804, 0.5434176192529476, 0.5458737183555715, 0.5468256036537176, 0.5490455320909711, 0.550202882077128, 0.5534910752575816, 0.5569722232834181, 0.5603070440591215, 0.564630142402434, 0.5797568166564854, 0.5810767945968058, 0.6041805784999564, 0.6200938564950087, 0.660209510027631], \"yaxis\": \"y\"}, {\"hoverlabel\": {\"namelength\": 0}, \"hovertemplate\": \"GICSSector=Energy<br>MarketCapUniformed=%{x}<br>Beta=%{y}\", \"legendgroup\": \"GICSSector=Energy\", \"marker\": {\"color\": \"#636efa\", \"symbol\": \"circle\"}, \"mode\": \"markers\", \"name\": \"GICSSector=Energy\", \"showlegend\": true, \"type\": \"scatter\", \"x\": [-0.30146442708402194, -0.45090890383724724, 1.7623740328010855, -0.4839402275689362, -0.39553256005403153, 0.10896538006488743, -0.4420957740780331, -0.3847643689893471, -0.10286704777127684, 2.490598543358035, -0.3490205256453565, -0.43650696008438505, -0.05751167266897948, -0.4313787626286751, -0.08635650386696503, -0.13724951334758395, -0.23047830062623986, -0.02926052500878072, -0.3067768711549071, -0.13213155181493927], \"xaxis\": \"x\", \"y\": [1.03, 0.55, 0.84, 1.61, 1.43, 1.08, 1.55, 1.27, 1.26, 0.91, 1.27, 1.39, 0.79, 1.53, 1.32, 0.91, 0.94, 1.05, 1.35, 1.21], \"yaxis\": \"y\"}, {\"hoverlabel\": {\"namelength\": 0}, \"hovertemplate\": \"<b>OLS trendline</b><br>Beta = -0.153590 * MarketCapUniformed + 1.161457<br>R<sup>2</sup>=0.169693<br><br>GICSSector=Energy<br>MarketCapUniformed=%{x}<br>Beta=%{y} <b>(trend)</b>\", \"legendgroup\": \"GICSSector=Energy\", \"marker\": {\"color\": \"#636efa\", \"symbol\": \"circle\"}, \"mode\": \"lines\", \"name\": \"GICSSector=Energy\", \"showlegend\": false, \"type\": \"scatter\", \"x\": [-0.4839402275689362, -0.45090890383724724, -0.4420957740780331, -0.43650696008438505, -0.4313787626286751, -0.39553256005403153, -0.3847643689893471, -0.3490205256453565, -0.3067768711549071, -0.30146442708402194, -0.23047830062623986, -0.13724951334758395, -0.13213155181493927, -0.10286704777127684, -0.08635650386696503, -0.05751167266897948, -0.02926052500878072, 0.10896538006488743, 1.7623740328010855, 2.490598543358035], \"xaxis\": \"x\", \"y\": [1.2357848829169642, 1.2307116062151089, 1.229357998765373, 1.2284996135533457, 1.2277119743752765, 1.2222063607992315, 1.220552475738695, 1.2150625835035296, 1.2085743861225082, 1.2077584485308555, 1.1968556986308352, 1.1825367013576722, 1.181750634313691, 1.177255902956206, 1.1747200506723223, 1.1702897768124438, 1.1659506867296672, 1.1447205880058209, 0.8907737687772286, 0.7789258612232204], \"yaxis\": \"y\"}],\n",
       "                        {\"height\": 400, \"legend\": {\"tracegroupgap\": 0}, \"margin\": {\"t\": 60}, \"showlegend\": false, \"template\": {\"data\": {\"bar\": [{\"error_x\": {\"color\": \"#2a3f5f\"}, \"error_y\": {\"color\": \"#2a3f5f\"}, \"marker\": {\"line\": {\"color\": \"#E5ECF6\", \"width\": 0.5}}, \"type\": \"bar\"}], \"barpolar\": [{\"marker\": {\"line\": {\"color\": \"#E5ECF6\", \"width\": 0.5}}, \"type\": \"barpolar\"}], \"carpet\": [{\"aaxis\": {\"endlinecolor\": \"#2a3f5f\", \"gridcolor\": \"white\", \"linecolor\": \"white\", \"minorgridcolor\": \"white\", \"startlinecolor\": \"#2a3f5f\"}, \"baxis\": {\"endlinecolor\": \"#2a3f5f\", \"gridcolor\": \"white\", \"linecolor\": \"white\", \"minorgridcolor\": \"white\", \"startlinecolor\": \"#2a3f5f\"}, \"type\": \"carpet\"}], \"choropleth\": [{\"colorbar\": {\"outlinewidth\": 0, \"ticks\": \"\"}, \"type\": \"choropleth\"}], \"contour\": [{\"colorbar\": {\"outlinewidth\": 0, \"ticks\": \"\"}, \"colorscale\": [[0.0, \"#0d0887\"], [0.1111111111111111, \"#46039f\"], [0.2222222222222222, \"#7201a8\"], [0.3333333333333333, \"#9c179e\"], [0.4444444444444444, \"#bd3786\"], [0.5555555555555556, \"#d8576b\"], [0.6666666666666666, \"#ed7953\"], [0.7777777777777778, \"#fb9f3a\"], [0.8888888888888888, \"#fdca26\"], [1.0, \"#f0f921\"]], \"type\": \"contour\"}], \"contourcarpet\": [{\"colorbar\": {\"outlinewidth\": 0, \"ticks\": \"\"}, \"type\": \"contourcarpet\"}], \"heatmap\": [{\"colorbar\": {\"outlinewidth\": 0, \"ticks\": \"\"}, \"colorscale\": [[0.0, \"#0d0887\"], [0.1111111111111111, \"#46039f\"], [0.2222222222222222, \"#7201a8\"], [0.3333333333333333, \"#9c179e\"], [0.4444444444444444, \"#bd3786\"], [0.5555555555555556, \"#d8576b\"], [0.6666666666666666, \"#ed7953\"], [0.7777777777777778, \"#fb9f3a\"], [0.8888888888888888, \"#fdca26\"], [1.0, \"#f0f921\"]], \"type\": \"heatmap\"}], \"heatmapgl\": [{\"colorbar\": {\"outlinewidth\": 0, \"ticks\": \"\"}, \"colorscale\": [[0.0, \"#0d0887\"], [0.1111111111111111, \"#46039f\"], [0.2222222222222222, \"#7201a8\"], [0.3333333333333333, \"#9c179e\"], [0.4444444444444444, \"#bd3786\"], [0.5555555555555556, \"#d8576b\"], [0.6666666666666666, \"#ed7953\"], [0.7777777777777778, \"#fb9f3a\"], [0.8888888888888888, \"#fdca26\"], [1.0, \"#f0f921\"]], \"type\": \"heatmapgl\"}], \"histogram\": [{\"marker\": {\"colorbar\": {\"outlinewidth\": 0, \"ticks\": \"\"}}, \"type\": \"histogram\"}], \"histogram2d\": [{\"colorbar\": {\"outlinewidth\": 0, \"ticks\": \"\"}, \"colorscale\": [[0.0, \"#0d0887\"], [0.1111111111111111, \"#46039f\"], [0.2222222222222222, \"#7201a8\"], [0.3333333333333333, \"#9c179e\"], [0.4444444444444444, \"#bd3786\"], [0.5555555555555556, \"#d8576b\"], [0.6666666666666666, \"#ed7953\"], [0.7777777777777778, \"#fb9f3a\"], [0.8888888888888888, \"#fdca26\"], [1.0, \"#f0f921\"]], \"type\": \"histogram2d\"}], \"histogram2dcontour\": [{\"colorbar\": {\"outlinewidth\": 0, \"ticks\": \"\"}, \"colorscale\": [[0.0, \"#0d0887\"], [0.1111111111111111, \"#46039f\"], [0.2222222222222222, \"#7201a8\"], [0.3333333333333333, \"#9c179e\"], [0.4444444444444444, \"#bd3786\"], [0.5555555555555556, \"#d8576b\"], [0.6666666666666666, \"#ed7953\"], [0.7777777777777778, \"#fb9f3a\"], [0.8888888888888888, \"#fdca26\"], [1.0, \"#f0f921\"]], \"type\": \"histogram2dcontour\"}], \"mesh3d\": [{\"colorbar\": {\"outlinewidth\": 0, \"ticks\": \"\"}, \"type\": \"mesh3d\"}], \"parcoords\": [{\"line\": {\"colorbar\": {\"outlinewidth\": 0, \"ticks\": \"\"}}, \"type\": \"parcoords\"}], \"pie\": [{\"automargin\": true, \"type\": \"pie\"}], \"scatter\": [{\"marker\": {\"colorbar\": {\"outlinewidth\": 0, \"ticks\": \"\"}}, \"type\": \"scatter\"}], \"scatter3d\": [{\"line\": {\"colorbar\": {\"outlinewidth\": 0, \"ticks\": \"\"}}, \"marker\": {\"colorbar\": {\"outlinewidth\": 0, \"ticks\": \"\"}}, \"type\": \"scatter3d\"}], \"scattercarpet\": [{\"marker\": {\"colorbar\": {\"outlinewidth\": 0, \"ticks\": \"\"}}, \"type\": \"scattercarpet\"}], \"scattergeo\": [{\"marker\": {\"colorbar\": {\"outlinewidth\": 0, \"ticks\": \"\"}}, \"type\": \"scattergeo\"}], \"scattergl\": [{\"marker\": {\"colorbar\": {\"outlinewidth\": 0, \"ticks\": \"\"}}, \"type\": \"scattergl\"}], \"scattermapbox\": [{\"marker\": {\"colorbar\": {\"outlinewidth\": 0, \"ticks\": \"\"}}, \"type\": \"scattermapbox\"}], \"scatterpolar\": [{\"marker\": {\"colorbar\": {\"outlinewidth\": 0, \"ticks\": \"\"}}, \"type\": \"scatterpolar\"}], \"scatterpolargl\": [{\"marker\": {\"colorbar\": {\"outlinewidth\": 0, \"ticks\": \"\"}}, \"type\": \"scatterpolargl\"}], \"scatterternary\": [{\"marker\": {\"colorbar\": {\"outlinewidth\": 0, \"ticks\": \"\"}}, \"type\": \"scatterternary\"}], \"surface\": [{\"colorbar\": {\"outlinewidth\": 0, \"ticks\": \"\"}, \"colorscale\": [[0.0, \"#0d0887\"], [0.1111111111111111, \"#46039f\"], [0.2222222222222222, \"#7201a8\"], [0.3333333333333333, \"#9c179e\"], [0.4444444444444444, \"#bd3786\"], [0.5555555555555556, \"#d8576b\"], [0.6666666666666666, \"#ed7953\"], [0.7777777777777778, \"#fb9f3a\"], [0.8888888888888888, \"#fdca26\"], [1.0, \"#f0f921\"]], \"type\": \"surface\"}], \"table\": [{\"cells\": {\"fill\": {\"color\": \"#EBF0F8\"}, \"line\": {\"color\": \"white\"}}, \"header\": {\"fill\": {\"color\": \"#C8D4E3\"}, \"line\": {\"color\": \"white\"}}, \"type\": \"table\"}]}, \"layout\": {\"annotationdefaults\": {\"arrowcolor\": \"#2a3f5f\", \"arrowhead\": 0, \"arrowwidth\": 1}, \"coloraxis\": {\"colorbar\": {\"outlinewidth\": 0, \"ticks\": \"\"}}, \"colorscale\": {\"diverging\": [[0, \"#8e0152\"], [0.1, \"#c51b7d\"], [0.2, \"#de77ae\"], [0.3, \"#f1b6da\"], [0.4, \"#fde0ef\"], [0.5, \"#f7f7f7\"], [0.6, \"#e6f5d0\"], [0.7, \"#b8e186\"], [0.8, \"#7fbc41\"], [0.9, \"#4d9221\"], [1, \"#276419\"]], \"sequential\": [[0.0, \"#0d0887\"], [0.1111111111111111, \"#46039f\"], [0.2222222222222222, \"#7201a8\"], [0.3333333333333333, \"#9c179e\"], [0.4444444444444444, \"#bd3786\"], [0.5555555555555556, \"#d8576b\"], [0.6666666666666666, \"#ed7953\"], [0.7777777777777778, \"#fb9f3a\"], [0.8888888888888888, \"#fdca26\"], [1.0, \"#f0f921\"]], \"sequentialminus\": [[0.0, \"#0d0887\"], [0.1111111111111111, \"#46039f\"], [0.2222222222222222, \"#7201a8\"], [0.3333333333333333, \"#9c179e\"], [0.4444444444444444, \"#bd3786\"], [0.5555555555555556, \"#d8576b\"], [0.6666666666666666, \"#ed7953\"], [0.7777777777777778, \"#fb9f3a\"], [0.8888888888888888, \"#fdca26\"], [1.0, \"#f0f921\"]]}, \"colorway\": [\"#636efa\", \"#EF553B\", \"#00cc96\", \"#ab63fa\", \"#FFA15A\", \"#19d3f3\", \"#FF6692\", \"#B6E880\", \"#FF97FF\", \"#FECB52\"], \"font\": {\"color\": \"#2a3f5f\"}, \"geo\": {\"bgcolor\": \"white\", \"lakecolor\": \"white\", \"landcolor\": \"#E5ECF6\", \"showlakes\": true, \"showland\": true, \"subunitcolor\": \"white\"}, \"hoverlabel\": {\"align\": \"left\"}, \"hovermode\": \"closest\", \"mapbox\": {\"style\": \"light\"}, \"paper_bgcolor\": \"white\", \"plot_bgcolor\": \"#E5ECF6\", \"polar\": {\"angularaxis\": {\"gridcolor\": \"white\", \"linecolor\": \"white\", \"ticks\": \"\"}, \"bgcolor\": \"#E5ECF6\", \"radialaxis\": {\"gridcolor\": \"white\", \"linecolor\": \"white\", \"ticks\": \"\"}}, \"scene\": {\"xaxis\": {\"backgroundcolor\": \"#E5ECF6\", \"gridcolor\": \"white\", \"gridwidth\": 2, \"linecolor\": \"white\", \"showbackground\": true, \"ticks\": \"\", \"zerolinecolor\": \"white\"}, \"yaxis\": {\"backgroundcolor\": \"#E5ECF6\", \"gridcolor\": \"white\", \"gridwidth\": 2, \"linecolor\": \"white\", \"showbackground\": true, \"ticks\": \"\", \"zerolinecolor\": \"white\"}, \"zaxis\": {\"backgroundcolor\": \"#E5ECF6\", \"gridcolor\": \"white\", \"gridwidth\": 2, \"linecolor\": \"white\", \"showbackground\": true, \"ticks\": \"\", \"zerolinecolor\": \"white\"}}, \"shapedefaults\": {\"line\": {\"color\": \"#2a3f5f\"}}, \"ternary\": {\"aaxis\": {\"gridcolor\": \"white\", \"linecolor\": \"white\", \"ticks\": \"\"}, \"baxis\": {\"gridcolor\": \"white\", \"linecolor\": \"white\", \"ticks\": \"\"}, \"bgcolor\": \"#E5ECF6\", \"caxis\": {\"gridcolor\": \"white\", \"linecolor\": \"white\", \"ticks\": \"\"}}, \"title\": {\"x\": 0.05}, \"xaxis\": {\"automargin\": true, \"gridcolor\": \"white\", \"linecolor\": \"white\", \"ticks\": \"\", \"title\": {\"standoff\": 15}, \"zerolinecolor\": \"white\", \"zerolinewidth\": 2}, \"yaxis\": {\"automargin\": true, \"gridcolor\": \"white\", \"linecolor\": \"white\", \"ticks\": \"\", \"title\": {\"standoff\": 15}, \"zerolinecolor\": \"white\", \"zerolinewidth\": 2}}}, \"xaxis\": {\"anchor\": \"y\", \"domain\": [0.0, 1.0], \"title\": {\"text\": \"MarketCapUniformed\"}}, \"yaxis\": {\"anchor\": \"x\", \"domain\": [0.0, 1.0], \"title\": {\"text\": \"Beta\"}}},\n",
       "                        {\"responsive\": true}\n",
       "                    ).then(function(){\n",
       "                            \n",
       "var gd = document.getElementById('50a865b5-0edc-4267-86f6-4ec7d84d49d1');\n",
       "var x = new MutationObserver(function (mutations, observer) {{\n",
       "        var display = window.getComputedStyle(gd).display;\n",
       "        if (!display || display === 'none') {{\n",
       "            console.log([gd, 'removed!']);\n",
       "            Plotly.purge(gd);\n",
       "            observer.disconnect();\n",
       "        }}\n",
       "}});\n",
       "\n",
       "// Listen for the removal of the full notebook cells\n",
       "var notebookContainer = gd.closest('#notebook-container');\n",
       "if (notebookContainer) {{\n",
       "    x.observe(notebookContainer, {childList: true});\n",
       "}}\n",
       "\n",
       "// Listen for the clearing of the current output cell\n",
       "var outputEl = gd.closest('.output');\n",
       "if (outputEl) {{\n",
       "    x.observe(outputEl, {childList: true});\n",
       "}}\n",
       "\n",
       "                        })\n",
       "                };\n",
       "                });\n",
       "            </script>\n",
       "        </div>"
      ]
     },
     "metadata": {},
     "output_type": "display_data"
    }
   ],
   "source": [
    "# we can see the beta distribution in different sectors\n",
    "# is it affected by marketcap or sector?\n",
    "\n",
    "# uniform marketCap\n",
    "MktCap = fullDataNoOutliers['MarketCap']\n",
    "MktCapUni = (MktCap - np.mean(MktCap))/np.std(MktCap,ddof=1)\n",
    "fullDataNoOutliers['MarketCapUniformed'] = MktCapUni\n",
    "\n",
    "fig = px.scatter(fullDataNoOutliers, x='MarketCapUniformed', y= 'Beta', color='GICSSector', trendline=\"ols\", height=400)\n",
    "fig.layout.update(showlegend=False)\n",
    "fig.show()"
   ]
  },
  {
   "cell_type": "code",
   "execution_count": 25,
   "metadata": {},
   "outputs": [
    {
     "data": {
      "application/vnd.plotly.v1+json": {
       "config": {
        "plotlyServerURL": "https://plot.ly"
       },
       "data": [
        {
         "name": "Information Technology",
         "opacity": 0.65,
         "type": "histogram",
         "x": [
          0.99,
          1.25,
          1.12,
          1.29,
          1.53,
          1.52,
          1.05,
          1.3,
          0.91,
          1.29,
          0.63,
          0.92,
          1.27,
          1.4,
          0.89,
          0.96,
          1.2,
          1.26,
          1.23,
          0.99,
          1.29,
          0.79,
          1.07,
          1.49,
          1.53,
          1.39,
          1.35,
          1.56,
          1.34,
          0.9,
          1.5,
          2.07,
          1.02,
          0.89,
          1,
          1.42,
          1.52,
          1.07,
          1.28,
          0,
          1.17,
          0.69,
          1.34,
          1.54
         ]
        },
        {
         "name": "Health Care",
         "opacity": 0.65,
         "type": "histogram",
         "x": [
          0.84,
          1.1,
          0.75,
          0.74,
          0.85,
          0.8,
          0.89,
          0.91,
          0.86,
          0.82,
          0.93,
          0.77,
          0.96,
          0.86,
          0.74,
          0.67,
          0.65,
          1.26,
          0.7,
          0.68,
          0.82,
          0.96,
          0.98,
          1.14,
          0.75,
          0.95
         ]
        },
        {
         "name": "Consumer Discretionary",
         "opacity": 0.65,
         "type": "histogram",
         "x": [
          0.65,
          1.22,
          1.26,
          0.62,
          1.27,
          1.04,
          0.73,
          0.66,
          0.82,
          1.02,
          0.84,
          0.91,
          1.01,
          0.81,
          1.06,
          0.73,
          1.11,
          1.25,
          1.02,
          1.01,
          0.94,
          1.19,
          1.41,
          1.11,
          0.65,
          1.1,
          1.14,
          1.08,
          1.1,
          1.05,
          1.11,
          0.64,
          1.37,
          1.05,
          1.22,
          0.75,
          1.32,
          0.94,
          1.11,
          0.95,
          0.97,
          1.11,
          1.17,
          1.82,
          0.52
         ]
        },
        {
         "name": "Energy",
         "opacity": 0.65,
         "type": "histogram",
         "x": [
          1.03,
          0.55,
          0.84,
          1.61,
          1.43,
          1.08,
          1.55,
          1.27,
          1.26,
          0.91,
          1.27,
          1.39,
          0.79,
          1.53,
          1.32,
          0.91,
          0.94,
          1.05,
          1.35,
          1.21
         ]
        },
        {
         "name": "Utilities",
         "opacity": 0.65,
         "type": "histogram",
         "x": [
          0.66,
          0.23,
          0.27,
          0.17,
          0.24,
          0.3,
          0.38,
          0.21,
          0.19,
          0.21,
          0.24,
          0.19,
          0.19,
          0.15,
          0.21,
          0.27,
          0.33,
          0.71,
          0.22,
          0.33,
          0.33,
          0.36,
          0.2,
          0.17,
          0.25
         ]
        },
        {
         "name": "Real Estate",
         "opacity": 0.65,
         "type": "histogram",
         "x": [
          0.58,
          0.45,
          0.41,
          0.66,
          0.59,
          0.37,
          0.4,
          0.24,
          0.49,
          0.3,
          0.86,
          0.56,
          0.66,
          0.7,
          0.72,
          0.13,
          0.35,
          0.49,
          0.56,
          0.66,
          0.27,
          0.63
         ]
        },
        {
         "name": "Consumer Staples",
         "opacity": 0.65,
         "type": "histogram",
         "x": [
          0.63,
          0.8,
          0.73,
          0.35,
          0.33,
          0.42,
          0.43,
          0.59,
          0.78,
          0.77,
          0.85,
          1.03,
          0.36,
          0.24,
          0.45,
          0.26,
          0.42,
          0.44,
          0.63,
          0.3,
          0.41,
          0.65,
          0.57,
          0.51,
          0.6,
          0.49,
          0.48,
          0.61,
          0.97
         ]
        },
        {
         "name": "Industrials",
         "opacity": 0.65,
         "type": "histogram",
         "x": [
          1.04,
          0.96,
          0.89,
          1.48,
          1.09,
          0.95,
          1.12,
          1.16,
          0.8,
          1.4,
          1.06,
          1.1,
          1.3,
          1.02,
          1.02,
          1.11,
          1.14,
          1.06,
          1.2,
          1.54,
          1.09,
          1.28,
          0.89,
          1.02,
          0.95,
          0.99,
          1.11,
          0.98,
          1.02,
          0.74,
          1.1,
          0.76,
          1,
          1.32,
          1.14,
          1.16,
          0.75,
          0.43,
          1.29,
          1.21,
          0.8,
          0.98,
          1.01,
          0.88,
          1.54,
          1.14,
          1.08,
          1.06,
          0.82,
          1.09,
          0.5,
          1.1
         ]
        },
        {
         "name": "Financials",
         "opacity": 0.65,
         "type": "histogram",
         "x": [
          0.68,
          0.69,
          1.06,
          1.46,
          0.77,
          0.74,
          0.76,
          1.13,
          0.78,
          0.83,
          1.21,
          1.19,
          0.31,
          1.18,
          0.62,
          0.66,
          1.29,
          1.07,
          0.39,
          0.97,
          1.27,
          1.27,
          0.5,
          0.95,
          0.93,
          1.05,
          1.18,
          0.72,
          0.96,
          0.61,
          1.2,
          1.28,
          0.97,
          1.06,
          1.35,
          0.9,
          0.82,
          0.81,
          1.03,
          1.22,
          1.22,
          1.3,
          0.84,
          1.14,
          0.9,
          1.18,
          1.2,
          1.16,
          1.11,
          1,
          1.03,
          0.91,
          1.01,
          1.22,
          0.69,
          0.79,
          1.24,
          0.84,
          0.73,
          0.99
         ]
        },
        {
         "name": "Communication Services",
         "opacity": 0.65,
         "type": "histogram",
         "x": [
          1.22,
          0.59,
          0.99,
          0.84,
          0.8,
          0.96,
          0.95,
          0.67,
          0.32,
          0.97,
          0.81
         ]
        },
        {
         "name": "Materials",
         "opacity": 0.65,
         "type": "histogram",
         "x": [
          0.82,
          1.41,
          0.7,
          1.15,
          1.19,
          1.26,
          0.81,
          1.12,
          1.61,
          1.16,
          0.75,
          1.11,
          0.68,
          1.29,
          1.16,
          1.08,
          0.92,
          0.58,
          0.82,
          0.9,
          1.3
         ]
        }
       ],
       "layout": {
        "barmode": "overlay",
        "height": 500,
        "template": {
         "data": {
          "bar": [
           {
            "error_x": {
             "color": "#2a3f5f"
            },
            "error_y": {
             "color": "#2a3f5f"
            },
            "marker": {
             "line": {
              "color": "#E5ECF6",
              "width": 0.5
             }
            },
            "type": "bar"
           }
          ],
          "barpolar": [
           {
            "marker": {
             "line": {
              "color": "#E5ECF6",
              "width": 0.5
             }
            },
            "type": "barpolar"
           }
          ],
          "carpet": [
           {
            "aaxis": {
             "endlinecolor": "#2a3f5f",
             "gridcolor": "white",
             "linecolor": "white",
             "minorgridcolor": "white",
             "startlinecolor": "#2a3f5f"
            },
            "baxis": {
             "endlinecolor": "#2a3f5f",
             "gridcolor": "white",
             "linecolor": "white",
             "minorgridcolor": "white",
             "startlinecolor": "#2a3f5f"
            },
            "type": "carpet"
           }
          ],
          "choropleth": [
           {
            "colorbar": {
             "outlinewidth": 0,
             "ticks": ""
            },
            "type": "choropleth"
           }
          ],
          "contour": [
           {
            "colorbar": {
             "outlinewidth": 0,
             "ticks": ""
            },
            "colorscale": [
             [
              0,
              "#0d0887"
             ],
             [
              0.1111111111111111,
              "#46039f"
             ],
             [
              0.2222222222222222,
              "#7201a8"
             ],
             [
              0.3333333333333333,
              "#9c179e"
             ],
             [
              0.4444444444444444,
              "#bd3786"
             ],
             [
              0.5555555555555556,
              "#d8576b"
             ],
             [
              0.6666666666666666,
              "#ed7953"
             ],
             [
              0.7777777777777778,
              "#fb9f3a"
             ],
             [
              0.8888888888888888,
              "#fdca26"
             ],
             [
              1,
              "#f0f921"
             ]
            ],
            "type": "contour"
           }
          ],
          "contourcarpet": [
           {
            "colorbar": {
             "outlinewidth": 0,
             "ticks": ""
            },
            "type": "contourcarpet"
           }
          ],
          "heatmap": [
           {
            "colorbar": {
             "outlinewidth": 0,
             "ticks": ""
            },
            "colorscale": [
             [
              0,
              "#0d0887"
             ],
             [
              0.1111111111111111,
              "#46039f"
             ],
             [
              0.2222222222222222,
              "#7201a8"
             ],
             [
              0.3333333333333333,
              "#9c179e"
             ],
             [
              0.4444444444444444,
              "#bd3786"
             ],
             [
              0.5555555555555556,
              "#d8576b"
             ],
             [
              0.6666666666666666,
              "#ed7953"
             ],
             [
              0.7777777777777778,
              "#fb9f3a"
             ],
             [
              0.8888888888888888,
              "#fdca26"
             ],
             [
              1,
              "#f0f921"
             ]
            ],
            "type": "heatmap"
           }
          ],
          "heatmapgl": [
           {
            "colorbar": {
             "outlinewidth": 0,
             "ticks": ""
            },
            "colorscale": [
             [
              0,
              "#0d0887"
             ],
             [
              0.1111111111111111,
              "#46039f"
             ],
             [
              0.2222222222222222,
              "#7201a8"
             ],
             [
              0.3333333333333333,
              "#9c179e"
             ],
             [
              0.4444444444444444,
              "#bd3786"
             ],
             [
              0.5555555555555556,
              "#d8576b"
             ],
             [
              0.6666666666666666,
              "#ed7953"
             ],
             [
              0.7777777777777778,
              "#fb9f3a"
             ],
             [
              0.8888888888888888,
              "#fdca26"
             ],
             [
              1,
              "#f0f921"
             ]
            ],
            "type": "heatmapgl"
           }
          ],
          "histogram": [
           {
            "marker": {
             "colorbar": {
              "outlinewidth": 0,
              "ticks": ""
             }
            },
            "type": "histogram"
           }
          ],
          "histogram2d": [
           {
            "colorbar": {
             "outlinewidth": 0,
             "ticks": ""
            },
            "colorscale": [
             [
              0,
              "#0d0887"
             ],
             [
              0.1111111111111111,
              "#46039f"
             ],
             [
              0.2222222222222222,
              "#7201a8"
             ],
             [
              0.3333333333333333,
              "#9c179e"
             ],
             [
              0.4444444444444444,
              "#bd3786"
             ],
             [
              0.5555555555555556,
              "#d8576b"
             ],
             [
              0.6666666666666666,
              "#ed7953"
             ],
             [
              0.7777777777777778,
              "#fb9f3a"
             ],
             [
              0.8888888888888888,
              "#fdca26"
             ],
             [
              1,
              "#f0f921"
             ]
            ],
            "type": "histogram2d"
           }
          ],
          "histogram2dcontour": [
           {
            "colorbar": {
             "outlinewidth": 0,
             "ticks": ""
            },
            "colorscale": [
             [
              0,
              "#0d0887"
             ],
             [
              0.1111111111111111,
              "#46039f"
             ],
             [
              0.2222222222222222,
              "#7201a8"
             ],
             [
              0.3333333333333333,
              "#9c179e"
             ],
             [
              0.4444444444444444,
              "#bd3786"
             ],
             [
              0.5555555555555556,
              "#d8576b"
             ],
             [
              0.6666666666666666,
              "#ed7953"
             ],
             [
              0.7777777777777778,
              "#fb9f3a"
             ],
             [
              0.8888888888888888,
              "#fdca26"
             ],
             [
              1,
              "#f0f921"
             ]
            ],
            "type": "histogram2dcontour"
           }
          ],
          "mesh3d": [
           {
            "colorbar": {
             "outlinewidth": 0,
             "ticks": ""
            },
            "type": "mesh3d"
           }
          ],
          "parcoords": [
           {
            "line": {
             "colorbar": {
              "outlinewidth": 0,
              "ticks": ""
             }
            },
            "type": "parcoords"
           }
          ],
          "pie": [
           {
            "automargin": true,
            "type": "pie"
           }
          ],
          "scatter": [
           {
            "marker": {
             "colorbar": {
              "outlinewidth": 0,
              "ticks": ""
             }
            },
            "type": "scatter"
           }
          ],
          "scatter3d": [
           {
            "line": {
             "colorbar": {
              "outlinewidth": 0,
              "ticks": ""
             }
            },
            "marker": {
             "colorbar": {
              "outlinewidth": 0,
              "ticks": ""
             }
            },
            "type": "scatter3d"
           }
          ],
          "scattercarpet": [
           {
            "marker": {
             "colorbar": {
              "outlinewidth": 0,
              "ticks": ""
             }
            },
            "type": "scattercarpet"
           }
          ],
          "scattergeo": [
           {
            "marker": {
             "colorbar": {
              "outlinewidth": 0,
              "ticks": ""
             }
            },
            "type": "scattergeo"
           }
          ],
          "scattergl": [
           {
            "marker": {
             "colorbar": {
              "outlinewidth": 0,
              "ticks": ""
             }
            },
            "type": "scattergl"
           }
          ],
          "scattermapbox": [
           {
            "marker": {
             "colorbar": {
              "outlinewidth": 0,
              "ticks": ""
             }
            },
            "type": "scattermapbox"
           }
          ],
          "scatterpolar": [
           {
            "marker": {
             "colorbar": {
              "outlinewidth": 0,
              "ticks": ""
             }
            },
            "type": "scatterpolar"
           }
          ],
          "scatterpolargl": [
           {
            "marker": {
             "colorbar": {
              "outlinewidth": 0,
              "ticks": ""
             }
            },
            "type": "scatterpolargl"
           }
          ],
          "scatterternary": [
           {
            "marker": {
             "colorbar": {
              "outlinewidth": 0,
              "ticks": ""
             }
            },
            "type": "scatterternary"
           }
          ],
          "surface": [
           {
            "colorbar": {
             "outlinewidth": 0,
             "ticks": ""
            },
            "colorscale": [
             [
              0,
              "#0d0887"
             ],
             [
              0.1111111111111111,
              "#46039f"
             ],
             [
              0.2222222222222222,
              "#7201a8"
             ],
             [
              0.3333333333333333,
              "#9c179e"
             ],
             [
              0.4444444444444444,
              "#bd3786"
             ],
             [
              0.5555555555555556,
              "#d8576b"
             ],
             [
              0.6666666666666666,
              "#ed7953"
             ],
             [
              0.7777777777777778,
              "#fb9f3a"
             ],
             [
              0.8888888888888888,
              "#fdca26"
             ],
             [
              1,
              "#f0f921"
             ]
            ],
            "type": "surface"
           }
          ],
          "table": [
           {
            "cells": {
             "fill": {
              "color": "#EBF0F8"
             },
             "line": {
              "color": "white"
             }
            },
            "header": {
             "fill": {
              "color": "#C8D4E3"
             },
             "line": {
              "color": "white"
             }
            },
            "type": "table"
           }
          ]
         },
         "layout": {
          "annotationdefaults": {
           "arrowcolor": "#2a3f5f",
           "arrowhead": 0,
           "arrowwidth": 1
          },
          "coloraxis": {
           "colorbar": {
            "outlinewidth": 0,
            "ticks": ""
           }
          },
          "colorscale": {
           "diverging": [
            [
             0,
             "#8e0152"
            ],
            [
             0.1,
             "#c51b7d"
            ],
            [
             0.2,
             "#de77ae"
            ],
            [
             0.3,
             "#f1b6da"
            ],
            [
             0.4,
             "#fde0ef"
            ],
            [
             0.5,
             "#f7f7f7"
            ],
            [
             0.6,
             "#e6f5d0"
            ],
            [
             0.7,
             "#b8e186"
            ],
            [
             0.8,
             "#7fbc41"
            ],
            [
             0.9,
             "#4d9221"
            ],
            [
             1,
             "#276419"
            ]
           ],
           "sequential": [
            [
             0,
             "#0d0887"
            ],
            [
             0.1111111111111111,
             "#46039f"
            ],
            [
             0.2222222222222222,
             "#7201a8"
            ],
            [
             0.3333333333333333,
             "#9c179e"
            ],
            [
             0.4444444444444444,
             "#bd3786"
            ],
            [
             0.5555555555555556,
             "#d8576b"
            ],
            [
             0.6666666666666666,
             "#ed7953"
            ],
            [
             0.7777777777777778,
             "#fb9f3a"
            ],
            [
             0.8888888888888888,
             "#fdca26"
            ],
            [
             1,
             "#f0f921"
            ]
           ],
           "sequentialminus": [
            [
             0,
             "#0d0887"
            ],
            [
             0.1111111111111111,
             "#46039f"
            ],
            [
             0.2222222222222222,
             "#7201a8"
            ],
            [
             0.3333333333333333,
             "#9c179e"
            ],
            [
             0.4444444444444444,
             "#bd3786"
            ],
            [
             0.5555555555555556,
             "#d8576b"
            ],
            [
             0.6666666666666666,
             "#ed7953"
            ],
            [
             0.7777777777777778,
             "#fb9f3a"
            ],
            [
             0.8888888888888888,
             "#fdca26"
            ],
            [
             1,
             "#f0f921"
            ]
           ]
          },
          "colorway": [
           "#636efa",
           "#EF553B",
           "#00cc96",
           "#ab63fa",
           "#FFA15A",
           "#19d3f3",
           "#FF6692",
           "#B6E880",
           "#FF97FF",
           "#FECB52"
          ],
          "font": {
           "color": "#2a3f5f"
          },
          "geo": {
           "bgcolor": "white",
           "lakecolor": "white",
           "landcolor": "#E5ECF6",
           "showlakes": true,
           "showland": true,
           "subunitcolor": "white"
          },
          "hoverlabel": {
           "align": "left"
          },
          "hovermode": "closest",
          "mapbox": {
           "style": "light"
          },
          "paper_bgcolor": "white",
          "plot_bgcolor": "#E5ECF6",
          "polar": {
           "angularaxis": {
            "gridcolor": "white",
            "linecolor": "white",
            "ticks": ""
           },
           "bgcolor": "#E5ECF6",
           "radialaxis": {
            "gridcolor": "white",
            "linecolor": "white",
            "ticks": ""
           }
          },
          "scene": {
           "xaxis": {
            "backgroundcolor": "#E5ECF6",
            "gridcolor": "white",
            "gridwidth": 2,
            "linecolor": "white",
            "showbackground": true,
            "ticks": "",
            "zerolinecolor": "white"
           },
           "yaxis": {
            "backgroundcolor": "#E5ECF6",
            "gridcolor": "white",
            "gridwidth": 2,
            "linecolor": "white",
            "showbackground": true,
            "ticks": "",
            "zerolinecolor": "white"
           },
           "zaxis": {
            "backgroundcolor": "#E5ECF6",
            "gridcolor": "white",
            "gridwidth": 2,
            "linecolor": "white",
            "showbackground": true,
            "ticks": "",
            "zerolinecolor": "white"
           }
          },
          "shapedefaults": {
           "line": {
            "color": "#2a3f5f"
           }
          },
          "ternary": {
           "aaxis": {
            "gridcolor": "white",
            "linecolor": "white",
            "ticks": ""
           },
           "baxis": {
            "gridcolor": "white",
            "linecolor": "white",
            "ticks": ""
           },
           "bgcolor": "#E5ECF6",
           "caxis": {
            "gridcolor": "white",
            "linecolor": "white",
            "ticks": ""
           }
          },
          "title": {
           "x": 0.05
          },
          "xaxis": {
           "automargin": true,
           "gridcolor": "white",
           "linecolor": "white",
           "ticks": "",
           "title": {
            "standoff": 15
           },
           "zerolinecolor": "white",
           "zerolinewidth": 2
          },
          "yaxis": {
           "automargin": true,
           "gridcolor": "white",
           "linecolor": "white",
           "ticks": "",
           "title": {
            "standoff": 15
           },
           "zerolinecolor": "white",
           "zerolinewidth": 2
          }
         }
        }
       }
      },
      "text/html": [
       "<div>\n",
       "        \n",
       "        \n",
       "            <div id=\"2812cd27-32a7-45dd-9d57-709b517fe72e\" class=\"plotly-graph-div\" style=\"height:500px; width:100%;\"></div>\n",
       "            <script type=\"text/javascript\">\n",
       "                require([\"plotly\"], function(Plotly) {\n",
       "                    window.PLOTLYENV=window.PLOTLYENV || {};\n",
       "                    \n",
       "                if (document.getElementById(\"2812cd27-32a7-45dd-9d57-709b517fe72e\")) {\n",
       "                    Plotly.newPlot(\n",
       "                        '2812cd27-32a7-45dd-9d57-709b517fe72e',\n",
       "                        [{\"name\": \"Information Technology\", \"opacity\": 0.65, \"type\": \"histogram\", \"x\": [0.99, 1.25, 1.12, 1.29, 1.53, 1.52, 1.05, 1.3, 0.91, 1.29, 0.63, 0.92, 1.27, 1.4, 0.89, 0.96, 1.2, 1.26, 1.23, 0.99, 1.29, 0.79, 1.07, 1.49, 1.53, 1.39, 1.35, 1.56, 1.34, 0.9, 1.5, 2.07, 1.02, 0.89, 1.0, 1.42, 1.52, 1.07, 1.28, 0.0, 1.17, 0.69, 1.34, 1.54]}, {\"name\": \"Health Care\", \"opacity\": 0.65, \"type\": \"histogram\", \"x\": [0.84, 1.1, 0.75, 0.74, 0.85, 0.8, 0.89, 0.91, 0.86, 0.82, 0.93, 0.77, 0.96, 0.86, 0.74, 0.67, 0.65, 1.26, 0.7, 0.68, 0.82, 0.96, 0.98, 1.14, 0.75, 0.95]}, {\"name\": \"Consumer Discretionary\", \"opacity\": 0.65, \"type\": \"histogram\", \"x\": [0.65, 1.22, 1.26, 0.62, 1.27, 1.04, 0.73, 0.66, 0.82, 1.02, 0.84, 0.91, 1.01, 0.81, 1.06, 0.73, 1.11, 1.25, 1.02, 1.01, 0.94, 1.19, 1.41, 1.11, 0.65, 1.1, 1.14, 1.08, 1.1, 1.05, 1.11, 0.64, 1.37, 1.05, 1.22, 0.75, 1.32, 0.94, 1.11, 0.95, 0.97, 1.11, 1.17, 1.82, 0.52]}, {\"name\": \"Energy\", \"opacity\": 0.65, \"type\": \"histogram\", \"x\": [1.03, 0.55, 0.84, 1.61, 1.43, 1.08, 1.55, 1.27, 1.26, 0.91, 1.27, 1.39, 0.79, 1.53, 1.32, 0.91, 0.94, 1.05, 1.35, 1.21]}, {\"name\": \"Utilities\", \"opacity\": 0.65, \"type\": \"histogram\", \"x\": [0.66, 0.23, 0.27, 0.17, 0.24, 0.3, 0.38, 0.21, 0.19, 0.21, 0.24, 0.19, 0.19, 0.15, 0.21, 0.27, 0.33, 0.71, 0.22, 0.33, 0.33, 0.36, 0.2, 0.17, 0.25]}, {\"name\": \"Real Estate\", \"opacity\": 0.65, \"type\": \"histogram\", \"x\": [0.58, 0.45, 0.41, 0.66, 0.59, 0.37, 0.4, 0.24, 0.49, 0.3, 0.86, 0.56, 0.66, 0.7, 0.72, 0.13, 0.35, 0.49, 0.56, 0.66, 0.27, 0.63]}, {\"name\": \"Consumer Staples\", \"opacity\": 0.65, \"type\": \"histogram\", \"x\": [0.63, 0.8, 0.73, 0.35, 0.33, 0.42, 0.43, 0.59, 0.78, 0.77, 0.85, 1.03, 0.36, 0.24, 0.45, 0.26, 0.42, 0.44, 0.63, 0.3, 0.41, 0.65, 0.57, 0.51, 0.6, 0.49, 0.48, 0.61, 0.97]}, {\"name\": \"Industrials\", \"opacity\": 0.65, \"type\": \"histogram\", \"x\": [1.04, 0.96, 0.89, 1.48, 1.09, 0.95, 1.12, 1.16, 0.8, 1.4, 1.06, 1.1, 1.3, 1.02, 1.02, 1.11, 1.14, 1.06, 1.2, 1.54, 1.09, 1.28, 0.89, 1.02, 0.95, 0.99, 1.11, 0.98, 1.02, 0.74, 1.1, 0.76, 1.0, 1.32, 1.14, 1.16, 0.75, 0.43, 1.29, 1.21, 0.8, 0.98, 1.01, 0.88, 1.54, 1.14, 1.08, 1.06, 0.82, 1.09, 0.5, 1.1]}, {\"name\": \"Financials\", \"opacity\": 0.65, \"type\": \"histogram\", \"x\": [0.68, 0.69, 1.06, 1.46, 0.77, 0.74, 0.76, 1.13, 0.78, 0.83, 1.21, 1.19, 0.31, 1.18, 0.62, 0.66, 1.29, 1.07, 0.39, 0.97, 1.27, 1.27, 0.5, 0.95, 0.93, 1.05, 1.18, 0.72, 0.96, 0.61, 1.2, 1.28, 0.97, 1.06, 1.35, 0.9, 0.82, 0.81, 1.03, 1.22, 1.22, 1.3, 0.84, 1.14, 0.9, 1.18, 1.2, 1.16, 1.11, 1.0, 1.03, 0.91, 1.01, 1.22, 0.69, 0.79, 1.24, 0.84, 0.73, 0.99]}, {\"name\": \"Communication Services\", \"opacity\": 0.65, \"type\": \"histogram\", \"x\": [1.22, 0.59, 0.99, 0.84, 0.8, 0.96, 0.95, 0.67, 0.32, 0.97, 0.81]}, {\"name\": \"Materials\", \"opacity\": 0.65, \"type\": \"histogram\", \"x\": [0.82, 1.41, 0.7, 1.15, 1.19, 1.26, 0.81, 1.12, 1.61, 1.16, 0.75, 1.11, 0.68, 1.29, 1.16, 1.08, 0.92, 0.58, 0.82, 0.9, 1.3]}],\n",
       "                        {\"barmode\": \"overlay\", \"height\": 500, \"template\": {\"data\": {\"bar\": [{\"error_x\": {\"color\": \"#2a3f5f\"}, \"error_y\": {\"color\": \"#2a3f5f\"}, \"marker\": {\"line\": {\"color\": \"#E5ECF6\", \"width\": 0.5}}, \"type\": \"bar\"}], \"barpolar\": [{\"marker\": {\"line\": {\"color\": \"#E5ECF6\", \"width\": 0.5}}, \"type\": \"barpolar\"}], \"carpet\": [{\"aaxis\": {\"endlinecolor\": \"#2a3f5f\", \"gridcolor\": \"white\", \"linecolor\": \"white\", \"minorgridcolor\": \"white\", \"startlinecolor\": \"#2a3f5f\"}, \"baxis\": {\"endlinecolor\": \"#2a3f5f\", \"gridcolor\": \"white\", \"linecolor\": \"white\", \"minorgridcolor\": \"white\", \"startlinecolor\": \"#2a3f5f\"}, \"type\": \"carpet\"}], \"choropleth\": [{\"colorbar\": {\"outlinewidth\": 0, \"ticks\": \"\"}, \"type\": \"choropleth\"}], \"contour\": [{\"colorbar\": {\"outlinewidth\": 0, \"ticks\": \"\"}, \"colorscale\": [[0.0, \"#0d0887\"], [0.1111111111111111, \"#46039f\"], [0.2222222222222222, \"#7201a8\"], [0.3333333333333333, \"#9c179e\"], [0.4444444444444444, \"#bd3786\"], [0.5555555555555556, \"#d8576b\"], [0.6666666666666666, \"#ed7953\"], [0.7777777777777778, \"#fb9f3a\"], [0.8888888888888888, \"#fdca26\"], [1.0, \"#f0f921\"]], \"type\": \"contour\"}], \"contourcarpet\": [{\"colorbar\": {\"outlinewidth\": 0, \"ticks\": \"\"}, \"type\": \"contourcarpet\"}], \"heatmap\": [{\"colorbar\": {\"outlinewidth\": 0, \"ticks\": \"\"}, \"colorscale\": [[0.0, \"#0d0887\"], [0.1111111111111111, \"#46039f\"], [0.2222222222222222, \"#7201a8\"], [0.3333333333333333, \"#9c179e\"], [0.4444444444444444, \"#bd3786\"], [0.5555555555555556, \"#d8576b\"], [0.6666666666666666, \"#ed7953\"], [0.7777777777777778, \"#fb9f3a\"], [0.8888888888888888, \"#fdca26\"], [1.0, \"#f0f921\"]], \"type\": \"heatmap\"}], \"heatmapgl\": [{\"colorbar\": {\"outlinewidth\": 0, \"ticks\": \"\"}, \"colorscale\": [[0.0, \"#0d0887\"], [0.1111111111111111, \"#46039f\"], [0.2222222222222222, \"#7201a8\"], [0.3333333333333333, \"#9c179e\"], [0.4444444444444444, \"#bd3786\"], [0.5555555555555556, \"#d8576b\"], [0.6666666666666666, \"#ed7953\"], [0.7777777777777778, \"#fb9f3a\"], [0.8888888888888888, \"#fdca26\"], [1.0, \"#f0f921\"]], \"type\": \"heatmapgl\"}], \"histogram\": [{\"marker\": {\"colorbar\": {\"outlinewidth\": 0, \"ticks\": \"\"}}, \"type\": \"histogram\"}], \"histogram2d\": [{\"colorbar\": {\"outlinewidth\": 0, \"ticks\": \"\"}, \"colorscale\": [[0.0, \"#0d0887\"], [0.1111111111111111, \"#46039f\"], [0.2222222222222222, \"#7201a8\"], [0.3333333333333333, \"#9c179e\"], [0.4444444444444444, \"#bd3786\"], [0.5555555555555556, \"#d8576b\"], [0.6666666666666666, \"#ed7953\"], [0.7777777777777778, \"#fb9f3a\"], [0.8888888888888888, \"#fdca26\"], [1.0, \"#f0f921\"]], \"type\": \"histogram2d\"}], \"histogram2dcontour\": [{\"colorbar\": {\"outlinewidth\": 0, \"ticks\": \"\"}, \"colorscale\": [[0.0, \"#0d0887\"], [0.1111111111111111, \"#46039f\"], [0.2222222222222222, \"#7201a8\"], [0.3333333333333333, \"#9c179e\"], [0.4444444444444444, \"#bd3786\"], [0.5555555555555556, \"#d8576b\"], [0.6666666666666666, \"#ed7953\"], [0.7777777777777778, \"#fb9f3a\"], [0.8888888888888888, \"#fdca26\"], [1.0, \"#f0f921\"]], \"type\": \"histogram2dcontour\"}], \"mesh3d\": [{\"colorbar\": {\"outlinewidth\": 0, \"ticks\": \"\"}, \"type\": \"mesh3d\"}], \"parcoords\": [{\"line\": {\"colorbar\": {\"outlinewidth\": 0, \"ticks\": \"\"}}, \"type\": \"parcoords\"}], \"pie\": [{\"automargin\": true, \"type\": \"pie\"}], \"scatter\": [{\"marker\": {\"colorbar\": {\"outlinewidth\": 0, \"ticks\": \"\"}}, \"type\": \"scatter\"}], \"scatter3d\": [{\"line\": {\"colorbar\": {\"outlinewidth\": 0, \"ticks\": \"\"}}, \"marker\": {\"colorbar\": {\"outlinewidth\": 0, \"ticks\": \"\"}}, \"type\": \"scatter3d\"}], \"scattercarpet\": [{\"marker\": {\"colorbar\": {\"outlinewidth\": 0, \"ticks\": \"\"}}, \"type\": \"scattercarpet\"}], \"scattergeo\": [{\"marker\": {\"colorbar\": {\"outlinewidth\": 0, \"ticks\": \"\"}}, \"type\": \"scattergeo\"}], \"scattergl\": [{\"marker\": {\"colorbar\": {\"outlinewidth\": 0, \"ticks\": \"\"}}, \"type\": \"scattergl\"}], \"scattermapbox\": [{\"marker\": {\"colorbar\": {\"outlinewidth\": 0, \"ticks\": \"\"}}, \"type\": \"scattermapbox\"}], \"scatterpolar\": [{\"marker\": {\"colorbar\": {\"outlinewidth\": 0, \"ticks\": \"\"}}, \"type\": \"scatterpolar\"}], \"scatterpolargl\": [{\"marker\": {\"colorbar\": {\"outlinewidth\": 0, \"ticks\": \"\"}}, \"type\": \"scatterpolargl\"}], \"scatterternary\": [{\"marker\": {\"colorbar\": {\"outlinewidth\": 0, \"ticks\": \"\"}}, \"type\": \"scatterternary\"}], \"surface\": [{\"colorbar\": {\"outlinewidth\": 0, \"ticks\": \"\"}, \"colorscale\": [[0.0, \"#0d0887\"], [0.1111111111111111, \"#46039f\"], [0.2222222222222222, \"#7201a8\"], [0.3333333333333333, \"#9c179e\"], [0.4444444444444444, \"#bd3786\"], [0.5555555555555556, \"#d8576b\"], [0.6666666666666666, \"#ed7953\"], [0.7777777777777778, \"#fb9f3a\"], [0.8888888888888888, \"#fdca26\"], [1.0, \"#f0f921\"]], \"type\": \"surface\"}], \"table\": [{\"cells\": {\"fill\": {\"color\": \"#EBF0F8\"}, \"line\": {\"color\": \"white\"}}, \"header\": {\"fill\": {\"color\": \"#C8D4E3\"}, \"line\": {\"color\": \"white\"}}, \"type\": \"table\"}]}, \"layout\": {\"annotationdefaults\": {\"arrowcolor\": \"#2a3f5f\", \"arrowhead\": 0, \"arrowwidth\": 1}, \"coloraxis\": {\"colorbar\": {\"outlinewidth\": 0, \"ticks\": \"\"}}, \"colorscale\": {\"diverging\": [[0, \"#8e0152\"], [0.1, \"#c51b7d\"], [0.2, \"#de77ae\"], [0.3, \"#f1b6da\"], [0.4, \"#fde0ef\"], [0.5, \"#f7f7f7\"], [0.6, \"#e6f5d0\"], [0.7, \"#b8e186\"], [0.8, \"#7fbc41\"], [0.9, \"#4d9221\"], [1, \"#276419\"]], \"sequential\": [[0.0, \"#0d0887\"], [0.1111111111111111, \"#46039f\"], [0.2222222222222222, \"#7201a8\"], [0.3333333333333333, \"#9c179e\"], [0.4444444444444444, \"#bd3786\"], [0.5555555555555556, \"#d8576b\"], [0.6666666666666666, \"#ed7953\"], [0.7777777777777778, \"#fb9f3a\"], [0.8888888888888888, \"#fdca26\"], [1.0, \"#f0f921\"]], \"sequentialminus\": [[0.0, \"#0d0887\"], [0.1111111111111111, \"#46039f\"], [0.2222222222222222, \"#7201a8\"], [0.3333333333333333, \"#9c179e\"], [0.4444444444444444, \"#bd3786\"], [0.5555555555555556, \"#d8576b\"], [0.6666666666666666, \"#ed7953\"], [0.7777777777777778, \"#fb9f3a\"], [0.8888888888888888, \"#fdca26\"], [1.0, \"#f0f921\"]]}, \"colorway\": [\"#636efa\", \"#EF553B\", \"#00cc96\", \"#ab63fa\", \"#FFA15A\", \"#19d3f3\", \"#FF6692\", \"#B6E880\", \"#FF97FF\", \"#FECB52\"], \"font\": {\"color\": \"#2a3f5f\"}, \"geo\": {\"bgcolor\": \"white\", \"lakecolor\": \"white\", \"landcolor\": \"#E5ECF6\", \"showlakes\": true, \"showland\": true, \"subunitcolor\": \"white\"}, \"hoverlabel\": {\"align\": \"left\"}, \"hovermode\": \"closest\", \"mapbox\": {\"style\": \"light\"}, \"paper_bgcolor\": \"white\", \"plot_bgcolor\": \"#E5ECF6\", \"polar\": {\"angularaxis\": {\"gridcolor\": \"white\", \"linecolor\": \"white\", \"ticks\": \"\"}, \"bgcolor\": \"#E5ECF6\", \"radialaxis\": {\"gridcolor\": \"white\", \"linecolor\": \"white\", \"ticks\": \"\"}}, \"scene\": {\"xaxis\": {\"backgroundcolor\": \"#E5ECF6\", \"gridcolor\": \"white\", \"gridwidth\": 2, \"linecolor\": \"white\", \"showbackground\": true, \"ticks\": \"\", \"zerolinecolor\": \"white\"}, \"yaxis\": {\"backgroundcolor\": \"#E5ECF6\", \"gridcolor\": \"white\", \"gridwidth\": 2, \"linecolor\": \"white\", \"showbackground\": true, \"ticks\": \"\", \"zerolinecolor\": \"white\"}, \"zaxis\": {\"backgroundcolor\": \"#E5ECF6\", \"gridcolor\": \"white\", \"gridwidth\": 2, \"linecolor\": \"white\", \"showbackground\": true, \"ticks\": \"\", \"zerolinecolor\": \"white\"}}, \"shapedefaults\": {\"line\": {\"color\": \"#2a3f5f\"}}, \"ternary\": {\"aaxis\": {\"gridcolor\": \"white\", \"linecolor\": \"white\", \"ticks\": \"\"}, \"baxis\": {\"gridcolor\": \"white\", \"linecolor\": \"white\", \"ticks\": \"\"}, \"bgcolor\": \"#E5ECF6\", \"caxis\": {\"gridcolor\": \"white\", \"linecolor\": \"white\", \"ticks\": \"\"}}, \"title\": {\"x\": 0.05}, \"xaxis\": {\"automargin\": true, \"gridcolor\": \"white\", \"linecolor\": \"white\", \"ticks\": \"\", \"title\": {\"standoff\": 15}, \"zerolinecolor\": \"white\", \"zerolinewidth\": 2}, \"yaxis\": {\"automargin\": true, \"gridcolor\": \"white\", \"linecolor\": \"white\", \"ticks\": \"\", \"title\": {\"standoff\": 15}, \"zerolinecolor\": \"white\", \"zerolinewidth\": 2}}}},\n",
       "                        {\"responsive\": true}\n",
       "                    ).then(function(){\n",
       "                            \n",
       "var gd = document.getElementById('2812cd27-32a7-45dd-9d57-709b517fe72e');\n",
       "var x = new MutationObserver(function (mutations, observer) {{\n",
       "        var display = window.getComputedStyle(gd).display;\n",
       "        if (!display || display === 'none') {{\n",
       "            console.log([gd, 'removed!']);\n",
       "            Plotly.purge(gd);\n",
       "            observer.disconnect();\n",
       "        }}\n",
       "}});\n",
       "\n",
       "// Listen for the removal of the full notebook cells\n",
       "var notebookContainer = gd.closest('#notebook-container');\n",
       "if (notebookContainer) {{\n",
       "    x.observe(notebookContainer, {childList: true});\n",
       "}}\n",
       "\n",
       "// Listen for the clearing of the current output cell\n",
       "var outputEl = gd.closest('.output');\n",
       "if (outputEl) {{\n",
       "    x.observe(outputEl, {childList: true});\n",
       "}}\n",
       "\n",
       "                        })\n",
       "                };\n",
       "                });\n",
       "            </script>\n",
       "        </div>"
      ]
     },
     "metadata": {},
     "output_type": "display_data"
    }
   ],
   "source": [
    "# from the figure we can see there are downard and upward trands, and the r_square is really low\n",
    "# but the beta distributed so different in different sectors\n",
    "\n",
    "# click on legends to see different sectors\n",
    "\n",
    "fig = go.Figure()\n",
    "for i in set(fullDataNoOutliers['GICSSector']):\n",
    "    fig.add_trace(go.Histogram(x=fullDataNoOutliers.loc[fullDataNoOutliers['GICSSector']==i,'Beta'], name=i))\n",
    "\n",
    "\n",
    "# Overlay histograms\n",
    "fig.update_layout(barmode='overlay',height=500)\n",
    "# Reduce opacity to see each histograms\n",
    "fig.update_traces(opacity=0.65)\n",
    "fig.show()\n"
   ]
  },
  {
   "cell_type": "code",
   "execution_count": 41,
   "metadata": {},
   "outputs": [
    {
     "data": {
      "application/vnd.plotly.v1+json": {
       "config": {
        "plotlyServerURL": "https://plot.ly"
       },
       "data": [
        {
         "hoverlabel": {
          "namelength": 0
         },
         "hovertemplate": "MarketCapUniformed=%{x}<br>Beta=%{y}<br>cluster=%{marker.color}",
         "legendgroup": "",
         "marker": {
          "color": [
           3,
           3,
           3,
           5,
           1,
           1,
           1,
           5,
           1,
           1,
           5,
           4,
           1,
           5,
           4,
           1,
           3,
           4,
           5,
           4,
           3,
           4,
           5,
           1,
           5,
           3,
           5,
           5,
           1,
           1,
           4,
           2,
           5,
           5,
           1,
           5,
           1,
           1,
           4,
           0,
           3,
           4,
           1,
           1,
           0,
           1,
           1,
           1,
           5,
           3,
           1,
           0,
           5,
           1,
           3,
           3,
           1,
           1,
           1,
           4,
           4,
           5,
           1,
           1,
           3,
           4,
           1,
           5,
           4,
           1,
           5,
           5,
           0,
           3,
           4,
           5,
           1,
           0,
           3,
           5,
           1,
           4,
           4,
           4,
           0,
           1,
           4,
           0,
           1,
           1,
           5,
           3,
           4,
           1,
           1,
           5,
           3,
           1,
           5,
           3,
           1,
           3,
           1,
           5,
           1,
           5,
           5,
           5,
           1,
           4,
           1,
           4,
           4,
           4,
           5,
           5,
           5,
           5,
           1,
           1,
           5,
           4,
           5,
           4,
           4,
           3,
           4,
           4,
           4,
           4,
           1,
           5,
           4,
           0,
           5,
           4,
           3,
           1,
           4,
           1,
           1,
           5,
           5,
           1,
           5,
           5,
           5,
           5,
           1,
           1,
           1,
           4,
           1,
           1,
           3,
           5,
           3,
           1,
           5,
           5,
           5,
           1,
           1,
           1,
           4,
           4,
           1,
           5,
           0,
           3,
           4,
           1,
           5,
           1,
           1,
           1,
           5,
           1,
           0,
           4,
           3,
           5,
           1,
           3,
           5,
           4,
           1,
           5,
           4,
           0,
           5,
           1,
           4,
           5,
           4,
           1,
           1,
           5,
           5,
           1,
           5,
           5,
           4,
           5,
           1,
           5,
           3,
           3,
           1,
           3,
           5,
           1,
           1,
           5,
           5,
           5,
           1,
           1,
           1,
           5,
           0,
           4,
           5,
           1,
           3,
           0,
           1,
           5,
           2,
           1,
           3,
           5,
           3,
           5,
           1,
           5,
           1,
           5,
           1,
           1,
           3,
           5,
           5,
           1,
           1,
           5,
           3,
           1,
           1,
           1,
           0,
           1,
           5,
           5,
           1,
           5,
           1,
           0,
           5,
           0,
           3,
           1,
           4,
           5,
           5,
           1,
           4,
           5,
           1,
           5,
           4,
           4,
           1,
           5,
           5,
           3,
           1,
           5,
           1,
           4,
           4,
           5,
           4,
           1,
           5,
           5,
           1,
           1,
           1,
           5,
           5,
           4,
           4,
           1,
           3,
           5,
           1,
           1,
           4,
           1,
           1,
           5,
           3,
           1,
           3,
           1,
           1,
           4,
           5,
           5,
           1,
           1,
           1,
           3,
           3,
           5,
           3,
           4,
           1,
           1,
           4,
           3,
           3,
           3,
           3,
           1,
           5,
           5,
           5,
           4,
           1,
           0,
           1,
           0,
           1,
           1,
           5,
           0,
           1,
           0,
           4,
           4,
           0,
           1,
           5,
           5,
           1,
           5,
           4,
           5,
           5,
           5,
           4,
           1,
           1
          ],
          "coloraxis": "coloraxis",
          "symbol": "circle"
         },
         "mode": "markers",
         "name": "",
         "showlegend": false,
         "type": "scatter",
         "x": [
          0.4635275191234472,
          0.646412756530973,
          0.6702317495039014,
          -0.09997028154379994,
          -0.40956601057654335,
          -0.41382415457170374,
          -0.132581932429812,
          -0.29271271286319944,
          -0.05642666482405881,
          -0.44327290523054136,
          -0.4570402217533556,
          -0.34617493903320606,
          -0.4304677654758643,
          -0.4654950942052847,
          -0.3998111758953225,
          -0.1657053794690885,
          0.36371703331381017,
          -0.3363382169674629,
          -0.4012851488167242,
          -0.052885035443468675,
          0.459064656666981,
          -0.30473992246491455,
          -0.338037380196301,
          -0.3475772604931507,
          -0.32220240721429827,
          0.717859499526693,
          -0.22091794848325957,
          -0.1310363080469533,
          -0.06807514527235815,
          -0.4582071169827986,
          -0.44686571422645793,
          10.71879647900625,
          -0.05243465482859594,
          -0.2958653771673086,
          -0.2980149210110194,
          -0.4074881181942896,
          -0.3585194622499451,
          -0.4510522067601613,
          -0.393495611364039,
          2.292502724275489,
          0.18024834829156286,
          -0.2135378479531859,
          -0.30146442708402194,
          -0.28866952325241013,
          2.463442639465822,
          -0.0793244247211112,
          -0.07059318234641934,
          -0.1107282366854191,
          -0.3357854771219373,
          0.19294089289252173,
          -0.4796616117276452,
          1.4310064954084714,
          -0.4457090549200802,
          -0.3230110451364561,
          0.38682974759523364,
          0.6079563935746807,
          -0.38600291568024714,
          -0.21396775672192805,
          -0.40683301911811104,
          -0.45090890383724724,
          -0.38286048729920324,
          -0.08350068133174929,
          -0.3805062249941867,
          -0.29293790317063584,
          0.24914634644402583,
          -0.39986235551064897,
          -0.3902815315215381,
          -0.3760024188454594,
          -0.37805983938158255,
          -0.31001142284353855,
          -0.4278268973250196,
          0.02332141177761096,
          1.7623740328010855,
          0.17027855922597096,
          -0.33981843080966134,
          -0.4839402275689362,
          -0.33969559973287783,
          1.5143064373137967,
          1.145076220502677,
          -0.3655617773188642,
          -0.3913153597511323,
          -0.33778148211966874,
          0.2110380048719534,
          -0.34637965749451183,
          1.861324701073238,
          -0.18905351998101363,
          0.06294466996334626,
          1.5967670335277682,
          -0.4296693634767717,
          -0.3926869734418811,
          -0.39553256005403153,
          0.10896538006488743,
          -0.21166467403223796,
          -0.1427359681105791,
          -0.38702650798677607,
          -0.289795474789592,
          0.8078025555013911,
          0.06015026296652225,
          -0.2472754503763798,
          0.3430302327988603,
          -0.32471020836529413,
          0.486404807174369,
          -0.39167361705841747,
          0.03380299699646731,
          -0.17399647715197292,
          -0.4420957740780331,
          -0.3847643689893471,
          -0.2679315431221338,
          -0.1013726030037446,
          0.1657031016157866,
          -0.3764527994603321,
          -0.28758451540748947,
          -0.4026260547382771,
          0.18700405751465385,
          -0.4551977556016035,
          -0.42985361009194695,
          -0.42530886025095843,
          -0.16625811931461415,
          -0.19366992128345917,
          0.024549722545445688,
          -0.08596753879048404,
          -0.2846775132569473,
          -0.10286704777127684,
          -0.19678164189530714,
          -0.3093153800750989,
          0.15694115147189888,
          -0.3772204936902288,
          -0.2451566143018649,
          -0.4262608010960304,
          -0.0762331759553938,
          -0.3228063266751503,
          -0.39921749235753573,
          -0.36986086500628573,
          2.490598543358035,
          -0.3091720771521848,
          -0.4218695901010212,
          0.2670387399621517,
          -0.3199505041399346,
          -0.2626498068204445,
          -0.3464820167251647,
          -0.45624181975426303,
          -0.4652391961286524,
          -0.42003735987233437,
          -0.15407737086691975,
          -0.2817705111064051,
          -0.4466302879959563,
          -0.3864840040643157,
          -0.37977947445655114,
          -0.46268021536233006,
          -0.3617642498616418,
          -0.017079776561086328,
          -0.21359926349157765,
          0.0048046269525024235,
          -0.3743544352319478,
          0.3328761971180932,
          -0.05027487506181987,
          0.24752907059971013,
          -0.3556943474839252,
          -0.3490205256453565,
          -0.4703776295074277,
          -0.46675411274231526,
          -0.31604038152899405,
          -0.40181741681611927,
          -0.09306103347472959,
          -0.3395522968099638,
          -0.20905451365058914,
          -0.24901555729747898,
          -0.43650696008438505,
          2.1003949201861376,
          0.7206948502157783,
          -0.30732961100043277,
          -0.40433545389018044,
          -0.27053146758071733,
          -0.12892770789550367,
          -0.3765039790756585,
          -0.43833919031307184,
          0.004947929875416475,
          -0.23663009038847882,
          1.8150276210489342,
          0.002859801570097436,
          0.6882981537141373,
          -0.3557455270992516,
          -0.4454019772281215,
          0.1511987986322715,
          -0.36402638885907074,
          -0.4294237013232048,
          -0.42114283956338566,
          -0.4715957043521971,
          -0.40436616165937633,
          3.564858669060158,
          -0.4418705837705967,
          -0.38105896483971236,
          -0.31331762599362706,
          -0.3430120388060316,
          -0.05709199982330262,
          -0.43833919031307184,
          -0.05751167266897948,
          -0.2727731347320157,
          -0.44346738776878186,
          -0.3252527122877545,
          -0.4803474185730196,
          -0.18452924198615572,
          -0.4183791403357575,
          -0.4698351255849674,
          -0.32972581066728596,
          -0.40356775966028374,
          0.5416071402654747,
          0.548229782488717,
          -0.37206158846532295,
          0.35071741102089266,
          -0.22752011886037124,
          -0.31427980276176426,
          -0.4852913694135544,
          -0.4806749681111088,
          -0.4313787626286751,
          -0.08635650386696503,
          -0.11390137283565882,
          -0.0172026076378698,
          -0.3614571721696831,
          -0.39983164774145313,
          2.1786894957125362,
          -0.3119153045336824,
          -0.373443438079137,
          -0.2537752615228386,
          0.9147884233797959,
          1.6416208483998662,
          -0.08402271340807904,
          -0.30364467869692857,
          10.195832933677549,
          -0.39856239328135723,
          0.24698656667724977,
          -0.11971537713674321,
          0.24646453460092002,
          -0.4505608824530274,
          -0.2419527703824293,
          -0.34093414642377784,
          -0.3594406953258211,
          -0.3938231609021282,
          -0.44684524238032736,
          -0.44450121599837605,
          0.944922980884008,
          -0.47210750050546163,
          -0.30990906361288567,
          0.08148192663458537,
          -0.4250324903281956,
          -0.36584838316469226,
          0.6859029477168596,
          -0.13724951334758395,
          -0.35939975163355997,
          -0.23047830062623986,
          1.2885224463396427,
          -0.26392929720360564,
          -0.42357898925292453,
          -0.2836129772581572,
          -0.22219743886642074,
          -0.458892923828173,
          -0.46108341136414493,
          1.4316411226385195,
          -0.4337432608567569,
          1.5515242535791889,
          0.7721610713880533,
          -0.02926052500878072,
          -0.42199242117780467,
          -0.3067768711549071,
          -0.4534269409113084,
          -0.22916810247388283,
          -0.2849231754105142,
          -0.36661607739458896,
          0.06327221950143551,
          -0.15342227179074122,
          -0.20550264834693371,
          -0.10055372915852144,
          -0.41842008402801867,
          -0.46059208705701105,
          -0.4701729110461219,
          0.43090563231436985,
          -0.3883469420621984,
          -0.41096833203648797,
          0.050026935054951024,
          -0.26865829365976934,
          -0.41113210680553264,
          -0.36395473739761375,
          -0.24537156868623597,
          -0.3437080815744713,
          -0.4629668212081582,
          -0.32393227821233217,
          -0.40105995850928783,
          -0.17367916353694896,
          -0.12333889390185565,
          -0.29495438001449786,
          -0.3785409277656511,
          -0.4642770193605152,
          -0.11430057383520512,
          0.0022558821092453613,
          0.5192928279831439,
          -0.3732898992331577,
          -0.4555969566011498,
          -0.4370187562376495,
          0.1325694186534448,
          -0.2372954253877226,
          0.08470624240015152,
          -0.29159699724908295,
          0.483538748716088,
          -0.2788225652636017,
          0.27353855110861053,
          -0.2165369734113157,
          -0.29192454678717217,
          -0.11703356529363738,
          -0.268893719890271,
          -0.453764726372463,
          0.052176478898661796,
          -0.20857342526652053,
          -0.3779984238431908,
          0.6065233643455402,
          0.6869674837156496,
          -0.41593275472315333,
          0.21057738833401538,
          -0.28878211840612833,
          -0.41410052449446655,
          -0.1779782512243705,
          -0.29645906070509537,
          0.3824180647540939,
          0.6959546241669737,
          0.4826482234094078,
          0.7055661559252805,
          -0.39927890789592746,
          -0.46771628951045247,
          -0.15733239440168179,
          -0.13213155181493927,
          -0.2511343933719939,
          -0.2814736693375117,
          2.047178356169698,
          -0.43958797292703716,
          2.518266243403512,
          -0.4038338936599813,
          -0.33456740227716786,
          -0.3918476277505274,
          2.944510551688294,
          -0.02584172670497406,
          1.8876514951971624,
          -0.03792011592201556,
          -0.22946494424277622,
          1.7667550078730292,
          -0.42383488732955676,
          -0.42946464501546594,
          -0.4247765922515634,
          -0.28625384540900184,
          -0.4025953469690812,
          -0.19051725697935004,
          -0.4607353899799251,
          -0.28761522317668536,
          -0.3798511259180082,
          -0.1898826297493021,
          -0.44338550038425956,
          0.06516586526851405
         ],
         "xaxis": "x",
         "y": [
          1.04,
          0.84,
          0.99,
          1.22,
          0.65,
          0.66,
          0.68,
          1.1,
          0.82,
          0.96,
          1.41,
          0.58,
          0.89,
          1.25,
          0.23,
          0.69,
          0.63,
          0.27,
          1.48,
          0.17,
          1.06,
          0.24,
          1.46,
          0.75,
          1.09,
          0.74,
          1.12,
          1.29,
          0.77,
          0.95,
          0.45,
          1.53,
          1.52,
          1.22,
          0.8,
          1.12,
          0.74,
          0.76,
          0.3,
          0.59,
          1.05,
          0.41,
          1.03,
          0.7,
          1.13,
          0.78,
          0.85,
          0.83,
          1.26,
          1.21,
          0.62,
          1.16,
          1.27,
          0.66,
          0.8,
          1.3,
          0.91,
          0.73,
          0.8,
          0.55,
          0.35,
          1.19,
          0.89,
          1.04,
          1.4,
          0.31,
          0.99,
          1.15,
          0.38,
          0.91,
          1.19,
          1.18,
          0.84,
          0.62,
          0.33,
          1.61,
          0.66,
          1.29,
          1.29,
          1.07,
          0.63,
          0.42,
          0.39,
          0.21,
          0.43,
          0.92,
          0.59,
          0.84,
          0.97,
          0.78,
          1.43,
          1.08,
          0.19,
          0.77,
          0.86,
          1.27,
          0.85,
          1.06,
          1.1,
          0.82,
          0.73,
          0.93,
          0.66,
          1.3,
          1.02,
          1.55,
          1.27,
          1.27,
          0.82,
          0.21,
          1.02,
          0.24,
          0.59,
          0.19,
          1.4,
          1.27,
          1.26,
          1.11,
          1.02,
          0.81,
          1.14,
          0.19,
          1.26,
          0.37,
          0.4,
          1.03,
          0.15,
          0.21,
          0.5,
          0.27,
          0.84,
          1.06,
          0.24,
          0.91,
          1.2,
          0.49,
          0.89,
          0.95,
          0.33,
          0.93,
          0.96,
          1.54,
          1.12,
          0.91,
          1.09,
          1.28,
          1.05,
          1.61,
          1.01,
          0.81,
          0.89,
          0.36,
          1.06,
          0.73,
          0.77,
          1.2,
          1.18,
          1.02,
          1.27,
          1.11,
          1.25,
          0.72,
          1.02,
          0.96,
          0.3,
          0.24,
          1.01,
          1.39,
          0.94,
          0.95,
          0.45,
          0.86,
          1.26,
          0.86,
          0.96,
          0.99,
          1.11,
          0.98,
          1.23,
          0.61,
          0.99,
          1.16,
          0.8,
          1.29,
          1.2,
          0.56,
          0.79,
          1.28,
          0.26,
          0.97,
          1.07,
          1.02,
          0.42,
          1.06,
          0.44,
          0.66,
          0.79,
          1.49,
          1.19,
          0.63,
          1.41,
          1.53,
          0.3,
          1.11,
          0.65,
          1.35,
          0.75,
          0.74,
          0.9,
          1.1,
          1.11,
          0.82,
          0.7,
          1.14,
          1.53,
          1.32,
          1.08,
          0.81,
          0.68,
          1.1,
          1.39,
          0.41,
          1.35,
          0.74,
          0.67,
          0.65,
          1.03,
          1.56,
          1.34,
          0.65,
          0.57,
          1.22,
          1.22,
          1.29,
          0.9,
          1.3,
          0.84,
          1.5,
          0.96,
          0.95,
          1.1,
          1.05,
          1.14,
          0.76,
          0.71,
          1.16,
          2.07,
          0.91,
          0.67,
          0.94,
          1.02,
          1,
          1.08,
          1.32,
          0.89,
          1.14,
          0.9,
          0.51,
          1.26,
          0.7,
          0.6,
          1.05,
          0.22,
          1.35,
          1.11,
          0.92,
          0.33,
          1.18,
          0.72,
          1.2,
          0.33,
          0.13,
          0.64,
          1.37,
          1.16,
          1,
          0.68,
          1.16,
          0.75,
          0.35,
          0.49,
          1.11,
          0.43,
          0.82,
          1.29,
          1.21,
          0.8,
          0.98,
          1.05,
          1.22,
          1.42,
          0.58,
          0.36,
          0.82,
          0.56,
          1.52,
          0.66,
          1.01,
          0.2,
          0.88,
          1,
          1.54,
          0.75,
          1.03,
          0.96,
          0.91,
          1.01,
          0.49,
          1.22,
          1.32,
          0.94,
          1.07,
          0.98,
          1.28,
          1.14,
          1.11,
          0.95,
          0,
          0.97,
          0.69,
          0.48,
          0.79,
          1.14,
          1.08,
          1.06,
          0.75,
          1.24,
          1.11,
          1.21,
          0.27,
          0.82,
          0.32,
          0.97,
          1.17,
          0.63,
          0.9,
          1.09,
          0.61,
          0.97,
          0.81,
          0.5,
          0.17,
          0.84,
          0.69,
          1.3,
          1.17,
          0.73,
          1.82,
          0.25,
          1.34,
          1.54,
          1.1,
          0.52,
          0.99,
          0.95
         ],
         "yaxis": "y"
        }
       ],
       "layout": {
        "coloraxis": {
         "colorbar": {
          "title": {
           "text": "cluster"
          }
         },
         "colorscale": [
          [
           0,
           "#0d0887"
          ],
          [
           0.1111111111111111,
           "#46039f"
          ],
          [
           0.2222222222222222,
           "#7201a8"
          ],
          [
           0.3333333333333333,
           "#9c179e"
          ],
          [
           0.4444444444444444,
           "#bd3786"
          ],
          [
           0.5555555555555556,
           "#d8576b"
          ],
          [
           0.6666666666666666,
           "#ed7953"
          ],
          [
           0.7777777777777778,
           "#fb9f3a"
          ],
          [
           0.8888888888888888,
           "#fdca26"
          ],
          [
           1,
           "#f0f921"
          ]
         ],
         "showscale": false
        },
        "height": 400,
        "legend": {
         "tracegroupgap": 0
        },
        "margin": {
         "t": 60
        },
        "template": {
         "data": {
          "bar": [
           {
            "error_x": {
             "color": "#2a3f5f"
            },
            "error_y": {
             "color": "#2a3f5f"
            },
            "marker": {
             "line": {
              "color": "#E5ECF6",
              "width": 0.5
             }
            },
            "type": "bar"
           }
          ],
          "barpolar": [
           {
            "marker": {
             "line": {
              "color": "#E5ECF6",
              "width": 0.5
             }
            },
            "type": "barpolar"
           }
          ],
          "carpet": [
           {
            "aaxis": {
             "endlinecolor": "#2a3f5f",
             "gridcolor": "white",
             "linecolor": "white",
             "minorgridcolor": "white",
             "startlinecolor": "#2a3f5f"
            },
            "baxis": {
             "endlinecolor": "#2a3f5f",
             "gridcolor": "white",
             "linecolor": "white",
             "minorgridcolor": "white",
             "startlinecolor": "#2a3f5f"
            },
            "type": "carpet"
           }
          ],
          "choropleth": [
           {
            "colorbar": {
             "outlinewidth": 0,
             "ticks": ""
            },
            "type": "choropleth"
           }
          ],
          "contour": [
           {
            "colorbar": {
             "outlinewidth": 0,
             "ticks": ""
            },
            "colorscale": [
             [
              0,
              "#0d0887"
             ],
             [
              0.1111111111111111,
              "#46039f"
             ],
             [
              0.2222222222222222,
              "#7201a8"
             ],
             [
              0.3333333333333333,
              "#9c179e"
             ],
             [
              0.4444444444444444,
              "#bd3786"
             ],
             [
              0.5555555555555556,
              "#d8576b"
             ],
             [
              0.6666666666666666,
              "#ed7953"
             ],
             [
              0.7777777777777778,
              "#fb9f3a"
             ],
             [
              0.8888888888888888,
              "#fdca26"
             ],
             [
              1,
              "#f0f921"
             ]
            ],
            "type": "contour"
           }
          ],
          "contourcarpet": [
           {
            "colorbar": {
             "outlinewidth": 0,
             "ticks": ""
            },
            "type": "contourcarpet"
           }
          ],
          "heatmap": [
           {
            "colorbar": {
             "outlinewidth": 0,
             "ticks": ""
            },
            "colorscale": [
             [
              0,
              "#0d0887"
             ],
             [
              0.1111111111111111,
              "#46039f"
             ],
             [
              0.2222222222222222,
              "#7201a8"
             ],
             [
              0.3333333333333333,
              "#9c179e"
             ],
             [
              0.4444444444444444,
              "#bd3786"
             ],
             [
              0.5555555555555556,
              "#d8576b"
             ],
             [
              0.6666666666666666,
              "#ed7953"
             ],
             [
              0.7777777777777778,
              "#fb9f3a"
             ],
             [
              0.8888888888888888,
              "#fdca26"
             ],
             [
              1,
              "#f0f921"
             ]
            ],
            "type": "heatmap"
           }
          ],
          "heatmapgl": [
           {
            "colorbar": {
             "outlinewidth": 0,
             "ticks": ""
            },
            "colorscale": [
             [
              0,
              "#0d0887"
             ],
             [
              0.1111111111111111,
              "#46039f"
             ],
             [
              0.2222222222222222,
              "#7201a8"
             ],
             [
              0.3333333333333333,
              "#9c179e"
             ],
             [
              0.4444444444444444,
              "#bd3786"
             ],
             [
              0.5555555555555556,
              "#d8576b"
             ],
             [
              0.6666666666666666,
              "#ed7953"
             ],
             [
              0.7777777777777778,
              "#fb9f3a"
             ],
             [
              0.8888888888888888,
              "#fdca26"
             ],
             [
              1,
              "#f0f921"
             ]
            ],
            "type": "heatmapgl"
           }
          ],
          "histogram": [
           {
            "marker": {
             "colorbar": {
              "outlinewidth": 0,
              "ticks": ""
             }
            },
            "type": "histogram"
           }
          ],
          "histogram2d": [
           {
            "colorbar": {
             "outlinewidth": 0,
             "ticks": ""
            },
            "colorscale": [
             [
              0,
              "#0d0887"
             ],
             [
              0.1111111111111111,
              "#46039f"
             ],
             [
              0.2222222222222222,
              "#7201a8"
             ],
             [
              0.3333333333333333,
              "#9c179e"
             ],
             [
              0.4444444444444444,
              "#bd3786"
             ],
             [
              0.5555555555555556,
              "#d8576b"
             ],
             [
              0.6666666666666666,
              "#ed7953"
             ],
             [
              0.7777777777777778,
              "#fb9f3a"
             ],
             [
              0.8888888888888888,
              "#fdca26"
             ],
             [
              1,
              "#f0f921"
             ]
            ],
            "type": "histogram2d"
           }
          ],
          "histogram2dcontour": [
           {
            "colorbar": {
             "outlinewidth": 0,
             "ticks": ""
            },
            "colorscale": [
             [
              0,
              "#0d0887"
             ],
             [
              0.1111111111111111,
              "#46039f"
             ],
             [
              0.2222222222222222,
              "#7201a8"
             ],
             [
              0.3333333333333333,
              "#9c179e"
             ],
             [
              0.4444444444444444,
              "#bd3786"
             ],
             [
              0.5555555555555556,
              "#d8576b"
             ],
             [
              0.6666666666666666,
              "#ed7953"
             ],
             [
              0.7777777777777778,
              "#fb9f3a"
             ],
             [
              0.8888888888888888,
              "#fdca26"
             ],
             [
              1,
              "#f0f921"
             ]
            ],
            "type": "histogram2dcontour"
           }
          ],
          "mesh3d": [
           {
            "colorbar": {
             "outlinewidth": 0,
             "ticks": ""
            },
            "type": "mesh3d"
           }
          ],
          "parcoords": [
           {
            "line": {
             "colorbar": {
              "outlinewidth": 0,
              "ticks": ""
             }
            },
            "type": "parcoords"
           }
          ],
          "pie": [
           {
            "automargin": true,
            "type": "pie"
           }
          ],
          "scatter": [
           {
            "marker": {
             "colorbar": {
              "outlinewidth": 0,
              "ticks": ""
             }
            },
            "type": "scatter"
           }
          ],
          "scatter3d": [
           {
            "line": {
             "colorbar": {
              "outlinewidth": 0,
              "ticks": ""
             }
            },
            "marker": {
             "colorbar": {
              "outlinewidth": 0,
              "ticks": ""
             }
            },
            "type": "scatter3d"
           }
          ],
          "scattercarpet": [
           {
            "marker": {
             "colorbar": {
              "outlinewidth": 0,
              "ticks": ""
             }
            },
            "type": "scattercarpet"
           }
          ],
          "scattergeo": [
           {
            "marker": {
             "colorbar": {
              "outlinewidth": 0,
              "ticks": ""
             }
            },
            "type": "scattergeo"
           }
          ],
          "scattergl": [
           {
            "marker": {
             "colorbar": {
              "outlinewidth": 0,
              "ticks": ""
             }
            },
            "type": "scattergl"
           }
          ],
          "scattermapbox": [
           {
            "marker": {
             "colorbar": {
              "outlinewidth": 0,
              "ticks": ""
             }
            },
            "type": "scattermapbox"
           }
          ],
          "scatterpolar": [
           {
            "marker": {
             "colorbar": {
              "outlinewidth": 0,
              "ticks": ""
             }
            },
            "type": "scatterpolar"
           }
          ],
          "scatterpolargl": [
           {
            "marker": {
             "colorbar": {
              "outlinewidth": 0,
              "ticks": ""
             }
            },
            "type": "scatterpolargl"
           }
          ],
          "scatterternary": [
           {
            "marker": {
             "colorbar": {
              "outlinewidth": 0,
              "ticks": ""
             }
            },
            "type": "scatterternary"
           }
          ],
          "surface": [
           {
            "colorbar": {
             "outlinewidth": 0,
             "ticks": ""
            },
            "colorscale": [
             [
              0,
              "#0d0887"
             ],
             [
              0.1111111111111111,
              "#46039f"
             ],
             [
              0.2222222222222222,
              "#7201a8"
             ],
             [
              0.3333333333333333,
              "#9c179e"
             ],
             [
              0.4444444444444444,
              "#bd3786"
             ],
             [
              0.5555555555555556,
              "#d8576b"
             ],
             [
              0.6666666666666666,
              "#ed7953"
             ],
             [
              0.7777777777777778,
              "#fb9f3a"
             ],
             [
              0.8888888888888888,
              "#fdca26"
             ],
             [
              1,
              "#f0f921"
             ]
            ],
            "type": "surface"
           }
          ],
          "table": [
           {
            "cells": {
             "fill": {
              "color": "#EBF0F8"
             },
             "line": {
              "color": "white"
             }
            },
            "header": {
             "fill": {
              "color": "#C8D4E3"
             },
             "line": {
              "color": "white"
             }
            },
            "type": "table"
           }
          ]
         },
         "layout": {
          "annotationdefaults": {
           "arrowcolor": "#2a3f5f",
           "arrowhead": 0,
           "arrowwidth": 1
          },
          "coloraxis": {
           "colorbar": {
            "outlinewidth": 0,
            "ticks": ""
           }
          },
          "colorscale": {
           "diverging": [
            [
             0,
             "#8e0152"
            ],
            [
             0.1,
             "#c51b7d"
            ],
            [
             0.2,
             "#de77ae"
            ],
            [
             0.3,
             "#f1b6da"
            ],
            [
             0.4,
             "#fde0ef"
            ],
            [
             0.5,
             "#f7f7f7"
            ],
            [
             0.6,
             "#e6f5d0"
            ],
            [
             0.7,
             "#b8e186"
            ],
            [
             0.8,
             "#7fbc41"
            ],
            [
             0.9,
             "#4d9221"
            ],
            [
             1,
             "#276419"
            ]
           ],
           "sequential": [
            [
             0,
             "#0d0887"
            ],
            [
             0.1111111111111111,
             "#46039f"
            ],
            [
             0.2222222222222222,
             "#7201a8"
            ],
            [
             0.3333333333333333,
             "#9c179e"
            ],
            [
             0.4444444444444444,
             "#bd3786"
            ],
            [
             0.5555555555555556,
             "#d8576b"
            ],
            [
             0.6666666666666666,
             "#ed7953"
            ],
            [
             0.7777777777777778,
             "#fb9f3a"
            ],
            [
             0.8888888888888888,
             "#fdca26"
            ],
            [
             1,
             "#f0f921"
            ]
           ],
           "sequentialminus": [
            [
             0,
             "#0d0887"
            ],
            [
             0.1111111111111111,
             "#46039f"
            ],
            [
             0.2222222222222222,
             "#7201a8"
            ],
            [
             0.3333333333333333,
             "#9c179e"
            ],
            [
             0.4444444444444444,
             "#bd3786"
            ],
            [
             0.5555555555555556,
             "#d8576b"
            ],
            [
             0.6666666666666666,
             "#ed7953"
            ],
            [
             0.7777777777777778,
             "#fb9f3a"
            ],
            [
             0.8888888888888888,
             "#fdca26"
            ],
            [
             1,
             "#f0f921"
            ]
           ]
          },
          "colorway": [
           "#636efa",
           "#EF553B",
           "#00cc96",
           "#ab63fa",
           "#FFA15A",
           "#19d3f3",
           "#FF6692",
           "#B6E880",
           "#FF97FF",
           "#FECB52"
          ],
          "font": {
           "color": "#2a3f5f"
          },
          "geo": {
           "bgcolor": "white",
           "lakecolor": "white",
           "landcolor": "#E5ECF6",
           "showlakes": true,
           "showland": true,
           "subunitcolor": "white"
          },
          "hoverlabel": {
           "align": "left"
          },
          "hovermode": "closest",
          "mapbox": {
           "style": "light"
          },
          "paper_bgcolor": "white",
          "plot_bgcolor": "#E5ECF6",
          "polar": {
           "angularaxis": {
            "gridcolor": "white",
            "linecolor": "white",
            "ticks": ""
           },
           "bgcolor": "#E5ECF6",
           "radialaxis": {
            "gridcolor": "white",
            "linecolor": "white",
            "ticks": ""
           }
          },
          "scene": {
           "xaxis": {
            "backgroundcolor": "#E5ECF6",
            "gridcolor": "white",
            "gridwidth": 2,
            "linecolor": "white",
            "showbackground": true,
            "ticks": "",
            "zerolinecolor": "white"
           },
           "yaxis": {
            "backgroundcolor": "#E5ECF6",
            "gridcolor": "white",
            "gridwidth": 2,
            "linecolor": "white",
            "showbackground": true,
            "ticks": "",
            "zerolinecolor": "white"
           },
           "zaxis": {
            "backgroundcolor": "#E5ECF6",
            "gridcolor": "white",
            "gridwidth": 2,
            "linecolor": "white",
            "showbackground": true,
            "ticks": "",
            "zerolinecolor": "white"
           }
          },
          "shapedefaults": {
           "line": {
            "color": "#2a3f5f"
           }
          },
          "ternary": {
           "aaxis": {
            "gridcolor": "white",
            "linecolor": "white",
            "ticks": ""
           },
           "baxis": {
            "gridcolor": "white",
            "linecolor": "white",
            "ticks": ""
           },
           "bgcolor": "#E5ECF6",
           "caxis": {
            "gridcolor": "white",
            "linecolor": "white",
            "ticks": ""
           }
          },
          "title": {
           "x": 0.05
          },
          "xaxis": {
           "automargin": true,
           "gridcolor": "white",
           "linecolor": "white",
           "ticks": "",
           "title": {
            "standoff": 15
           },
           "zerolinecolor": "white",
           "zerolinewidth": 2
          },
          "yaxis": {
           "automargin": true,
           "gridcolor": "white",
           "linecolor": "white",
           "ticks": "",
           "title": {
            "standoff": 15
           },
           "zerolinecolor": "white",
           "zerolinewidth": 2
          }
         }
        },
        "xaxis": {
         "anchor": "y",
         "domain": [
          0,
          1
         ],
         "title": {
          "text": "MarketCapUniformed"
         }
        },
        "yaxis": {
         "anchor": "x",
         "domain": [
          0,
          1
         ],
         "title": {
          "text": "Beta"
         }
        }
       }
      },
      "text/html": [
       "<div>\n",
       "        \n",
       "        \n",
       "            <div id=\"c919abdc-0b3f-4313-b409-51b295894e6e\" class=\"plotly-graph-div\" style=\"height:400px; width:100%;\"></div>\n",
       "            <script type=\"text/javascript\">\n",
       "                require([\"plotly\"], function(Plotly) {\n",
       "                    window.PLOTLYENV=window.PLOTLYENV || {};\n",
       "                    \n",
       "                if (document.getElementById(\"c919abdc-0b3f-4313-b409-51b295894e6e\")) {\n",
       "                    Plotly.newPlot(\n",
       "                        'c919abdc-0b3f-4313-b409-51b295894e6e',\n",
       "                        [{\"hoverlabel\": {\"namelength\": 0}, \"hovertemplate\": \"MarketCapUniformed=%{x}<br>Beta=%{y}<br>cluster=%{marker.color}\", \"legendgroup\": \"\", \"marker\": {\"color\": [3, 3, 3, 5, 1, 1, 1, 5, 1, 1, 5, 4, 1, 5, 4, 1, 3, 4, 5, 4, 3, 4, 5, 1, 5, 3, 5, 5, 1, 1, 4, 2, 5, 5, 1, 5, 1, 1, 4, 0, 3, 4, 1, 1, 0, 1, 1, 1, 5, 3, 1, 0, 5, 1, 3, 3, 1, 1, 1, 4, 4, 5, 1, 1, 3, 4, 1, 5, 4, 1, 5, 5, 0, 3, 4, 5, 1, 0, 3, 5, 1, 4, 4, 4, 0, 1, 4, 0, 1, 1, 5, 3, 4, 1, 1, 5, 3, 1, 5, 3, 1, 3, 1, 5, 1, 5, 5, 5, 1, 4, 1, 4, 4, 4, 5, 5, 5, 5, 1, 1, 5, 4, 5, 4, 4, 3, 4, 4, 4, 4, 1, 5, 4, 0, 5, 4, 3, 1, 4, 1, 1, 5, 5, 1, 5, 5, 5, 5, 1, 1, 1, 4, 1, 1, 3, 5, 3, 1, 5, 5, 5, 1, 1, 1, 4, 4, 1, 5, 0, 3, 4, 1, 5, 1, 1, 1, 5, 1, 0, 4, 3, 5, 1, 3, 5, 4, 1, 5, 4, 0, 5, 1, 4, 5, 4, 1, 1, 5, 5, 1, 5, 5, 4, 5, 1, 5, 3, 3, 1, 3, 5, 1, 1, 5, 5, 5, 1, 1, 1, 5, 0, 4, 5, 1, 3, 0, 1, 5, 2, 1, 3, 5, 3, 5, 1, 5, 1, 5, 1, 1, 3, 5, 5, 1, 1, 5, 3, 1, 1, 1, 0, 1, 5, 5, 1, 5, 1, 0, 5, 0, 3, 1, 4, 5, 5, 1, 4, 5, 1, 5, 4, 4, 1, 5, 5, 3, 1, 5, 1, 4, 4, 5, 4, 1, 5, 5, 1, 1, 1, 5, 5, 4, 4, 1, 3, 5, 1, 1, 4, 1, 1, 5, 3, 1, 3, 1, 1, 4, 5, 5, 1, 1, 1, 3, 3, 5, 3, 4, 1, 1, 4, 3, 3, 3, 3, 1, 5, 5, 5, 4, 1, 0, 1, 0, 1, 1, 5, 0, 1, 0, 4, 4, 0, 1, 5, 5, 1, 5, 4, 5, 5, 5, 4, 1, 1], \"coloraxis\": \"coloraxis\", \"symbol\": \"circle\"}, \"mode\": \"markers\", \"name\": \"\", \"showlegend\": false, \"type\": \"scatter\", \"x\": [0.4635275191234472, 0.646412756530973, 0.6702317495039014, -0.09997028154379994, -0.40956601057654335, -0.41382415457170374, -0.132581932429812, -0.29271271286319944, -0.05642666482405881, -0.44327290523054136, -0.4570402217533556, -0.34617493903320606, -0.4304677654758643, -0.4654950942052847, -0.3998111758953225, -0.1657053794690885, 0.36371703331381017, -0.3363382169674629, -0.4012851488167242, -0.052885035443468675, 0.459064656666981, -0.30473992246491455, -0.338037380196301, -0.3475772604931507, -0.32220240721429827, 0.717859499526693, -0.22091794848325957, -0.1310363080469533, -0.06807514527235815, -0.4582071169827986, -0.44686571422645793, 10.71879647900625, -0.05243465482859594, -0.2958653771673086, -0.2980149210110194, -0.4074881181942896, -0.3585194622499451, -0.4510522067601613, -0.393495611364039, 2.292502724275489, 0.18024834829156286, -0.2135378479531859, -0.30146442708402194, -0.28866952325241013, 2.463442639465822, -0.0793244247211112, -0.07059318234641934, -0.1107282366854191, -0.3357854771219373, 0.19294089289252173, -0.4796616117276452, 1.4310064954084714, -0.4457090549200802, -0.3230110451364561, 0.38682974759523364, 0.6079563935746807, -0.38600291568024714, -0.21396775672192805, -0.40683301911811104, -0.45090890383724724, -0.38286048729920324, -0.08350068133174929, -0.3805062249941867, -0.29293790317063584, 0.24914634644402583, -0.39986235551064897, -0.3902815315215381, -0.3760024188454594, -0.37805983938158255, -0.31001142284353855, -0.4278268973250196, 0.02332141177761096, 1.7623740328010855, 0.17027855922597096, -0.33981843080966134, -0.4839402275689362, -0.33969559973287783, 1.5143064373137967, 1.145076220502677, -0.3655617773188642, -0.3913153597511323, -0.33778148211966874, 0.2110380048719534, -0.34637965749451183, 1.861324701073238, -0.18905351998101363, 0.06294466996334626, 1.5967670335277682, -0.4296693634767717, -0.3926869734418811, -0.39553256005403153, 0.10896538006488743, -0.21166467403223796, -0.1427359681105791, -0.38702650798677607, -0.289795474789592, 0.8078025555013911, 0.06015026296652225, -0.2472754503763798, 0.3430302327988603, -0.32471020836529413, 0.486404807174369, -0.39167361705841747, 0.03380299699646731, -0.17399647715197292, -0.4420957740780331, -0.3847643689893471, -0.2679315431221338, -0.1013726030037446, 0.1657031016157866, -0.3764527994603321, -0.28758451540748947, -0.4026260547382771, 0.18700405751465385, -0.4551977556016035, -0.42985361009194695, -0.42530886025095843, -0.16625811931461415, -0.19366992128345917, 0.024549722545445688, -0.08596753879048404, -0.2846775132569473, -0.10286704777127684, -0.19678164189530714, -0.3093153800750989, 0.15694115147189888, -0.3772204936902288, -0.2451566143018649, -0.4262608010960304, -0.0762331759553938, -0.3228063266751503, -0.39921749235753573, -0.36986086500628573, 2.490598543358035, -0.3091720771521848, -0.4218695901010212, 0.2670387399621517, -0.3199505041399346, -0.2626498068204445, -0.3464820167251647, -0.45624181975426303, -0.4652391961286524, -0.42003735987233437, -0.15407737086691975, -0.2817705111064051, -0.4466302879959563, -0.3864840040643157, -0.37977947445655114, -0.46268021536233006, -0.3617642498616418, -0.017079776561086328, -0.21359926349157765, 0.0048046269525024235, -0.3743544352319478, 0.3328761971180932, -0.05027487506181987, 0.24752907059971013, -0.3556943474839252, -0.3490205256453565, -0.4703776295074277, -0.46675411274231526, -0.31604038152899405, -0.40181741681611927, -0.09306103347472959, -0.3395522968099638, -0.20905451365058914, -0.24901555729747898, -0.43650696008438505, 2.1003949201861376, 0.7206948502157783, -0.30732961100043277, -0.40433545389018044, -0.27053146758071733, -0.12892770789550367, -0.3765039790756585, -0.43833919031307184, 0.004947929875416475, -0.23663009038847882, 1.8150276210489342, 0.002859801570097436, 0.6882981537141373, -0.3557455270992516, -0.4454019772281215, 0.1511987986322715, -0.36402638885907074, -0.4294237013232048, -0.42114283956338566, -0.4715957043521971, -0.40436616165937633, 3.564858669060158, -0.4418705837705967, -0.38105896483971236, -0.31331762599362706, -0.3430120388060316, -0.05709199982330262, -0.43833919031307184, -0.05751167266897948, -0.2727731347320157, -0.44346738776878186, -0.3252527122877545, -0.4803474185730196, -0.18452924198615572, -0.4183791403357575, -0.4698351255849674, -0.32972581066728596, -0.40356775966028374, 0.5416071402654747, 0.548229782488717, -0.37206158846532295, 0.35071741102089266, -0.22752011886037124, -0.31427980276176426, -0.4852913694135544, -0.4806749681111088, -0.4313787626286751, -0.08635650386696503, -0.11390137283565882, -0.0172026076378698, -0.3614571721696831, -0.39983164774145313, 2.1786894957125362, -0.3119153045336824, -0.373443438079137, -0.2537752615228386, 0.9147884233797959, 1.6416208483998662, -0.08402271340807904, -0.30364467869692857, 10.195832933677549, -0.39856239328135723, 0.24698656667724977, -0.11971537713674321, 0.24646453460092002, -0.4505608824530274, -0.2419527703824293, -0.34093414642377784, -0.3594406953258211, -0.3938231609021282, -0.44684524238032736, -0.44450121599837605, 0.944922980884008, -0.47210750050546163, -0.30990906361288567, 0.08148192663458537, -0.4250324903281956, -0.36584838316469226, 0.6859029477168596, -0.13724951334758395, -0.35939975163355997, -0.23047830062623986, 1.2885224463396427, -0.26392929720360564, -0.42357898925292453, -0.2836129772581572, -0.22219743886642074, -0.458892923828173, -0.46108341136414493, 1.4316411226385195, -0.4337432608567569, 1.5515242535791889, 0.7721610713880533, -0.02926052500878072, -0.42199242117780467, -0.3067768711549071, -0.4534269409113084, -0.22916810247388283, -0.2849231754105142, -0.36661607739458896, 0.06327221950143551, -0.15342227179074122, -0.20550264834693371, -0.10055372915852144, -0.41842008402801867, -0.46059208705701105, -0.4701729110461219, 0.43090563231436985, -0.3883469420621984, -0.41096833203648797, 0.050026935054951024, -0.26865829365976934, -0.41113210680553264, -0.36395473739761375, -0.24537156868623597, -0.3437080815744713, -0.4629668212081582, -0.32393227821233217, -0.40105995850928783, -0.17367916353694896, -0.12333889390185565, -0.29495438001449786, -0.3785409277656511, -0.4642770193605152, -0.11430057383520512, 0.0022558821092453613, 0.5192928279831439, -0.3732898992331577, -0.4555969566011498, -0.4370187562376495, 0.1325694186534448, -0.2372954253877226, 0.08470624240015152, -0.29159699724908295, 0.483538748716088, -0.2788225652636017, 0.27353855110861053, -0.2165369734113157, -0.29192454678717217, -0.11703356529363738, -0.268893719890271, -0.453764726372463, 0.052176478898661796, -0.20857342526652053, -0.3779984238431908, 0.6065233643455402, 0.6869674837156496, -0.41593275472315333, 0.21057738833401538, -0.28878211840612833, -0.41410052449446655, -0.1779782512243705, -0.29645906070509537, 0.3824180647540939, 0.6959546241669737, 0.4826482234094078, 0.7055661559252805, -0.39927890789592746, -0.46771628951045247, -0.15733239440168179, -0.13213155181493927, -0.2511343933719939, -0.2814736693375117, 2.047178356169698, -0.43958797292703716, 2.518266243403512, -0.4038338936599813, -0.33456740227716786, -0.3918476277505274, 2.944510551688294, -0.02584172670497406, 1.8876514951971624, -0.03792011592201556, -0.22946494424277622, 1.7667550078730292, -0.42383488732955676, -0.42946464501546594, -0.4247765922515634, -0.28625384540900184, -0.4025953469690812, -0.19051725697935004, -0.4607353899799251, -0.28761522317668536, -0.3798511259180082, -0.1898826297493021, -0.44338550038425956, 0.06516586526851405], \"xaxis\": \"x\", \"y\": [1.04, 0.84, 0.99, 1.22, 0.65, 0.66, 0.68, 1.1, 0.82, 0.96, 1.41, 0.58, 0.89, 1.25, 0.23, 0.69, 0.63, 0.27, 1.48, 0.17, 1.06, 0.24, 1.46, 0.75, 1.09, 0.74, 1.12, 1.29, 0.77, 0.95, 0.45, 1.53, 1.52, 1.22, 0.8, 1.12, 0.74, 0.76, 0.3, 0.59, 1.05, 0.41, 1.03, 0.7, 1.13, 0.78, 0.85, 0.83, 1.26, 1.21, 0.62, 1.16, 1.27, 0.66, 0.8, 1.3, 0.91, 0.73, 0.8, 0.55, 0.35, 1.19, 0.89, 1.04, 1.4, 0.31, 0.99, 1.15, 0.38, 0.91, 1.19, 1.18, 0.84, 0.62, 0.33, 1.61, 0.66, 1.29, 1.29, 1.07, 0.63, 0.42, 0.39, 0.21, 0.43, 0.92, 0.59, 0.84, 0.97, 0.78, 1.43, 1.08, 0.19, 0.77, 0.86, 1.27, 0.85, 1.06, 1.1, 0.82, 0.73, 0.93, 0.66, 1.3, 1.02, 1.55, 1.27, 1.27, 0.82, 0.21, 1.02, 0.24, 0.59, 0.19, 1.4, 1.27, 1.26, 1.11, 1.02, 0.81, 1.14, 0.19, 1.26, 0.37, 0.4, 1.03, 0.15, 0.21, 0.5, 0.27, 0.84, 1.06, 0.24, 0.91, 1.2, 0.49, 0.89, 0.95, 0.33, 0.93, 0.96, 1.54, 1.12, 0.91, 1.09, 1.28, 1.05, 1.61, 1.01, 0.81, 0.89, 0.36, 1.06, 0.73, 0.77, 1.2, 1.18, 1.02, 1.27, 1.11, 1.25, 0.72, 1.02, 0.96, 0.3, 0.24, 1.01, 1.39, 0.94, 0.95, 0.45, 0.86, 1.26, 0.86, 0.96, 0.99, 1.11, 0.98, 1.23, 0.61, 0.99, 1.16, 0.8, 1.29, 1.2, 0.56, 0.79, 1.28, 0.26, 0.97, 1.07, 1.02, 0.42, 1.06, 0.44, 0.66, 0.79, 1.49, 1.19, 0.63, 1.41, 1.53, 0.3, 1.11, 0.65, 1.35, 0.75, 0.74, 0.9, 1.1, 1.11, 0.82, 0.7, 1.14, 1.53, 1.32, 1.08, 0.81, 0.68, 1.1, 1.39, 0.41, 1.35, 0.74, 0.67, 0.65, 1.03, 1.56, 1.34, 0.65, 0.57, 1.22, 1.22, 1.29, 0.9, 1.3, 0.84, 1.5, 0.96, 0.95, 1.1, 1.05, 1.14, 0.76, 0.71, 1.16, 2.07, 0.91, 0.67, 0.94, 1.02, 1.0, 1.08, 1.32, 0.89, 1.14, 0.9, 0.51, 1.26, 0.7, 0.6, 1.05, 0.22, 1.35, 1.11, 0.92, 0.33, 1.18, 0.72, 1.2, 0.33, 0.13, 0.64, 1.37, 1.16, 1.0, 0.68, 1.16, 0.75, 0.35, 0.49, 1.11, 0.43, 0.82, 1.29, 1.21, 0.8, 0.98, 1.05, 1.22, 1.42, 0.58, 0.36, 0.82, 0.56, 1.52, 0.66, 1.01, 0.2, 0.88, 1.0, 1.54, 0.75, 1.03, 0.96, 0.91, 1.01, 0.49, 1.22, 1.32, 0.94, 1.07, 0.98, 1.28, 1.14, 1.11, 0.95, 0.0, 0.97, 0.69, 0.48, 0.79, 1.14, 1.08, 1.06, 0.75, 1.24, 1.11, 1.21, 0.27, 0.82, 0.32, 0.97, 1.17, 0.63, 0.9, 1.09, 0.61, 0.97, 0.81, 0.5, 0.17, 0.84, 0.69, 1.3, 1.17, 0.73, 1.82, 0.25, 1.34, 1.54, 1.1, 0.52, 0.99, 0.95], \"yaxis\": \"y\"}],\n",
       "                        {\"coloraxis\": {\"colorbar\": {\"title\": {\"text\": \"cluster\"}}, \"colorscale\": [[0.0, \"#0d0887\"], [0.1111111111111111, \"#46039f\"], [0.2222222222222222, \"#7201a8\"], [0.3333333333333333, \"#9c179e\"], [0.4444444444444444, \"#bd3786\"], [0.5555555555555556, \"#d8576b\"], [0.6666666666666666, \"#ed7953\"], [0.7777777777777778, \"#fb9f3a\"], [0.8888888888888888, \"#fdca26\"], [1.0, \"#f0f921\"]], \"showscale\": false}, \"height\": 400, \"legend\": {\"tracegroupgap\": 0}, \"margin\": {\"t\": 60}, \"template\": {\"data\": {\"bar\": [{\"error_x\": {\"color\": \"#2a3f5f\"}, \"error_y\": {\"color\": \"#2a3f5f\"}, \"marker\": {\"line\": {\"color\": \"#E5ECF6\", \"width\": 0.5}}, \"type\": \"bar\"}], \"barpolar\": [{\"marker\": {\"line\": {\"color\": \"#E5ECF6\", \"width\": 0.5}}, \"type\": \"barpolar\"}], \"carpet\": [{\"aaxis\": {\"endlinecolor\": \"#2a3f5f\", \"gridcolor\": \"white\", \"linecolor\": \"white\", \"minorgridcolor\": \"white\", \"startlinecolor\": \"#2a3f5f\"}, \"baxis\": {\"endlinecolor\": \"#2a3f5f\", \"gridcolor\": \"white\", \"linecolor\": \"white\", \"minorgridcolor\": \"white\", \"startlinecolor\": \"#2a3f5f\"}, \"type\": \"carpet\"}], \"choropleth\": [{\"colorbar\": {\"outlinewidth\": 0, \"ticks\": \"\"}, \"type\": \"choropleth\"}], \"contour\": [{\"colorbar\": {\"outlinewidth\": 0, \"ticks\": \"\"}, \"colorscale\": [[0.0, \"#0d0887\"], [0.1111111111111111, \"#46039f\"], [0.2222222222222222, \"#7201a8\"], [0.3333333333333333, \"#9c179e\"], [0.4444444444444444, \"#bd3786\"], [0.5555555555555556, \"#d8576b\"], [0.6666666666666666, \"#ed7953\"], [0.7777777777777778, \"#fb9f3a\"], [0.8888888888888888, \"#fdca26\"], [1.0, \"#f0f921\"]], \"type\": \"contour\"}], \"contourcarpet\": [{\"colorbar\": {\"outlinewidth\": 0, \"ticks\": \"\"}, \"type\": \"contourcarpet\"}], \"heatmap\": [{\"colorbar\": {\"outlinewidth\": 0, \"ticks\": \"\"}, \"colorscale\": [[0.0, \"#0d0887\"], [0.1111111111111111, \"#46039f\"], [0.2222222222222222, \"#7201a8\"], [0.3333333333333333, \"#9c179e\"], [0.4444444444444444, \"#bd3786\"], [0.5555555555555556, \"#d8576b\"], [0.6666666666666666, \"#ed7953\"], [0.7777777777777778, \"#fb9f3a\"], [0.8888888888888888, \"#fdca26\"], [1.0, \"#f0f921\"]], \"type\": \"heatmap\"}], \"heatmapgl\": [{\"colorbar\": {\"outlinewidth\": 0, \"ticks\": \"\"}, \"colorscale\": [[0.0, \"#0d0887\"], [0.1111111111111111, \"#46039f\"], [0.2222222222222222, \"#7201a8\"], [0.3333333333333333, \"#9c179e\"], [0.4444444444444444, \"#bd3786\"], [0.5555555555555556, \"#d8576b\"], [0.6666666666666666, \"#ed7953\"], [0.7777777777777778, \"#fb9f3a\"], [0.8888888888888888, \"#fdca26\"], [1.0, \"#f0f921\"]], \"type\": \"heatmapgl\"}], \"histogram\": [{\"marker\": {\"colorbar\": {\"outlinewidth\": 0, \"ticks\": \"\"}}, \"type\": \"histogram\"}], \"histogram2d\": [{\"colorbar\": {\"outlinewidth\": 0, \"ticks\": \"\"}, \"colorscale\": [[0.0, \"#0d0887\"], [0.1111111111111111, \"#46039f\"], [0.2222222222222222, \"#7201a8\"], [0.3333333333333333, \"#9c179e\"], [0.4444444444444444, \"#bd3786\"], [0.5555555555555556, \"#d8576b\"], [0.6666666666666666, \"#ed7953\"], [0.7777777777777778, \"#fb9f3a\"], [0.8888888888888888, \"#fdca26\"], [1.0, \"#f0f921\"]], \"type\": \"histogram2d\"}], \"histogram2dcontour\": [{\"colorbar\": {\"outlinewidth\": 0, \"ticks\": \"\"}, \"colorscale\": [[0.0, \"#0d0887\"], [0.1111111111111111, \"#46039f\"], [0.2222222222222222, \"#7201a8\"], [0.3333333333333333, \"#9c179e\"], [0.4444444444444444, \"#bd3786\"], [0.5555555555555556, \"#d8576b\"], [0.6666666666666666, \"#ed7953\"], [0.7777777777777778, \"#fb9f3a\"], [0.8888888888888888, \"#fdca26\"], [1.0, \"#f0f921\"]], \"type\": \"histogram2dcontour\"}], \"mesh3d\": [{\"colorbar\": {\"outlinewidth\": 0, \"ticks\": \"\"}, \"type\": \"mesh3d\"}], \"parcoords\": [{\"line\": {\"colorbar\": {\"outlinewidth\": 0, \"ticks\": \"\"}}, \"type\": \"parcoords\"}], \"pie\": [{\"automargin\": true, \"type\": \"pie\"}], \"scatter\": [{\"marker\": {\"colorbar\": {\"outlinewidth\": 0, \"ticks\": \"\"}}, \"type\": \"scatter\"}], \"scatter3d\": [{\"line\": {\"colorbar\": {\"outlinewidth\": 0, \"ticks\": \"\"}}, \"marker\": {\"colorbar\": {\"outlinewidth\": 0, \"ticks\": \"\"}}, \"type\": \"scatter3d\"}], \"scattercarpet\": [{\"marker\": {\"colorbar\": {\"outlinewidth\": 0, \"ticks\": \"\"}}, \"type\": \"scattercarpet\"}], \"scattergeo\": [{\"marker\": {\"colorbar\": {\"outlinewidth\": 0, \"ticks\": \"\"}}, \"type\": \"scattergeo\"}], \"scattergl\": [{\"marker\": {\"colorbar\": {\"outlinewidth\": 0, \"ticks\": \"\"}}, \"type\": \"scattergl\"}], \"scattermapbox\": [{\"marker\": {\"colorbar\": {\"outlinewidth\": 0, \"ticks\": \"\"}}, \"type\": \"scattermapbox\"}], \"scatterpolar\": [{\"marker\": {\"colorbar\": {\"outlinewidth\": 0, \"ticks\": \"\"}}, \"type\": \"scatterpolar\"}], \"scatterpolargl\": [{\"marker\": {\"colorbar\": {\"outlinewidth\": 0, \"ticks\": \"\"}}, \"type\": \"scatterpolargl\"}], \"scatterternary\": [{\"marker\": {\"colorbar\": {\"outlinewidth\": 0, \"ticks\": \"\"}}, \"type\": \"scatterternary\"}], \"surface\": [{\"colorbar\": {\"outlinewidth\": 0, \"ticks\": \"\"}, \"colorscale\": [[0.0, \"#0d0887\"], [0.1111111111111111, \"#46039f\"], [0.2222222222222222, \"#7201a8\"], [0.3333333333333333, \"#9c179e\"], [0.4444444444444444, \"#bd3786\"], [0.5555555555555556, \"#d8576b\"], [0.6666666666666666, \"#ed7953\"], [0.7777777777777778, \"#fb9f3a\"], [0.8888888888888888, \"#fdca26\"], [1.0, \"#f0f921\"]], \"type\": \"surface\"}], \"table\": [{\"cells\": {\"fill\": {\"color\": \"#EBF0F8\"}, \"line\": {\"color\": \"white\"}}, \"header\": {\"fill\": {\"color\": \"#C8D4E3\"}, \"line\": {\"color\": \"white\"}}, \"type\": \"table\"}]}, \"layout\": {\"annotationdefaults\": {\"arrowcolor\": \"#2a3f5f\", \"arrowhead\": 0, \"arrowwidth\": 1}, \"coloraxis\": {\"colorbar\": {\"outlinewidth\": 0, \"ticks\": \"\"}}, \"colorscale\": {\"diverging\": [[0, \"#8e0152\"], [0.1, \"#c51b7d\"], [0.2, \"#de77ae\"], [0.3, \"#f1b6da\"], [0.4, \"#fde0ef\"], [0.5, \"#f7f7f7\"], [0.6, \"#e6f5d0\"], [0.7, \"#b8e186\"], [0.8, \"#7fbc41\"], [0.9, \"#4d9221\"], [1, \"#276419\"]], \"sequential\": [[0.0, \"#0d0887\"], [0.1111111111111111, \"#46039f\"], [0.2222222222222222, \"#7201a8\"], [0.3333333333333333, \"#9c179e\"], [0.4444444444444444, \"#bd3786\"], [0.5555555555555556, \"#d8576b\"], [0.6666666666666666, \"#ed7953\"], [0.7777777777777778, \"#fb9f3a\"], [0.8888888888888888, \"#fdca26\"], [1.0, \"#f0f921\"]], \"sequentialminus\": [[0.0, \"#0d0887\"], [0.1111111111111111, \"#46039f\"], [0.2222222222222222, \"#7201a8\"], [0.3333333333333333, \"#9c179e\"], [0.4444444444444444, \"#bd3786\"], [0.5555555555555556, \"#d8576b\"], [0.6666666666666666, \"#ed7953\"], [0.7777777777777778, \"#fb9f3a\"], [0.8888888888888888, \"#fdca26\"], [1.0, \"#f0f921\"]]}, \"colorway\": [\"#636efa\", \"#EF553B\", \"#00cc96\", \"#ab63fa\", \"#FFA15A\", \"#19d3f3\", \"#FF6692\", \"#B6E880\", \"#FF97FF\", \"#FECB52\"], \"font\": {\"color\": \"#2a3f5f\"}, \"geo\": {\"bgcolor\": \"white\", \"lakecolor\": \"white\", \"landcolor\": \"#E5ECF6\", \"showlakes\": true, \"showland\": true, \"subunitcolor\": \"white\"}, \"hoverlabel\": {\"align\": \"left\"}, \"hovermode\": \"closest\", \"mapbox\": {\"style\": \"light\"}, \"paper_bgcolor\": \"white\", \"plot_bgcolor\": \"#E5ECF6\", \"polar\": {\"angularaxis\": {\"gridcolor\": \"white\", \"linecolor\": \"white\", \"ticks\": \"\"}, \"bgcolor\": \"#E5ECF6\", \"radialaxis\": {\"gridcolor\": \"white\", \"linecolor\": \"white\", \"ticks\": \"\"}}, \"scene\": {\"xaxis\": {\"backgroundcolor\": \"#E5ECF6\", \"gridcolor\": \"white\", \"gridwidth\": 2, \"linecolor\": \"white\", \"showbackground\": true, \"ticks\": \"\", \"zerolinecolor\": \"white\"}, \"yaxis\": {\"backgroundcolor\": \"#E5ECF6\", \"gridcolor\": \"white\", \"gridwidth\": 2, \"linecolor\": \"white\", \"showbackground\": true, \"ticks\": \"\", \"zerolinecolor\": \"white\"}, \"zaxis\": {\"backgroundcolor\": \"#E5ECF6\", \"gridcolor\": \"white\", \"gridwidth\": 2, \"linecolor\": \"white\", \"showbackground\": true, \"ticks\": \"\", \"zerolinecolor\": \"white\"}}, \"shapedefaults\": {\"line\": {\"color\": \"#2a3f5f\"}}, \"ternary\": {\"aaxis\": {\"gridcolor\": \"white\", \"linecolor\": \"white\", \"ticks\": \"\"}, \"baxis\": {\"gridcolor\": \"white\", \"linecolor\": \"white\", \"ticks\": \"\"}, \"bgcolor\": \"#E5ECF6\", \"caxis\": {\"gridcolor\": \"white\", \"linecolor\": \"white\", \"ticks\": \"\"}}, \"title\": {\"x\": 0.05}, \"xaxis\": {\"automargin\": true, \"gridcolor\": \"white\", \"linecolor\": \"white\", \"ticks\": \"\", \"title\": {\"standoff\": 15}, \"zerolinecolor\": \"white\", \"zerolinewidth\": 2}, \"yaxis\": {\"automargin\": true, \"gridcolor\": \"white\", \"linecolor\": \"white\", \"ticks\": \"\", \"title\": {\"standoff\": 15}, \"zerolinecolor\": \"white\", \"zerolinewidth\": 2}}}, \"xaxis\": {\"anchor\": \"y\", \"domain\": [0.0, 1.0], \"title\": {\"text\": \"MarketCapUniformed\"}}, \"yaxis\": {\"anchor\": \"x\", \"domain\": [0.0, 1.0], \"title\": {\"text\": \"Beta\"}}},\n",
       "                        {\"responsive\": true}\n",
       "                    ).then(function(){\n",
       "                            \n",
       "var gd = document.getElementById('c919abdc-0b3f-4313-b409-51b295894e6e');\n",
       "var x = new MutationObserver(function (mutations, observer) {{\n",
       "        var display = window.getComputedStyle(gd).display;\n",
       "        if (!display || display === 'none') {{\n",
       "            console.log([gd, 'removed!']);\n",
       "            Plotly.purge(gd);\n",
       "            observer.disconnect();\n",
       "        }}\n",
       "}});\n",
       "\n",
       "// Listen for the removal of the full notebook cells\n",
       "var notebookContainer = gd.closest('#notebook-container');\n",
       "if (notebookContainer) {{\n",
       "    x.observe(notebookContainer, {childList: true});\n",
       "}}\n",
       "\n",
       "// Listen for the clearing of the current output cell\n",
       "var outputEl = gd.closest('.output');\n",
       "if (outputEl) {{\n",
       "    x.observe(outputEl, {childList: true});\n",
       "}}\n",
       "\n",
       "                        })\n",
       "                };\n",
       "                });\n",
       "            </script>\n",
       "        </div>"
      ]
     },
     "metadata": {},
     "output_type": "display_data"
    }
   ],
   "source": [
    "# finally, let's find some pattern beyond sector\n",
    "# clustering\n",
    "\n",
    "estimator = KMeans(n_clusters=6)\n",
    "estimator.fit(fullDataNoOutliers[['MarketCapUniformed','Beta']])\n",
    "\n",
    "# visualise data\n",
    "fullDataNoOutliers['cluster'] = estimator.labels_\n",
    "centers = pd.DataFrame(estimator.cluster_centers_)\n",
    "fig = px.scatter(fullDataNoOutliers,x='MarketCapUniformed', y= 'Beta', color='cluster', height=400)\n",
    "fig.layout.update(coloraxis_showscale=False)\n",
    "fig.show()"
   ]
  },
  {
   "cell_type": "code",
   "execution_count": null,
   "metadata": {},
   "outputs": [],
   "source": []
  }
 ],
 "metadata": {
  "kernelspec": {
   "display_name": "Python 3",
   "language": "python",
   "name": "python3"
  },
  "language_info": {
   "codemirror_mode": {
    "name": "ipython",
    "version": 3
   },
   "file_extension": ".py",
   "mimetype": "text/x-python",
   "name": "python",
   "nbconvert_exporter": "python",
   "pygments_lexer": "ipython3",
   "version": "3.7.3"
  }
 },
 "nbformat": 4,
 "nbformat_minor": 4
}
